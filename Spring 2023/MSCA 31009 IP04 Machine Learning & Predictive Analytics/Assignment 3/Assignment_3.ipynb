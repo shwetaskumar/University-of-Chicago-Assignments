{
 "cells": [
  {
   "cell_type": "markdown",
   "metadata": {},
   "source": [
    "# ASSIGNMENT 3"
   ]
  },
  {
   "cell_type": "code",
   "execution_count": 1,
   "metadata": {
    "colab": {
     "base_uri": "https://localhost:8080/"
    },
    "id": "vMmnQEQB_gdU",
    "outputId": "79f77377-c882-4c5d-916b-1b1ac7838f36"
   },
   "outputs": [
    {
     "name": "stdout",
     "output_type": "stream",
     "text": [
      "Requirement already satisfied: xgboost in c:\\users\\administrator\\anaconda3\\lib\\site-packages (1.7.5)\n",
      "Requirement already satisfied: numpy in c:\\users\\administrator\\anaconda3\\lib\\site-packages (from xgboost) (1.21.5)\n",
      "Requirement already satisfied: scipy in c:\\users\\administrator\\anaconda3\\lib\\site-packages (from xgboost) (1.9.1)\n"
     ]
    }
   ],
   "source": [
    "!pip install xgboost"
   ]
  },
  {
   "cell_type": "code",
   "execution_count": 2,
   "metadata": {
    "id": "0t4gXwd6V8Rc"
   },
   "outputs": [],
   "source": [
    "import pandas as pd\n",
    "import numpy as np\n",
    "\n",
    "import matplotlib.pyplot as plt\n",
    "import seaborn as sns\n",
    "import time\n",
    "\n",
    "from sklearn.model_selection import train_test_split, GridSearchCV, KFold, RandomizedSearchCV\n",
    "from sklearn.ensemble import RandomForestClassifier, AdaBoostClassifier, GradientBoostingClassifier\n",
    "from sklearn.metrics import confusion_matrix, classification_report, roc_auc_score, plot_roc_curve\n",
    "import xgboost as xgb"
   ]
  },
  {
   "cell_type": "markdown",
   "metadata": {
    "id": "5bB1zTthV8Rg"
   },
   "source": [
    "<b>a) Import the data from the website directly: https://archive.ics.uci.edu/ml/machine-learning-databases/adult/adult.dataLinks to an external site."
   ]
  },
  {
   "cell_type": "code",
   "execution_count": 3,
   "metadata": {
    "id": "BgjYTZvkV8Rj"
   },
   "outputs": [],
   "source": [
    "adult_df = pd.read_csv('https://archive.ics.uci.edu/ml/machine-learning-databases/adult/adult.data', header = None, skipinitialspace=True)"
   ]
  },
  {
   "cell_type": "code",
   "execution_count": 4,
   "metadata": {
    "id": "4npAxuySV8Rk"
   },
   "outputs": [],
   "source": [
    "list_of_columns = ['age', 'workclass', 'fnlwgt', 'education', 'education-num', 'marital-status', 'occupation', 'relationship', 'race', 'sex', 'capital-gain', 'capital-loss', 'hours-per-week', 'native-country', 'salary']\n",
    "adult_df.columns = list_of_columns"
   ]
  },
  {
   "cell_type": "markdown",
   "metadata": {
    "id": "NuSHiDFjV8Rl"
   },
   "source": [
    "<b>c) Check your dataframe shape to verify that you have the correct # of rows and columns. Run the following command:"
   ]
  },
  {
   "cell_type": "code",
   "execution_count": 5,
   "metadata": {
    "colab": {
     "base_uri": "https://localhost:8080/"
    },
    "id": "K14OOdwEV8Rm",
    "outputId": "f64340a3-9cb4-4606-ed82-66d1044b0a9a"
   },
   "outputs": [
    {
     "data": {
      "text/plain": [
       "(32561, 15)"
      ]
     },
     "execution_count": 5,
     "metadata": {},
     "output_type": "execute_result"
    }
   ],
   "source": [
    "adult_df.shape"
   ]
  },
  {
   "cell_type": "markdown",
   "metadata": {
    "id": "KWuO12aLV8Rn"
   },
   "source": [
    "<b>d) Drop the 3rd column from the data (it is referred to as \"fnlwgt\" on UCI's website and is not necessary in this homework)"
   ]
  },
  {
   "cell_type": "code",
   "execution_count": 6,
   "metadata": {
    "id": "ibGMjjdhV8Ro"
   },
   "outputs": [],
   "source": [
    "adult_df = adult_df.drop(['fnlwgt'], axis=1)"
   ]
  },
  {
   "cell_type": "markdown",
   "metadata": {
    "id": "34fFuJP6V8Ro"
   },
   "source": [
    "<b>e) Note: There are random values of  '?' that show up in the data - this is fine! These just refer to \"unknown\" and can be left as is. This data has no true NA values, so no need to check."
   ]
  },
  {
   "cell_type": "code",
   "execution_count": 7,
   "metadata": {
    "colab": {
     "base_uri": "https://localhost:8080/"
    },
    "id": "Jg2_TXS9V8Rp",
    "outputId": "f830be62-486b-4891-ed8c-f63f99bd2dd0"
   },
   "outputs": [
    {
     "name": "stdout",
     "output_type": "stream",
     "text": [
      "<class 'pandas.core.frame.DataFrame'>\n",
      "RangeIndex: 32561 entries, 0 to 32560\n",
      "Data columns (total 14 columns):\n",
      " #   Column          Non-Null Count  Dtype \n",
      "---  ------          --------------  ----- \n",
      " 0   age             32561 non-null  int64 \n",
      " 1   workclass       32561 non-null  object\n",
      " 2   education       32561 non-null  object\n",
      " 3   education-num   32561 non-null  int64 \n",
      " 4   marital-status  32561 non-null  object\n",
      " 5   occupation      32561 non-null  object\n",
      " 6   relationship    32561 non-null  object\n",
      " 7   race            32561 non-null  object\n",
      " 8   sex             32561 non-null  object\n",
      " 9   capital-gain    32561 non-null  int64 \n",
      " 10  capital-loss    32561 non-null  int64 \n",
      " 11  hours-per-week  32561 non-null  int64 \n",
      " 12  native-country  32561 non-null  object\n",
      " 13  salary          32561 non-null  object\n",
      "dtypes: int64(5), object(9)\n",
      "memory usage: 3.5+ MB\n"
     ]
    }
   ],
   "source": [
    "adult_df.info()"
   ]
  },
  {
   "cell_type": "markdown",
   "metadata": {
    "id": "EAx_x_41V8Rq"
   },
   "source": [
    "<b>f) Use the .replace() method to make the following changes to the \"salary\" column:\n",
    "- \"<=50K\" should become 0\n",
    "- \">50K\" should become 1"
   ]
  },
  {
   "cell_type": "code",
   "execution_count": 8,
   "metadata": {
    "colab": {
     "base_uri": "https://localhost:8080/"
    },
    "id": "V8HovuCwV8Rr",
    "outputId": "46e3036a-0625-4431-8d29-2704d4d741a6"
   },
   "outputs": [
    {
     "data": {
      "text/plain": [
       "0    0\n",
       "1    0\n",
       "2    0\n",
       "3    0\n",
       "4    0\n",
       "Name: salary, dtype: int32"
      ]
     },
     "execution_count": 8,
     "metadata": {},
     "output_type": "execute_result"
    }
   ],
   "source": [
    "adult_df['salary'] = adult_df['salary'].apply(lambda x: x.replace('<=50K', '0') if x=='<=50K' else '1').astype(int)\n",
    "adult_df['salary'].head()"
   ]
  },
  {
   "cell_type": "markdown",
   "metadata": {
    "id": "VOmq9JKkV8Rs"
   },
   "source": [
    "<b>g) Create your X dataframe (just your predictors). It should include every feature except for the target variable which is \"salary\"."
   ]
  },
  {
   "cell_type": "code",
   "execution_count": 9,
   "metadata": {
    "colab": {
     "base_uri": "https://localhost:8080/"
    },
    "id": "tp043YhmV8Rs",
    "outputId": "b206db64-16e4-4e9a-fc52-4a2fb4c843e5"
   },
   "outputs": [
    {
     "data": {
      "text/plain": [
       "(32561, 13)"
      ]
     },
     "execution_count": 9,
     "metadata": {},
     "output_type": "execute_result"
    }
   ],
   "source": [
    "X = adult_df.drop(['salary'], axis=1)\n",
    "X.shape"
   ]
  },
  {
   "cell_type": "markdown",
   "metadata": {
    "id": "mIxTrPDEV8Rt"
   },
   "source": [
    "<b>h) Create your y dataframe (just your target variable). It should only be \"salary\"."
   ]
  },
  {
   "cell_type": "code",
   "execution_count": 10,
   "metadata": {
    "colab": {
     "base_uri": "https://localhost:8080/"
    },
    "id": "i4AEfRcTV8Ru",
    "outputId": "23ff5af4-3d11-423e-afb1-26bbf38378a9"
   },
   "outputs": [
    {
     "data": {
      "text/plain": [
       "(32561,)"
      ]
     },
     "execution_count": 10,
     "metadata": {},
     "output_type": "execute_result"
    }
   ],
   "source": [
    "y = adult_df['salary']\n",
    "y.shape"
   ]
  },
  {
   "cell_type": "code",
   "execution_count": 11,
   "metadata": {
    "colab": {
     "base_uri": "https://localhost:8080/"
    },
    "id": "1oNbRThrV8Ru",
    "outputId": "609a1972-0846-428d-fdf2-08398f40f8f0"
   },
   "outputs": [
    {
     "data": {
      "text/plain": [
       "0        0\n",
       "1        0\n",
       "2        0\n",
       "3        0\n",
       "4        0\n",
       "        ..\n",
       "32556    0\n",
       "32557    1\n",
       "32558    0\n",
       "32559    0\n",
       "32560    1\n",
       "Name: salary, Length: 32561, dtype: int32"
      ]
     },
     "execution_count": 11,
     "metadata": {},
     "output_type": "execute_result"
    }
   ],
   "source": [
    "y"
   ]
  },
  {
   "cell_type": "markdown",
   "metadata": {
    "id": "QaEihsHtV8Ru"
   },
   "source": [
    "<b>i) For this homework we will try converting columns with factors to separate columns (i.e. one-hot encoding). It is not necessary for trees, but can be a very powerful tool to use. There are a variety of ways to do this, but we can use Pandas built-in method .get_dummies(). Pandas will automatically split out columns that are categorical. For now, just run across your full X dataframe."
   ]
  },
  {
   "cell_type": "code",
   "execution_count": 12,
   "metadata": {
    "colab": {
     "base_uri": "https://localhost:8080/"
    },
    "id": "ysepfJCzV8Rv",
    "outputId": "98680931-d242-4a77-9d50-44bf1b3701df"
   },
   "outputs": [
    {
     "data": {
      "text/plain": [
       "(32561, 107)"
      ]
     },
     "execution_count": 12,
     "metadata": {},
     "output_type": "execute_result"
    }
   ],
   "source": [
    "X_encoded = pd.get_dummies(X)\n",
    "X_encoded.shape"
   ]
  },
  {
   "cell_type": "markdown",
   "metadata": {
    "id": "0-qE15UlV8Rw"
   },
   "source": [
    "<b>j) Split data into train / test set using an 70/30 split. Verify that you have the same number of columns in your X_train and X_test."
   ]
  },
  {
   "cell_type": "code",
   "execution_count": 13,
   "metadata": {
    "id": "8lBjmzZ_V8Rw"
   },
   "outputs": [],
   "source": [
    "X_train, X_test, y_train, y_test = train_test_split(X_encoded, y, train_size = 0.7, test_size= 0.3, random_state=42)"
   ]
  },
  {
   "cell_type": "code",
   "execution_count": 14,
   "metadata": {
    "colab": {
     "base_uri": "https://localhost:8080/"
    },
    "id": "RTw8ArUoV8Ry",
    "outputId": "f29db101-514b-4401-c6b9-703920fd392d"
   },
   "outputs": [
    {
     "data": {
      "text/plain": [
       "((22792, 107), (9769, 107))"
      ]
     },
     "execution_count": 14,
     "metadata": {},
     "output_type": "execute_result"
    }
   ],
   "source": [
    "X_train.shape, X_test.shape"
   ]
  },
  {
   "cell_type": "markdown",
   "metadata": {
    "id": "du_mmSK-V8Rz"
   },
   "source": [
    "### 2. Random Forest Classifier - Base Model:"
   ]
  },
  {
   "cell_type": "markdown",
   "metadata": {
    "id": "gWWV9PHKV8R0"
   },
   "source": [
    "<b>Start by creating a simple Random Forest only using default parameters - this will let us compare Boosting methods to Random Forest in binary classification problems.\n",
    "\n",
    "a) Use the RandomForestClassifier in sklearn. Fit your model on the training data."
   ]
  },
  {
   "cell_type": "code",
   "execution_count": 15,
   "metadata": {
    "colab": {
     "base_uri": "https://localhost:8080/",
     "height": 74
    },
    "id": "9lv-xr36V8R1",
    "outputId": "061e461a-e893-4936-c047-e00139e27043"
   },
   "outputs": [
    {
     "data": {
      "text/plain": [
       "RandomForestClassifier()"
      ]
     },
     "execution_count": 15,
     "metadata": {},
     "output_type": "execute_result"
    }
   ],
   "source": [
    "clf = RandomForestClassifier()\n",
    "clf.fit(X_train, y_train)"
   ]
  },
  {
   "cell_type": "markdown",
   "metadata": {
    "id": "zZRDuu8NV8R2"
   },
   "source": [
    "<b>b) Use the fitted model to predict on test data. Use the .predict_proba() and the .predict() methods to get predicted probabilities as well as predicted classes."
   ]
  },
  {
   "cell_type": "code",
   "execution_count": 16,
   "metadata": {
    "id": "aP-IjdWxV8R2"
   },
   "outputs": [],
   "source": [
    "y_pred = clf.predict(X_test)"
   ]
  },
  {
   "cell_type": "code",
   "execution_count": 17,
   "metadata": {
    "id": "AAVyb8U4V8R3"
   },
   "outputs": [],
   "source": [
    "y_pred_prob = clf.predict_proba(X_test)"
   ]
  },
  {
   "cell_type": "markdown",
   "metadata": {
    "id": "JTppWi_DV8R4"
   },
   "source": [
    "<b>c) Calculate the confusion matrix and classification report (both are in sklearn.metrics)."
   ]
  },
  {
   "cell_type": "code",
   "execution_count": 18,
   "metadata": {
    "colab": {
     "base_uri": "https://localhost:8080/",
     "height": 430
    },
    "id": "CCIKx-PYIp8v",
    "outputId": "fb234124-41ae-4ab7-c32e-ed193858ee69"
   },
   "outputs": [
    {
     "data": {
      "image/png": "[encoded data removed]",
      "text/plain": [
       "<Figure size 640x480 with 2 Axes>"
      ]
     },
     "metadata": {},
     "output_type": "display_data"
    }
   ],
   "source": [
    "cf_matrix = confusion_matrix(y_test, y_pred)\n",
    "group_names = ['True Neg', 'False Pos', 'False Neg', 'True Pos']\n",
    "group_counts = [\"{0:0.0f}\".format(value) for value in\n",
    "                cf_matrix.flatten()]\n",
    "group_percentages = [\"{0:.2%}\".format(value) for value in\n",
    "                     cf_matrix.flatten()/np.sum(cf_matrix)]\n",
    "labels = [f\"{v1}\\n{v2}\\n{v3}\" for v1, v2, v3 in\n",
    "          zip(group_names,group_counts,group_percentages)]\n",
    "labels = np.asarray(labels).reshape(2,2)\n",
    "sns.heatmap(cf_matrix, annot=labels, fmt='', cmap='mako')\n",
    "plt.show()"
   ]
  },
  {
   "cell_type": "code",
   "execution_count": 19,
   "metadata": {
    "colab": {
     "base_uri": "https://localhost:8080/",
     "height": 699
    },
    "id": "yDhJ8EbVKYzm",
    "outputId": "1b700177-9cff-4b23-a6c0-2a127f9a931c"
   },
   "outputs": [
    {
     "name": "stdout",
     "output_type": "stream",
     "text": [
      "              precision    recall  f1-score   support\n",
      "\n",
      "           0       0.89      0.92      0.90      7455\n",
      "           1       0.70      0.62      0.66      2314\n",
      "\n",
      "    accuracy                           0.85      9769\n",
      "   macro avg       0.79      0.77      0.78      9769\n",
      "weighted avg       0.84      0.85      0.84      9769\n",
      "\n"
     ]
    }
   ],
   "source": [
    "print(classification_report(y_test, y_pred))"
   ]
  },
  {
   "cell_type": "markdown",
   "metadata": {
    "id": "AF8BD5TyV8R6"
   },
   "source": [
    "<b>d) Calculate the AUC score."
   ]
  },
  {
   "cell_type": "code",
   "execution_count": 20,
   "metadata": {
    "colab": {
     "base_uri": "https://localhost:8080/"
    },
    "id": "6etTmTQwV8R7",
    "outputId": "9290b974-af0b-448f-a827-a70c5cf98647"
   },
   "outputs": [
    {
     "data": {
      "text/plain": [
       "0.8884766971173049"
      ]
     },
     "execution_count": 20,
     "metadata": {},
     "output_type": "execute_result"
    }
   ],
   "source": [
    "roc_auc_score(y_test, y_pred_prob[:,1])"
   ]
  },
  {
   "cell_type": "markdown",
   "metadata": {
    "id": "gybRhzX0V8R7"
   },
   "source": [
    "<b>e) Identify the top 5 features. Feel free to print a list OR to make a plot."
   ]
  },
  {
   "cell_type": "code",
   "execution_count": 21,
   "metadata": {
    "colab": {
     "base_uri": "https://localhost:8080/",
     "height": 487
    },
    "id": "Abn53xZnWisX",
    "outputId": "e1e8a18a-da18-415a-9248-c9a62b35bf9d"
   },
   "outputs": [
    {
     "data": {
      "image/png": "[encoded data removed]",
      "text/plain": [
       "<Figure size 1500x500 with 1 Axes>"
      ]
     },
     "metadata": {},
     "output_type": "display_data"
    }
   ],
   "source": [
    "importances = clf.feature_importances_\n",
    "indices = np.argsort(importances)[::-1]\n",
    "top_features = X_encoded.columns[indices][:5]\n",
    "\n",
    "plt.figure(figsize=(15,5))\n",
    "plt.title(\"Top 5 Important Features\")\n",
    "bar_plot = plt.bar(range(len(top_features)), importances[indices][:5], align='center')\n",
    "plt.xticks(range(len(top_features)), top_features)\n",
    "plt.xlabel(\"Features\")\n",
    "plt.ylabel(\"Importance\")\n",
    "for i, v in enumerate(importances[indices][:5]):\n",
    "    plt.text(i, v, str(round(v,2)), ha='center', va='bottom')\n",
    "plt.show()"
   ]
  },
  {
   "cell_type": "markdown",
   "metadata": {
    "id": "ctGx2_JrV8R8"
   },
   "source": [
    "<b>f) Using the model from part B, predict for the train data. Look at the classification report for the train data - is there overfitting for the RandomForest model happening?"
   ]
  },
  {
   "cell_type": "code",
   "execution_count": 22,
   "metadata": {
    "colab": {
     "base_uri": "https://localhost:8080/"
    },
    "id": "nEg6EjMpV8R9",
    "outputId": "16a318fe-6a80-4972-eadf-e1ff05019a2b"
   },
   "outputs": [
    {
     "data": {
      "text/plain": [
       "array([0, 1, 0, ..., 0, 0, 0])"
      ]
     },
     "execution_count": 22,
     "metadata": {},
     "output_type": "execute_result"
    }
   ],
   "source": [
    "y_pred_train = clf.predict(X_train)\n",
    "y_pred_train"
   ]
  },
  {
   "cell_type": "code",
   "execution_count": 23,
   "metadata": {
    "colab": {
     "base_uri": "https://localhost:8080/",
     "height": 699
    },
    "id": "-ia2O8xpqZYx",
    "outputId": "2ebee81c-2f46-42b9-9296-1844aac2841f"
   },
   "outputs": [
    {
     "name": "stdout",
     "output_type": "stream",
     "text": [
      "              precision    recall  f1-score   support\n",
      "\n",
      "           0       0.98      0.99      0.99     17265\n",
      "           1       0.97      0.95      0.96      5527\n",
      "\n",
      "    accuracy                           0.98     22792\n",
      "   macro avg       0.98      0.97      0.97     22792\n",
      "weighted avg       0.98      0.98      0.98     22792\n",
      "\n"
     ]
    }
   ],
   "source": [
    "print(classification_report(y_train, y_pred_train))"
   ]
  },
  {
   "cell_type": "markdown",
   "metadata": {},
   "source": [
    "There is overfitting as the model has performed very well on the train data but is not performing well on the test/unseen data."
   ]
  },
  {
   "cell_type": "markdown",
   "metadata": {
    "id": "qpiE7rLyV8R-"
   },
   "source": [
    "### 3. AdaBoost Classifier - GridSearch:"
   ]
  },
  {
   "cell_type": "markdown",
   "metadata": {
    "id": "nkB2Om4pV8R_"
   },
   "source": [
    "<b>Start by creating a simple AdaBoostClassifier only using default parameters."
   ]
  },
  {
   "cell_type": "code",
   "execution_count": 24,
   "metadata": {
    "id": "2_-npbIhV8R_"
   },
   "outputs": [],
   "source": [
    "abc = AdaBoostClassifier()"
   ]
  },
  {
   "cell_type": "markdown",
   "metadata": {
    "id": "5e3_-TzhV8SA"
   },
   "source": [
    "<b>a) Use the AdaBoostClassifier along with the GridSearchCV tool. Run the GridSearchCV using the following:\n",
    "\n",
    "n_estimators: 100, 200, 300, 400\n",
    "learning_rate: 0.2,0.4,0.6,0.8,1, 1.2"
   ]
  },
  {
   "cell_type": "code",
   "execution_count": 25,
   "metadata": {
    "id": "1t1bj5I-V8SA"
   },
   "outputs": [],
   "source": [
    "cv = KFold(n_splits=5, shuffle=True, random_state=42)\n",
    "parameters = {'n_estimators':[100, 200, 300, 400],\n",
    "              'learning_rate':[0.2,0.4,0.6,0.8,1, 1.2]}\n",
    "\n",
    "clf_abc = GridSearchCV(abc, parameters, cv=cv, scoring='roc_auc', n_jobs=-1)\n",
    "abc1 = clf_abc.fit(X_train,y_train)"
   ]
  },
  {
   "cell_type": "markdown",
   "metadata": {
    "id": "qALRPLZHv0KD"
   },
   "source": [
    "<b>b) Use the best estimator from GridSearchCV to predict on test data. Use the .predict_proba() and the .predict() methods to get predicted probabilities as well as predicted classes."
   ]
  },
  {
   "cell_type": "code",
   "execution_count": 26,
   "metadata": {
    "colab": {
     "base_uri": "https://localhost:8080/"
    },
    "id": "YYjDr0CUzkRB",
    "outputId": "71886ec2-ec11-496c-e085-9186705156f2"
   },
   "outputs": [
    {
     "data": {
      "text/plain": [
       "array([0, 1, 1, ..., 0, 1, 1])"
      ]
     },
     "execution_count": 26,
     "metadata": {},
     "output_type": "execute_result"
    }
   ],
   "source": [
    "y_pred_abc = abc1.best_estimator_.predict(X_test)\n",
    "y_pred_abc"
   ]
  },
  {
   "cell_type": "code",
   "execution_count": 27,
   "metadata": {
    "colab": {
     "base_uri": "https://localhost:8080/"
    },
    "id": "CdWqPTRszsPn",
    "outputId": "ac5470a8-a891-4788-bbe7-8d9e31f13361"
   },
   "outputs": [
    {
     "data": {
      "text/plain": [
       "array([[0.50235922, 0.49764078],\n",
       "       [0.49989469, 0.50010531],\n",
       "       [0.49971672, 0.50028328],\n",
       "       ...,\n",
       "       [0.5027286 , 0.4972714 ],\n",
       "       [0.49999487, 0.50000513],\n",
       "       [0.49387416, 0.50612584]])"
      ]
     },
     "execution_count": 27,
     "metadata": {},
     "output_type": "execute_result"
    }
   ],
   "source": [
    "y_pred_prob_abc = abc1.best_estimator_.predict_proba(X_test)\n",
    "y_pred_prob_abc"
   ]
  },
  {
   "cell_type": "markdown",
   "metadata": {
    "id": "73OSH0VSz23a"
   },
   "source": [
    "<b>c) Calculate the confusion matrix and classification report (both are in sklearn.metrics)."
   ]
  },
  {
   "cell_type": "code",
   "execution_count": 28,
   "metadata": {
    "colab": {
     "base_uri": "https://localhost:8080/",
     "height": 435
    },
    "id": "aKAb-fjSSv5u",
    "outputId": "2f72aa56-8413-46dc-92b3-8b6ce4d89625"
   },
   "outputs": [
    {
     "data": {
      "image/png": "[encoded data removed]",
      "text/plain": [
       "<Figure size 640x480 with 2 Axes>"
      ]
     },
     "metadata": {},
     "output_type": "display_data"
    }
   ],
   "source": [
    "cf_matrix = confusion_matrix(y_test, y_pred_abc)\n",
    "group_names = ['True Neg', 'False Pos', 'False Neg', 'True Pos']\n",
    "group_counts = [\"{0:0.0f}\".format(value) for value in\n",
    "                cf_matrix.flatten()]\n",
    "group_percentages = [\"{0:.2%}\".format(value) for value in\n",
    "                     cf_matrix.flatten()/np.sum(cf_matrix)]\n",
    "labels = [f\"{v1}\\n{v2}\\n{v3}\" for v1, v2, v3 in\n",
    "          zip(group_names,group_counts,group_percentages)]\n",
    "labels = np.asarray(labels).reshape(2,2)\n",
    "sns.heatmap(cf_matrix, annot=labels, fmt='', cmap='mako')\n",
    "plt.show()"
   ]
  },
  {
   "cell_type": "code",
   "execution_count": 29,
   "metadata": {
    "colab": {
     "base_uri": "https://localhost:8080/",
     "height": 699
    },
    "id": "AgkS4XPUS8To",
    "outputId": "625562b8-4c8b-482a-f4a7-f6bf7ceb8856"
   },
   "outputs": [
    {
     "name": "stdout",
     "output_type": "stream",
     "text": [
      "              precision    recall  f1-score   support\n",
      "\n",
      "           0       0.90      0.94      0.92      7455\n",
      "           1       0.77      0.65      0.71      2314\n",
      "\n",
      "    accuracy                           0.87      9769\n",
      "   macro avg       0.83      0.80      0.81      9769\n",
      "weighted avg       0.87      0.87      0.87      9769\n",
      "\n"
     ]
    }
   ],
   "source": [
    "print(classification_report(y_test, y_pred_abc))"
   ]
  },
  {
   "cell_type": "markdown",
   "metadata": {
    "id": "Aq4z0fAl0XUw"
   },
   "source": [
    "<b>d) Calculate the AUC score"
   ]
  },
  {
   "cell_type": "code",
   "execution_count": 30,
   "metadata": {
    "colab": {
     "base_uri": "https://localhost:8080/"
    },
    "id": "gVt-HHUC1zEg",
    "outputId": "4c0aa424-3860-4451-d8d0-462a685ad765"
   },
   "outputs": [
    {
     "data": {
      "text/plain": [
       "0.9244122180504519"
      ]
     },
     "execution_count": 30,
     "metadata": {},
     "output_type": "execute_result"
    }
   ],
   "source": [
    "roc_auc_score(y_test, y_pred_prob_abc[:,1])"
   ]
  },
  {
   "cell_type": "markdown",
   "metadata": {
    "id": "yEbHCohc0nHu"
   },
   "source": [
    "<b>e) Identify the top 5 features. Feel free to print a list OR to make a plot."
   ]
  },
  {
   "cell_type": "code",
   "execution_count": 31,
   "metadata": {
    "colab": {
     "base_uri": "https://localhost:8080/",
     "height": 487
    },
    "id": "y0aMn0ad0WiR",
    "outputId": "19a3920b-38e8-4791-9a96-8dd88481229e"
   },
   "outputs": [
    {
     "data": {
      "image/png": "[encoded data removed]",
      "text/plain": [
       "<Figure size 1500x500 with 1 Axes>"
      ]
     },
     "metadata": {},
     "output_type": "display_data"
    }
   ],
   "source": [
    "importances = abc1.best_estimator_.feature_importances_\n",
    "indices = np.argsort(importances)[::-1]\n",
    "top_features = X_encoded.columns[indices][:5]\n",
    "\n",
    "plt.figure(figsize=(15,5))\n",
    "plt.title(\"Top 5 Important Features\")\n",
    "bar_plot = plt.bar(range(len(top_features)), importances[indices][:5], align='center')\n",
    "plt.xticks(range(len(top_features)), top_features)\n",
    "plt.xlabel(\"Features\")\n",
    "plt.ylabel(\"Importance\")\n",
    "for i, v in enumerate(importances[indices][:5]):\n",
    "    plt.text(i, v, str(round(v,2)), ha='center', va='bottom')\n",
    "plt.show()"
   ]
  },
  {
   "cell_type": "markdown",
   "metadata": {
    "id": "hLS8HwbB2epJ"
   },
   "source": [
    "<b>f) Using the model from part (b), predict for the train data. Look at the classification report for the train data - is there overfitting for the best estimator?"
   ]
  },
  {
   "cell_type": "code",
   "execution_count": 32,
   "metadata": {
    "colab": {
     "base_uri": "https://localhost:8080/"
    },
    "id": "WsAZ7T222cDF",
    "outputId": "01de2c41-4b8e-40a6-af5c-663d7e14e108"
   },
   "outputs": [
    {
     "data": {
      "text/plain": [
       "array([0, 1, 0, ..., 0, 0, 0])"
      ]
     },
     "execution_count": 32,
     "metadata": {},
     "output_type": "execute_result"
    }
   ],
   "source": [
    "y_pred_train_abc = abc1.best_estimator_.predict(X_train)\n",
    "y_pred_train_abc"
   ]
  },
  {
   "cell_type": "code",
   "execution_count": 33,
   "metadata": {
    "colab": {
     "base_uri": "https://localhost:8080/",
     "height": 699
    },
    "id": "9AnSbrzfqmut",
    "outputId": "f6a7f818-90d2-4ef4-8c0b-8e49a920a147"
   },
   "outputs": [
    {
     "name": "stdout",
     "output_type": "stream",
     "text": [
      "              precision    recall  f1-score   support\n",
      "\n",
      "           0       0.90      0.94      0.92     17265\n",
      "           1       0.78      0.66      0.71      5527\n",
      "\n",
      "    accuracy                           0.87     22792\n",
      "   macro avg       0.84      0.80      0.82     22792\n",
      "weighted avg       0.87      0.87      0.87     22792\n",
      "\n"
     ]
    }
   ],
   "source": [
    "print(classification_report(y_train, y_pred_train_abc))"
   ]
  },
  {
   "cell_type": "markdown",
   "metadata": {},
   "source": [
    "There is no overfitting as the model has performed similarly on both the train and test data."
   ]
  },
  {
   "cell_type": "markdown",
   "metadata": {
    "id": "JHG-wfvJ29Md"
   },
   "source": [
    "### 4. Gradient Boosting Classifier - GridSearch:"
   ]
  },
  {
   "cell_type": "markdown",
   "metadata": {
    "id": "SixKMu4I3FEf"
   },
   "source": [
    "<b>a) Use GradientBoostingClassifier along with the GridSearchCV tool. Run the GridSearchCV using the following hyperparameters:\n",
    "\n",
    "n_estimators: 100,200, 300 & 400\n",
    "learning_rate: choose 3 learning rates of your choice\n",
    "max_depth: 1, 2 (you can try deeper, but remember part of the value of boosting stems from minimal complexity of trees)"
   ]
  },
  {
   "cell_type": "code",
   "execution_count": 34,
   "metadata": {
    "id": "-jJScJed28CX"
   },
   "outputs": [],
   "source": [
    "gbc = GradientBoostingClassifier()\n",
    "parameters = {'n_estimators':[100, 200, 300, 400],\n",
    "              'learning_rate':[0.2,0.6,1],\n",
    "              'max_depth':[1,2]}\n",
    "\n",
    "clf_gbc = GridSearchCV(gbc, parameters, cv=cv, scoring='roc_auc', n_jobs=-1)\n",
    "gbc1 = clf_gbc.fit(X_train,y_train)"
   ]
  },
  {
   "cell_type": "markdown",
   "metadata": {
    "id": "nMZlTVfI9_w8"
   },
   "source": [
    "<b>b) Use the best estimator from GridSearchCV to predict on test data. Use the .predict_proba() and the .predict() methods to get predicted probabilities as well as predicted classes."
   ]
  },
  {
   "cell_type": "code",
   "execution_count": 35,
   "metadata": {
    "colab": {
     "base_uri": "https://localhost:8080/"
    },
    "id": "x-o3ggxX9-8f",
    "outputId": "49ebac23-ec69-49b0-8eec-8f88e374222f"
   },
   "outputs": [
    {
     "data": {
      "text/plain": [
       "array([0, 1, 1, ..., 0, 1, 1])"
      ]
     },
     "execution_count": 35,
     "metadata": {},
     "output_type": "execute_result"
    }
   ],
   "source": [
    "y_pred_gbc = gbc1.best_estimator_.predict(X_test)\n",
    "y_pred_gbc"
   ]
  },
  {
   "cell_type": "code",
   "execution_count": 36,
   "metadata": {
    "colab": {
     "base_uri": "https://localhost:8080/"
    },
    "id": "bKoP6aQ1-Lh7",
    "outputId": "b11b6a22-dd8a-4d6c-bd04-63e4885b23ef"
   },
   "outputs": [
    {
     "data": {
      "text/plain": [
       "array([[0.99093585, 0.00906415],\n",
       "       [0.44163911, 0.55836089],\n",
       "       [0.30868258, 0.69131742],\n",
       "       ...,\n",
       "       [0.99219417, 0.00780583],\n",
       "       [0.46704463, 0.53295537],\n",
       "       [0.00397438, 0.99602562]])"
      ]
     },
     "execution_count": 36,
     "metadata": {},
     "output_type": "execute_result"
    }
   ],
   "source": [
    "y_pred_prob_gbc = gbc1.best_estimator_.predict_proba(X_test)\n",
    "y_pred_prob_gbc"
   ]
  },
  {
   "cell_type": "markdown",
   "metadata": {
    "id": "8Sg83Zfp-UDc"
   },
   "source": [
    "<b>c) Calculate the confusion matrix and classification report (both are in sklearn.metrics)."
   ]
  },
  {
   "cell_type": "code",
   "execution_count": 37,
   "metadata": {
    "colab": {
     "base_uri": "https://localhost:8080/",
     "height": 434
    },
    "id": "tTlMPkXZaNgX",
    "outputId": "e31b9a92-d6eb-4ec6-e804-15dfa3cb99f8"
   },
   "outputs": [
    {
     "data": {
      "image/png": "[encoded data removed]",
      "text/plain": [
       "<Figure size 640x480 with 2 Axes>"
      ]
     },
     "metadata": {},
     "output_type": "display_data"
    }
   ],
   "source": [
    "cf_matrix = confusion_matrix(y_test, y_pred_gbc)\n",
    "group_names = ['True Neg', 'False Pos', 'False Neg', 'True Pos']\n",
    "group_counts = [\"{0:0.0f}\".format(value) for value in\n",
    "                cf_matrix.flatten()]\n",
    "group_percentages = [\"{0:.2%}\".format(value) for value in\n",
    "                     cf_matrix.flatten()/np.sum(cf_matrix)]\n",
    "labels = [f\"{v1}\\n{v2}\\n{v3}\" for v1, v2, v3 in\n",
    "          zip(group_names,group_counts,group_percentages)]\n",
    "labels = np.asarray(labels).reshape(2,2)\n",
    "sns.heatmap(cf_matrix, annot=labels, fmt='', cmap='mako')\n",
    "plt.show()"
   ]
  },
  {
   "cell_type": "code",
   "execution_count": 38,
   "metadata": {
    "colab": {
     "base_uri": "https://localhost:8080/",
     "height": 699
    },
    "id": "QSJe54prZ2P6",
    "outputId": "82ab145b-f677-457e-c9e1-093d7f3403b0"
   },
   "outputs": [
    {
     "name": "stdout",
     "output_type": "stream",
     "text": [
      "              precision    recall  f1-score   support\n",
      "\n",
      "           0       0.90      0.94      0.92      7455\n",
      "           1       0.78      0.65      0.71      2314\n",
      "\n",
      "    accuracy                           0.87      9769\n",
      "   macro avg       0.84      0.80      0.81      9769\n",
      "weighted avg       0.87      0.87      0.87      9769\n",
      "\n"
     ]
    }
   ],
   "source": [
    "print(classification_report(y_test, y_pred_gbc))"
   ]
  },
  {
   "cell_type": "markdown",
   "metadata": {
    "id": "xIhGk7sy-iZQ"
   },
   "source": [
    "<b>d) Calculate the AUC score"
   ]
  },
  {
   "cell_type": "code",
   "execution_count": 39,
   "metadata": {
    "colab": {
     "base_uri": "https://localhost:8080/"
    },
    "id": "aW1d59QW-hdG",
    "outputId": "ddbdaeb4-7d91-4d1a-9870-aac3228180bf"
   },
   "outputs": [
    {
     "data": {
      "text/plain": [
       "0.9259972685435574"
      ]
     },
     "execution_count": 39,
     "metadata": {},
     "output_type": "execute_result"
    }
   ],
   "source": [
    "roc_auc_score(y_test, y_pred_prob_gbc[:,1])"
   ]
  },
  {
   "cell_type": "markdown",
   "metadata": {
    "id": "iTfgvSrM-sY6"
   },
   "source": [
    "<b>e) Identify the top 5 features. Feel free to print a list OR to make a plot."
   ]
  },
  {
   "cell_type": "code",
   "execution_count": 40,
   "metadata": {
    "colab": {
     "base_uri": "https://localhost:8080/",
     "height": 487
    },
    "id": "Z7hnauGX-roh",
    "outputId": "07045e67-65aa-487d-f4a9-0eca02cd9d23"
   },
   "outputs": [
    {
     "data": {
      "image/png": "[encoded data removed]",
      "text/plain": [
       "<Figure size 1500x500 with 1 Axes>"
      ]
     },
     "metadata": {},
     "output_type": "display_data"
    }
   ],
   "source": [
    "importances = gbc1.best_estimator_.feature_importances_\n",
    "indices = np.argsort(importances)[::-1]\n",
    "top_features = X_encoded.columns[indices][:5]\n",
    "\n",
    "plt.figure(figsize=(15,5))\n",
    "plt.title(\"Top 5 Important Features\")\n",
    "bar_plot = plt.bar(range(len(top_features)), importances[indices][:5], align='center')\n",
    "plt.xticks(range(len(top_features)), top_features)\n",
    "plt.xlabel(\"Features\")\n",
    "plt.ylabel(\"Importance\")\n",
    "for i, v in enumerate(importances[indices][:5]):\n",
    "    plt.text(i, v, str(round(v,2)), ha='center', va='bottom')\n",
    "plt.show()"
   ]
  },
  {
   "cell_type": "markdown",
   "metadata": {
    "id": "2dHJnHGV-1gf"
   },
   "source": [
    "<b>f) Using the model from part (b), predict for the train data. Look at the classification report for the train data - is there overfitting for the best estimator?"
   ]
  },
  {
   "cell_type": "code",
   "execution_count": 41,
   "metadata": {
    "colab": {
     "base_uri": "https://localhost:8080/"
    },
    "id": "6H6445AU-4vL",
    "outputId": "3d72f21c-65c9-4678-c8c0-ee1dcbc284f8"
   },
   "outputs": [
    {
     "data": {
      "text/plain": [
       "array([0, 1, 0, ..., 0, 0, 0])"
      ]
     },
     "execution_count": 41,
     "metadata": {},
     "output_type": "execute_result"
    }
   ],
   "source": [
    "y_pred_train_gbc = gbc1.best_estimator_.predict(X_train)\n",
    "y_pred_train_gbc"
   ]
  },
  {
   "cell_type": "code",
   "execution_count": 42,
   "metadata": {
    "colab": {
     "base_uri": "https://localhost:8080/",
     "height": 699
    },
    "id": "fPPMeKkXq7n4",
    "outputId": "1c7bc13e-4201-447c-e15f-cee60fc6c5bf"
   },
   "outputs": [
    {
     "name": "stdout",
     "output_type": "stream",
     "text": [
      "              precision    recall  f1-score   support\n",
      "\n",
      "           0       0.90      0.95      0.92     17265\n",
      "           1       0.81      0.67      0.73      5527\n",
      "\n",
      "    accuracy                           0.88     22792\n",
      "   macro avg       0.85      0.81      0.83     22792\n",
      "weighted avg       0.88      0.88      0.88     22792\n",
      "\n"
     ]
    }
   ],
   "source": [
    "print(classification_report(y_train, y_pred_train_gbc))"
   ]
  },
  {
   "cell_type": "markdown",
   "metadata": {},
   "source": [
    "There is no overfitting as the model has performed similarly on both the train and test data."
   ]
  },
  {
   "cell_type": "markdown",
   "metadata": {
    "id": "5gd_BzkO_I4D"
   },
   "source": [
    "### 5. XGBoost - RandomizedSearchCV"
   ]
  },
  {
   "cell_type": "markdown",
   "metadata": {
    "id": "FcgisvJV_Uch"
   },
   "source": [
    "<b>Repeat 4(a) - 4(f) with xgboost and RandomizedSearchCV.\n",
    "\n",
    "For 4a use the following parameters: \n",
    "\n",
    "n_estimators: 100-1000 in increments of 50  (i.e. 100,150,200,.....1000)\n",
    "learning_rate: 0.1 - 1.6 in increments of 0.1\n",
    "max_depth: 1, 2\n",
    "gamma: 0 - 5 in increments of 0.25"
   ]
  },
  {
   "cell_type": "code",
   "execution_count": 43,
   "metadata": {
    "id": "teUnlvXC_dZ6"
   },
   "outputs": [],
   "source": [
    "xgb_clf = xgb.XGBClassifier()\n",
    "parameters = {'n_estimators': range(100, 1001, 50),\n",
    "              'learning_rate': [i/10.0 for i in range(1, 17)],\n",
    "              'max_depth':[1,2],\n",
    "              'gamma': [i/4.0 for i in range(0, 21)]}\n",
    "\n",
    "rs = RandomizedSearchCV(estimator=xgb_clf, param_distributions=parameters, scoring='roc_auc', cv=cv, n_jobs=-1)\n",
    "rs1 = rs.fit(X_train,y_train)"
   ]
  },
  {
   "cell_type": "markdown",
   "metadata": {
    "id": "jd6ynWtuB1bV"
   },
   "source": [
    "<b>b) Use the best estimator from GridSearchCV to predict on test data. Use the .predict_proba() and the .predict() methods to get predicted probabilities as well as predicted classes."
   ]
  },
  {
   "cell_type": "code",
   "execution_count": 44,
   "metadata": {
    "colab": {
     "base_uri": "https://localhost:8080/"
    },
    "id": "lydqj5obB0mS",
    "outputId": "32612930-d743-4f4c-9a31-f747adddcba7"
   },
   "outputs": [
    {
     "data": {
      "text/plain": [
       "array([0, 1, 1, ..., 0, 1, 1])"
      ]
     },
     "execution_count": 44,
     "metadata": {},
     "output_type": "execute_result"
    }
   ],
   "source": [
    "y_pred_xgb = rs1.best_estimator_.predict(X_test)\n",
    "y_pred_xgb"
   ]
  },
  {
   "cell_type": "code",
   "execution_count": 45,
   "metadata": {
    "colab": {
     "base_uri": "https://localhost:8080/"
    },
    "id": "0LiJuqy6CDfw",
    "outputId": "9620ff39-60bf-46b9-d36e-bfed4397d9c4"
   },
   "outputs": [
    {
     "data": {
      "text/plain": [
       "array([[9.8962700e-01, 1.0372977e-02],\n",
       "       [4.7156888e-01, 5.2843112e-01],\n",
       "       [2.5169647e-01, 7.4830353e-01],\n",
       "       ...,\n",
       "       [9.9462795e-01, 5.3720460e-03],\n",
       "       [4.5778173e-01, 5.4221827e-01],\n",
       "       [6.4283609e-04, 9.9935716e-01]], dtype=float32)"
      ]
     },
     "execution_count": 45,
     "metadata": {},
     "output_type": "execute_result"
    }
   ],
   "source": [
    "y_pred_prob_xgb = rs1.best_estimator_.predict_proba(X_test)\n",
    "y_pred_prob_xgb"
   ]
  },
  {
   "cell_type": "markdown",
   "metadata": {
    "id": "UiSh7YJrCJ4M"
   },
   "source": [
    "<b>c) Calculate the confusion matrix and classification report (both are in sklearn.metrics)."
   ]
  },
  {
   "cell_type": "code",
   "execution_count": 46,
   "metadata": {
    "colab": {
     "base_uri": "https://localhost:8080/",
     "height": 435
    },
    "id": "XadOGCPuaUGi",
    "outputId": "6e26e692-d25e-46ed-e0e7-f7d7cbcb2c94"
   },
   "outputs": [
    {
     "data": {
      "image/png": "[encoded data removed]",
      "text/plain": [
       "<Figure size 640x480 with 2 Axes>"
      ]
     },
     "metadata": {},
     "output_type": "display_data"
    }
   ],
   "source": [
    "cf_matrix = confusion_matrix(y_test, y_pred_xgb)\n",
    "group_names = ['True Neg', 'False Pos', 'False Neg', 'True Pos']\n",
    "group_counts = [\"{0:0.0f}\".format(value) for value in\n",
    "                cf_matrix.flatten()]\n",
    "group_percentages = [\"{0:.2%}\".format(value) for value in\n",
    "                     cf_matrix.flatten()/np.sum(cf_matrix)]\n",
    "labels = [f\"{v1}\\n{v2}\\n{v3}\" for v1, v2, v3 in\n",
    "          zip(group_names,group_counts,group_percentages)]\n",
    "labels = np.asarray(labels).reshape(2,2)\n",
    "sns.heatmap(cf_matrix, annot=labels, fmt='', cmap='mako')\n",
    "plt.show()"
   ]
  },
  {
   "cell_type": "code",
   "execution_count": 47,
   "metadata": {
    "colab": {
     "base_uri": "https://localhost:8080/",
     "height": 699
    },
    "id": "p5utUVJ0aAGu",
    "outputId": "90e23c83-f4d8-44de-87ae-f0e5dea0b768"
   },
   "outputs": [
    {
     "name": "stdout",
     "output_type": "stream",
     "text": [
      "              precision    recall  f1-score   support\n",
      "\n",
      "           0       0.90      0.94      0.92      7455\n",
      "           1       0.78      0.65      0.71      2314\n",
      "\n",
      "    accuracy                           0.87      9769\n",
      "   macro avg       0.84      0.80      0.81      9769\n",
      "weighted avg       0.87      0.87      0.87      9769\n",
      "\n"
     ]
    }
   ],
   "source": [
    "print(classification_report(y_test, y_pred_xgb))"
   ]
  },
  {
   "cell_type": "markdown",
   "metadata": {
    "id": "ScpadIWdCaJb"
   },
   "source": [
    "<b>d) Calculate the AUC score"
   ]
  },
  {
   "cell_type": "code",
   "execution_count": 48,
   "metadata": {
    "colab": {
     "base_uri": "https://localhost:8080/"
    },
    "id": "ZRsh0CshCeRf",
    "outputId": "4b6d2cf1-7e7b-4887-e14d-2f3fb0cf3038"
   },
   "outputs": [
    {
     "data": {
      "text/plain": [
       "0.9261285662694114"
      ]
     },
     "execution_count": 48,
     "metadata": {},
     "output_type": "execute_result"
    }
   ],
   "source": [
    "roc_auc_score(y_test, y_pred_prob_xgb[:,1])"
   ]
  },
  {
   "cell_type": "markdown",
   "metadata": {
    "id": "vaeXhwJfCj2i"
   },
   "source": [
    "<b>e) Identify the top 5 features. Feel free to print a list OR to make a plot."
   ]
  },
  {
   "cell_type": "code",
   "execution_count": 49,
   "metadata": {
    "colab": {
     "base_uri": "https://localhost:8080/",
     "height": 487
    },
    "id": "02M28edICjSY",
    "outputId": "86419799-002e-4169-cea5-d45dba89a9df"
   },
   "outputs": [
    {
     "data": {
      "image/png": "[encoded data removed]",
      "text/plain": [
       "<Figure size 1500x500 with 1 Axes>"
      ]
     },
     "metadata": {},
     "output_type": "display_data"
    }
   ],
   "source": [
    "importances = rs1.best_estimator_.feature_importances_\n",
    "indices = np.argsort(importances)[::-1]\n",
    "top_features = X_encoded.columns[indices][:5]\n",
    "\n",
    "plt.figure(figsize=(15,5))\n",
    "plt.title(\"Top 5 Important Features\")\n",
    "bar_plot = plt.bar(range(len(top_features)), importances[indices][:5], align='center')\n",
    "plt.xticks(range(len(top_features)), top_features)\n",
    "plt.xlabel(\"Features\")\n",
    "plt.ylabel(\"Importance\")\n",
    "for i, v in enumerate(importances[indices][:5]):\n",
    "    plt.text(i, v, str(round(v,2)), ha='center', va='bottom')\n",
    "plt.show()"
   ]
  },
  {
   "cell_type": "markdown",
   "metadata": {
    "id": "f5fkqENRCsc-"
   },
   "source": [
    "<b>f) Using the model from part (b), predict for the train data. Look at the classification report for the train data - is there overfitting for the best estimator?"
   ]
  },
  {
   "cell_type": "code",
   "execution_count": 50,
   "metadata": {
    "colab": {
     "base_uri": "https://localhost:8080/"
    },
    "id": "uZHN3v3bCv_w",
    "outputId": "ea2bb233-5c6e-48f1-de23-4c2d5f5ae115"
   },
   "outputs": [
    {
     "data": {
      "text/plain": [
       "array([0, 1, 0, ..., 0, 0, 0])"
      ]
     },
     "execution_count": 50,
     "metadata": {},
     "output_type": "execute_result"
    }
   ],
   "source": [
    "y_pred_train_xgb = rs1.best_estimator_.predict(X_train)\n",
    "y_pred_train_xgb"
   ]
  },
  {
   "cell_type": "code",
   "execution_count": 51,
   "metadata": {
    "colab": {
     "base_uri": "https://localhost:8080/",
     "height": 699
    },
    "id": "W26YsBDHrCNj",
    "outputId": "3b5c47e6-53bb-4f28-9f03-b0f837a0231e"
   },
   "outputs": [
    {
     "name": "stdout",
     "output_type": "stream",
     "text": [
      "              precision    recall  f1-score   support\n",
      "\n",
      "           0       0.90      0.95      0.92     17265\n",
      "           1       0.80      0.66      0.72      5527\n",
      "\n",
      "    accuracy                           0.88     22792\n",
      "   macro avg       0.85      0.80      0.82     22792\n",
      "weighted avg       0.87      0.88      0.87     22792\n",
      "\n"
     ]
    }
   ],
   "source": [
    "print(classification_report(y_train, y_pred_train_xgb))"
   ]
  },
  {
   "cell_type": "markdown",
   "metadata": {},
   "source": [
    "There is no overfitting as the model has performed similarly on both the train and test data."
   ]
  },
  {
   "cell_type": "markdown",
   "metadata": {
    "id": "YjbHKUQKF1vg"
   },
   "source": [
    "### 6. Moving into Conceptual Problems:"
   ]
  },
  {
   "cell_type": "markdown",
   "metadata": {
    "id": "4-neN9WIF8Nx"
   },
   "source": [
    "<b>a) The lecture notes describe the Gini Index which is the default criterion used for splitting in sklearn's version of RandomForestClassifier. How does the Gini Index work? (i.e. How is it used to build a top-performing model?). </b><br>\n",
    "When building a decision tree, the goal is to create a tree that best separates the data into pure categories, where each category corresponds to a particular class label. The Gini Index is used to measure how well a particular split separates the data into pure categories. The Gini Index is calculated as follows:\n",
    "\n",
    "$$Gini Index = Σ p_i * (1 - p_i)$$\n",
    "\n",
    "where $p_i$ is the proportion of data points that belong to class i in the current node. The Gini Index is a measure of impurity because it ranges from 0 to 1, where 0 indicates a perfectly pure node with all data points belonging to the same class, and 1 indicates a maximally impure node with an equal proportion of data points belonging to each class.\n",
    "\n",
    "When building a decision tree, in order to get a top-performing model, the algorithm considers all possible splits and chooses the split that maximizes the information gain, which is defined as the reduction in the Gini Index from the parent node to the child nodes. In other words, the algorithm chooses the split that results in the greatest improvement in purity. For example, in a RandomForestClassifier model, the algorithm builds multiple decision trees using a random subset of the features and data points. The final prediction is based on the majority vote of the predictions made by each individual decision tree. The use of multiple trees reduces the risk of overfitting and improves the generalization performance of the model."
   ]
  },
  {
   "cell_type": "markdown",
   "metadata": {
    "id": "74qNI6BYjW-s"
   },
   "source": [
    "<b>b) Describe how Random Forest is different from bagging & why this difference can yield improved results.</b><br>\n",
    "Random Forest is a specific type of ensemble learning method based on decision trees that is different from the traditional bagging algorithm where Bagging builds multiple independent models on different bootstrapped samples of the data and then averages their predictions to make a final prediction. On the other hand, Random Forest builds multiple decision trees on bootstrapped samples of the data, but with a key difference - at each split, instead of considering all features to split on, Random Forest selects a random subset of features to consider. This helps to reduce the correlation among the trees and prevent overfitting. In addition, each tree is trained on a different subset of the data, further increasing the diversity of the models.\n",
    "\n",
    "As a result of this difference, Random Forest can often yield improved results over a single decision tree or bagging by combining the predictions of multiple, diverse decision trees. It is especially useful in high-dimensional datasets where there may be many features that are irrelevant or redundant."
   ]
  },
  {
   "cell_type": "markdown",
   "metadata": {
    "id": "aL4oko19kTmH"
   },
   "source": [
    "<b>c) Describe the importance of the max_depth parameter in Random Forest. Do not just provide a definition, rather think through how bias-variance tradeoff might be impacted by the max_depth parameter.</b><br>\n",
    "The max_depth parameter in Random Forest controls the depth of the decision trees in the forest. It specifies the maximum number of levels in the tree, which in turn controls the complexity of the model.\n",
    "- A lower max_depth value would result in simpler trees, which would have less variance and higher bias. Such trees may lead to underfitting. \n",
    "- A higher max_depth value would result in complex trees that can fit the training data better, but may also overfit the data by capturing noise in the training data, resulting in poor performance on the test data.<br>\n",
    "A good way to find the optimal max_depth value is to try different values and evaluate the performance of the model on the test data using a validation set or cross-validation."
   ]
  },
  {
   "cell_type": "markdown",
   "metadata": {
    "id": "ska_EL7nk6ze"
   },
   "source": [
    "<b>d) What does the alpha parameter represent in AdaBoost? Please refer to chapter 7 of the Hands-On ML book if you are struggling.</b><br>\n",
    "The alpha parameter in AdaBoost represents the contribution of each predictor in the ensemble. The predictors are weighted based on their overall accuracy and the alpha value is used to calculate the weight of each predictor in the final prediction. Predictors with high accuracy are assigned a higher weight, whereas those with lower accuracy are assigned a lower weight. It is calculated with the below formula: $$α_j = η log (1-r_j/r_j) $$"
   ]
  },
  {
   "cell_type": "markdown",
   "metadata": {
    "id": "v3h4XOU_mTNu"
   },
   "source": [
    "<b>e) In AdaBoost explain how the final predicted class is determined. Be sure to reference the alpha term in your explanation.</b><br>\n",
    "In AdaBoost, each individual weak learner is trained on the dataset and given a weight. During prediction, the weak learners are combined and their contributions to the final prediction are weighted based on their individual accuracy, with higher weight given to more accurate learners. The alpha term represents the weight of each individual weak learner's contribution to the final prediction.\n",
    "The final predicted class is determined by taking a weighted majority vote of the individual weak learners' predictions, with the weights being determined by the alpha values. The predicted class is the one with the highest weighted vote."
   ]
  },
  {
   "cell_type": "markdown",
   "metadata": {
    "id": "-9aPXXFCmi76"
   },
   "source": [
    "<b>f) In Gradient Boosting, what is the role of the max_depth parameter? Why is it important to tune on this parameter?</b><br>\n",
    "In Gradient Boosting, the max_depth parameter controls the depth of individual decision trees in the ensemble. It limits the number of nodes in a single decision tree and the complexity of the model. \n",
    "- If the max_depth is set too high, the model might overfit the training data, resulting in poor generalization performance on unseen data. \n",
    "- If the max_depth is set too low, the model might underfit the training data, resulting in high bias and poor accuracy.<br>\n",
    "Therefore, it is essential to tune the max_depth parameter to find the optimal value that balances the bias-variance tradeoff and achieves the best performance on the validation set. A common approach is to perform a grid search or a randomized search over a range of possible max_depth values and choose the one that produces the best results."
   ]
  },
  {
   "cell_type": "markdown",
   "metadata": {
    "id": "JxElUDiem658"
   },
   "source": [
    "<b>g) In Part (e) of Steps 2-5 you determined the top 5 predictors across each model. Do any predictors show up in the top 5 predictors for all three models? If so, comment on if this predictor makes sense given what you are attempting to predict. (Note: If you don't have any predictors showing up across all 3 predictors, explain one that shows up in 2 of them).</b><br>\n",
    "The predictors appearing across the models (Random Forest, AdaBoost, Gradient Boost) are:\n",
    "- age: Given that as age increases and the experience increases, the salary is bound to be determined by this.\n",
    "- capital gain: The more capital an individual earns, the higher their salary is likely to be.<br>\n",
    "- education-num: Education is often an important qualification for many jobs, and higher levels of education are often associated with higher salaries."
   ]
  },
  {
   "cell_type": "markdown",
   "metadata": {
    "id": "bUtY3_xlpGLN"
   },
   "source": [
    "<b>h) From the models run in steps 2-5, which performs the best based on the Classification Report? Support your reasoning with evidence from your test data and be sure to share the optimal hyperparameters found from your grid search.</b><br>\n",
    "The classification report for the models reveals that the dataset is imbalanced, with a support of 7455 for cases with less than 50K salary and 2314 cases otherwise. Amongst all the models, Random Forest has the lowest precision, recall, and f1-scores, making it the worst-performing model. When considering the class 0 and 1 predictions, the precision, recall, and f1-scores are the same for AdaBoosting, GradientBoosting, and XGBoost, with GradientBoost having a slightly higher score than the other two. However, this difference is not significant enough to make a decision on which is the best performing model. Therefore, when looking at the macro average, it can be observed that GradientBoosting has a higher value of precision and recall, followed by AdaBoosting and XGBoost, respectively. Hence, GradientBoosting is the best performing model.\n",
    "\n",
    "The optimal hyperparameters for Grid Search using GradientBoosting are:"
   ]
  },
  {
   "cell_type": "code",
   "execution_count": 52,
   "metadata": {},
   "outputs": [
    {
     "data": {
      "text/plain": [
       "GradientBoostingClassifier(learning_rate=0.2, max_depth=2, n_estimators=400)"
      ]
     },
     "execution_count": 52,
     "metadata": {},
     "output_type": "execute_result"
    }
   ],
   "source": [
    "gbc1.best_estimator_"
   ]
  },
  {
   "cell_type": "markdown",
   "metadata": {},
   "source": [
    "<b>i) For your best performing model, plot out a ROC curve using your test data. Feel free to use sklearn, matplotlib or any other method in python. Describe what the x-axis & y-axis of the ROC curve tell us about a classifier.</b><br>"
   ]
  },
  {
   "cell_type": "code",
   "execution_count": 53,
   "metadata": {},
   "outputs": [
    {
     "name": "stderr",
     "output_type": "stream",
     "text": [
      "c:\\Users\\Administrator\\anaconda3\\lib\\site-packages\\sklearn\\utils\\deprecation.py:87: FutureWarning: Function plot_roc_curve is deprecated; Function :func:`plot_roc_curve` is deprecated in 1.0 and will be removed in 1.2. Use one of the class methods: :meth:`sklearn.metric.RocCurveDisplay.from_predictions` or :meth:`sklearn.metric.RocCurveDisplay.from_estimator`.\n",
      "  warnings.warn(msg, category=FutureWarning)\n"
     ]
    },
    {
     "data": {
      "text/plain": [
       "<sklearn.metrics._plot.roc_curve.RocCurveDisplay at 0x19d03afb7c0>"
      ]
     },
     "execution_count": 53,
     "metadata": {},
     "output_type": "execute_result"
    },
    {
     "data": {
      "image/png": "[encoded data removed]",
      "text/plain": [
       "<Figure size 640x480 with 1 Axes>"
      ]
     },
     "metadata": {},
     "output_type": "display_data"
    }
   ],
   "source": [
    "plot_roc_curve(gbc1.best_estimator_, X_test, y_test)"
   ]
  },
  {
   "cell_type": "markdown",
   "metadata": {},
   "source": [
    "The x-axis of the ROC curve represents the False Positive Rate (FPR), which is the ratio of negative instances that are incorrectly classified as positive. Mathematically, $$FPR = FP / (TN + FP)$$ where FP is the number of false positives and TN is the number of true negatives.\n",
    "\n",
    "The y-axis of the ROC curve represents the True Positive Rate (TPR), which is the ratio of positive instances that are correctly classified as positive. Mathematically, $$TPR = TP / (TP + FN)$$ where TP is the number of true positives and FN is the number of false negatives.\n",
    "The ROC curve shows the tradeoff between the TPR and FPR for different classification thresholds. A good classifier will have a curve that is close to the top-left corner, which corresponds to high TPR and low FPR. The area under the ROC curve (AUC) is a measure of the overall performance of the classifier, with higher AUC indicating better performance."
   ]
  }
 ],
 "metadata": {
  "colab": {
   "provenance": []
  },
  "kernelspec": {
   "display_name": "Python 3 (ipykernel)",
   "language": "python",
   "name": "python3"
  },
  "language_info": {
   "codemirror_mode": {
    "name": "ipython",
    "version": 3
   },
   "file_extension": ".py",
   "mimetype": "text/x-python",
   "name": "python",
   "nbconvert_exporter": "python",
   "pygments_lexer": "ipython3",
   "version": "3.9.13"
  }
 },
 "nbformat": 4,
 "nbformat_minor": 1
}
