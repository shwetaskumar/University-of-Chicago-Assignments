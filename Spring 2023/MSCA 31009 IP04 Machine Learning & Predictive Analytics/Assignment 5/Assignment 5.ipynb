{
 "cells": [
  {
   "cell_type": "markdown",
   "metadata": {},
   "source": [
    "# ASSIGNMENT 5"
   ]
  },
  {
   "cell_type": "code",
   "execution_count": 1,
   "metadata": {},
   "outputs": [],
   "source": [
    "import pandas as pd\n",
    "import numpy as np\n",
    "\n",
    "from scipy.spatial.distance import cosine\n",
    "pd.set_option('display.float_format', None) # reset the display format\n",
    "np.seterr(all='warn')\n",
    "import warnings\n",
    "warnings.filterwarnings('error')"
   ]
  },
  {
   "cell_type": "code",
   "execution_count": 2,
   "metadata": {},
   "outputs": [
    {
     "data": {
      "text/html": [
       "<div>\n",
       "<style scoped>\n",
       "    .dataframe tbody tr th:only-of-type {\n",
       "        vertical-align: middle;\n",
       "    }\n",
       "\n",
       "    .dataframe tbody tr th {\n",
       "        vertical-align: top;\n",
       "    }\n",
       "\n",
       "    .dataframe thead th {\n",
       "        text-align: right;\n",
       "    }\n",
       "</style>\n",
       "<table border=\"1\" class=\"dataframe\">\n",
       "  <thead>\n",
       "    <tr style=\"text-align: right;\">\n",
       "      <th></th>\n",
       "      <th>user</th>\n",
       "      <th>abba</th>\n",
       "      <th>ac/dc</th>\n",
       "      <th>adam green</th>\n",
       "      <th>aerosmith</th>\n",
       "      <th>afi</th>\n",
       "      <th>air</th>\n",
       "      <th>alanis morissette</th>\n",
       "      <th>alexisonfire</th>\n",
       "      <th>alicia keys</th>\n",
       "      <th>...</th>\n",
       "      <th>timbaland</th>\n",
       "      <th>tom waits</th>\n",
       "      <th>tool</th>\n",
       "      <th>tori amos</th>\n",
       "      <th>travis</th>\n",
       "      <th>trivium</th>\n",
       "      <th>u2</th>\n",
       "      <th>underoath</th>\n",
       "      <th>volbeat</th>\n",
       "      <th>yann tiersen</th>\n",
       "    </tr>\n",
       "  </thead>\n",
       "  <tbody>\n",
       "    <tr>\n",
       "      <th>0</th>\n",
       "      <td>1</td>\n",
       "      <td>0</td>\n",
       "      <td>0</td>\n",
       "      <td>0</td>\n",
       "      <td>0</td>\n",
       "      <td>0</td>\n",
       "      <td>0</td>\n",
       "      <td>0</td>\n",
       "      <td>0</td>\n",
       "      <td>0</td>\n",
       "      <td>...</td>\n",
       "      <td>0</td>\n",
       "      <td>0</td>\n",
       "      <td>0</td>\n",
       "      <td>0</td>\n",
       "      <td>0</td>\n",
       "      <td>0</td>\n",
       "      <td>0</td>\n",
       "      <td>0</td>\n",
       "      <td>0</td>\n",
       "      <td>0</td>\n",
       "    </tr>\n",
       "    <tr>\n",
       "      <th>1</th>\n",
       "      <td>33</td>\n",
       "      <td>0</td>\n",
       "      <td>0</td>\n",
       "      <td>1</td>\n",
       "      <td>0</td>\n",
       "      <td>0</td>\n",
       "      <td>0</td>\n",
       "      <td>0</td>\n",
       "      <td>0</td>\n",
       "      <td>0</td>\n",
       "      <td>...</td>\n",
       "      <td>0</td>\n",
       "      <td>0</td>\n",
       "      <td>0</td>\n",
       "      <td>0</td>\n",
       "      <td>0</td>\n",
       "      <td>0</td>\n",
       "      <td>0</td>\n",
       "      <td>0</td>\n",
       "      <td>0</td>\n",
       "      <td>0</td>\n",
       "    </tr>\n",
       "    <tr>\n",
       "      <th>2</th>\n",
       "      <td>42</td>\n",
       "      <td>0</td>\n",
       "      <td>0</td>\n",
       "      <td>0</td>\n",
       "      <td>0</td>\n",
       "      <td>0</td>\n",
       "      <td>0</td>\n",
       "      <td>0</td>\n",
       "      <td>0</td>\n",
       "      <td>0</td>\n",
       "      <td>...</td>\n",
       "      <td>0</td>\n",
       "      <td>0</td>\n",
       "      <td>0</td>\n",
       "      <td>0</td>\n",
       "      <td>0</td>\n",
       "      <td>0</td>\n",
       "      <td>0</td>\n",
       "      <td>0</td>\n",
       "      <td>0</td>\n",
       "      <td>0</td>\n",
       "    </tr>\n",
       "    <tr>\n",
       "      <th>3</th>\n",
       "      <td>51</td>\n",
       "      <td>0</td>\n",
       "      <td>0</td>\n",
       "      <td>0</td>\n",
       "      <td>0</td>\n",
       "      <td>0</td>\n",
       "      <td>0</td>\n",
       "      <td>0</td>\n",
       "      <td>0</td>\n",
       "      <td>0</td>\n",
       "      <td>...</td>\n",
       "      <td>0</td>\n",
       "      <td>0</td>\n",
       "      <td>0</td>\n",
       "      <td>0</td>\n",
       "      <td>0</td>\n",
       "      <td>0</td>\n",
       "      <td>0</td>\n",
       "      <td>0</td>\n",
       "      <td>0</td>\n",
       "      <td>0</td>\n",
       "    </tr>\n",
       "    <tr>\n",
       "      <th>4</th>\n",
       "      <td>62</td>\n",
       "      <td>0</td>\n",
       "      <td>0</td>\n",
       "      <td>0</td>\n",
       "      <td>0</td>\n",
       "      <td>0</td>\n",
       "      <td>0</td>\n",
       "      <td>0</td>\n",
       "      <td>0</td>\n",
       "      <td>0</td>\n",
       "      <td>...</td>\n",
       "      <td>0</td>\n",
       "      <td>0</td>\n",
       "      <td>0</td>\n",
       "      <td>0</td>\n",
       "      <td>0</td>\n",
       "      <td>0</td>\n",
       "      <td>0</td>\n",
       "      <td>0</td>\n",
       "      <td>0</td>\n",
       "      <td>0</td>\n",
       "    </tr>\n",
       "  </tbody>\n",
       "</table>\n",
       "<p>5 rows × 285 columns</p>\n",
       "</div>"
      ],
      "text/plain": [
       "   user  abba  ac/dc  adam green  aerosmith  afi  air  alanis morissette  \\\n",
       "0     1     0      0           0          0    0    0                  0   \n",
       "1    33     0      0           1          0    0    0                  0   \n",
       "2    42     0      0           0          0    0    0                  0   \n",
       "3    51     0      0           0          0    0    0                  0   \n",
       "4    62     0      0           0          0    0    0                  0   \n",
       "\n",
       "   alexisonfire  alicia keys  ...  timbaland  tom waits  tool  tori amos  \\\n",
       "0             0            0  ...          0          0     0          0   \n",
       "1             0            0  ...          0          0     0          0   \n",
       "2             0            0  ...          0          0     0          0   \n",
       "3             0            0  ...          0          0     0          0   \n",
       "4             0            0  ...          0          0     0          0   \n",
       "\n",
       "   travis  trivium  u2  underoath  volbeat  yann tiersen  \n",
       "0       0        0   0          0        0             0  \n",
       "1       0        0   0          0        0             0  \n",
       "2       0        0   0          0        0             0  \n",
       "3       0        0   0          0        0             0  \n",
       "4       0        0   0          0        0             0  \n",
       "\n",
       "[5 rows x 285 columns]"
      ]
     },
     "execution_count": 2,
     "metadata": {},
     "output_type": "execute_result"
    }
   ],
   "source": [
    "radio = pd.read_csv('radio_songs.csv')\n",
    "radio.head()"
   ]
  },
  {
   "cell_type": "code",
   "execution_count": 3,
   "metadata": {},
   "outputs": [
    {
     "data": {
      "text/plain": [
       "(100, 285)"
      ]
     },
     "execution_count": 3,
     "metadata": {},
     "output_type": "execute_result"
    }
   ],
   "source": [
    "radio.shape"
   ]
  },
  {
   "cell_type": "markdown",
   "metadata": {},
   "source": [
    "# 1. Collaborative Filtering"
   ]
  },
  {
   "cell_type": "markdown",
   "metadata": {},
   "source": [
    "### A. Recommend 10 songs to users who have listened to 'u2' and 'pink floyd'. Use item-item collaborative filtering to find songs that are similar using spatial distance with cosine. Since this measures the distance you need to subtract from 1 to get similarity as shown below.\n",
    "```\n",
    "from scipy.spatial.distance import cosine\n",
    "\n",
    "similarity = 1 - cosine(item1, item2)\n",
    "```"
   ]
  },
  {
   "cell_type": "code",
   "execution_count": 4,
   "metadata": {},
   "outputs": [
    {
     "name": "stdout",
     "output_type": "stream",
     "text": [
      "10 Songs to recommend to users who have listened to U2 AND Pink Floyd:\n"
     ]
    },
    {
     "data": {
      "text/html": [
       "<style type=\"text/css\">\n",
       "</style>\n",
       "<table id=\"T_71f7d\">\n",
       "  <thead>\n",
       "    <tr>\n",
       "      <th id=\"T_71f7d_level0_col0\" class=\"col_heading level0 col0\" >Song</th>\n",
       "      <th id=\"T_71f7d_level0_col1\" class=\"col_heading level0 col1\" >Similarity Score</th>\n",
       "    </tr>\n",
       "  </thead>\n",
       "  <tbody>\n",
       "    <tr>\n",
       "      <td id=\"T_71f7d_row0_col0\" class=\"data row0 col0\" >robbie williams</td>\n",
       "      <td id=\"T_71f7d_row0_col1\" class=\"data row0 col1\" >0.394338</td>\n",
       "    </tr>\n",
       "    <tr>\n",
       "      <td id=\"T_71f7d_row1_col0\" class=\"data row1 col0\" >johnny cash</td>\n",
       "      <td id=\"T_71f7d_row1_col1\" class=\"data row1 col1\" >0.278839</td>\n",
       "    </tr>\n",
       "    <tr>\n",
       "      <td id=\"T_71f7d_row2_col0\" class=\"data row2 col0\" >audioslave</td>\n",
       "      <td id=\"T_71f7d_row2_col1\" class=\"data row2 col1\" >0.240903</td>\n",
       "    </tr>\n",
       "    <tr>\n",
       "      <td id=\"T_71f7d_row3_col0\" class=\"data row3 col0\" >foo fighters</td>\n",
       "      <td id=\"T_71f7d_row3_col1\" class=\"data row3 col1\" >0.237795</td>\n",
       "    </tr>\n",
       "    <tr>\n",
       "      <td id=\"T_71f7d_row4_col0\" class=\"data row4 col0\" >pearl jam</td>\n",
       "      <td id=\"T_71f7d_row4_col1\" class=\"data row4 col1\" >0.219913</td>\n",
       "    </tr>\n",
       "    <tr>\n",
       "      <td id=\"T_71f7d_row5_col0\" class=\"data row5 col0\" >incubus</td>\n",
       "      <td id=\"T_71f7d_row5_col1\" class=\"data row5 col1\" >0.155502</td>\n",
       "    </tr>\n",
       "  </tbody>\n",
       "</table>\n"
      ],
      "text/plain": [
       "<pandas.io.formats.style.Styler at 0x2021e12b9d0>"
      ]
     },
     "execution_count": 4,
     "metadata": {},
     "output_type": "execute_result"
    }
   ],
   "source": [
    "similarity_matrix = pd.DataFrame(columns=radio.columns, index=radio.columns)\n",
    "similarity_matrix = similarity_matrix.drop(['user'], axis=1).drop(['user'], axis=0)\n",
    "for i in similarity_matrix.columns:\n",
    "    for j in similarity_matrix.index:\n",
    "        try:\n",
    "            similarity_matrix.at[j, i] = 1 - cosine(radio[i], radio[j])\n",
    "        except:\n",
    "            similarity_matrix.at[j, i] = 0\n",
    "\n",
    "average_matrix = similarity_matrix[['u2', 'pink floyd']].copy()\n",
    "average_matrix = average_matrix.drop(['u2', 'pink floyd'], axis=0)\n",
    "average_matrix = average_matrix[(average_matrix['u2'] != 0) & (average_matrix['pink floyd'] != 0)]\n",
    "average_matrix['Average cosine'] = (average_matrix['u2'] + average_matrix['pink floyd'])/2\n",
    "print(\"10 Songs to recommend to users who have listened to U2 AND Pink Floyd:\")\n",
    "pd.DataFrame(average_matrix['Average cosine'].sort_values(ascending=False).head(10)).reset_index(drop=False).rename(columns={'index':'Song', 'Average cosine': 'Similarity Score'}).style.hide(axis='index')"
   ]
  },
  {
   "cell_type": "markdown",
   "metadata": {},
   "source": [
    "### B. Find user most similar to user 1606. Use user-user collaborative filtering with cosine similarity. List the recommended songs for user 1606 (Hint: find the songs listened to by the most similar user)."
   ]
  },
  {
   "cell_type": "code",
   "execution_count": 5,
   "metadata": {},
   "outputs": [
    {
     "name": "stdout",
     "output_type": "stream",
     "text": [
      "User 1144 is most similar to User 1606 with similarity score of 0.27735009811261446\n",
      "The songs recommended to User 1606 based on User 1144:\n"
     ]
    },
    {
     "data": {
      "text/html": [
       "<style type=\"text/css\">\n",
       "</style>\n",
       "<table id=\"T_b1009\">\n",
       "  <thead>\n",
       "    <tr>\n",
       "      <th id=\"T_b1009_level0_col0\" class=\"col_heading level0 col0\" >Song</th>\n",
       "      <th id=\"T_b1009_level0_col1\" class=\"col_heading level0 col1\" >1144</th>\n",
       "    </tr>\n",
       "  </thead>\n",
       "  <tbody>\n",
       "    <tr>\n",
       "      <td id=\"T_b1009_row0_col0\" class=\"data row0 col0\" >beastie boys</td>\n",
       "      <td id=\"T_b1009_row0_col1\" class=\"data row0 col1\" >1</td>\n",
       "    </tr>\n",
       "    <tr>\n",
       "      <td id=\"T_b1009_row1_col0\" class=\"data row1 col0\" >bob dylan</td>\n",
       "      <td id=\"T_b1009_row1_col1\" class=\"data row1 col1\" >1</td>\n",
       "    </tr>\n",
       "    <tr>\n",
       "      <td id=\"T_b1009_row2_col0\" class=\"data row2 col0\" >bob marley & the wailers</td>\n",
       "      <td id=\"T_b1009_row2_col1\" class=\"data row2 col1\" >1</td>\n",
       "    </tr>\n",
       "    <tr>\n",
       "      <td id=\"T_b1009_row3_col0\" class=\"data row3 col0\" >david bowie</td>\n",
       "      <td id=\"T_b1009_row3_col1\" class=\"data row3 col1\" >1</td>\n",
       "    </tr>\n",
       "    <tr>\n",
       "      <td id=\"T_b1009_row4_col0\" class=\"data row4 col0\" >elvis presley</td>\n",
       "      <td id=\"T_b1009_row4_col1\" class=\"data row4 col1\" >1</td>\n",
       "    </tr>\n",
       "    <tr>\n",
       "      <td id=\"T_b1009_row5_col0\" class=\"data row5 col0\" >eric clapton</td>\n",
       "      <td id=\"T_b1009_row5_col1\" class=\"data row5 col1\" >1</td>\n",
       "    </tr>\n",
       "    <tr>\n",
       "      <td id=\"T_b1009_row6_col0\" class=\"data row6 col0\" >johnny cash</td>\n",
       "      <td id=\"T_b1009_row6_col1\" class=\"data row6 col1\" >1</td>\n",
       "    </tr>\n",
       "    <tr>\n",
       "      <td id=\"T_b1009_row7_col0\" class=\"data row7 col0\" >pearl jam</td>\n",
       "      <td id=\"T_b1009_row7_col1\" class=\"data row7 col1\" >1</td>\n",
       "    </tr>\n",
       "    <tr>\n",
       "      <td id=\"T_b1009_row8_col0\" class=\"data row8 col0\" >pink floyd</td>\n",
       "      <td id=\"T_b1009_row8_col1\" class=\"data row8 col1\" >1</td>\n",
       "    </tr>\n",
       "    <tr>\n",
       "      <td id=\"T_b1009_row9_col0\" class=\"data row9 col0\" >the beatles</td>\n",
       "      <td id=\"T_b1009_row9_col1\" class=\"data row9 col1\" >1</td>\n",
       "    </tr>\n",
       "    <tr>\n",
       "      <td id=\"T_b1009_row10_col0\" class=\"data row10 col0\" >the doors</td>\n",
       "      <td id=\"T_b1009_row10_col1\" class=\"data row10 col1\" >1</td>\n",
       "    </tr>\n",
       "    <tr>\n",
       "      <td id=\"T_b1009_row11_col0\" class=\"data row11 col0\" >the rolling stones</td>\n",
       "      <td id=\"T_b1009_row11_col1\" class=\"data row11 col1\" >1</td>\n",
       "    </tr>\n",
       "    <tr>\n",
       "      <td id=\"T_b1009_row12_col0\" class=\"data row12 col0\" >tom waits</td>\n",
       "      <td id=\"T_b1009_row12_col1\" class=\"data row12 col1\" >1</td>\n",
       "    </tr>\n",
       "  </tbody>\n",
       "</table>\n"
      ],
      "text/plain": [
       "<pandas.io.formats.style.Styler at 0x2021de02e20>"
      ]
     },
     "execution_count": 5,
     "metadata": {},
     "output_type": "execute_result"
    }
   ],
   "source": [
    "radio_user = radio.T\n",
    "radio_user.columns = radio['user']\n",
    "radio_user = radio_user.drop(['user'], axis=0)\n",
    "user_matrix = pd.DataFrame(columns=radio['user'].values, index=radio['user'].values)\n",
    "for i in user_matrix.columns:\n",
    "    for j in user_matrix.index:\n",
    "        try:\n",
    "            user_matrix.at[j, i] = 1 - cosine(radio_user[i], radio_user[j])\n",
    "        except:\n",
    "            user_matrix.at[j, i] = 0\n",
    "similar_user = user_matrix[1606].sort_values(ascending=False).index[1]\n",
    "print(\"User \" + str(similar_user) + \" is most similar to User 1606 with similarity score of \" + str(user_matrix[1606].sort_values(ascending=False)[similar_user]))\n",
    "print(\"The songs recommended to User 1606 based on User \" + str(similar_user) + \":\")\n",
    "pd.DataFrame(radio_user[radio_user[similar_user] == 1][similar_user]).reset_index(drop=False).rename(columns={'index':'Song'}).style.hide(axis='index')"
   ]
  },
  {
   "cell_type": "markdown",
   "metadata": {},
   "source": [
    "### C. How many of the recommended songs has already been listened to by user 1606?"
   ]
  },
  {
   "cell_type": "code",
   "execution_count": 6,
   "metadata": {},
   "outputs": [
    {
     "name": "stdout",
     "output_type": "stream",
     "text": [
      "The number of recomended songs already listened to by user 1606 is 2, which are: \n",
      "elvis presley\n",
      "the beatles\n"
     ]
    }
   ],
   "source": [
    "user_1606 = radio_user[radio_user[1606] == 1][1606].index.to_list()\n",
    "user_sim = radio_user[radio_user[similar_user] == 1][similar_user].index.to_list()\n",
    "common = list(set(user_1606).intersection(set(user_sim)))\n",
    "print(\"The number of recomended songs already listened to by user 1606 is \" + str(len(common)) + \", which are: \")\n",
    "for i in common:\n",
    "    print(i)"
   ]
  },
  {
   "cell_type": "markdown",
   "metadata": {},
   "source": [
    "### D. Use a combination of user-item approach to build a recommendation score for each song for each user using the following steps for each user-\n",
    "- For each song for the user row, get the top 10 similar songs and their similarity score.\n",
    "- For each of the top 10 similar songs, get a list of the user purchases\n",
    "- Calculate a recommendation score as follows: \n",
    "- What are the top 5 song recommendations for user 1606?"
   ]
  },
  {
   "cell_type": "code",
   "execution_count": 7,
   "metadata": {},
   "outputs": [
    {
     "name": "stdout",
     "output_type": "stream",
     "text": [
      "Top 5 recommendations for User 1606 are:\n"
     ]
    },
    {
     "data": {
      "text/html": [
       "<style type=\"text/css\">\n",
       "</style>\n",
       "<table id=\"T_3558a\">\n",
       "  <thead>\n",
       "    <tr>\n",
       "      <th id=\"T_3558a_level0_col0\" class=\"col_heading level0 col0\" >Song</th>\n",
       "      <th id=\"T_3558a_level0_col1\" class=\"col_heading level0 col1\" >Recommendation Score with User 1606</th>\n",
       "    </tr>\n",
       "  </thead>\n",
       "  <tbody>\n",
       "    <tr>\n",
       "      <td id=\"T_3558a_row0_col0\" class=\"data row0 col0\" >elvis presley</td>\n",
       "      <td id=\"T_3558a_row0_col1\" class=\"data row0 col1\" >0.289328</td>\n",
       "    </tr>\n",
       "    <tr>\n",
       "      <td id=\"T_3558a_row1_col0\" class=\"data row1 col0\" >abba</td>\n",
       "      <td id=\"T_3558a_row1_col1\" class=\"data row1 col1\" >0.239023</td>\n",
       "    </tr>\n",
       "    <tr>\n",
       "      <td id=\"T_3558a_row2_col0\" class=\"data row2 col0\" >eric clapton</td>\n",
       "      <td id=\"T_3558a_row2_col1\" class=\"data row2 col1\" >0.202740</td>\n",
       "    </tr>\n",
       "    <tr>\n",
       "      <td id=\"T_3558a_row3_col0\" class=\"data row3 col0\" >frank sinatra</td>\n",
       "      <td id=\"T_3558a_row3_col1\" class=\"data row3 col1\" >0.201139</td>\n",
       "    </tr>\n",
       "    <tr>\n",
       "      <td id=\"T_3558a_row4_col0\" class=\"data row4 col0\" >howard shore</td>\n",
       "      <td id=\"T_3558a_row4_col1\" class=\"data row4 col1\" >0.171749</td>\n",
       "    </tr>\n",
       "  </tbody>\n",
       "</table>\n"
      ],
      "text/plain": [
       "<pandas.io.formats.style.Styler at 0x2021aed3e50>"
      ]
     },
     "execution_count": 7,
     "metadata": {},
     "output_type": "execute_result"
    }
   ],
   "source": [
    "r = radio.set_index('user')\n",
    "# Get the top 10 similar songs and their similarity score for each song\n",
    "top_similar_songs = {}\n",
    "for song in radio.columns:\n",
    "    if song != 'user':\n",
    "        similar_songs = similarity_matrix[song].sort_values(ascending=False)[1:11]\n",
    "        top_similar_songs[song] = dict(similar_songs)\n",
    "\n",
    "# Calculate the recommendation score for each song for each user\n",
    "recommendation_scores = pd.DataFrame(index=radio['user'], columns=similarity_matrix.columns)\n",
    "for user in radio['user']:\n",
    "    for song in similarity_matrix.columns:\n",
    "        if song != 'user':\n",
    "            similar_songs = top_similar_songs[song]\n",
    "            similarity_scores = np.array(list(similar_songs.values()))\n",
    "            purchase_history = r.loc[user, list(similar_songs.keys())]\n",
    "            try:\n",
    "                recommendation_score = (purchase_history * similarity_scores).sum() / similarity_scores.sum()\n",
    "            except:\n",
    "                recommendation_score = 0\n",
    "            recommendation_scores.loc[user, song] = recommendation_score\n",
    "\n",
    "# Get the top 5 song recommendations for user 1606\n",
    "top_recommendations = recommendation_scores.loc[1606].sort_values(ascending=False)[:5]\n",
    "print(\"Top 5 recommendations for User 1606 are:\")\n",
    "pd.DataFrame(top_recommendations).reset_index(drop=False).rename(columns={'index':'Song', 1606: 'Recommendation Score with User 1606'}).style.hide(axis='index')"
   ]
  },
  {
   "cell_type": "markdown",
   "metadata": {},
   "source": [
    "# 2. Conceptual questions:"
   ]
  },
  {
   "cell_type": "markdown",
   "metadata": {},
   "source": [
    "### 1. Name 2 other similarity measures that you can use instead of cosine similarity above."
   ]
  },
  {
   "cell_type": "markdown",
   "metadata": {},
   "source": [
    "The 2 other similarity measures that can be used instead of cosine similarity are:\n",
    "- Pearson Correlation: Pearson correlation measures the linear correlation between two variables. It ranges from -1 to 1, with 1 representing a perfect positive correlation, 0 representing no correlation, and -1 representing a perfect negative correlation.\n",
    "- Euclidean Distance: Euclidean distance measures the straight-line distance between two points in a multi-dimensional space."
   ]
  },
  {
   "cell_type": "markdown",
   "metadata": {},
   "source": [
    "### 2. What is needed to build a Content-Based Recommender system?"
   ]
  },
  {
   "cell_type": "markdown",
   "metadata": {},
   "source": [
    "To build a Content-Based Recommender system, the following are needed:\n",
    "- Item profiles: A representation of each item in the system based on features or attributes. For example, if recommending books, the item profile could include features such as genre, author, title, release year, etc.\n",
    "- User profiles: A representation of each user in the system based on their purchases or reviews.\n",
    "- Similarity measure: A method to calculate the similarity between item and user profiles. This could be based on cosine similarity, Pearson correlation, Euclidean distance, or other distance metrics.\n",
    "- Recommendation algorithm: A method to generate recommendations based on the similarity between user and item profiles. This could include ranking items by similarity score, using machine learning models such as decision trees or neural networks, or other approaches.\n",
    "- Evaluation metrics: A way to measure the effectiveness of the recommender system. This could include metrics such as accuracy, precision, recall, or others, depending on the specific goals and objectives of the system."
   ]
  },
  {
   "cell_type": "markdown",
   "metadata": {},
   "source": [
    "### 3. Name 2 methods to evaluate your recommender system."
   ]
  },
  {
   "cell_type": "markdown",
   "metadata": {},
   "source": [
    "- Precision: Precision is defined as the fraction of relevant recommendations among the total number of recommendations made by the system. In other words, it measures how many of the items recommended by the system are actually relevant to the user. A high precision indicates that the system is good at making relevant recommendations, while a low precision means that the system is making a lot of irrelevant recommendations.\n",
    "- Recall: Recall is defined as the fraction of relevant items that are recommended by the system, among the total number of relevant items. In other words, it measures how many of the relevant items were actually recommended by the system. A high recall indicates that the system is good at capturing all the relevant items, while a low recall means that the system is missing many relevant items."
   ]
  }
 ],
 "metadata": {
  "kernelspec": {
   "display_name": "Python 3 (ipykernel)",
   "language": "python",
   "name": "python3"
  },
  "language_info": {
   "codemirror_mode": {
    "name": "ipython",
    "version": 3
   },
   "file_extension": ".py",
   "mimetype": "text/x-python",
   "name": "python",
   "nbconvert_exporter": "python",
   "pygments_lexer": "ipython3",
   "version": "3.9.13"
  }
 },
 "nbformat": 4,
 "nbformat_minor": 2
}
