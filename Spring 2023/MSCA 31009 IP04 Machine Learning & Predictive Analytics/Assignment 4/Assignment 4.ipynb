{
 "cells": [
  {
   "cell_type": "markdown",
   "metadata": {},
   "source": [
    "# ASSIGNMENT 4"
   ]
  },
  {
   "cell_type": "code",
   "execution_count": 1,
   "metadata": {},
   "outputs": [],
   "source": [
    "import pandas as pd\n",
    "import numpy as np\n",
    "\n",
    "import matplotlib.pyplot as plt\n",
    "import seaborn as sns\n",
    "import time\n",
    "\n",
    "from sklearn.model_selection import GridSearchCV\n",
    "from sklearn.preprocessing import StandardScaler\n",
    "from sklearn.ensemble import RandomForestClassifier\n",
    "from sklearn.svm import LinearSVC, SVC\n",
    "from sklearn.metrics import confusion_matrix, classification_report"
   ]
  },
  {
   "cell_type": "markdown",
   "metadata": {},
   "source": [
    "## 1. Data Processing:"
   ]
  },
  {
   "cell_type": "markdown",
   "metadata": {},
   "source": [
    "a) Import the data: You are provided separate .csv files for train and test."
   ]
  },
  {
   "cell_type": "code",
   "execution_count": 2,
   "metadata": {},
   "outputs": [
    {
     "name": "stdout",
     "output_type": "stream",
     "text": [
      "Train Data: (507, 148)\n",
      "Test Data: (168, 148)\n"
     ]
    }
   ],
   "source": [
    "train_data = pd.read_csv('train_data.csv')\n",
    "test_data = pd.read_csv('test_data.csv')\n",
    "print(\"Train Data: \" + str(train_data.shape) + \"\\nTest Data: \" + str(test_data.shape))"
   ]
  },
  {
   "cell_type": "markdown",
   "metadata": {},
   "source": [
    "b) Remove any rows that have missing data across both sets of data."
   ]
  },
  {
   "cell_type": "code",
   "execution_count": 3,
   "metadata": {},
   "outputs": [
    {
     "name": "stdout",
     "output_type": "stream",
     "text": [
      "Train Data: (507, 148)\n",
      "Test Data: (168, 148)\n"
     ]
    }
   ],
   "source": [
    "train_data = train_data.dropna()\n",
    "test_data = test_data.dropna()\n",
    "print(\"Train Data: \" + str(train_data.shape) + \"\\nTest Data: \" + str(test_data.shape))"
   ]
  },
  {
   "cell_type": "markdown",
   "metadata": {},
   "source": [
    "c) The target variable (dependent variable) is called \"class\", make sure to separate this out into a \"y_train\" and \"y_test\" and remove from your \"X_train\" and \"X_test\". "
   ]
  },
  {
   "cell_type": "code",
   "execution_count": 4,
   "metadata": {},
   "outputs": [],
   "source": [
    "X_train = train_data.drop(['class'], axis=1)\n",
    "X_test = test_data.drop(['class'], axis=1)\n",
    "y_train = train_data['class']\n",
    "y_test = test_data['class']"
   ]
  },
  {
   "cell_type": "markdown",
   "metadata": {},
   "source": [
    "d) Scale all features / predictors (NOT THE TARGET VARIABLE)"
   ]
  },
  {
   "cell_type": "code",
   "execution_count": 5,
   "metadata": {},
   "outputs": [],
   "source": [
    "scaler = StandardScaler()\n",
    "X_train_scaled = scaler.fit_transform(X_train)\n",
    "X_test_scaled = scaler.fit_transform(X_test)"
   ]
  },
  {
   "cell_type": "markdown",
   "metadata": {},
   "source": [
    "## 2. Random Forest Classifier - Base Model:"
   ]
  },
  {
   "cell_type": "markdown",
   "metadata": {},
   "source": [
    "Start by creating a simple Random Forest only using default parameters - this will let us compare SVMs to Random Forest in multiclass problems.<br>\n",
    "a) Use the RandomForestClassifier in sklearn. Fit your model on the training data."
   ]
  },
  {
   "cell_type": "code",
   "execution_count": 6,
   "metadata": {},
   "outputs": [
    {
     "data": {
      "text/plain": [
       "RandomForestClassifier(random_state=42)"
      ]
     },
     "execution_count": 6,
     "metadata": {},
     "output_type": "execute_result"
    }
   ],
   "source": [
    "clf = RandomForestClassifier(random_state=42)\n",
    "clf.fit(X_train_scaled, y_train)"
   ]
  },
  {
   "cell_type": "markdown",
   "metadata": {},
   "source": [
    "b) Use the fitted model to predict on test data. Use the .predict() method to get the predicted classes."
   ]
  },
  {
   "cell_type": "code",
   "execution_count": 7,
   "metadata": {},
   "outputs": [
    {
     "data": {
      "text/plain": [
       "array(['building ', 'concrete ', 'building ', 'concrete ', 'concrete ',\n",
       "       'grass ', 'car ', 'car ', 'building ', 'tree ', 'building ',\n",
       "       'asphalt ', 'building ', 'grass ', 'shadow ', 'building ', 'tree ',\n",
       "       'soil ', 'building ', 'shadow ', 'pool ', 'shadow ', 'concrete ',\n",
       "       'tree ', 'grass ', 'concrete ', 'grass ', 'building ', 'building ',\n",
       "       'building ', 'asphalt ', 'shadow ', 'concrete ', 'tree ', 'tree ',\n",
       "       'concrete ', 'asphalt ', 'concrete ', 'tree ', 'concrete ',\n",
       "       'concrete ', 'tree ', 'building ', 'building ', 'building ',\n",
       "       'grass ', 'grass ', 'shadow ', 'concrete ', 'soil ', 'shadow ',\n",
       "       'tree ', 'car ', 'car ', 'asphalt ', 'pool ', 'building ', 'tree ',\n",
       "       'grass ', 'grass ', 'car ', 'car ', 'pool ', 'building ', 'soil ',\n",
       "       'grass ', 'building ', 'building ', 'building ', 'soil ',\n",
       "       'concrete ', 'building ', 'asphalt ', 'pool ', 'pool ', 'shadow ',\n",
       "       'building ', 'grass ', 'asphalt ', 'asphalt ', 'pool ', 'pool ',\n",
       "       'building ', 'concrete ', 'building ', 'shadow ', 'concrete ',\n",
       "       'grass ', 'asphalt ', 'grass ', 'grass ', 'grass ', 'concrete ',\n",
       "       'concrete ', 'concrete ', 'grass ', 'pool ', 'car ', 'shadow ',\n",
       "       'tree ', 'grass ', 'asphalt ', 'tree ', 'car ', 'tree ',\n",
       "       'asphalt ', 'grass ', 'building ', 'concrete ', 'grass ',\n",
       "       'asphalt ', 'grass ', 'grass ', 'car ', 'concrete ', 'tree ',\n",
       "       'grass ', 'concrete ', 'concrete ', 'car ', 'car ', 'grass ',\n",
       "       'shadow ', 'pool ', 'tree ', 'asphalt ', 'tree ', 'pool ',\n",
       "       'building ', 'grass ', 'soil ', 'asphalt ', 'asphalt ',\n",
       "       'concrete ', 'asphalt ', 'grass ', 'shadow ', 'pool ', 'pool ',\n",
       "       'pool ', 'car ', 'grass ', 'concrete ', 'asphalt ', 'concrete ',\n",
       "       'asphalt ', 'building ', 'shadow ', 'shadow ', 'tree ', 'grass ',\n",
       "       'asphalt ', 'tree ', 'shadow ', 'concrete ', 'concrete ',\n",
       "       'concrete ', 'tree ', 'asphalt ', 'concrete ', 'grass ', 'tree ',\n",
       "       'tree ', 'car ', 'soil ', 'grass ', 'grass ', 'concrete '],\n",
       "      dtype=object)"
      ]
     },
     "execution_count": 7,
     "metadata": {},
     "output_type": "execute_result"
    }
   ],
   "source": [
    "y_pred = clf.predict(X_test_scaled)\n",
    "y_pred"
   ]
  },
  {
   "cell_type": "markdown",
   "metadata": {},
   "source": [
    "c) Calculate the confusion matrix and classification report for the test data. "
   ]
  },
  {
   "cell_type": "code",
   "execution_count": 8,
   "metadata": {},
   "outputs": [
    {
     "data": {
      "text/plain": [
       "array([[14,  0,  0,  0,  0,  0,  0,  0,  0],\n",
       "       [ 1, 19,  0,  4,  1,  0,  0,  0,  0],\n",
       "       [ 1,  2, 12,  0,  0,  0,  0,  0,  0],\n",
       "       [ 0,  3,  0, 19,  0,  0,  0,  1,  0],\n",
       "       [ 0,  0,  0,  0, 24,  0,  0,  0,  5],\n",
       "       [ 1,  0,  1,  0,  0, 13,  0,  0,  0],\n",
       "       [ 2,  0,  0,  0,  0,  0, 14,  0,  0],\n",
       "       [ 0,  1,  0,  5,  3,  0,  0,  5,  0],\n",
       "       [ 0,  0,  0,  1,  1,  0,  0,  0, 15]], dtype=int64)"
      ]
     },
     "execution_count": 8,
     "metadata": {},
     "output_type": "execute_result"
    }
   ],
   "source": [
    "confusion_matrix(y_test, y_pred)"
   ]
  },
  {
   "cell_type": "code",
   "execution_count": 9,
   "metadata": {},
   "outputs": [
    {
     "name": "stdout",
     "output_type": "stream",
     "text": [
      "              precision    recall  f1-score   support\n",
      "\n",
      "    asphalt        0.74      1.00      0.85        14\n",
      "   building        0.76      0.76      0.76        25\n",
      "        car        0.92      0.80      0.86        15\n",
      "   concrete        0.66      0.83      0.73        23\n",
      "      grass        0.83      0.83      0.83        29\n",
      "       pool        1.00      0.87      0.93        15\n",
      "     shadow        1.00      0.88      0.93        16\n",
      "       soil        0.83      0.36      0.50        14\n",
      "       tree        0.75      0.88      0.81        17\n",
      "\n",
      "    accuracy                           0.80       168\n",
      "   macro avg       0.83      0.80      0.80       168\n",
      "weighted avg       0.82      0.80      0.80       168\n",
      "\n"
     ]
    }
   ],
   "source": [
    "print(classification_report(y_test, y_pred))"
   ]
  },
  {
   "cell_type": "markdown",
   "metadata": {},
   "source": [
    "d)  Calculate predictions for the training data & build the classification report & confusion matrix. Are there signs of overfitting? Why or why not?"
   ]
  },
  {
   "cell_type": "code",
   "execution_count": 10,
   "metadata": {},
   "outputs": [
    {
     "data": {
      "text/plain": [
       "array([[45,  0,  0,  0,  0,  0,  0,  0,  0],\n",
       "       [ 0, 97,  0,  0,  0,  0,  0,  0,  0],\n",
       "       [ 0,  0, 21,  0,  0,  0,  0,  0,  0],\n",
       "       [ 0,  0,  0, 93,  0,  0,  0,  0,  0],\n",
       "       [ 0,  0,  0,  0, 83,  0,  0,  0,  0],\n",
       "       [ 0,  0,  0,  0,  0, 14,  0,  0,  0],\n",
       "       [ 0,  0,  0,  0,  0,  0, 45,  0,  0],\n",
       "       [ 0,  0,  0,  0,  0,  0,  0, 20,  0],\n",
       "       [ 0,  0,  0,  0,  0,  0,  0,  0, 89]], dtype=int64)"
      ]
     },
     "execution_count": 10,
     "metadata": {},
     "output_type": "execute_result"
    }
   ],
   "source": [
    "y_pred_train = clf.predict(X_train_scaled)\n",
    "confusion_matrix(y_train, y_pred_train)"
   ]
  },
  {
   "cell_type": "code",
   "execution_count": 11,
   "metadata": {},
   "outputs": [
    {
     "name": "stdout",
     "output_type": "stream",
     "text": [
      "              precision    recall  f1-score   support\n",
      "\n",
      "    asphalt        1.00      1.00      1.00        45\n",
      "   building        1.00      1.00      1.00        97\n",
      "        car        1.00      1.00      1.00        21\n",
      "   concrete        1.00      1.00      1.00        93\n",
      "      grass        1.00      1.00      1.00        83\n",
      "       pool        1.00      1.00      1.00        14\n",
      "     shadow        1.00      1.00      1.00        45\n",
      "       soil        1.00      1.00      1.00        20\n",
      "       tree        1.00      1.00      1.00        89\n",
      "\n",
      "    accuracy                           1.00       507\n",
      "   macro avg       1.00      1.00      1.00       507\n",
      "weighted avg       1.00      1.00      1.00       507\n",
      "\n"
     ]
    }
   ],
   "source": [
    "print(classification_report(y_train, y_pred_train))"
   ]
  },
  {
   "cell_type": "markdown",
   "metadata": {},
   "source": [
    "There are signs of overfitting as it can be seen that the precision, recall and f1-scores are 1 for all labels on the train dataset and not on the test data. The model is performing very well on trained data but not on unseen/test data for most of the labels."
   ]
  },
  {
   "cell_type": "markdown",
   "metadata": {},
   "source": [
    "e) Identify the top 5 features. Feel free to print a list OR to make a plot. "
   ]
  },
  {
   "cell_type": "code",
   "execution_count": 12,
   "metadata": {},
   "outputs": [
    {
     "data": {
      "image/png": "[encoded data removed]",
      "text/plain": [
       "<Figure size 1500x500 with 1 Axes>"
      ]
     },
     "metadata": {},
     "output_type": "display_data"
    }
   ],
   "source": [
    "importances = clf.feature_importances_\n",
    "indices = np.argsort(importances)[::-1]\n",
    "top_features = X_train.columns[indices][:5]\n",
    "\n",
    "plt.figure(figsize=(15,5))\n",
    "plt.title(\"Top 5 Important Features\")\n",
    "bar_plot = plt.bar(range(len(top_features)), importances[indices][:5], align='center')\n",
    "plt.xticks(range(len(top_features)), top_features)\n",
    "plt.xlabel(\"Features\")\n",
    "plt.ylabel(\"Importance\")\n",
    "for i, v in enumerate(importances[indices][:5]):\n",
    "    plt.text(i, v, str(round(v,2)), ha='center', va='bottom')\n",
    "plt.show()"
   ]
  },
  {
   "cell_type": "markdown",
   "metadata": {},
   "source": [
    "## 3. LinearSVM Classifier - Base Model:"
   ]
  },
  {
   "cell_type": "markdown",
   "metadata": {},
   "source": [
    "Create a simple LinearSVC Classifier only using default parameters.<br>\n",
    "a) Use the LinearSVC in sklearn. Fit your model on the training data."
   ]
  },
  {
   "cell_type": "code",
   "execution_count": 13,
   "metadata": {},
   "outputs": [
    {
     "data": {
      "text/plain": [
       "LinearSVC(max_iter=10000, random_state=42)"
      ]
     },
     "execution_count": 13,
     "metadata": {},
     "output_type": "execute_result"
    }
   ],
   "source": [
    "l_svc = LinearSVC(max_iter=10000, random_state=42)\n",
    "l_svc.fit(X_train_scaled, y_train)"
   ]
  },
  {
   "cell_type": "markdown",
   "metadata": {},
   "source": [
    "b) Use the fitted model to predict on test data. Use the .predict() method to get the predicted classes."
   ]
  },
  {
   "cell_type": "code",
   "execution_count": 14,
   "metadata": {},
   "outputs": [
    {
     "data": {
      "text/plain": [
       "array(['car ', 'concrete ', 'building ', 'concrete ', 'asphalt ', 'tree ',\n",
       "       'car ', 'car ', 'building ', 'tree ', 'building ', 'asphalt ',\n",
       "       'building ', 'grass ', 'shadow ', 'building ', 'grass ',\n",
       "       'building ', 'building ', 'shadow ', 'pool ', 'shadow ',\n",
       "       'concrete ', 'tree ', 'grass ', 'concrete ', 'grass ', 'building ',\n",
       "       'building ', 'building ', 'asphalt ', 'shadow ', 'building ',\n",
       "       'grass ', 'tree ', 'building ', 'asphalt ', 'concrete ', 'tree ',\n",
       "       'concrete ', 'concrete ', 'tree ', 'building ', 'building ',\n",
       "       'building ', 'grass ', 'asphalt ', 'shadow ', 'building ', 'soil ',\n",
       "       'tree ', 'tree ', 'car ', 'car ', 'shadow ', 'pool ', 'building ',\n",
       "       'grass ', 'tree ', 'grass ', 'car ', 'car ', 'pool ', 'concrete ',\n",
       "       'concrete ', 'grass ', 'building ', 'building ', 'building ',\n",
       "       'soil ', 'concrete ', 'building ', 'car ', 'pool ', 'pool ',\n",
       "       'shadow ', 'building ', 'grass ', 'shadow ', 'grass ', 'pool ',\n",
       "       'pool ', 'building ', 'building ', 'concrete ', 'shadow ',\n",
       "       'building ', 'grass ', 'asphalt ', 'grass ', 'grass ', 'grass ',\n",
       "       'building ', 'concrete ', 'building ', 'grass ', 'pool ', 'tree ',\n",
       "       'shadow ', 'tree ', 'grass ', 'asphalt ', 'tree ', 'building ',\n",
       "       'tree ', 'asphalt ', 'grass ', 'building ', 'tree ', 'grass ',\n",
       "       'asphalt ', 'grass ', 'tree ', 'asphalt ', 'concrete ', 'tree ',\n",
       "       'grass ', 'concrete ', 'concrete ', 'car ', 'car ', 'tree ',\n",
       "       'shadow ', 'pool ', 'tree ', 'asphalt ', 'grass ', 'shadow ',\n",
       "       'building ', 'grass ', 'concrete ', 'asphalt ', 'asphalt ',\n",
       "       'concrete ', 'asphalt ', 'grass ', 'asphalt ', 'pool ', 'pool ',\n",
       "       'pool ', 'car ', 'grass ', 'concrete ', 'asphalt ', 'concrete ',\n",
       "       'asphalt ', 'building ', 'shadow ', 'shadow ', 'tree ',\n",
       "       'concrete ', 'car ', 'tree ', 'shadow ', 'concrete ', 'concrete ',\n",
       "       'soil ', 'tree ', 'asphalt ', 'concrete ', 'grass ', 'tree ',\n",
       "       'tree ', 'car ', 'soil ', 'grass ', 'grass ', 'concrete '],\n",
       "      dtype=object)"
      ]
     },
     "execution_count": 14,
     "metadata": {},
     "output_type": "execute_result"
    }
   ],
   "source": [
    "y_pred_lsvc = l_svc.predict(X_test_scaled)\n",
    "y_pred_lsvc"
   ]
  },
  {
   "cell_type": "markdown",
   "metadata": {},
   "source": [
    "c) Calculate the confusion matrix and classification report for test data."
   ]
  },
  {
   "cell_type": "code",
   "execution_count": 15,
   "metadata": {},
   "outputs": [
    {
     "data": {
      "text/plain": [
       "array([[13,  0,  0,  0,  0,  0,  1,  0,  0],\n",
       "       [ 0, 21,  0,  2,  2,  0,  0,  0,  0],\n",
       "       [ 0,  1, 12,  1,  0,  0,  0,  0,  1],\n",
       "       [ 1,  5,  0, 16,  0,  0,  0,  0,  1],\n",
       "       [ 1,  0,  0,  1, 21,  0,  0,  0,  6],\n",
       "       [ 1,  0,  1,  0,  0, 12,  1,  0,  0],\n",
       "       [ 2,  0,  0,  0,  0,  0, 13,  0,  1],\n",
       "       [ 0,  4,  0,  3,  3,  0,  0,  4,  0],\n",
       "       [ 0,  0,  0,  1,  2,  0,  0,  0, 14]], dtype=int64)"
      ]
     },
     "execution_count": 15,
     "metadata": {},
     "output_type": "execute_result"
    }
   ],
   "source": [
    "confusion_matrix(y_test, y_pred_lsvc)"
   ]
  },
  {
   "cell_type": "code",
   "execution_count": 16,
   "metadata": {},
   "outputs": [
    {
     "name": "stdout",
     "output_type": "stream",
     "text": [
      "              precision    recall  f1-score   support\n",
      "\n",
      "    asphalt        0.72      0.93      0.81        14\n",
      "   building        0.68      0.84      0.75        25\n",
      "        car        0.92      0.80      0.86        15\n",
      "   concrete        0.67      0.70      0.68        23\n",
      "      grass        0.75      0.72      0.74        29\n",
      "       pool        1.00      0.80      0.89        15\n",
      "     shadow        0.87      0.81      0.84        16\n",
      "       soil        1.00      0.29      0.44        14\n",
      "       tree        0.61      0.82      0.70        17\n",
      "\n",
      "    accuracy                           0.75       168\n",
      "   macro avg       0.80      0.75      0.75       168\n",
      "weighted avg       0.78      0.75      0.74       168\n",
      "\n"
     ]
    }
   ],
   "source": [
    "print(classification_report(y_test, y_pred_lsvc))"
   ]
  },
  {
   "cell_type": "markdown",
   "metadata": {},
   "source": [
    "d)  Calculate predictions for the training data & build the classification report & confusion matrix. Are there signs of overfitting? Why or why not?"
   ]
  },
  {
   "cell_type": "code",
   "execution_count": 17,
   "metadata": {},
   "outputs": [
    {
     "data": {
      "text/plain": [
       "array([[45,  0,  0,  0,  0,  0,  0,  0,  0],\n",
       "       [ 0, 97,  0,  0,  0,  0,  0,  0,  0],\n",
       "       [ 0,  0, 21,  0,  0,  0,  0,  0,  0],\n",
       "       [ 0,  0,  0, 93,  0,  0,  0,  0,  0],\n",
       "       [ 0,  1,  0,  0, 80,  0,  0,  0,  2],\n",
       "       [ 0,  0,  0,  0,  0, 14,  0,  0,  0],\n",
       "       [ 0,  0,  0,  0,  0,  0, 45,  0,  0],\n",
       "       [ 0,  0,  0,  0,  0,  0,  0, 20,  0],\n",
       "       [ 0,  0,  0,  0,  0,  0,  0,  0, 89]], dtype=int64)"
      ]
     },
     "execution_count": 17,
     "metadata": {},
     "output_type": "execute_result"
    }
   ],
   "source": [
    "y_pred_train_lsvc = l_svc.predict(X_train_scaled)\n",
    "confusion_matrix(y_train, y_pred_train_lsvc)"
   ]
  },
  {
   "cell_type": "code",
   "execution_count": 18,
   "metadata": {},
   "outputs": [
    {
     "name": "stdout",
     "output_type": "stream",
     "text": [
      "              precision    recall  f1-score   support\n",
      "\n",
      "    asphalt        1.00      1.00      1.00        45\n",
      "   building        0.99      1.00      0.99        97\n",
      "        car        1.00      1.00      1.00        21\n",
      "   concrete        1.00      1.00      1.00        93\n",
      "      grass        1.00      0.96      0.98        83\n",
      "       pool        1.00      1.00      1.00        14\n",
      "     shadow        1.00      1.00      1.00        45\n",
      "       soil        1.00      1.00      1.00        20\n",
      "       tree        0.98      1.00      0.99        89\n",
      "\n",
      "    accuracy                           0.99       507\n",
      "   macro avg       1.00      1.00      1.00       507\n",
      "weighted avg       0.99      0.99      0.99       507\n",
      "\n"
     ]
    }
   ],
   "source": [
    "print(classification_report(y_train, y_pred_train_lsvc))"
   ]
  },
  {
   "cell_type": "markdown",
   "metadata": {},
   "source": [
    "There are signs of overfitting as it can be seen that the precision, recall and f1-scores are 1 for majority of the labels on the train dataset and not on the test data. The model is performing very well on trained data but not on unseen/test data for most of the labels."
   ]
  },
  {
   "cell_type": "markdown",
   "metadata": {},
   "source": [
    "## 4. Support Vector Machine Classifier + Linear Kernel + Grid Search:"
   ]
  },
  {
   "cell_type": "markdown",
   "metadata": {},
   "source": [
    "We will now use GridSearchCV to try various hyperparameters in a SVM with linear kernel.<br>\n",
    "a) Use SVC from sklearn with kernel = \"linear\". Run the GridSearchCV using the following (SVMs run much faster than RandomForest):\n",
    "\n",
    "C: 0.01 - 10 in increments of 0.2 (consider using the np.arange() method from numpy to build out a sequence of values)\n",
    "\n",
    "Note: Feel free to try out more parameters, the above is the bare minimum for this assignment.\n",
    "\n",
    "Use 5 cross-fold and the default scoring. Please set verbose = 0 to reduce the printing"
   ]
  },
  {
   "cell_type": "code",
   "execution_count": 19,
   "metadata": {},
   "outputs": [
    {
     "data": {
      "text/plain": [
       "GridSearchCV(cv=5, estimator=SVC(kernel='linear', random_state=42),\n",
       "             param_grid={'C': array([0.01, 0.21, 0.41, 0.61, 0.81, 1.01, 1.21, 1.41, 1.61, 1.81, 2.01,\n",
       "       2.21, 2.41, 2.61, 2.81, 3.01, 3.21, 3.41, 3.61, 3.81, 4.01, 4.21,\n",
       "       4.41, 4.61, 4.81, 5.01, 5.21, 5.41, 5.61, 5.81, 6.01, 6.21, 6.41,\n",
       "       6.61, 6.81, 7.01, 7.21, 7.41, 7.61, 7.81, 8.01, 8.21, 8.41, 8.61,\n",
       "       8.81, 9.01, 9.21, 9.41, 9.61, 9.81])})"
      ]
     },
     "execution_count": 19,
     "metadata": {},
     "output_type": "execute_result"
    }
   ],
   "source": [
    "param_grid = {'C': np.arange(0.01, 10, 0.2)}\n",
    "svc_l = SVC(kernel='linear', random_state=42)\n",
    "svc_l_gs = GridSearchCV(svc_l, param_grid, cv=5, verbose=0)\n",
    "svc_l_gs.fit(X_train_scaled, y_train)"
   ]
  },
  {
   "cell_type": "markdown",
   "metadata": {},
   "source": [
    "b) Identify the best performing model:"
   ]
  },
  {
   "cell_type": "code",
   "execution_count": 20,
   "metadata": {},
   "outputs": [
    {
     "name": "stdout",
     "output_type": "stream",
     "text": [
      "SVC(C=0.01, kernel='linear', random_state=42) {'C': 0.01}\n"
     ]
    }
   ],
   "source": [
    "print(svc_l_gs.best_estimator_, svc_l_gs.best_params_)"
   ]
  },
  {
   "cell_type": "markdown",
   "metadata": {},
   "source": [
    "c) Use the best estimator model to predict on test data. Use the .predict() method to get the predicted classes."
   ]
  },
  {
   "cell_type": "code",
   "execution_count": 21,
   "metadata": {},
   "outputs": [
    {
     "data": {
      "text/plain": [
       "array(['car ', 'concrete ', 'building ', 'concrete ', 'concrete ',\n",
       "       'tree ', 'car ', 'car ', 'building ', 'tree ', 'building ',\n",
       "       'asphalt ', 'building ', 'grass ', 'shadow ', 'building ', 'tree ',\n",
       "       'concrete ', 'building ', 'shadow ', 'pool ', 'asphalt ',\n",
       "       'concrete ', 'tree ', 'grass ', 'concrete ', 'grass ', 'building ',\n",
       "       'building ', 'building ', 'asphalt ', 'shadow ', 'concrete ',\n",
       "       'grass ', 'tree ', 'concrete ', 'asphalt ', 'concrete ', 'tree ',\n",
       "       'concrete ', 'concrete ', 'tree ', 'building ', 'building ',\n",
       "       'building ', 'grass ', 'grass ', 'shadow ', 'concrete ', 'soil ',\n",
       "       'shadow ', 'tree ', 'car ', 'car ', 'shadow ', 'pool ',\n",
       "       'building ', 'tree ', 'grass ', 'grass ', 'car ', 'car ', 'pool ',\n",
       "       'building ', 'soil ', 'grass ', 'building ', 'concrete ',\n",
       "       'building ', 'soil ', 'concrete ', 'building ', 'shadow ', 'pool ',\n",
       "       'pool ', 'shadow ', 'building ', 'grass ', 'shadow ', 'building ',\n",
       "       'pool ', 'pool ', 'building ', 'building ', 'building ', 'shadow ',\n",
       "       'building ', 'grass ', 'asphalt ', 'grass ', 'grass ', 'grass ',\n",
       "       'concrete ', 'concrete ', 'concrete ', 'grass ', 'pool ', 'car ',\n",
       "       'shadow ', 'tree ', 'grass ', 'asphalt ', 'tree ', 'car ', 'tree ',\n",
       "       'asphalt ', 'grass ', 'building ', 'soil ', 'grass ', 'asphalt ',\n",
       "       'grass ', 'grass ', 'pool ', 'concrete ', 'tree ', 'grass ',\n",
       "       'concrete ', 'concrete ', 'car ', 'car ', 'grass ', 'shadow ',\n",
       "       'pool ', 'tree ', 'asphalt ', 'grass ', 'building ', 'building ',\n",
       "       'grass ', 'concrete ', 'asphalt ', 'asphalt ', 'concrete ',\n",
       "       'asphalt ', 'grass ', 'asphalt ', 'pool ', 'pool ', 'pool ',\n",
       "       'car ', 'grass ', 'concrete ', 'asphalt ', 'concrete ', 'asphalt ',\n",
       "       'building ', 'shadow ', 'shadow ', 'tree ', 'concrete ', 'car ',\n",
       "       'tree ', 'shadow ', 'concrete ', 'building ', 'concrete ', 'tree ',\n",
       "       'asphalt ', 'concrete ', 'grass ', 'tree ', 'tree ', 'car ',\n",
       "       'soil ', 'grass ', 'grass ', 'concrete '], dtype=object)"
      ]
     },
     "execution_count": 21,
     "metadata": {},
     "output_type": "execute_result"
    }
   ],
   "source": [
    "y_pred_svc_l = svc_l_gs.best_estimator_.predict(X_test_scaled)\n",
    "y_pred_svc_l"
   ]
  },
  {
   "cell_type": "markdown",
   "metadata": {},
   "source": [
    "d) Calculate the confusion matrix and classification report for test data."
   ]
  },
  {
   "cell_type": "code",
   "execution_count": 22,
   "metadata": {},
   "outputs": [
    {
     "data": {
      "text/plain": [
       "array([[13,  0,  0,  0,  0,  0,  1,  0,  0],\n",
       "       [ 0, 22,  0,  2,  1,  0,  0,  0,  0],\n",
       "       [ 0,  1, 14,  0,  0,  0,  0,  0,  0],\n",
       "       [ 0,  3,  0, 19,  0,  0,  0,  1,  0],\n",
       "       [ 0,  0,  0,  1, 25,  0,  0,  0,  3],\n",
       "       [ 0,  1,  0,  0,  0, 13,  1,  0,  0],\n",
       "       [ 3,  0,  0,  0,  0,  0, 13,  0,  0],\n",
       "       [ 0,  1,  0,  6,  3,  0,  0,  4,  0],\n",
       "       [ 0,  0,  0,  1,  0,  0,  0,  0, 16]], dtype=int64)"
      ]
     },
     "execution_count": 22,
     "metadata": {},
     "output_type": "execute_result"
    }
   ],
   "source": [
    "confusion_matrix(y_test, y_pred_svc_l)"
   ]
  },
  {
   "cell_type": "code",
   "execution_count": 23,
   "metadata": {},
   "outputs": [
    {
     "name": "stdout",
     "output_type": "stream",
     "text": [
      "              precision    recall  f1-score   support\n",
      "\n",
      "    asphalt        0.81      0.93      0.87        14\n",
      "   building        0.79      0.88      0.83        25\n",
      "        car        1.00      0.93      0.97        15\n",
      "   concrete        0.66      0.83      0.73        23\n",
      "      grass        0.86      0.86      0.86        29\n",
      "       pool        1.00      0.87      0.93        15\n",
      "     shadow        0.87      0.81      0.84        16\n",
      "       soil        0.80      0.29      0.42        14\n",
      "       tree        0.84      0.94      0.89        17\n",
      "\n",
      "    accuracy                           0.83       168\n",
      "   macro avg       0.85      0.82      0.81       168\n",
      "weighted avg       0.84      0.83      0.82       168\n",
      "\n"
     ]
    }
   ],
   "source": [
    "print(classification_report(y_test, y_pred_svc_l))"
   ]
  },
  {
   "cell_type": "markdown",
   "metadata": {},
   "source": [
    "e)  Calculate predictions for the training data & build the classification report & confusion matrix. Are there signs of overfitting? Why or why not?"
   ]
  },
  {
   "cell_type": "code",
   "execution_count": 24,
   "metadata": {},
   "outputs": [
    {
     "data": {
      "text/plain": [
       "array([[40,  0,  0,  0,  0,  0,  5,  0,  0],\n",
       "       [ 2, 87,  0,  7,  0,  0,  1,  0,  0],\n",
       "       [ 0,  1, 19,  1,  0,  0,  0,  0,  0],\n",
       "       [ 0,  9,  0, 83,  1,  0,  0,  0,  0],\n",
       "       [ 0,  1,  0,  0, 70,  0,  0,  0, 12],\n",
       "       [ 0,  1,  0,  0,  1, 12,  0,  0,  0],\n",
       "       [ 1,  0,  0,  0,  0,  0, 43,  0,  1],\n",
       "       [ 0,  3,  0,  4,  2,  0,  0, 11,  0],\n",
       "       [ 0,  0,  0,  0,  3,  0,  1,  0, 85]], dtype=int64)"
      ]
     },
     "execution_count": 24,
     "metadata": {},
     "output_type": "execute_result"
    }
   ],
   "source": [
    "y_pred_svc_l_train = svc_l_gs.best_estimator_.predict(X_train_scaled)\n",
    "confusion_matrix(y_train, y_pred_svc_l_train)"
   ]
  },
  {
   "cell_type": "code",
   "execution_count": 25,
   "metadata": {},
   "outputs": [
    {
     "name": "stdout",
     "output_type": "stream",
     "text": [
      "              precision    recall  f1-score   support\n",
      "\n",
      "    asphalt        0.93      0.89      0.91        45\n",
      "   building        0.85      0.90      0.87        97\n",
      "        car        1.00      0.90      0.95        21\n",
      "   concrete        0.87      0.89      0.88        93\n",
      "      grass        0.91      0.84      0.88        83\n",
      "       pool        1.00      0.86      0.92        14\n",
      "     shadow        0.86      0.96      0.91        45\n",
      "       soil        1.00      0.55      0.71        20\n",
      "       tree        0.87      0.96      0.91        89\n",
      "\n",
      "    accuracy                           0.89       507\n",
      "   macro avg       0.92      0.86      0.88       507\n",
      "weighted avg       0.89      0.89      0.89       507\n",
      "\n"
     ]
    }
   ],
   "source": [
    "print(classification_report(y_train, y_pred_svc_l_train))"
   ]
  },
  {
   "cell_type": "markdown",
   "metadata": {},
   "source": [
    "There isn't overfitting, while the model does perform better on the training set, it perfrms similarily on the test data"
   ]
  },
  {
   "cell_type": "markdown",
   "metadata": {},
   "source": [
    "## 5. Support Vector Machine Classifier + Polynomial Kernel + Grid Search:"
   ]
  },
  {
   "cell_type": "markdown",
   "metadata": {},
   "source": [
    "We will now use GridSearchCV to try various hyperparameters in a SVM with a polynomial kernel.<br>\n",
    "\n",
    "a) Use SVC from sklearn with kernel = \"poly\". Run the GridSearchCV using the following:\n",
    "\n",
    "C: 0.01 - 10 in increments of 0.2\n",
    "degree: 2, 3, 4, 5, 6\n",
    "\n",
    "Note: Feel free to try out more parameters, the above is the bare minimum for this assignment.\n",
    "\n",
    "Use 5 cross-fold and the default scoring."
   ]
  },
  {
   "cell_type": "code",
   "execution_count": 26,
   "metadata": {},
   "outputs": [
    {
     "data": {
      "text/plain": [
       "GridSearchCV(cv=5, estimator=SVC(kernel='poly', random_state=42),\n",
       "             param_grid={'C': array([0.01, 0.21, 0.41, 0.61, 0.81, 1.01, 1.21, 1.41, 1.61, 1.81, 2.01,\n",
       "       2.21, 2.41, 2.61, 2.81, 3.01, 3.21, 3.41, 3.61, 3.81, 4.01, 4.21,\n",
       "       4.41, 4.61, 4.81, 5.01, 5.21, 5.41, 5.61, 5.81, 6.01, 6.21, 6.41,\n",
       "       6.61, 6.81, 7.01, 7.21, 7.41, 7.61, 7.81, 8.01, 8.21, 8.41, 8.61,\n",
       "       8.81, 9.01, 9.21, 9.41, 9.61, 9.81]),\n",
       "                         'degree': [2, 3, 4, 5, 6]})"
      ]
     },
     "execution_count": 26,
     "metadata": {},
     "output_type": "execute_result"
    }
   ],
   "source": [
    "param_grid = {'C': np.arange(0.01, 10, 0.2), 'degree': [2, 3, 4, 5, 6]}\n",
    "svc_p = SVC(kernel='poly', random_state=42)\n",
    "svc_poly = GridSearchCV(svc_p, param_grid, cv=5, verbose=0)\n",
    "svc_poly.fit(X_train_scaled, y_train)"
   ]
  },
  {
   "cell_type": "markdown",
   "metadata": {},
   "source": [
    "b) Identify the best performing model:"
   ]
  },
  {
   "cell_type": "code",
   "execution_count": 27,
   "metadata": {},
   "outputs": [
    {
     "name": "stdout",
     "output_type": "stream",
     "text": [
      "SVC(C=3.81, kernel='poly', random_state=42) {'C': 3.81, 'degree': 3}\n"
     ]
    }
   ],
   "source": [
    "print(svc_poly.best_estimator_, svc_poly.best_params_)"
   ]
  },
  {
   "cell_type": "markdown",
   "metadata": {},
   "source": [
    "c) Use the best estimator model to predict on test data. Use the .predict() method to get the predicted classes."
   ]
  },
  {
   "cell_type": "code",
   "execution_count": 28,
   "metadata": {},
   "outputs": [
    {
     "data": {
      "text/plain": [
       "array(['soil ', 'concrete ', 'building ', 'concrete ', 'concrete ',\n",
       "       'grass ', 'car ', 'car ', 'building ', 'tree ', 'building ',\n",
       "       'asphalt ', 'building ', 'soil ', 'shadow ', 'building ', 'tree ',\n",
       "       'concrete ', 'building ', 'shadow ', 'pool ', 'asphalt ',\n",
       "       'concrete ', 'grass ', 'grass ', 'concrete ', 'grass ',\n",
       "       'building ', 'grass ', 'building ', 'asphalt ', 'shadow ',\n",
       "       'concrete ', 'grass ', 'tree ', 'concrete ', 'asphalt ',\n",
       "       'concrete ', 'grass ', 'concrete ', 'concrete ', 'tree ',\n",
       "       'building ', 'building ', 'building ', 'grass ', 'grass ',\n",
       "       'shadow ', 'grass ', 'grass ', 'shadow ', 'tree ', 'car ', 'car ',\n",
       "       'shadow ', 'pool ', 'building ', 'tree ', 'grass ', 'grass ',\n",
       "       'car ', 'car ', 'pool ', 'building ', 'grass ', 'grass ',\n",
       "       'building ', 'concrete ', 'building ', 'grass ', 'concrete ',\n",
       "       'building ', 'shadow ', 'pool ', 'pool ', 'shadow ', 'building ',\n",
       "       'grass ', 'shadow ', 'building ', 'building ', 'pool ',\n",
       "       'building ', 'building ', 'concrete ', 'shadow ', 'concrete ',\n",
       "       'grass ', 'asphalt ', 'grass ', 'grass ', 'grass ', 'concrete ',\n",
       "       'concrete ', 'concrete ', 'grass ', 'pool ', 'car ', 'shadow ',\n",
       "       'tree ', 'grass ', 'asphalt ', 'grass ', 'car ', 'tree ',\n",
       "       'asphalt ', 'grass ', 'grass ', 'concrete ', 'grass ', 'asphalt ',\n",
       "       'grass ', 'grass ', 'pool ', 'concrete ', 'tree ', 'grass ',\n",
       "       'concrete ', 'concrete ', 'car ', 'car ', 'grass ', 'shadow ',\n",
       "       'building ', 'tree ', 'tree ', 'grass ', 'building ', 'building ',\n",
       "       'grass ', 'concrete ', 'asphalt ', 'asphalt ', 'concrete ',\n",
       "       'asphalt ', 'grass ', 'shadow ', 'pool ', 'building ', 'pool ',\n",
       "       'building ', 'grass ', 'grass ', 'asphalt ', 'concrete ',\n",
       "       'asphalt ', 'building ', 'shadow ', 'shadow ', 'tree ', 'grass ',\n",
       "       'pool ', 'tree ', 'shadow ', 'concrete ', 'building ', 'concrete ',\n",
       "       'tree ', 'asphalt ', 'concrete ', 'grass ', 'tree ', 'tree ',\n",
       "       'car ', 'grass ', 'grass ', 'grass ', 'concrete '], dtype=object)"
      ]
     },
     "execution_count": 28,
     "metadata": {},
     "output_type": "execute_result"
    }
   ],
   "source": [
    "y_pred_poly = svc_poly.best_estimator_.predict(X_test_scaled)\n",
    "y_pred_poly"
   ]
  },
  {
   "cell_type": "markdown",
   "metadata": {},
   "source": [
    "d) Calculate the confusion matrix and classification report for test data."
   ]
  },
  {
   "cell_type": "code",
   "execution_count": 29,
   "metadata": {},
   "outputs": [
    {
     "data": {
      "text/plain": [
       "array([[13,  0,  0,  0,  0,  0,  1,  0,  0],\n",
       "       [ 0, 18,  0,  4,  3,  0,  0,  0,  0],\n",
       "       [ 0,  2, 11,  0,  0,  1,  0,  1,  0],\n",
       "       [ 0,  3,  0, 19,  1,  0,  0,  0,  0],\n",
       "       [ 0,  0,  0,  0, 26,  0,  0,  1,  2],\n",
       "       [ 0,  4,  0,  0,  0, 10,  1,  0,  0],\n",
       "       [ 1,  0,  0,  0,  0,  0, 14,  0,  1],\n",
       "       [ 0,  1,  0,  5,  8,  0,  0,  0,  0],\n",
       "       [ 0,  0,  0,  1,  3,  0,  0,  0, 13]], dtype=int64)"
      ]
     },
     "execution_count": 29,
     "metadata": {},
     "output_type": "execute_result"
    }
   ],
   "source": [
    "confusion_matrix(y_test, y_pred_poly)"
   ]
  },
  {
   "cell_type": "code",
   "execution_count": 30,
   "metadata": {},
   "outputs": [
    {
     "name": "stdout",
     "output_type": "stream",
     "text": [
      "              precision    recall  f1-score   support\n",
      "\n",
      "    asphalt        0.93      0.93      0.93        14\n",
      "   building        0.64      0.72      0.68        25\n",
      "        car        1.00      0.73      0.85        15\n",
      "   concrete        0.66      0.83      0.73        23\n",
      "      grass        0.63      0.90      0.74        29\n",
      "       pool        0.91      0.67      0.77        15\n",
      "     shadow        0.88      0.88      0.88        16\n",
      "       soil        0.00      0.00      0.00        14\n",
      "       tree        0.81      0.76      0.79        17\n",
      "\n",
      "    accuracy                           0.74       168\n",
      "   macro avg       0.72      0.71      0.71       168\n",
      "weighted avg       0.71      0.74      0.71       168\n",
      "\n"
     ]
    }
   ],
   "source": [
    "print(classification_report(y_test, y_pred_poly))"
   ]
  },
  {
   "cell_type": "markdown",
   "metadata": {},
   "source": [
    "e)  Calculate predictions for the training data & build the classification report & confusion matrix. Are there signs of overfitting? Why or why not?"
   ]
  },
  {
   "cell_type": "code",
   "execution_count": 31,
   "metadata": {},
   "outputs": [
    {
     "data": {
      "text/plain": [
       "array([[44,  0,  0,  0,  1,  0,  0,  0,  0],\n",
       "       [ 0, 95,  0,  1,  1,  0,  0,  0,  0],\n",
       "       [ 0,  0, 20,  0,  1,  0,  0,  0,  0],\n",
       "       [ 0,  1,  0, 91,  1,  0,  0,  0,  0],\n",
       "       [ 0,  1,  0,  0, 81,  0,  0,  0,  1],\n",
       "       [ 0,  0,  0,  0,  1, 13,  0,  0,  0],\n",
       "       [ 0,  0,  0,  0,  0,  0, 45,  0,  0],\n",
       "       [ 0,  0,  0,  0, 11,  0,  0,  9,  0],\n",
       "       [ 0,  0,  0,  0,  5,  0,  0,  0, 84]], dtype=int64)"
      ]
     },
     "execution_count": 31,
     "metadata": {},
     "output_type": "execute_result"
    }
   ],
   "source": [
    "y_pred_train_poly = svc_poly.best_estimator_.predict(X_train_scaled)\n",
    "confusion_matrix(y_train, y_pred_train_poly)"
   ]
  },
  {
   "cell_type": "code",
   "execution_count": 32,
   "metadata": {},
   "outputs": [
    {
     "name": "stdout",
     "output_type": "stream",
     "text": [
      "              precision    recall  f1-score   support\n",
      "\n",
      "    asphalt        1.00      0.98      0.99        45\n",
      "   building        0.98      0.98      0.98        97\n",
      "        car        1.00      0.95      0.98        21\n",
      "   concrete        0.99      0.98      0.98        93\n",
      "      grass        0.79      0.98      0.88        83\n",
      "       pool        1.00      0.93      0.96        14\n",
      "     shadow        1.00      1.00      1.00        45\n",
      "       soil        1.00      0.45      0.62        20\n",
      "       tree        0.99      0.94      0.97        89\n",
      "\n",
      "    accuracy                           0.95       507\n",
      "   macro avg       0.97      0.91      0.93       507\n",
      "weighted avg       0.96      0.95      0.95       507\n",
      "\n"
     ]
    }
   ],
   "source": [
    "print(classification_report(y_train, y_pred_train_poly))"
   ]
  },
  {
   "cell_type": "markdown",
   "metadata": {},
   "source": [
    "There are signs of overfitting as it can be seen that the precision, recall and f1-scores are much better for the train data than the test data."
   ]
  },
  {
   "cell_type": "markdown",
   "metadata": {},
   "source": [
    "## 6. Support Vector Machine Classifier + RBF Kernel + Grid Search:"
   ]
  },
  {
   "cell_type": "markdown",
   "metadata": {},
   "source": [
    "We will now use GridSearchCV to try various hyperparameters in a SVM with a RBF kernel.<br>\n",
    "\n",
    "a) Use SVC from sklearn with kernel = \"rbf\". Run the GridSearchCV using the following:\n",
    "\n",
    "C: 0.01 - 10 in increments of 0.2\n",
    "gamma: 0.01,  0.1, 1, 10, 100\n",
    "\n",
    "Note: Feel free to try out more parameters, the above is the bare minimum for this assignment.\n",
    "\n",
    "Use 5 cross-fold and the default scoring."
   ]
  },
  {
   "cell_type": "code",
   "execution_count": 33,
   "metadata": {},
   "outputs": [
    {
     "data": {
      "text/plain": [
       "GridSearchCV(cv=5, estimator=SVC(random_state=42),\n",
       "             param_grid={'C': array([0.01, 0.21, 0.41, 0.61, 0.81, 1.01, 1.21, 1.41, 1.61, 1.81, 2.01,\n",
       "       2.21, 2.41, 2.61, 2.81, 3.01, 3.21, 3.41, 3.61, 3.81, 4.01, 4.21,\n",
       "       4.41, 4.61, 4.81, 5.01, 5.21, 5.41, 5.61, 5.81, 6.01, 6.21, 6.41,\n",
       "       6.61, 6.81, 7.01, 7.21, 7.41, 7.61, 7.81, 8.01, 8.21, 8.41, 8.61,\n",
       "       8.81, 9.01, 9.21, 9.41, 9.61, 9.81]),\n",
       "                         'gamma': [0.01, 0.1, 1, 10, 100]})"
      ]
     },
     "execution_count": 33,
     "metadata": {},
     "output_type": "execute_result"
    }
   ],
   "source": [
    "param_grid = {'C': np.arange(0.01, 10, 0.2), 'gamma': [0.01, 0.1, 1, 10, 100]}\n",
    "svc_r = SVC(kernel='rbf', random_state=42)\n",
    "svc_rbf = GridSearchCV(svc_r, param_grid, cv=5, verbose=0)\n",
    "svc_rbf.fit(X_train_scaled, y_train)"
   ]
  },
  {
   "cell_type": "markdown",
   "metadata": {},
   "source": [
    "b) Identify the best performing model:"
   ]
  },
  {
   "cell_type": "code",
   "execution_count": 34,
   "metadata": {},
   "outputs": [
    {
     "name": "stdout",
     "output_type": "stream",
     "text": [
      "SVC(C=2.81, gamma=0.01, random_state=42) {'C': 2.81, 'gamma': 0.01}\n"
     ]
    }
   ],
   "source": [
    "print(svc_rbf.best_estimator_, svc_rbf.best_params_)"
   ]
  },
  {
   "cell_type": "markdown",
   "metadata": {},
   "source": [
    "c) Use the best estimator model to predict on test data. Use the .predict() method to get the predicted classes."
   ]
  },
  {
   "cell_type": "code",
   "execution_count": 35,
   "metadata": {},
   "outputs": [
    {
     "data": {
      "text/plain": [
       "array(['car ', 'concrete ', 'building ', 'concrete ', 'concrete ',\n",
       "       'tree ', 'car ', 'car ', 'building ', 'tree ', 'building ',\n",
       "       'asphalt ', 'building ', 'building ', 'shadow ', 'building ',\n",
       "       'tree ', 'concrete ', 'building ', 'shadow ', 'pool ', 'asphalt ',\n",
       "       'concrete ', 'tree ', 'grass ', 'concrete ', 'grass ', 'building ',\n",
       "       'building ', 'building ', 'asphalt ', 'shadow ', 'concrete ',\n",
       "       'grass ', 'tree ', 'concrete ', 'asphalt ', 'concrete ', 'tree ',\n",
       "       'concrete ', 'concrete ', 'tree ', 'building ', 'building ',\n",
       "       'building ', 'grass ', 'grass ', 'shadow ', 'soil ', 'soil ',\n",
       "       'shadow ', 'tree ', 'car ', 'car ', 'shadow ', 'pool ',\n",
       "       'building ', 'tree ', 'grass ', 'grass ', 'car ', 'car ', 'pool ',\n",
       "       'car ', 'soil ', 'grass ', 'building ', 'concrete ', 'building ',\n",
       "       'soil ', 'concrete ', 'building ', 'shadow ', 'pool ', 'pool ',\n",
       "       'concrete ', 'building ', 'grass ', 'shadow ', 'building ',\n",
       "       'pool ', 'pool ', 'building ', 'building ', 'concrete ', 'shadow ',\n",
       "       'concrete ', 'grass ', 'asphalt ', 'grass ', 'grass ', 'grass ',\n",
       "       'concrete ', 'concrete ', 'concrete ', 'grass ', 'pool ', 'car ',\n",
       "       'shadow ', 'tree ', 'grass ', 'asphalt ', 'tree ', 'car ', 'tree ',\n",
       "       'asphalt ', 'grass ', 'building ', 'concrete ', 'grass ',\n",
       "       'asphalt ', 'grass ', 'grass ', 'pool ', 'concrete ', 'tree ',\n",
       "       'grass ', 'concrete ', 'concrete ', 'car ', 'concrete ', 'tree ',\n",
       "       'shadow ', 'pool ', 'tree ', 'shadow ', 'grass ', 'pool ',\n",
       "       'building ', 'grass ', 'concrete ', 'asphalt ', 'asphalt ',\n",
       "       'concrete ', 'asphalt ', 'grass ', 'shadow ', 'pool ', 'pool ',\n",
       "       'pool ', 'car ', 'grass ', 'concrete ', 'asphalt ', 'concrete ',\n",
       "       'asphalt ', 'building ', 'shadow ', 'shadow ', 'tree ', 'grass ',\n",
       "       'car ', 'tree ', 'shadow ', 'concrete ', 'concrete ', 'concrete ',\n",
       "       'tree ', 'asphalt ', 'concrete ', 'grass ', 'tree ', 'tree ',\n",
       "       'car ', 'soil ', 'grass ', 'grass ', 'concrete '], dtype=object)"
      ]
     },
     "execution_count": 35,
     "metadata": {},
     "output_type": "execute_result"
    }
   ],
   "source": [
    "y_pred_rbf = svc_rbf.best_estimator_.predict(X_test_scaled)\n",
    "y_pred_rbf"
   ]
  },
  {
   "cell_type": "markdown",
   "metadata": {},
   "source": [
    "d) Calculate the confusion matrix and classification report for test data."
   ]
  },
  {
   "cell_type": "code",
   "execution_count": 36,
   "metadata": {},
   "outputs": [
    {
     "data": {
      "text/plain": [
       "array([[13,  0,  0,  0,  0,  0,  1,  0,  0],\n",
       "       [ 0, 19,  0,  5,  1,  0,  0,  0,  0],\n",
       "       [ 0,  0, 14,  1,  0,  0,  0,  0,  0],\n",
       "       [ 0,  3,  0, 20,  0,  0,  0,  0,  0],\n",
       "       [ 0,  1,  0,  0, 24,  0,  0,  0,  4],\n",
       "       [ 0,  0,  0,  0,  0, 14,  1,  0,  0],\n",
       "       [ 1,  0,  0,  1,  0,  0, 14,  0,  0],\n",
       "       [ 0,  1,  0,  5,  3,  0,  0,  5,  0],\n",
       "       [ 0,  0,  0,  1,  0,  0,  0,  0, 16]], dtype=int64)"
      ]
     },
     "execution_count": 36,
     "metadata": {},
     "output_type": "execute_result"
    }
   ],
   "source": [
    "confusion_matrix(y_test, y_pred_rbf)"
   ]
  },
  {
   "cell_type": "code",
   "execution_count": 37,
   "metadata": {},
   "outputs": [
    {
     "name": "stdout",
     "output_type": "stream",
     "text": [
      "              precision    recall  f1-score   support\n",
      "\n",
      "    asphalt        0.93      0.93      0.93        14\n",
      "   building        0.79      0.76      0.78        25\n",
      "        car        1.00      0.93      0.97        15\n",
      "   concrete        0.61      0.87      0.71        23\n",
      "      grass        0.86      0.83      0.84        29\n",
      "       pool        1.00      0.93      0.97        15\n",
      "     shadow        0.88      0.88      0.88        16\n",
      "       soil        1.00      0.36      0.53        14\n",
      "       tree        0.80      0.94      0.86        17\n",
      "\n",
      "    accuracy                           0.83       168\n",
      "   macro avg       0.87      0.83      0.83       168\n",
      "weighted avg       0.85      0.83      0.82       168\n",
      "\n"
     ]
    }
   ],
   "source": [
    "print(classification_report(y_test, y_pred_rbf))"
   ]
  },
  {
   "cell_type": "markdown",
   "metadata": {},
   "source": [
    "e)  Calculate predictions for the training data & build the classification report & confusion matrix. Are there signs of overfitting? Why or why not?"
   ]
  },
  {
   "cell_type": "code",
   "execution_count": 38,
   "metadata": {},
   "outputs": [
    {
     "data": {
      "text/plain": [
       "array([[45,  0,  0,  0,  0,  0,  0,  0,  0],\n",
       "       [ 0, 96,  0,  1,  0,  0,  0,  0,  0],\n",
       "       [ 0,  0, 21,  0,  0,  0,  0,  0,  0],\n",
       "       [ 0,  1,  0, 92,  0,  0,  0,  0,  0],\n",
       "       [ 0,  1,  0,  0, 81,  0,  0,  0,  1],\n",
       "       [ 0,  0,  0,  0,  0, 14,  0,  0,  0],\n",
       "       [ 0,  0,  0,  0,  0,  0, 45,  0,  0],\n",
       "       [ 0,  1,  0,  0,  0,  0,  0, 19,  0],\n",
       "       [ 0,  0,  0,  0,  1,  0,  0,  0, 88]], dtype=int64)"
      ]
     },
     "execution_count": 38,
     "metadata": {},
     "output_type": "execute_result"
    }
   ],
   "source": [
    "y_pred_train_rbf = svc_rbf.best_estimator_.predict(X_train_scaled)\n",
    "confusion_matrix(y_train, y_pred_train_rbf)"
   ]
  },
  {
   "cell_type": "code",
   "execution_count": 39,
   "metadata": {},
   "outputs": [
    {
     "name": "stdout",
     "output_type": "stream",
     "text": [
      "              precision    recall  f1-score   support\n",
      "\n",
      "    asphalt        1.00      1.00      1.00        45\n",
      "   building        0.97      0.99      0.98        97\n",
      "        car        1.00      1.00      1.00        21\n",
      "   concrete        0.99      0.99      0.99        93\n",
      "      grass        0.99      0.98      0.98        83\n",
      "       pool        1.00      1.00      1.00        14\n",
      "     shadow        1.00      1.00      1.00        45\n",
      "       soil        1.00      0.95      0.97        20\n",
      "       tree        0.99      0.99      0.99        89\n",
      "\n",
      "    accuracy                           0.99       507\n",
      "   macro avg       0.99      0.99      0.99       507\n",
      "weighted avg       0.99      0.99      0.99       507\n",
      "\n"
     ]
    }
   ],
   "source": [
    "print(classification_report(y_train, y_pred_train_rbf))"
   ]
  },
  {
   "cell_type": "markdown",
   "metadata": {},
   "source": [
    "There are signs of overfitting as it can be seen that while the precision and recall are high in the train data, it is drastically different for in the test data as seen in the classes concrete and building."
   ]
  },
  {
   "cell_type": "markdown",
   "metadata": {},
   "source": [
    "## 7. Conceptual Questions:"
   ]
  },
  {
   "cell_type": "markdown",
   "metadata": {},
   "source": [
    "a) From the models run in steps 2-6, which performs the best based on the Classification Report? Support your reasoning with evidence around your test data.<br>\n",
    "Based on the classification report, I believe SVM with Linear Kernel is the best as it's precision and recall are the best values and there is no overfitting in the data."
   ]
  },
  {
   "cell_type": "markdown",
   "metadata": {},
   "source": [
    "b) Compare models run for steps 4-6 where different kernels were used. What is the benefit of using a polynomial or rbf kernel over a linear kernel? What could be a downside of using a polynomial or rbf kernel? <br>\n",
    "- The benefit of using a polynomial or RBF kernel over a linear kernel is that these kernels can capture non-linear relationships between the features and can result in higher accuracy on complex datasets where the decision boundary is non-linear.\n",
    "- The downside of using a polynomial or RBF kernel is that they can be more computationally intensive than a linear kernel and may require more tuning of the hyperparameters. \n",
    "    - The polynomial kernel can be sensitive to the choice of degree and can result in overfitting if the degree is too high. \n",
    "    - Similarly, the RBF kernel can be sensitive to the choice of the gamma hyperparameter, which controls the shape of the decision boundary, and can result in overfitting if gamma is too small or too large."
   ]
  },
  {
   "cell_type": "markdown",
   "metadata": {},
   "source": [
    "c) Explain the 'C' parameter used in steps 4-6. What does a small C mean versus a large C in sklearn? Why is it important to use the 'C' parameter when fitting a model?<br>\n",
    "The 'C' parameter used in steps 4-6 is the regularizaton parameter. The strength of the regularization is inversely proportional to C. It determines the penalty which is a squared l2 penalty for misclassifications of training data. \n",
    "- A small C value means that the model is less sensitive to misclassifications in the training data, which can result in a more generalizable model that performs better on new, unseen data. \n",
    "- A large C value means that the model is more sensitive to misclassifications in the training data and may result in a model that overfits the training data and does not generalize well to new data.\n",
    "As explained in the above two points, it is important to use the C parameter when fitting an SVM model because it controls the trade-off between overfitting and underfitting."
   ]
  },
  {
   "cell_type": "markdown",
   "metadata": {},
   "source": [
    "d) Scaling our input data does not matter much for Random Forest, but it is a critical step for Support Vector Machines. Explain why this is such a critical step. Also, provide an example of a feature from this data set that could cause issues with our SVMs if not scaled.<br>\n",
    "Scaling the input data is critical for SVMs but not for Random Forest because SVMs are sensitive to the scale of the input features. SVMs aim to find the decision boundary that maximizes the margin between the support vectors and the decision boundary, and if the features are on different scales, the decision boundary may be influenced more by features with larger scales than features with smaller scales. On the other hand, Random Forest makes no assumptions about the distribution of the input features and is less sensitive to differences in scale between features.<br>\n",
    "An example of a feature from the dataset used in this notebook that could cause issues with SVMs if not scaled is the 'Area' feature, which measures the area of the land in meters. The range of this feature is much larger than the other features like Rect_100, NDVI_100, etc in the dataset. If we do not scale the data, the SVM algorithm may give more weight to the Area feature when constructing the decision boundary, even though other features may be more important predictors of the outcome variable. This can result in a biased model that does not accurately reflect the relationship between the input and target variable."
   ]
  },
  {
   "cell_type": "code",
   "execution_count": 40,
   "metadata": {},
   "outputs": [
    {
     "data": {
      "text/html": [
       "<div>\n",
       "<style scoped>\n",
       "    .dataframe tbody tr th:only-of-type {\n",
       "        vertical-align: middle;\n",
       "    }\n",
       "\n",
       "    .dataframe tbody tr th {\n",
       "        vertical-align: top;\n",
       "    }\n",
       "\n",
       "    .dataframe thead th {\n",
       "        text-align: right;\n",
       "    }\n",
       "</style>\n",
       "<table border=\"1\" class=\"dataframe\">\n",
       "  <thead>\n",
       "    <tr style=\"text-align: right;\">\n",
       "      <th></th>\n",
       "      <th>class</th>\n",
       "      <th>BrdIndx</th>\n",
       "      <th>Area</th>\n",
       "      <th>Round</th>\n",
       "      <th>Bright</th>\n",
       "      <th>Compact</th>\n",
       "      <th>ShpIndx</th>\n",
       "      <th>Mean_G</th>\n",
       "      <th>Mean_R</th>\n",
       "      <th>Mean_NIR</th>\n",
       "      <th>SD_G</th>\n",
       "      <th>SD_R</th>\n",
       "      <th>SD_NIR</th>\n",
       "      <th>LW</th>\n",
       "      <th>GLCM1</th>\n",
       "      <th>Rect</th>\n",
       "      <th>GLCM2</th>\n",
       "      <th>Dens</th>\n",
       "      <th>Assym</th>\n",
       "      <th>NDVI</th>\n",
       "      <th>BordLngth</th>\n",
       "      <th>GLCM3</th>\n",
       "      <th>BrdIndx_40</th>\n",
       "      <th>Area_40</th>\n",
       "      <th>Round_40</th>\n",
       "      <th>Bright_40</th>\n",
       "      <th>Compact_40</th>\n",
       "      <th>ShpIndx_40</th>\n",
       "      <th>Mean_G_40</th>\n",
       "      <th>Mean_R_40</th>\n",
       "      <th>Mean_NIR_40</th>\n",
       "      <th>SD_G_40</th>\n",
       "      <th>SD_R_40</th>\n",
       "      <th>SD_NIR_40</th>\n",
       "      <th>LW_40</th>\n",
       "      <th>GLCM1_40</th>\n",
       "      <th>Rect_40</th>\n",
       "      <th>GLCM2_40</th>\n",
       "      <th>Dens_40</th>\n",
       "      <th>Assym_40</th>\n",
       "      <th>NDVI_40</th>\n",
       "      <th>BordLngth_40</th>\n",
       "      <th>GLCM3_40</th>\n",
       "      <th>BrdIndx_60</th>\n",
       "      <th>Area_60</th>\n",
       "      <th>Round_60</th>\n",
       "      <th>Bright_60</th>\n",
       "      <th>Compact_60</th>\n",
       "      <th>ShpIndx_60</th>\n",
       "      <th>Mean_G_60</th>\n",
       "      <th>Mean_R_60</th>\n",
       "      <th>Mean_NIR_60</th>\n",
       "      <th>SD_G_60</th>\n",
       "      <th>SD_R_60</th>\n",
       "      <th>SD_NIR_60</th>\n",
       "      <th>LW_60</th>\n",
       "      <th>GLCM1_60</th>\n",
       "      <th>Rect_60</th>\n",
       "      <th>GLCM2_60</th>\n",
       "      <th>Dens_60</th>\n",
       "      <th>Assym_60</th>\n",
       "      <th>NDVI_60</th>\n",
       "      <th>BordLngth_60</th>\n",
       "      <th>GLCM3_60</th>\n",
       "      <th>BrdIndx_80</th>\n",
       "      <th>Area_80</th>\n",
       "      <th>Round_80</th>\n",
       "      <th>Bright_80</th>\n",
       "      <th>Compact_80</th>\n",
       "      <th>ShpIndx_80</th>\n",
       "      <th>Mean_G_80</th>\n",
       "      <th>Mean_R_80</th>\n",
       "      <th>Mean_NIR_80</th>\n",
       "      <th>SD_G_80</th>\n",
       "      <th>SD_R_80</th>\n",
       "      <th>SD_NIR_80</th>\n",
       "      <th>LW_80</th>\n",
       "      <th>GLCM1_80</th>\n",
       "      <th>Rect_80</th>\n",
       "      <th>GLCM2_80</th>\n",
       "      <th>Dens_80</th>\n",
       "      <th>Assym_80</th>\n",
       "      <th>NDVI_80</th>\n",
       "      <th>BordLngth_80</th>\n",
       "      <th>GLCM3_80</th>\n",
       "      <th>BrdIndx_100</th>\n",
       "      <th>Area_100</th>\n",
       "      <th>Round_100</th>\n",
       "      <th>Bright_100</th>\n",
       "      <th>Compact_100</th>\n",
       "      <th>ShpIndx_100</th>\n",
       "      <th>Mean_G_100</th>\n",
       "      <th>Mean_R_100</th>\n",
       "      <th>Mean_NIR_100</th>\n",
       "      <th>SD_G_100</th>\n",
       "      <th>SD_R_100</th>\n",
       "      <th>SD_NIR_100</th>\n",
       "      <th>LW_100</th>\n",
       "      <th>GLCM1_100</th>\n",
       "      <th>Rect_100</th>\n",
       "      <th>GLCM2_100</th>\n",
       "      <th>Dens_100</th>\n",
       "      <th>Assym_100</th>\n",
       "      <th>NDVI_100</th>\n",
       "      <th>BordLngth_100</th>\n",
       "      <th>GLCM3_100</th>\n",
       "      <th>BrdIndx_120</th>\n",
       "      <th>Area_120</th>\n",
       "      <th>Round_120</th>\n",
       "      <th>Bright_120</th>\n",
       "      <th>Compact_120</th>\n",
       "      <th>ShpIndx_120</th>\n",
       "      <th>Mean_G_120</th>\n",
       "      <th>Mean_R_120</th>\n",
       "      <th>Mean_NIR_120</th>\n",
       "      <th>SD_G_120</th>\n",
       "      <th>SD_R_120</th>\n",
       "      <th>SD_NIR_120</th>\n",
       "      <th>LW_120</th>\n",
       "      <th>GLCM1_120</th>\n",
       "      <th>Rect_120</th>\n",
       "      <th>GLCM2_120</th>\n",
       "      <th>Dens_120</th>\n",
       "      <th>Assym_120</th>\n",
       "      <th>NDVI_120</th>\n",
       "      <th>BordLngth_120</th>\n",
       "      <th>GLCM3_120</th>\n",
       "      <th>BrdIndx_140</th>\n",
       "      <th>Area_140</th>\n",
       "      <th>Round_140</th>\n",
       "      <th>Bright_140</th>\n",
       "      <th>Compact_140</th>\n",
       "      <th>ShpIndx_140</th>\n",
       "      <th>Mean_G_140</th>\n",
       "      <th>Mean_R_140</th>\n",
       "      <th>Mean_NIR_140</th>\n",
       "      <th>SD_G_140</th>\n",
       "      <th>SD_R_140</th>\n",
       "      <th>SD_NIR_140</th>\n",
       "      <th>LW_140</th>\n",
       "      <th>GLCM1_140</th>\n",
       "      <th>Rect_140</th>\n",
       "      <th>GLCM2_140</th>\n",
       "      <th>Dens_140</th>\n",
       "      <th>Assym_140</th>\n",
       "      <th>NDVI_140</th>\n",
       "      <th>BordLngth_140</th>\n",
       "      <th>GLCM3_140</th>\n",
       "    </tr>\n",
       "  </thead>\n",
       "  <tbody>\n",
       "    <tr>\n",
       "      <th>0</th>\n",
       "      <td>concrete</td>\n",
       "      <td>1.32</td>\n",
       "      <td>131</td>\n",
       "      <td>0.81</td>\n",
       "      <td>222.74</td>\n",
       "      <td>1.66</td>\n",
       "      <td>2.18</td>\n",
       "      <td>192.94</td>\n",
       "      <td>235.11</td>\n",
       "      <td>240.15</td>\n",
       "      <td>11.24</td>\n",
       "      <td>11.47</td>\n",
       "      <td>11.24</td>\n",
       "      <td>8.18</td>\n",
       "      <td>0.43</td>\n",
       "      <td>0.78</td>\n",
       "      <td>6.64</td>\n",
       "      <td>0.87</td>\n",
       "      <td>0.99</td>\n",
       "      <td>-0.10</td>\n",
       "      <td>100</td>\n",
       "      <td>4322.47</td>\n",
       "      <td>1.32</td>\n",
       "      <td>131</td>\n",
       "      <td>0.81</td>\n",
       "      <td>222.74</td>\n",
       "      <td>1.66</td>\n",
       "      <td>2.18</td>\n",
       "      <td>192.94</td>\n",
       "      <td>235.11</td>\n",
       "      <td>240.15</td>\n",
       "      <td>11.24</td>\n",
       "      <td>11.47</td>\n",
       "      <td>11.24</td>\n",
       "      <td>8.18</td>\n",
       "      <td>0.43</td>\n",
       "      <td>0.78</td>\n",
       "      <td>6.64</td>\n",
       "      <td>0.87</td>\n",
       "      <td>0.99</td>\n",
       "      <td>-0.10</td>\n",
       "      <td>100</td>\n",
       "      <td>4322.47</td>\n",
       "      <td>1.19</td>\n",
       "      <td>452</td>\n",
       "      <td>0.49</td>\n",
       "      <td>196.82</td>\n",
       "      <td>1.27</td>\n",
       "      <td>1.46</td>\n",
       "      <td>169.60</td>\n",
       "      <td>208.71</td>\n",
       "      <td>212.17</td>\n",
       "      <td>18.48</td>\n",
       "      <td>20.90</td>\n",
       "      <td>22.09</td>\n",
       "      <td>3.47</td>\n",
       "      <td>0.71</td>\n",
       "      <td>0.92</td>\n",
       "      <td>7.44</td>\n",
       "      <td>1.56</td>\n",
       "      <td>0.87</td>\n",
       "      <td>-0.10</td>\n",
       "      <td>124</td>\n",
       "      <td>2271.21</td>\n",
       "      <td>3.65</td>\n",
       "      <td>1522</td>\n",
       "      <td>2.70</td>\n",
       "      <td>181.04</td>\n",
       "      <td>5.48</td>\n",
       "      <td>3.69</td>\n",
       "      <td>155.76</td>\n",
       "      <td>192.34</td>\n",
       "      <td>195.03</td>\n",
       "      <td>34.93</td>\n",
       "      <td>39.49</td>\n",
       "      <td>39.17</td>\n",
       "      <td>1.13</td>\n",
       "      <td>0.73</td>\n",
       "      <td>0.28</td>\n",
       "      <td>8.40</td>\n",
       "      <td>1.21</td>\n",
       "      <td>0.23</td>\n",
       "      <td>-0.11</td>\n",
       "      <td>576</td>\n",
       "      <td>1789.91</td>\n",
       "      <td>3.65</td>\n",
       "      <td>1522</td>\n",
       "      <td>2.70</td>\n",
       "      <td>181.04</td>\n",
       "      <td>5.48</td>\n",
       "      <td>3.69</td>\n",
       "      <td>155.76</td>\n",
       "      <td>192.34</td>\n",
       "      <td>195.03</td>\n",
       "      <td>34.93</td>\n",
       "      <td>39.49</td>\n",
       "      <td>39.17</td>\n",
       "      <td>1.13</td>\n",
       "      <td>0.73</td>\n",
       "      <td>0.28</td>\n",
       "      <td>8.40</td>\n",
       "      <td>1.21</td>\n",
       "      <td>0.23</td>\n",
       "      <td>-0.11</td>\n",
       "      <td>576</td>\n",
       "      <td>1789.91</td>\n",
       "      <td>2.75</td>\n",
       "      <td>7618</td>\n",
       "      <td>2.43</td>\n",
       "      <td>189.73</td>\n",
       "      <td>3.62</td>\n",
       "      <td>3.40</td>\n",
       "      <td>163.61</td>\n",
       "      <td>201.29</td>\n",
       "      <td>204.28</td>\n",
       "      <td>25.25</td>\n",
       "      <td>28.33</td>\n",
       "      <td>28.30</td>\n",
       "      <td>3.82</td>\n",
       "      <td>0.79</td>\n",
       "      <td>0.57</td>\n",
       "      <td>8.35</td>\n",
       "      <td>0.96</td>\n",
       "      <td>0.96</td>\n",
       "      <td>-0.10</td>\n",
       "      <td>1188</td>\n",
       "      <td>1298.99</td>\n",
       "      <td>2.93</td>\n",
       "      <td>9172</td>\n",
       "      <td>2.50</td>\n",
       "      <td>185.14</td>\n",
       "      <td>3.94</td>\n",
       "      <td>3.95</td>\n",
       "      <td>159.45</td>\n",
       "      <td>196.43</td>\n",
       "      <td>199.53</td>\n",
       "      <td>27.81</td>\n",
       "      <td>31.55</td>\n",
       "      <td>31.15</td>\n",
       "      <td>5.04</td>\n",
       "      <td>0.80</td>\n",
       "      <td>0.58</td>\n",
       "      <td>8.56</td>\n",
       "      <td>0.82</td>\n",
       "      <td>0.98</td>\n",
       "      <td>-0.10</td>\n",
       "      <td>1512</td>\n",
       "      <td>1287.52</td>\n",
       "    </tr>\n",
       "    <tr>\n",
       "      <th>1</th>\n",
       "      <td>shadow</td>\n",
       "      <td>1.59</td>\n",
       "      <td>864</td>\n",
       "      <td>0.94</td>\n",
       "      <td>47.56</td>\n",
       "      <td>1.41</td>\n",
       "      <td>1.87</td>\n",
       "      <td>36.82</td>\n",
       "      <td>48.78</td>\n",
       "      <td>57.09</td>\n",
       "      <td>8.15</td>\n",
       "      <td>8.02</td>\n",
       "      <td>8.36</td>\n",
       "      <td>3.05</td>\n",
       "      <td>0.43</td>\n",
       "      <td>0.85</td>\n",
       "      <td>6.75</td>\n",
       "      <td>1.81</td>\n",
       "      <td>0.73</td>\n",
       "      <td>-0.14</td>\n",
       "      <td>220</td>\n",
       "      <td>3331.33</td>\n",
       "      <td>1.08</td>\n",
       "      <td>1353</td>\n",
       "      <td>0.46</td>\n",
       "      <td>49.12</td>\n",
       "      <td>1.09</td>\n",
       "      <td>1.33</td>\n",
       "      <td>38.29</td>\n",
       "      <td>50.40</td>\n",
       "      <td>58.67</td>\n",
       "      <td>8.84</td>\n",
       "      <td>9.97</td>\n",
       "      <td>10.55</td>\n",
       "      <td>3.70</td>\n",
       "      <td>0.51</td>\n",
       "      <td>0.96</td>\n",
       "      <td>6.96</td>\n",
       "      <td>1.67</td>\n",
       "      <td>0.86</td>\n",
       "      <td>-0.14</td>\n",
       "      <td>196</td>\n",
       "      <td>3063.33</td>\n",
       "      <td>1.07</td>\n",
       "      <td>1377</td>\n",
       "      <td>0.46</td>\n",
       "      <td>49.82</td>\n",
       "      <td>1.07</td>\n",
       "      <td>1.32</td>\n",
       "      <td>38.88</td>\n",
       "      <td>51.21</td>\n",
       "      <td>59.38</td>\n",
       "      <td>10.07</td>\n",
       "      <td>11.89</td>\n",
       "      <td>12.01</td>\n",
       "      <td>3.70</td>\n",
       "      <td>0.52</td>\n",
       "      <td>0.96</td>\n",
       "      <td>7.01</td>\n",
       "      <td>1.69</td>\n",
       "      <td>0.86</td>\n",
       "      <td>-0.14</td>\n",
       "      <td>196</td>\n",
       "      <td>2659.74</td>\n",
       "      <td>1.07</td>\n",
       "      <td>1377</td>\n",
       "      <td>0.46</td>\n",
       "      <td>49.82</td>\n",
       "      <td>1.07</td>\n",
       "      <td>1.32</td>\n",
       "      <td>38.88</td>\n",
       "      <td>51.21</td>\n",
       "      <td>59.38</td>\n",
       "      <td>10.07</td>\n",
       "      <td>11.89</td>\n",
       "      <td>12.01</td>\n",
       "      <td>3.70</td>\n",
       "      <td>0.52</td>\n",
       "      <td>0.96</td>\n",
       "      <td>7.01</td>\n",
       "      <td>1.69</td>\n",
       "      <td>0.86</td>\n",
       "      <td>-0.14</td>\n",
       "      <td>196</td>\n",
       "      <td>2659.74</td>\n",
       "      <td>1.07</td>\n",
       "      <td>1377</td>\n",
       "      <td>0.46</td>\n",
       "      <td>49.82</td>\n",
       "      <td>1.07</td>\n",
       "      <td>1.32</td>\n",
       "      <td>38.88</td>\n",
       "      <td>51.21</td>\n",
       "      <td>59.38</td>\n",
       "      <td>10.07</td>\n",
       "      <td>11.89</td>\n",
       "      <td>12.01</td>\n",
       "      <td>3.70</td>\n",
       "      <td>0.52</td>\n",
       "      <td>0.96</td>\n",
       "      <td>7.01</td>\n",
       "      <td>1.69</td>\n",
       "      <td>0.86</td>\n",
       "      <td>-0.14</td>\n",
       "      <td>196</td>\n",
       "      <td>2659.74</td>\n",
       "      <td>1.07</td>\n",
       "      <td>1377</td>\n",
       "      <td>0.46</td>\n",
       "      <td>49.82</td>\n",
       "      <td>1.07</td>\n",
       "      <td>1.32</td>\n",
       "      <td>38.88</td>\n",
       "      <td>51.21</td>\n",
       "      <td>59.38</td>\n",
       "      <td>10.07</td>\n",
       "      <td>11.89</td>\n",
       "      <td>12.01</td>\n",
       "      <td>3.70</td>\n",
       "      <td>0.52</td>\n",
       "      <td>0.96</td>\n",
       "      <td>7.01</td>\n",
       "      <td>1.69</td>\n",
       "      <td>0.86</td>\n",
       "      <td>-0.14</td>\n",
       "      <td>196</td>\n",
       "      <td>2659.74</td>\n",
       "      <td>1.07</td>\n",
       "      <td>1377</td>\n",
       "      <td>0.46</td>\n",
       "      <td>49.82</td>\n",
       "      <td>1.07</td>\n",
       "      <td>1.32</td>\n",
       "      <td>38.88</td>\n",
       "      <td>51.21</td>\n",
       "      <td>59.38</td>\n",
       "      <td>10.07</td>\n",
       "      <td>11.89</td>\n",
       "      <td>12.01</td>\n",
       "      <td>3.70</td>\n",
       "      <td>0.52</td>\n",
       "      <td>0.96</td>\n",
       "      <td>7.01</td>\n",
       "      <td>1.69</td>\n",
       "      <td>0.86</td>\n",
       "      <td>-0.14</td>\n",
       "      <td>196</td>\n",
       "      <td>2659.74</td>\n",
       "    </tr>\n",
       "    <tr>\n",
       "      <th>2</th>\n",
       "      <td>shadow</td>\n",
       "      <td>1.41</td>\n",
       "      <td>409</td>\n",
       "      <td>1.00</td>\n",
       "      <td>51.38</td>\n",
       "      <td>1.37</td>\n",
       "      <td>1.53</td>\n",
       "      <td>41.72</td>\n",
       "      <td>51.96</td>\n",
       "      <td>60.48</td>\n",
       "      <td>8.11</td>\n",
       "      <td>9.20</td>\n",
       "      <td>9.61</td>\n",
       "      <td>1.94</td>\n",
       "      <td>0.54</td>\n",
       "      <td>0.86</td>\n",
       "      <td>6.51</td>\n",
       "      <td>1.82</td>\n",
       "      <td>0.69</td>\n",
       "      <td>-0.11</td>\n",
       "      <td>124</td>\n",
       "      <td>2816.16</td>\n",
       "      <td>1.75</td>\n",
       "      <td>1094</td>\n",
       "      <td>1.91</td>\n",
       "      <td>49.05</td>\n",
       "      <td>1.84</td>\n",
       "      <td>1.98</td>\n",
       "      <td>40.06</td>\n",
       "      <td>50.07</td>\n",
       "      <td>57.02</td>\n",
       "      <td>10.54</td>\n",
       "      <td>10.81</td>\n",
       "      <td>11.55</td>\n",
       "      <td>2.57</td>\n",
       "      <td>0.49</td>\n",
       "      <td>0.75</td>\n",
       "      <td>6.93</td>\n",
       "      <td>1.49</td>\n",
       "      <td>0.88</td>\n",
       "      <td>-0.11</td>\n",
       "      <td>262</td>\n",
       "      <td>2668.96</td>\n",
       "      <td>2.53</td>\n",
       "      <td>2826</td>\n",
       "      <td>2.00</td>\n",
       "      <td>45.67</td>\n",
       "      <td>2.85</td>\n",
       "      <td>3.09</td>\n",
       "      <td>38.69</td>\n",
       "      <td>45.68</td>\n",
       "      <td>52.63</td>\n",
       "      <td>9.90</td>\n",
       "      <td>10.70</td>\n",
       "      <td>11.01</td>\n",
       "      <td>3.58</td>\n",
       "      <td>0.61</td>\n",
       "      <td>0.59</td>\n",
       "      <td>7.02</td>\n",
       "      <td>1.14</td>\n",
       "      <td>0.93</td>\n",
       "      <td>-0.08</td>\n",
       "      <td>658</td>\n",
       "      <td>2289.55</td>\n",
       "      <td>2.30</td>\n",
       "      <td>2901</td>\n",
       "      <td>2.00</td>\n",
       "      <td>46.57</td>\n",
       "      <td>2.78</td>\n",
       "      <td>2.79</td>\n",
       "      <td>40.01</td>\n",
       "      <td>46.34</td>\n",
       "      <td>53.36</td>\n",
       "      <td>14.49</td>\n",
       "      <td>11.78</td>\n",
       "      <td>12.31</td>\n",
       "      <td>3.57</td>\n",
       "      <td>0.65</td>\n",
       "      <td>0.60</td>\n",
       "      <td>7.11</td>\n",
       "      <td>1.16</td>\n",
       "      <td>0.93</td>\n",
       "      <td>-0.07</td>\n",
       "      <td>602</td>\n",
       "      <td>1432.44</td>\n",
       "      <td>2.30</td>\n",
       "      <td>2901</td>\n",
       "      <td>2.00</td>\n",
       "      <td>46.57</td>\n",
       "      <td>2.78</td>\n",
       "      <td>2.79</td>\n",
       "      <td>40.01</td>\n",
       "      <td>46.34</td>\n",
       "      <td>53.36</td>\n",
       "      <td>14.49</td>\n",
       "      <td>11.78</td>\n",
       "      <td>12.31</td>\n",
       "      <td>3.57</td>\n",
       "      <td>0.65</td>\n",
       "      <td>0.60</td>\n",
       "      <td>7.11</td>\n",
       "      <td>1.16</td>\n",
       "      <td>0.93</td>\n",
       "      <td>-0.07</td>\n",
       "      <td>602</td>\n",
       "      <td>1432.44</td>\n",
       "      <td>2.30</td>\n",
       "      <td>2901</td>\n",
       "      <td>2.00</td>\n",
       "      <td>46.57</td>\n",
       "      <td>2.78</td>\n",
       "      <td>2.79</td>\n",
       "      <td>40.01</td>\n",
       "      <td>46.34</td>\n",
       "      <td>53.36</td>\n",
       "      <td>14.49</td>\n",
       "      <td>11.78</td>\n",
       "      <td>12.31</td>\n",
       "      <td>3.57</td>\n",
       "      <td>0.65</td>\n",
       "      <td>0.60</td>\n",
       "      <td>7.11</td>\n",
       "      <td>1.16</td>\n",
       "      <td>0.93</td>\n",
       "      <td>-0.07</td>\n",
       "      <td>602</td>\n",
       "      <td>1432.44</td>\n",
       "      <td>3.33</td>\n",
       "      <td>5932</td>\n",
       "      <td>1.69</td>\n",
       "      <td>55.06</td>\n",
       "      <td>2.68</td>\n",
       "      <td>3.89</td>\n",
       "      <td>59.76</td>\n",
       "      <td>48.66</td>\n",
       "      <td>56.76</td>\n",
       "      <td>30.65</td>\n",
       "      <td>18.59</td>\n",
       "      <td>18.75</td>\n",
       "      <td>3.09</td>\n",
       "      <td>0.90</td>\n",
       "      <td>0.63</td>\n",
       "      <td>8.32</td>\n",
       "      <td>1.38</td>\n",
       "      <td>0.84</td>\n",
       "      <td>0.10</td>\n",
       "      <td>1198</td>\n",
       "      <td>720.38</td>\n",
       "    </tr>\n",
       "    <tr>\n",
       "      <th>3</th>\n",
       "      <td>tree</td>\n",
       "      <td>2.58</td>\n",
       "      <td>187</td>\n",
       "      <td>1.91</td>\n",
       "      <td>70.08</td>\n",
       "      <td>3.41</td>\n",
       "      <td>3.11</td>\n",
       "      <td>93.13</td>\n",
       "      <td>55.20</td>\n",
       "      <td>61.92</td>\n",
       "      <td>28.60</td>\n",
       "      <td>15.88</td>\n",
       "      <td>15.09</td>\n",
       "      <td>3.23</td>\n",
       "      <td>0.73</td>\n",
       "      <td>0.50</td>\n",
       "      <td>7.28</td>\n",
       "      <td>1.03</td>\n",
       "      <td>0.89</td>\n",
       "      <td>0.26</td>\n",
       "      <td>170</td>\n",
       "      <td>2442.01</td>\n",
       "      <td>2.86</td>\n",
       "      <td>871</td>\n",
       "      <td>2.22</td>\n",
       "      <td>90.21</td>\n",
       "      <td>3.34</td>\n",
       "      <td>3.93</td>\n",
       "      <td>117.16</td>\n",
       "      <td>72.76</td>\n",
       "      <td>80.70</td>\n",
       "      <td>42.07</td>\n",
       "      <td>27.05</td>\n",
       "      <td>27.38</td>\n",
       "      <td>5.25</td>\n",
       "      <td>0.84</td>\n",
       "      <td>0.51</td>\n",
       "      <td>8.56</td>\n",
       "      <td>0.89</td>\n",
       "      <td>0.95</td>\n",
       "      <td>0.23</td>\n",
       "      <td>464</td>\n",
       "      <td>1234.84</td>\n",
       "      <td>2.86</td>\n",
       "      <td>871</td>\n",
       "      <td>2.22</td>\n",
       "      <td>90.21</td>\n",
       "      <td>3.34</td>\n",
       "      <td>3.93</td>\n",
       "      <td>117.16</td>\n",
       "      <td>72.76</td>\n",
       "      <td>80.70</td>\n",
       "      <td>42.07</td>\n",
       "      <td>27.05</td>\n",
       "      <td>27.38</td>\n",
       "      <td>5.25</td>\n",
       "      <td>0.84</td>\n",
       "      <td>0.51</td>\n",
       "      <td>8.56</td>\n",
       "      <td>0.89</td>\n",
       "      <td>0.95</td>\n",
       "      <td>0.23</td>\n",
       "      <td>464</td>\n",
       "      <td>1234.84</td>\n",
       "      <td>2.86</td>\n",
       "      <td>871</td>\n",
       "      <td>2.22</td>\n",
       "      <td>90.21</td>\n",
       "      <td>3.34</td>\n",
       "      <td>3.93</td>\n",
       "      <td>117.16</td>\n",
       "      <td>72.76</td>\n",
       "      <td>80.70</td>\n",
       "      <td>42.07</td>\n",
       "      <td>27.05</td>\n",
       "      <td>27.38</td>\n",
       "      <td>5.25</td>\n",
       "      <td>0.84</td>\n",
       "      <td>0.51</td>\n",
       "      <td>8.56</td>\n",
       "      <td>0.89</td>\n",
       "      <td>0.95</td>\n",
       "      <td>0.23</td>\n",
       "      <td>464</td>\n",
       "      <td>1234.84</td>\n",
       "      <td>2.18</td>\n",
       "      <td>1660</td>\n",
       "      <td>1.65</td>\n",
       "      <td>69.80</td>\n",
       "      <td>2.20</td>\n",
       "      <td>3.22</td>\n",
       "      <td>86.22</td>\n",
       "      <td>58.03</td>\n",
       "      <td>65.15</td>\n",
       "      <td>47.93</td>\n",
       "      <td>26.70</td>\n",
       "      <td>27.67</td>\n",
       "      <td>6.33</td>\n",
       "      <td>0.89</td>\n",
       "      <td>0.70</td>\n",
       "      <td>8.56</td>\n",
       "      <td>1.10</td>\n",
       "      <td>0.96</td>\n",
       "      <td>0.20</td>\n",
       "      <td>524</td>\n",
       "      <td>891.36</td>\n",
       "      <td>2.18</td>\n",
       "      <td>1660</td>\n",
       "      <td>1.65</td>\n",
       "      <td>69.80</td>\n",
       "      <td>2.20</td>\n",
       "      <td>3.22</td>\n",
       "      <td>86.22</td>\n",
       "      <td>58.03</td>\n",
       "      <td>65.15</td>\n",
       "      <td>47.93</td>\n",
       "      <td>26.70</td>\n",
       "      <td>27.67</td>\n",
       "      <td>6.33</td>\n",
       "      <td>0.89</td>\n",
       "      <td>0.70</td>\n",
       "      <td>8.56</td>\n",
       "      <td>1.10</td>\n",
       "      <td>0.96</td>\n",
       "      <td>0.20</td>\n",
       "      <td>524</td>\n",
       "      <td>891.36</td>\n",
       "      <td>2.18</td>\n",
       "      <td>1660</td>\n",
       "      <td>1.65</td>\n",
       "      <td>69.80</td>\n",
       "      <td>2.20</td>\n",
       "      <td>3.22</td>\n",
       "      <td>86.22</td>\n",
       "      <td>58.03</td>\n",
       "      <td>65.15</td>\n",
       "      <td>47.93</td>\n",
       "      <td>26.70</td>\n",
       "      <td>27.67</td>\n",
       "      <td>6.33</td>\n",
       "      <td>0.89</td>\n",
       "      <td>0.70</td>\n",
       "      <td>8.56</td>\n",
       "      <td>1.10</td>\n",
       "      <td>0.96</td>\n",
       "      <td>0.20</td>\n",
       "      <td>524</td>\n",
       "      <td>891.36</td>\n",
       "    </tr>\n",
       "    <tr>\n",
       "      <th>4</th>\n",
       "      <td>asphalt</td>\n",
       "      <td>2.60</td>\n",
       "      <td>116</td>\n",
       "      <td>2.05</td>\n",
       "      <td>89.57</td>\n",
       "      <td>3.06</td>\n",
       "      <td>3.02</td>\n",
       "      <td>73.17</td>\n",
       "      <td>94.89</td>\n",
       "      <td>100.64</td>\n",
       "      <td>5.41</td>\n",
       "      <td>5.20</td>\n",
       "      <td>5.27</td>\n",
       "      <td>2.30</td>\n",
       "      <td>0.43</td>\n",
       "      <td>0.59</td>\n",
       "      <td>6.02</td>\n",
       "      <td>1.23</td>\n",
       "      <td>0.82</td>\n",
       "      <td>-0.13</td>\n",
       "      <td>130</td>\n",
       "      <td>4912.28</td>\n",
       "      <td>4.02</td>\n",
       "      <td>501</td>\n",
       "      <td>2.33</td>\n",
       "      <td>100.69</td>\n",
       "      <td>4.29</td>\n",
       "      <td>4.40</td>\n",
       "      <td>83.66</td>\n",
       "      <td>106.21</td>\n",
       "      <td>112.19</td>\n",
       "      <td>15.39</td>\n",
       "      <td>16.50</td>\n",
       "      <td>16.44</td>\n",
       "      <td>2.24</td>\n",
       "      <td>0.64</td>\n",
       "      <td>0.45</td>\n",
       "      <td>7.28</td>\n",
       "      <td>1.13</td>\n",
       "      <td>0.79</td>\n",
       "      <td>-0.12</td>\n",
       "      <td>394</td>\n",
       "      <td>2574.50</td>\n",
       "      <td>4.59</td>\n",
       "      <td>1367</td>\n",
       "      <td>1.91</td>\n",
       "      <td>113.93</td>\n",
       "      <td>3.07</td>\n",
       "      <td>4.65</td>\n",
       "      <td>98.87</td>\n",
       "      <td>118.98</td>\n",
       "      <td>123.95</td>\n",
       "      <td>25.07</td>\n",
       "      <td>23.28</td>\n",
       "      <td>22.31</td>\n",
       "      <td>1.10</td>\n",
       "      <td>0.77</td>\n",
       "      <td>0.58</td>\n",
       "      <td>8.15</td>\n",
       "      <td>1.63</td>\n",
       "      <td>0.19</td>\n",
       "      <td>-0.09</td>\n",
       "      <td>688</td>\n",
       "      <td>1548.87</td>\n",
       "      <td>3.70</td>\n",
       "      <td>1585</td>\n",
       "      <td>1.48</td>\n",
       "      <td>109.12</td>\n",
       "      <td>2.70</td>\n",
       "      <td>3.77</td>\n",
       "      <td>94.22</td>\n",
       "      <td>114.11</td>\n",
       "      <td>119.04</td>\n",
       "      <td>27.34</td>\n",
       "      <td>26.61</td>\n",
       "      <td>25.83</td>\n",
       "      <td>1.08</td>\n",
       "      <td>0.79</td>\n",
       "      <td>0.71</td>\n",
       "      <td>8.27</td>\n",
       "      <td>1.83</td>\n",
       "      <td>0.20</td>\n",
       "      <td>-0.10</td>\n",
       "      <td>600</td>\n",
       "      <td>1396.74</td>\n",
       "      <td>2.53</td>\n",
       "      <td>2351</td>\n",
       "      <td>1.05</td>\n",
       "      <td>96.24</td>\n",
       "      <td>2.00</td>\n",
       "      <td>2.56</td>\n",
       "      <td>82.84</td>\n",
       "      <td>100.31</td>\n",
       "      <td>105.55</td>\n",
       "      <td>30.51</td>\n",
       "      <td>32.60</td>\n",
       "      <td>32.05</td>\n",
       "      <td>1.01</td>\n",
       "      <td>0.83</td>\n",
       "      <td>0.75</td>\n",
       "      <td>8.62</td>\n",
       "      <td>2.08</td>\n",
       "      <td>0.08</td>\n",
       "      <td>-0.10</td>\n",
       "      <td>496</td>\n",
       "      <td>1194.76</td>\n",
       "      <td>2.53</td>\n",
       "      <td>2351</td>\n",
       "      <td>1.05</td>\n",
       "      <td>96.24</td>\n",
       "      <td>2.00</td>\n",
       "      <td>2.56</td>\n",
       "      <td>82.84</td>\n",
       "      <td>100.31</td>\n",
       "      <td>105.55</td>\n",
       "      <td>30.51</td>\n",
       "      <td>32.60</td>\n",
       "      <td>32.05</td>\n",
       "      <td>1.01</td>\n",
       "      <td>0.83</td>\n",
       "      <td>0.75</td>\n",
       "      <td>8.62</td>\n",
       "      <td>2.08</td>\n",
       "      <td>0.08</td>\n",
       "      <td>-0.10</td>\n",
       "      <td>496</td>\n",
       "      <td>1194.76</td>\n",
       "      <td>2.53</td>\n",
       "      <td>2351</td>\n",
       "      <td>1.05</td>\n",
       "      <td>96.24</td>\n",
       "      <td>2.00</td>\n",
       "      <td>2.56</td>\n",
       "      <td>82.84</td>\n",
       "      <td>100.31</td>\n",
       "      <td>105.55</td>\n",
       "      <td>30.51</td>\n",
       "      <td>32.60</td>\n",
       "      <td>32.05</td>\n",
       "      <td>1.01</td>\n",
       "      <td>0.83</td>\n",
       "      <td>0.75</td>\n",
       "      <td>8.62</td>\n",
       "      <td>2.08</td>\n",
       "      <td>0.08</td>\n",
       "      <td>-0.10</td>\n",
       "      <td>496</td>\n",
       "      <td>1194.76</td>\n",
       "    </tr>\n",
       "  </tbody>\n",
       "</table>\n",
       "</div>"
      ],
      "text/plain": [
       "       class  BrdIndx  Area  Round  Bright  Compact  ShpIndx  Mean_G  Mean_R  \\\n",
       "0  concrete      1.32   131   0.81  222.74     1.66     2.18  192.94  235.11   \n",
       "1    shadow      1.59   864   0.94   47.56     1.41     1.87   36.82   48.78   \n",
       "2    shadow      1.41   409   1.00   51.38     1.37     1.53   41.72   51.96   \n",
       "3      tree      2.58   187   1.91   70.08     3.41     3.11   93.13   55.20   \n",
       "4   asphalt      2.60   116   2.05   89.57     3.06     3.02   73.17   94.89   \n",
       "\n",
       "   Mean_NIR   SD_G   SD_R  SD_NIR    LW  GLCM1  Rect  GLCM2  Dens  Assym  \\\n",
       "0    240.15  11.24  11.47   11.24  8.18   0.43  0.78   6.64  0.87   0.99   \n",
       "1     57.09   8.15   8.02    8.36  3.05   0.43  0.85   6.75  1.81   0.73   \n",
       "2     60.48   8.11   9.20    9.61  1.94   0.54  0.86   6.51  1.82   0.69   \n",
       "3     61.92  28.60  15.88   15.09  3.23   0.73  0.50   7.28  1.03   0.89   \n",
       "4    100.64   5.41   5.20    5.27  2.30   0.43  0.59   6.02  1.23   0.82   \n",
       "\n",
       "   NDVI  BordLngth    GLCM3  BrdIndx_40  Area_40  Round_40  Bright_40  \\\n",
       "0 -0.10        100  4322.47        1.32      131      0.81     222.74   \n",
       "1 -0.14        220  3331.33        1.08     1353      0.46      49.12   \n",
       "2 -0.11        124  2816.16        1.75     1094      1.91      49.05   \n",
       "3  0.26        170  2442.01        2.86      871      2.22      90.21   \n",
       "4 -0.13        130  4912.28        4.02      501      2.33     100.69   \n",
       "\n",
       "   Compact_40  ShpIndx_40  Mean_G_40  Mean_R_40  Mean_NIR_40  SD_G_40  \\\n",
       "0        1.66        2.18     192.94     235.11       240.15    11.24   \n",
       "1        1.09        1.33      38.29      50.40        58.67     8.84   \n",
       "2        1.84        1.98      40.06      50.07        57.02    10.54   \n",
       "3        3.34        3.93     117.16      72.76        80.70    42.07   \n",
       "4        4.29        4.40      83.66     106.21       112.19    15.39   \n",
       "\n",
       "   SD_R_40  SD_NIR_40  LW_40  GLCM1_40  Rect_40  GLCM2_40  Dens_40  Assym_40  \\\n",
       "0    11.47      11.24   8.18      0.43     0.78      6.64     0.87      0.99   \n",
       "1     9.97      10.55   3.70      0.51     0.96      6.96     1.67      0.86   \n",
       "2    10.81      11.55   2.57      0.49     0.75      6.93     1.49      0.88   \n",
       "3    27.05      27.38   5.25      0.84     0.51      8.56     0.89      0.95   \n",
       "4    16.50      16.44   2.24      0.64     0.45      7.28     1.13      0.79   \n",
       "\n",
       "   NDVI_40  BordLngth_40  GLCM3_40  BrdIndx_60  Area_60  Round_60  Bright_60  \\\n",
       "0    -0.10           100   4322.47        1.19      452      0.49     196.82   \n",
       "1    -0.14           196   3063.33        1.07     1377      0.46      49.82   \n",
       "2    -0.11           262   2668.96        2.53     2826      2.00      45.67   \n",
       "3     0.23           464   1234.84        2.86      871      2.22      90.21   \n",
       "4    -0.12           394   2574.50        4.59     1367      1.91     113.93   \n",
       "\n",
       "   Compact_60  ShpIndx_60  Mean_G_60  Mean_R_60  Mean_NIR_60  SD_G_60  \\\n",
       "0        1.27        1.46     169.60     208.71       212.17    18.48   \n",
       "1        1.07        1.32      38.88      51.21        59.38    10.07   \n",
       "2        2.85        3.09      38.69      45.68        52.63     9.90   \n",
       "3        3.34        3.93     117.16      72.76        80.70    42.07   \n",
       "4        3.07        4.65      98.87     118.98       123.95    25.07   \n",
       "\n",
       "   SD_R_60  SD_NIR_60  LW_60  GLCM1_60  Rect_60  GLCM2_60  Dens_60  Assym_60  \\\n",
       "0    20.90      22.09   3.47      0.71     0.92      7.44     1.56      0.87   \n",
       "1    11.89      12.01   3.70      0.52     0.96      7.01     1.69      0.86   \n",
       "2    10.70      11.01   3.58      0.61     0.59      7.02     1.14      0.93   \n",
       "3    27.05      27.38   5.25      0.84     0.51      8.56     0.89      0.95   \n",
       "4    23.28      22.31   1.10      0.77     0.58      8.15     1.63      0.19   \n",
       "\n",
       "   NDVI_60  BordLngth_60  GLCM3_60  BrdIndx_80  Area_80  Round_80  Bright_80  \\\n",
       "0    -0.10           124   2271.21        3.65     1522      2.70     181.04   \n",
       "1    -0.14           196   2659.74        1.07     1377      0.46      49.82   \n",
       "2    -0.08           658   2289.55        2.30     2901      2.00      46.57   \n",
       "3     0.23           464   1234.84        2.86      871      2.22      90.21   \n",
       "4    -0.09           688   1548.87        3.70     1585      1.48     109.12   \n",
       "\n",
       "   Compact_80  ShpIndx_80  Mean_G_80  Mean_R_80  Mean_NIR_80  SD_G_80  \\\n",
       "0        5.48        3.69     155.76     192.34       195.03    34.93   \n",
       "1        1.07        1.32      38.88      51.21        59.38    10.07   \n",
       "2        2.78        2.79      40.01      46.34        53.36    14.49   \n",
       "3        3.34        3.93     117.16      72.76        80.70    42.07   \n",
       "4        2.70        3.77      94.22     114.11       119.04    27.34   \n",
       "\n",
       "   SD_R_80  SD_NIR_80  LW_80  GLCM1_80  Rect_80  GLCM2_80  Dens_80  Assym_80  \\\n",
       "0    39.49      39.17   1.13      0.73     0.28      8.40     1.21      0.23   \n",
       "1    11.89      12.01   3.70      0.52     0.96      7.01     1.69      0.86   \n",
       "2    11.78      12.31   3.57      0.65     0.60      7.11     1.16      0.93   \n",
       "3    27.05      27.38   5.25      0.84     0.51      8.56     0.89      0.95   \n",
       "4    26.61      25.83   1.08      0.79     0.71      8.27     1.83      0.20   \n",
       "\n",
       "   NDVI_80  BordLngth_80  GLCM3_80  BrdIndx_100  Area_100  Round_100  \\\n",
       "0    -0.11           576   1789.91         3.65      1522       2.70   \n",
       "1    -0.14           196   2659.74         1.07      1377       0.46   \n",
       "2    -0.07           602   1432.44         2.30      2901       2.00   \n",
       "3     0.23           464   1234.84         2.18      1660       1.65   \n",
       "4    -0.10           600   1396.74         2.53      2351       1.05   \n",
       "\n",
       "   Bright_100  Compact_100  ShpIndx_100  Mean_G_100  Mean_R_100  Mean_NIR_100  \\\n",
       "0      181.04         5.48         3.69      155.76      192.34        195.03   \n",
       "1       49.82         1.07         1.32       38.88       51.21         59.38   \n",
       "2       46.57         2.78         2.79       40.01       46.34         53.36   \n",
       "3       69.80         2.20         3.22       86.22       58.03         65.15   \n",
       "4       96.24         2.00         2.56       82.84      100.31        105.55   \n",
       "\n",
       "   SD_G_100  SD_R_100  SD_NIR_100  LW_100  GLCM1_100  Rect_100  GLCM2_100  \\\n",
       "0     34.93     39.49       39.17    1.13       0.73      0.28       8.40   \n",
       "1     10.07     11.89       12.01    3.70       0.52      0.96       7.01   \n",
       "2     14.49     11.78       12.31    3.57       0.65      0.60       7.11   \n",
       "3     47.93     26.70       27.67    6.33       0.89      0.70       8.56   \n",
       "4     30.51     32.60       32.05    1.01       0.83      0.75       8.62   \n",
       "\n",
       "   Dens_100  Assym_100  NDVI_100  BordLngth_100  GLCM3_100  BrdIndx_120  \\\n",
       "0      1.21       0.23     -0.11            576    1789.91         2.75   \n",
       "1      1.69       0.86     -0.14            196    2659.74         1.07   \n",
       "2      1.16       0.93     -0.07            602    1432.44         2.30   \n",
       "3      1.10       0.96      0.20            524     891.36         2.18   \n",
       "4      2.08       0.08     -0.10            496    1194.76         2.53   \n",
       "\n",
       "   Area_120  Round_120  Bright_120  Compact_120  ShpIndx_120  Mean_G_120  \\\n",
       "0      7618       2.43      189.73         3.62         3.40      163.61   \n",
       "1      1377       0.46       49.82         1.07         1.32       38.88   \n",
       "2      2901       2.00       46.57         2.78         2.79       40.01   \n",
       "3      1660       1.65       69.80         2.20         3.22       86.22   \n",
       "4      2351       1.05       96.24         2.00         2.56       82.84   \n",
       "\n",
       "   Mean_R_120  Mean_NIR_120  SD_G_120  SD_R_120  SD_NIR_120  LW_120  \\\n",
       "0      201.29        204.28     25.25     28.33       28.30    3.82   \n",
       "1       51.21         59.38     10.07     11.89       12.01    3.70   \n",
       "2       46.34         53.36     14.49     11.78       12.31    3.57   \n",
       "3       58.03         65.15     47.93     26.70       27.67    6.33   \n",
       "4      100.31        105.55     30.51     32.60       32.05    1.01   \n",
       "\n",
       "   GLCM1_120  Rect_120  GLCM2_120  Dens_120  Assym_120  NDVI_120  \\\n",
       "0       0.79      0.57       8.35      0.96       0.96     -0.10   \n",
       "1       0.52      0.96       7.01      1.69       0.86     -0.14   \n",
       "2       0.65      0.60       7.11      1.16       0.93     -0.07   \n",
       "3       0.89      0.70       8.56      1.10       0.96      0.20   \n",
       "4       0.83      0.75       8.62      2.08       0.08     -0.10   \n",
       "\n",
       "   BordLngth_120  GLCM3_120  BrdIndx_140  Area_140  Round_140  Bright_140  \\\n",
       "0           1188    1298.99         2.93      9172       2.50      185.14   \n",
       "1            196    2659.74         1.07      1377       0.46       49.82   \n",
       "2            602    1432.44         3.33      5932       1.69       55.06   \n",
       "3            524     891.36         2.18      1660       1.65       69.80   \n",
       "4            496    1194.76         2.53      2351       1.05       96.24   \n",
       "\n",
       "   Compact_140  ShpIndx_140  Mean_G_140  Mean_R_140  Mean_NIR_140  SD_G_140  \\\n",
       "0         3.94         3.95      159.45      196.43        199.53     27.81   \n",
       "1         1.07         1.32       38.88       51.21         59.38     10.07   \n",
       "2         2.68         3.89       59.76       48.66         56.76     30.65   \n",
       "3         2.20         3.22       86.22       58.03         65.15     47.93   \n",
       "4         2.00         2.56       82.84      100.31        105.55     30.51   \n",
       "\n",
       "   SD_R_140  SD_NIR_140  LW_140  GLCM1_140  Rect_140  GLCM2_140  Dens_140  \\\n",
       "0     31.55       31.15    5.04       0.80      0.58       8.56      0.82   \n",
       "1     11.89       12.01    3.70       0.52      0.96       7.01      1.69   \n",
       "2     18.59       18.75    3.09       0.90      0.63       8.32      1.38   \n",
       "3     26.70       27.67    6.33       0.89      0.70       8.56      1.10   \n",
       "4     32.60       32.05    1.01       0.83      0.75       8.62      2.08   \n",
       "\n",
       "   Assym_140  NDVI_140  BordLngth_140  GLCM3_140  \n",
       "0       0.98     -0.10           1512    1287.52  \n",
       "1       0.86     -0.14            196    2659.74  \n",
       "2       0.84      0.10           1198     720.38  \n",
       "3       0.96      0.20            524     891.36  \n",
       "4       0.08     -0.10            496    1194.76  "
      ]
     },
     "execution_count": 40,
     "metadata": {},
     "output_type": "execute_result"
    }
   ],
   "source": [
    "pd.set_option('display.max_columns', None)\n",
    "train_data.head()"
   ]
  },
  {
   "cell_type": "code",
   "execution_count": 41,
   "metadata": {},
   "outputs": [
    {
     "name": "stdout",
     "output_type": "stream",
     "text": [
      "Minimum ranges = BrdIndx = 3.5300000000000002\n",
      "Range of column Area = 5745\n",
      "Minimum ranges = Round = 3.52\n",
      "Range of column Bright = 5745\n",
      "Range of column Compact = 5745\n",
      "Range of column ShpIndx = 5745\n",
      "Range of column Mean_G = 5745\n",
      "Range of column Mean_R = 5745\n",
      "Range of column Mean_NIR = 5745\n",
      "Range of column SD_G = 5745\n",
      "Range of column SD_R = 5745\n",
      "Range of column SD_NIR = 5745\n",
      "Range of column LW = 5745\n",
      "Minimum ranges = GLCM1 = 0.8\n",
      "Minimum ranges = Rect = 0.76\n",
      "Range of column GLCM2 = 5745\n",
      "Range of column Dens = 5745\n",
      "Range of column Assym = 5745\n",
      "Range of column NDVI = 5745\n",
      "Range of column BordLngth = 5745\n",
      "Range of column GLCM3 = 5745\n",
      "Range of column BrdIndx_40 = 5745\n",
      "Range of column Area_40 = 5745\n",
      "Range of column Round_40 = 5745\n",
      "Range of column Bright_40 = 5745\n",
      "Range of column Compact_40 = 5745\n",
      "Range of column ShpIndx_40 = 5745\n",
      "Range of column Mean_G_40 = 5745\n",
      "Range of column Mean_R_40 = 5745\n",
      "Range of column Mean_NIR_40 = 5745\n",
      "Range of column SD_G_40 = 5745\n",
      "Range of column SD_R_40 = 5745\n",
      "Range of column SD_NIR_40 = 5745\n",
      "Range of column LW_40 = 5745\n",
      "Range of column GLCM1_40 = 5745\n",
      "Range of column Rect_40 = 5745\n",
      "Range of column GLCM2_40 = 5745\n",
      "Range of column Dens_40 = 5745\n",
      "Range of column Assym_40 = 5745\n",
      "Range of column NDVI_40 = 5745\n",
      "Range of column BordLngth_40 = 5745\n",
      "Range of column GLCM3_40 = 5745\n",
      "Range of column BrdIndx_60 = 5745\n",
      "Range of column Area_60 = 5745\n",
      "Range of column Round_60 = 5745\n",
      "Range of column Bright_60 = 5745\n",
      "Range of column Compact_60 = 5745\n",
      "Range of column ShpIndx_60 = 5745\n",
      "Range of column Mean_G_60 = 5745\n",
      "Range of column Mean_R_60 = 5745\n",
      "Range of column Mean_NIR_60 = 5745\n",
      "Range of column SD_G_60 = 5745\n",
      "Range of column SD_R_60 = 5745\n",
      "Range of column SD_NIR_60 = 5745\n",
      "Range of column LW_60 = 5745\n",
      "Range of column GLCM1_60 = 5745\n",
      "Range of column Rect_60 = 5745\n",
      "Range of column GLCM2_60 = 5745\n",
      "Range of column Dens_60 = 5745\n",
      "Range of column Assym_60 = 5745\n",
      "Minimum ranges = NDVI_60 = 0.74\n",
      "Range of column BordLngth_60 = 5745\n",
      "Range of column GLCM3_60 = 5745\n",
      "Range of column BrdIndx_80 = 5745\n",
      "Range of column Area_80 = 5745\n",
      "Range of column Round_80 = 5745\n",
      "Range of column Bright_80 = 5745\n",
      "Range of column Compact_80 = 5745\n",
      "Range of column ShpIndx_80 = 5745\n",
      "Range of column Mean_G_80 = 5745\n",
      "Range of column Mean_R_80 = 5745\n",
      "Range of column Mean_NIR_80 = 5745\n",
      "Range of column SD_G_80 = 5745\n",
      "Range of column SD_R_80 = 5745\n",
      "Range of column SD_NIR_80 = 5745\n",
      "Range of column LW_80 = 5745\n",
      "Range of column GLCM1_80 = 5745\n",
      "Range of column Rect_80 = 5745\n",
      "Range of column GLCM2_80 = 5745\n",
      "Range of column Dens_80 = 5745\n",
      "Range of column Assym_80 = 5745\n",
      "Range of column NDVI_80 = 5745\n",
      "Range of column BordLngth_80 = 5745\n",
      "Range of column GLCM3_80 = 5745\n",
      "Range of column BrdIndx_100 = 5745\n",
      "Range of column Area_100 = 5745\n",
      "Range of column Round_100 = 5745\n",
      "Range of column Bright_100 = 5745\n",
      "Range of column Compact_100 = 5745\n",
      "Range of column ShpIndx_100 = 5745\n",
      "Range of column Mean_G_100 = 5745\n",
      "Range of column Mean_R_100 = 5745\n",
      "Range of column Mean_NIR_100 = 5745\n",
      "Range of column SD_G_100 = 5745\n",
      "Range of column SD_R_100 = 5745\n",
      "Range of column SD_NIR_100 = 5745\n",
      "Range of column LW_100 = 5745\n",
      "Range of column GLCM1_100 = 5745\n",
      "Range of column Rect_100 = 5745\n",
      "Range of column GLCM2_100 = 5745\n",
      "Range of column Dens_100 = 5745\n",
      "Range of column Assym_100 = 5745\n",
      "Range of column NDVI_100 = 5745\n",
      "Range of column BordLngth_100 = 5745\n",
      "Range of column GLCM3_100 = 5745\n",
      "Range of column BrdIndx_120 = 5745\n",
      "Range of column Area_120 = 5745\n",
      "Range of column Round_120 = 5745\n",
      "Range of column Bright_120 = 5745\n",
      "Range of column Compact_120 = 5745\n",
      "Range of column ShpIndx_120 = 5745\n",
      "Range of column Mean_G_120 = 5745\n",
      "Range of column Mean_R_120 = 5745\n",
      "Range of column Mean_NIR_120 = 5745\n",
      "Range of column SD_G_120 = 5745\n",
      "Range of column SD_R_120 = 5745\n",
      "Range of column SD_NIR_120 = 5745\n",
      "Range of column LW_120 = 5745\n",
      "Range of column GLCM1_120 = 5745\n",
      "Range of column Rect_120 = 5745\n",
      "Range of column GLCM2_120 = 5745\n",
      "Range of column Dens_120 = 5745\n",
      "Range of column Assym_120 = 5745\n",
      "Minimum ranges = NDVI_120 = 0.73\n",
      "Range of column BordLngth_120 = 5745\n",
      "Range of column GLCM3_120 = 5745\n",
      "Range of column BrdIndx_140 = 5745\n",
      "Range of column Area_140 = 5745\n",
      "Range of column Round_140 = 5745\n",
      "Range of column Bright_140 = 5745\n",
      "Range of column Compact_140 = 5745\n",
      "Range of column ShpIndx_140 = 5745\n",
      "Range of column Mean_G_140 = 5745\n",
      "Range of column Mean_R_140 = 5745\n",
      "Range of column Mean_NIR_140 = 5745\n",
      "Range of column SD_G_140 = 5745\n",
      "Range of column SD_R_140 = 5745\n",
      "Range of column SD_NIR_140 = 5745\n",
      "Range of column LW_140 = 5745\n",
      "Range of column GLCM1_140 = 5745\n",
      "Range of column Rect_140 = 5745\n",
      "Range of column GLCM2_140 = 5745\n",
      "Range of column Dens_140 = 5745\n",
      "Range of column Assym_140 = 5745\n",
      "Range of column NDVI_140 = 5745\n",
      "Range of column BordLngth_140 = 5745\n",
      "Range of column GLCM3_140 = 5745\n"
     ]
    }
   ],
   "source": [
    "pd.reset_option('display.max_columns')\n",
    "r_min = X_train.iloc[:, 1].max() - X_train.iloc[:, 1].min()\n",
    "r_max = r_min\n",
    "for x in X_train.columns:\n",
    "    r = X_train[x].max() - X_train[x].min()\n",
    "    if r < r_min:\n",
    "        r_min = r\n",
    "        print(\"Minimum ranges = \" + x + \" = \" + str(r_min))\n",
    "    elif (r >= r_max) | (r != 5745):\n",
    "        r = r_max\n",
    "        print(\"Range of column \" + x + \" = \" + str(r))"
   ]
  },
  {
   "cell_type": "markdown",
   "metadata": {},
   "source": [
    "e) Describe conceptually what the purpose of a kernel is for Support Vector Machines.<br>\n",
    "Kernels are used in Support Vector Machines (SVMs) to solve regression and classification problems. Support Vector Machines use the Kernel Trick to transform linearly inseparable data into linearly separable data, thus finding an optimal boundary for possible outputs. The Kernel function will usually convert the training set of data so that a non-linear decision surface can be transformed to a linear equation in a higher number of dimension spaces.\n",
    "Support vector machines use various kinds of kernel methods:\n",
    "- Linear\n",
    "- Polynomial\n",
    "- Radial Basis Function (RBF)\n",
    "- Sigmoid\n",
    "- Gaussian"
   ]
  }
 ],
 "metadata": {
  "kernelspec": {
   "display_name": "Python 3 (ipykernel)",
   "language": "python",
   "name": "python3"
  },
  "language_info": {
   "codemirror_mode": {
    "name": "ipython",
    "version": 3
   },
   "file_extension": ".py",
   "mimetype": "text/x-python",
   "name": "python",
   "nbconvert_exporter": "python",
   "pygments_lexer": "ipython3",
   "version": "3.9.13"
  }
 },
 "nbformat": 4,
 "nbformat_minor": 2
}
