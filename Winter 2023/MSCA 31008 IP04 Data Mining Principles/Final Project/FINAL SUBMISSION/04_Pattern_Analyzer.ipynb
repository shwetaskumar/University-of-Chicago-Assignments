{
 "cells": [
  {
   "cell_type": "markdown",
   "id": "ef07c327-c5ee-420e-b85f-390c92ba1de0",
   "metadata": {},
   "source": [
    "## Combine everything"
   ]
  },
  {
   "cell_type": "code",
   "execution_count": 1,
   "id": "900b41cf-cd31-42ec-b675-76ae6d8bf09c",
   "metadata": {},
   "outputs": [],
   "source": [
    "## Read data\n",
    "import pandas as pd\n",
    "import re\n",
    "from collections import Counter\n",
    "import nltk\n",
    "from nltk.tokenize import  word_tokenize\n",
    "from pandarallel import pandarallel\n",
    "import pickle\n",
    "\n",
    "import os\n",
    "import numpy as np"
   ]
  },
  {
   "cell_type": "markdown",
   "id": "2af54b62-7e66-4054-8ac7-4a4b6467cb0c",
   "metadata": {},
   "source": [
    "### Actual dataframe"
   ]
  },
  {
   "cell_type": "code",
   "execution_count": 2,
   "id": "0a783e7b-6bea-465d-a484-427bcb6b02e2",
   "metadata": {},
   "outputs": [
    {
     "name": "stderr",
     "output_type": "stream",
     "text": [
      "/opt/conda/lib/python3.7/site-packages/IPython/core/magics/execution.py:1335: DtypeWarning: Columns (6) have mixed types.Specify dtype option on import or set low_memory=False.\n",
      "  exec(code, glob, local_ns)\n"
     ]
    },
    {
     "name": "stdout",
     "output_type": "stream",
     "text": [
      "CPU times: user 13.4 s, sys: 1.85 s, total: 15.3 s\n",
      "Wall time: 19.5 s\n"
     ]
    },
    {
     "data": {
      "text/plain": [
       "(2218243, 14)"
      ]
     },
     "execution_count": 2,
     "metadata": {},
     "output_type": "execute_result"
    }
   ],
   "source": [
    "%%time\n",
    "post_data_full = pd.read_csv('wallstreetbets_submissions_zstextract.csv')\n",
    "post_data_full.shape"
   ]
  },
  {
   "cell_type": "code",
   "execution_count": 3,
   "id": "6a48e2fc-8e19-4e85-a510-c587c3abf065",
   "metadata": {},
   "outputs": [
    {
     "data": {
      "text/plain": [
       "Timestamp('2012-04-11 16:40:40')"
      ]
     },
     "execution_count": 3,
     "metadata": {},
     "output_type": "execute_result"
    }
   ],
   "source": [
    "import datetime\n",
    "\n",
    "post_data_full['timestamp'] = post_data_full['created_utc'].apply(datetime.datetime.fromtimestamp)\n",
    "post_data_full['timestamp'].min()"
   ]
  },
  {
   "cell_type": "code",
   "execution_count": 4,
   "id": "660fce0f-f351-4da5-be63-a59946f845d0",
   "metadata": {},
   "outputs": [],
   "source": [
    "def clean_text(text):\n",
    "    # Remove all text between square brackets\n",
    "    text = re.sub(r'\\[.*?\\]', '', text)\n",
    "    \n",
    "    # Remove all text between parentheses\n",
    "    text = re.sub(r'\\(.*?\\)', '', text)\n",
    "    \n",
    "    # Remove all text between curly braces\n",
    "    text = re.sub(r'\\{.*?\\}', '', text)\n",
    "    \n",
    "    # Remove all text between angle brackets\n",
    "    text = re.sub(r'<.*?>', '', text)\n",
    "    \n",
    "    # Remove all text between double quotes\n",
    "    #text = re.sub(r'\"(.*?)\"', '', text)\n",
    "    \n",
    "    # Remove all text between single quotes\n",
    "    #text = re.sub(r\"'(.*?)'\", '', text)\n",
    "    \n",
    "    # Remove everything between **____**\n",
    "    text = re.sub(r'\\*\\*(.*?)\\*\\*','',text)\n",
    "    \n",
    "    # Remove words followed by ^\n",
    "    text = re.sub(r'(\\^\\w*)','',text)\n",
    "    \n",
    "    # Remove mentions, hashtags, links\n",
    "    text = re.sub(r'\\||:|\\-|\\n|(@\\w+.*?)|(http\\w\\S+.*?)|(#\\w+)','',text)\n",
    "    \n",
    "    # Remove all ^Your daily posts\n",
    "    text = re.sub(r'^Your daily trading discussion.*|^We are now using AutoModerator.*|^Every time a new submission.*|^Trading discussion only.*','',text)\n",
    "    \n",
    "    # Remove all newlines, tabs, and extra whitespace\n",
    "    text = re.sub(r'[\\n\\t]+', ' ', text)\n",
    "    text = re.sub(r'\\s{2,}', ' ', text)\n",
    "    \n",
    "    \n",
    "    return text"
   ]
  },
  {
   "cell_type": "code",
   "execution_count": 5,
   "id": "9185a600-15a1-420c-be32-da17e1ee5f18",
   "metadata": {},
   "outputs": [
    {
     "name": "stdout",
     "output_type": "stream",
     "text": [
      "INFO: Pandarallel will run on 8 workers.\n",
      "INFO: Pandarallel will use Memory file system to transfer data between the main process and workers.\n",
      "CPU times: user 2.56 s, sys: 1 s, total: 3.56 s\n",
      "Wall time: 10 s\n"
     ]
    },
    {
     "data": {
      "text/plain": [
       "clean_text\n",
       "            1400263\n",
       "nan          661710\n",
       "&amp;;         1012\n",
       "                648\n",
       "Discuss.        509\n",
       "Name: author, dtype: int64"
      ]
     },
     "execution_count": 5,
     "metadata": {},
     "output_type": "execute_result"
    }
   ],
   "source": [
    "%%time\n",
    "\n",
    "pandarallel.initialize()\n",
    "post_data_full['clean_text'] = post_data_full['body'].parallel_apply(lambda x: clean_text(str(x)))\n",
    "post_data_full = post_data_full[['id','title','clean_text','author','timestamp','upvotes','num_comments','score']]\n",
    "post_data_full.groupby(['clean_text'])['author'].count().sort_values(ascending=False).head(5)"
   ]
  },
  {
   "cell_type": "code",
   "execution_count": 30,
   "id": "73fb6ff4-2b2e-4ec1-a11a-2108f6a76bfa",
   "metadata": {},
   "outputs": [],
   "source": [
    "## Creating a copy\n",
    "df = post_data_full.copy()"
   ]
  },
  {
   "cell_type": "markdown",
   "id": "44d46565-352b-49c6-b310-055f6b3028cb",
   "metadata": {},
   "source": [
    "### Topic LDA"
   ]
  },
  {
   "cell_type": "code",
   "execution_count": 31,
   "id": "9d2bd859-568b-46ee-a50b-b1ba59f04a04",
   "metadata": {},
   "outputs": [
    {
     "data": {
      "text/plain": [
       "Index(['id', 'title', 'clean_text', 'author', 'timestamp', 'upvotes',\n",
       "       'num_comments', 'score', 'topic_label'],\n",
       "      dtype='object')"
      ]
     },
     "execution_count": 31,
     "metadata": {},
     "output_type": "execute_result"
    }
   ],
   "source": [
    "label = pd.read_parquet('label_lda.parquet')\n",
    "\n",
    "df['topic_label'] = label\n",
    "df.columns"
   ]
  },
  {
   "cell_type": "code",
   "execution_count": 12,
   "id": "899ea86b-2acb-4efa-8388-78b6980bc93a",
   "metadata": {},
   "outputs": [
    {
     "data": {
      "image/png": "[encoded data removed]",
      "text/plain": [
       "<Figure size 640x480 with 1 Axes>"
      ]
     },
     "metadata": {},
     "output_type": "display_data"
    }
   ],
   "source": [
    "import matplotlib.pyplot as plt\n",
    "\n",
    "#df['date'] = pd.to_datetime(df['date'])\n",
    "df['time_period'] = pd.PeriodIndex(df['timestamp'], freq='Q')\n",
    "count_df = df.groupby(['time_period', 'topic_label']).size().reset_index(name='count')\n",
    "\n",
    "count_df['time_period'] = count_df['time_period'].dt.strftime('%Y-Q%q')\n",
    "\n",
    "# Plot the topic timeline\n",
    "fig, ax = plt.subplots()\n",
    "for topic in count_df.loc[count_df['topic_label'] != 0, 'topic_label'].unique():\n",
    "    topic_data = count_df[count_df['topic_label'] == topic]\n",
    "    ax.scatter(topic_data['time_period'], topic_data['count'], label='Topic {}'.format(topic))\n",
    "ax.set_xlabel('Time Period')\n",
    "ax.set_ylabel('Number of Documents')\n",
    "ax.legend()\n",
    "plt.xticks(rotation=90)\n",
    "#ax.set_xticks(quarter_periods)\n",
    "#ax.set_xticklabels(quarter_periods.strftime('%Y-Q%q'))\n",
    "plt.show()"
   ]
  },
  {
   "cell_type": "markdown",
   "id": "fd181806-e613-4489-84db-2308820de80a",
   "metadata": {},
   "source": [
    "Topic 0: Robinhood app, stock trading, and related terminology like \"dd\" (due diligence), \"rh\" (Robinhood), and \"stonks\".\n",
    "\n",
    "Topic 1: Options trading, including call and put options, and various timeframes (day, week, year).\n",
    "\n",
    "Topic 2: General discussions on stocks and the market, with terms like \"bb\" (Blackberry), \"wall\" (Wall Street), and \"street\".\n",
    "\n",
    "Topic 3: Short selling, stock prices, and related terms like \"squeeze\" (short squeeze), \"tendies\" (profits), and \"nio\" (a Chinese electric vehicle company).\n",
    "\n",
    "Topic 4: Hedge funds, news, and various other topics like the SEC (Securities and Exchange Commission), Donald Trump, and cryptocurrencies.\n",
    "\n",
    "Topic 5: Buying, holding, and selling stocks, as well as various other related terms like \"dip\" (a temporary drop in stock prices) and \"earnings\".\n",
    "\n",
    "Topic 6: Specific stocks that have gained a lot of attention on WSB, including AMC, Nokia, and Dogecoin, as well as related terms like \"moon\" and \"rocket\".\n",
    "\n",
    "Topic 7: General discussions on stocks and related topics, as well as various other terms like \"dogecoin\" and \"autist\".\n",
    "\n",
    "Topic 8: Discussions related to investing, including the WSB community itself, as well as related terms like \"retard\" (used humorously) and \"gain\".\n",
    "\n",
    "Topic 9: GameStop (GME), a stock that gained a lot of attention on WSB in early 2021, as well as related terms like \"next\" and \"buy\"."
   ]
  },
  {
   "cell_type": "code",
   "execution_count": 13,
   "id": "35e1d464-7803-4c6e-9c7e-06dfd1fbd45e",
   "metadata": {},
   "outputs": [
    {
     "data": {
      "text/plain": [
       "Index(['id', 'title', 'clean_text', 'author', 'timestamp', 'upvotes',\n",
       "       'num_comments', 'score', 'topic_label', 'time_period'],\n",
       "      dtype='object')"
      ]
     },
     "execution_count": 13,
     "metadata": {},
     "output_type": "execute_result"
    }
   ],
   "source": [
    "df.columns"
   ]
  },
  {
   "cell_type": "markdown",
   "id": "3d3503dc-6755-4364-8040-be5ebcee6329",
   "metadata": {},
   "source": [
    "### NER Spacy - Large"
   ]
  },
  {
   "cell_type": "code",
   "execution_count": 33,
   "id": "3ce0fd28-f868-4945-a5c9-39222df223a9",
   "metadata": {},
   "outputs": [
    {
     "data": {
      "text/plain": [
       "Index(['id', 'title', 'clean_text', 'author', 'timestamp', 'upvotes',\n",
       "       'num_comments', 'score', 'topic_label', 'title_ner_lg', 'text_ner_lg'],\n",
       "      dtype='object')"
      ]
     },
     "execution_count": 33,
     "metadata": {},
     "output_type": "execute_result"
    }
   ],
   "source": [
    "ner_lg = pd.read_parquet('ner_lg.parquet')\n",
    "\n",
    "df = pd.concat([df, ner_lg], axis=1)\n",
    "df.columns"
   ]
  },
  {
   "cell_type": "code",
   "execution_count": 34,
   "id": "7e86728d-5138-4afe-8acb-1567da0b687b",
   "metadata": {},
   "outputs": [
    {
     "data": {
      "text/html": [
       "<div>\n",
       "<style scoped>\n",
       "    .dataframe tbody tr th:only-of-type {\n",
       "        vertical-align: middle;\n",
       "    }\n",
       "\n",
       "    .dataframe tbody tr th {\n",
       "        vertical-align: top;\n",
       "    }\n",
       "\n",
       "    .dataframe thead th {\n",
       "        text-align: right;\n",
       "    }\n",
       "</style>\n",
       "<table border=\"1\" class=\"dataframe\">\n",
       "  <thead>\n",
       "    <tr style=\"text-align: right;\">\n",
       "      <th></th>\n",
       "      <th>id</th>\n",
       "      <th>title</th>\n",
       "      <th>clean_text</th>\n",
       "      <th>author</th>\n",
       "      <th>timestamp</th>\n",
       "      <th>upvotes</th>\n",
       "      <th>num_comments</th>\n",
       "      <th>score</th>\n",
       "      <th>topic_label</th>\n",
       "      <th>title_ner_lg</th>\n",
       "      <th>text_ner_lg</th>\n",
       "    </tr>\n",
       "  </thead>\n",
       "  <tbody>\n",
       "    <tr>\n",
       "      <th>0</th>\n",
       "      <td>s4jw1</td>\n",
       "      <td>Earnings season is here.  Place your bets.</td>\n",
       "      <td>I know that /r/investing is a great place for ...</td>\n",
       "      <td>[deleted]</td>\n",
       "      <td>2012-04-11 16:40:40</td>\n",
       "      <td>16</td>\n",
       "      <td>22</td>\n",
       "      <td>13</td>\n",
       "      <td>2</td>\n",
       "      <td>[]</td>\n",
       "      <td>[Google]</td>\n",
       "    </tr>\n",
       "    <tr>\n",
       "      <th>1</th>\n",
       "      <td>s6r57</td>\n",
       "      <td>GOOG - beat estimates, price barely rises.</td>\n",
       "      <td>nan</td>\n",
       "      <td>[deleted]</td>\n",
       "      <td>2012-04-12 20:37:31</td>\n",
       "      <td>5</td>\n",
       "      <td>0</td>\n",
       "      <td>2</td>\n",
       "      <td>0</td>\n",
       "      <td>[]</td>\n",
       "      <td>[]</td>\n",
       "    </tr>\n",
       "    <tr>\n",
       "      <th>2</th>\n",
       "      <td>sd5ai</td>\n",
       "      <td>My poorly timed opening position for AAPL earn...</td>\n",
       "      <td>So I missed out on GOOG, which is probably a g...</td>\n",
       "      <td>[deleted]</td>\n",
       "      <td>2012-04-16 22:29:37</td>\n",
       "      <td>14</td>\n",
       "      <td>21</td>\n",
       "      <td>12</td>\n",
       "      <td>1</td>\n",
       "      <td>[]</td>\n",
       "      <td>[OTM, BTO, BTO]</td>\n",
       "    </tr>\n",
       "    <tr>\n",
       "      <th>3</th>\n",
       "      <td>se66f</td>\n",
       "      <td>Anyone betting on VVUS and their potential app...</td>\n",
       "      <td>I'm normally a long, but I've created a second...</td>\n",
       "      <td>[deleted]</td>\n",
       "      <td>2012-04-17 13:41:30</td>\n",
       "      <td>1</td>\n",
       "      <td>0</td>\n",
       "      <td>1</td>\n",
       "      <td>2</td>\n",
       "      <td>[VVUS, Qnexa]</td>\n",
       "      <td>[Qnexa, FDA]</td>\n",
       "    </tr>\n",
       "    <tr>\n",
       "      <th>4</th>\n",
       "      <td>sinsk</td>\n",
       "      <td>After HGSI spikes 97%, will share price drop a...</td>\n",
       "      <td>nan</td>\n",
       "      <td>CheeseYogi</td>\n",
       "      <td>2012-04-19 23:21:16</td>\n",
       "      <td>5</td>\n",
       "      <td>0</td>\n",
       "      <td>4</td>\n",
       "      <td>0</td>\n",
       "      <td>[HGSI]</td>\n",
       "      <td>[]</td>\n",
       "    </tr>\n",
       "  </tbody>\n",
       "</table>\n",
       "</div>"
      ],
      "text/plain": [
       "      id                                              title  \\\n",
       "0  s4jw1         Earnings season is here.  Place your bets.   \n",
       "1  s6r57         GOOG - beat estimates, price barely rises.   \n",
       "2  sd5ai  My poorly timed opening position for AAPL earn...   \n",
       "3  se66f  Anyone betting on VVUS and their potential app...   \n",
       "4  sinsk  After HGSI spikes 97%, will share price drop a...   \n",
       "\n",
       "                                          clean_text      author  \\\n",
       "0  I know that /r/investing is a great place for ...   [deleted]   \n",
       "1                                                nan   [deleted]   \n",
       "2  So I missed out on GOOG, which is probably a g...   [deleted]   \n",
       "3  I'm normally a long, but I've created a second...   [deleted]   \n",
       "4                                                nan  CheeseYogi   \n",
       "\n",
       "            timestamp  upvotes  num_comments  score  topic_label  \\\n",
       "0 2012-04-11 16:40:40       16            22     13            2   \n",
       "1 2012-04-12 20:37:31        5             0      2            0   \n",
       "2 2012-04-16 22:29:37       14            21     12            1   \n",
       "3 2012-04-17 13:41:30        1             0      1            2   \n",
       "4 2012-04-19 23:21:16        5             0      4            0   \n",
       "\n",
       "    title_ner_lg      text_ner_lg  \n",
       "0             []         [Google]  \n",
       "1             []               []  \n",
       "2             []  [OTM, BTO, BTO]  \n",
       "3  [VVUS, Qnexa]     [Qnexa, FDA]  \n",
       "4         [HGSI]               []  "
      ]
     },
     "execution_count": 34,
     "metadata": {},
     "output_type": "execute_result"
    }
   ],
   "source": [
    "df.head()"
   ]
  },
  {
   "cell_type": "markdown",
   "id": "48a37136-8533-43fc-adcf-0b1a092028da",
   "metadata": {},
   "source": [
    "### Sentiment"
   ]
  },
  {
   "cell_type": "code",
   "execution_count": 35,
   "id": "0a85c612-051a-4cdc-8eb7-6bbb1e39f417",
   "metadata": {},
   "outputs": [
    {
     "data": {
      "text/plain": [
       "Index(['id', 'title', 'clean_text', 'author', 'timestamp', 'upvotes',\n",
       "       'num_comments', 'score', 'topic_label', 'title_ner_lg', 'text_ner_lg',\n",
       "       'sentiment', 'sentiment_title', 'polarity', 'subjectivity',\n",
       "       'polarity_title', 'subjectivity_title'],\n",
       "      dtype='object')"
      ]
     },
     "execution_count": 35,
     "metadata": {},
     "output_type": "execute_result"
    }
   ],
   "source": [
    "## Sentiment from Pattern Analyzer\n",
    "sent_patAna = pd.read_parquet('sentiment_title_text.parquet')\n",
    "\n",
    "df = pd.concat([df, sent_patAna], axis=1)\n",
    "df.columns"
   ]
  },
  {
   "cell_type": "code",
   "execution_count": 36,
   "id": "dcb0fbf5-0878-4883-8c1e-24142c45302a",
   "metadata": {},
   "outputs": [
    {
     "data": {
      "text/plain": [
       "Index(['id', 'title', 'clean_text', 'author', 'timestamp', 'upvotes',\n",
       "       'num_comments', 'score', 'topic_label', 'title_ner_lg', 'text_ner_lg',\n",
       "       'sentiment_text', 'sentiment_title', 'polarity_text',\n",
       "       'subjectivity_text', 'polarity_title', 'subjectivity_title'],\n",
       "      dtype='object')"
      ]
     },
     "execution_count": 36,
     "metadata": {},
     "output_type": "execute_result"
    }
   ],
   "source": [
    "df = df.rename(columns={'sentiment': 'sentiment_text', 'polarity':'polarity_text',\n",
    "                        'subjectivity':'subjectivity_text'})\n",
    "df.columns"
   ]
  },
  {
   "cell_type": "code",
   "execution_count": 37,
   "id": "378a3a74-e605-47d0-8df5-b824ffb9ab6a",
   "metadata": {},
   "outputs": [
    {
     "data": {
      "text/plain": [
       "Index(['id', 'title', 'clean_text', 'author', 'timestamp', 'upvotes',\n",
       "       'num_comments', 'score', 'topic_label', 'title_ner_lg', 'text_ner_lg',\n",
       "       'sentiment_text', 'sentiment_title', 'polarity_text',\n",
       "       'subjectivity_text', 'polarity_title', 'subjectivity_title', 'neg_text',\n",
       "       'neu_text', 'pos_text', 'compound', 'sentiment_text_vader', 'neg_title',\n",
       "       'neu_title', 'pos_title', 'compound', 'sentiment_title_vader'],\n",
       "      dtype='object')"
      ]
     },
     "execution_count": 37,
     "metadata": {},
     "output_type": "execute_result"
    }
   ],
   "source": [
    "## Sentiment from Vader\n",
    "sent_vader_text = pd.read_parquet('sentiment_vader_text.parquet')\n",
    "sent_vader_title = pd.read_parquet('sentiment_vader_title.parquet')\n",
    "\n",
    "sent_vader_text = sent_vader_text.rename(columns={'sentiment': 'sentiment_text_vader', \n",
    "                                                  'pos':'pos_text',\n",
    "                                                  'neg':'neg_text',\n",
    "                                                  'neu':'neu_text'})\n",
    "sent_vader_title = sent_vader_title.rename(columns={'sentiment': 'sentiment_title_vader', \n",
    "                                                  'pos':'pos_title',\n",
    "                                                  'neg':'neg_title',\n",
    "                                                  'neu':'neu_title'})\n",
    "\n",
    "df = pd.concat([df, sent_vader_text, sent_vader_title], axis=1)\n",
    "df.columns"
   ]
  },
  {
   "cell_type": "markdown",
   "id": "f2c17cc1-2e8c-4e6a-9f2c-48a62bdaa916",
   "metadata": {},
   "source": [
    "## Visualisation"
   ]
  },
  {
   "cell_type": "code",
   "execution_count": 38,
   "id": "f6821645-ff42-4f30-bfe3-b121377c59ef",
   "metadata": {},
   "outputs": [
    {
     "data": {
      "text/html": [
       "<div>\n",
       "<style scoped>\n",
       "    .dataframe tbody tr th:only-of-type {\n",
       "        vertical-align: middle;\n",
       "    }\n",
       "\n",
       "    .dataframe tbody tr th {\n",
       "        vertical-align: top;\n",
       "    }\n",
       "\n",
       "    .dataframe thead th {\n",
       "        text-align: right;\n",
       "    }\n",
       "</style>\n",
       "<table border=\"1\" class=\"dataframe\">\n",
       "  <thead>\n",
       "    <tr style=\"text-align: right;\">\n",
       "      <th></th>\n",
       "      <th>id</th>\n",
       "      <th>title</th>\n",
       "      <th>clean_text</th>\n",
       "      <th>author</th>\n",
       "      <th>timestamp</th>\n",
       "      <th>upvotes</th>\n",
       "      <th>num_comments</th>\n",
       "      <th>score</th>\n",
       "      <th>topic_label</th>\n",
       "      <th>title_ner_lg</th>\n",
       "      <th>...</th>\n",
       "      <th>neg_text</th>\n",
       "      <th>neu_text</th>\n",
       "      <th>pos_text</th>\n",
       "      <th>compound</th>\n",
       "      <th>sentiment_text_vader</th>\n",
       "      <th>neg_title</th>\n",
       "      <th>neu_title</th>\n",
       "      <th>pos_title</th>\n",
       "      <th>compound</th>\n",
       "      <th>sentiment_title_vader</th>\n",
       "    </tr>\n",
       "  </thead>\n",
       "  <tbody>\n",
       "    <tr>\n",
       "      <th>2218238</th>\n",
       "      <td>1006q7e</td>\n",
       "      <td>Gay bear</td>\n",
       "      <td></td>\n",
       "      <td>Anychefanytime</td>\n",
       "      <td>2022-12-31 23:39:35</td>\n",
       "      <td>0</td>\n",
       "      <td>1</td>\n",
       "      <td>1</td>\n",
       "      <td>0</td>\n",
       "      <td>[]</td>\n",
       "      <td>...</td>\n",
       "      <td>0.0</td>\n",
       "      <td>0.0</td>\n",
       "      <td>0.0</td>\n",
       "      <td>0.0</td>\n",
       "      <td>Neutral</td>\n",
       "      <td>0.0</td>\n",
       "      <td>1.000</td>\n",
       "      <td>0.000</td>\n",
       "      <td>0.0000</td>\n",
       "      <td>Neutral</td>\n",
       "    </tr>\n",
       "    <tr>\n",
       "      <th>2218239</th>\n",
       "      <td>1006ur4</td>\n",
       "      <td>Please identify which one of you was sitting o...</td>\n",
       "      <td>nan</td>\n",
       "      <td>dogelonian</td>\n",
       "      <td>2022-12-31 23:46:12</td>\n",
       "      <td>0</td>\n",
       "      <td>17</td>\n",
       "      <td>21</td>\n",
       "      <td>0</td>\n",
       "      <td>[]</td>\n",
       "      <td>...</td>\n",
       "      <td>0.0</td>\n",
       "      <td>1.0</td>\n",
       "      <td>0.0</td>\n",
       "      <td>0.0</td>\n",
       "      <td>Neutral</td>\n",
       "      <td>0.0</td>\n",
       "      <td>0.813</td>\n",
       "      <td>0.187</td>\n",
       "      <td>0.3182</td>\n",
       "      <td>Positive</td>\n",
       "    </tr>\n",
       "    <tr>\n",
       "      <th>2218240</th>\n",
       "      <td>1006xbr</td>\n",
       "      <td>Society</td>\n",
       "      <td>nan</td>\n",
       "      <td>Anychefanytime</td>\n",
       "      <td>2022-12-31 23:50:08</td>\n",
       "      <td>0</td>\n",
       "      <td>2</td>\n",
       "      <td>1</td>\n",
       "      <td>0</td>\n",
       "      <td>[Society]</td>\n",
       "      <td>...</td>\n",
       "      <td>0.0</td>\n",
       "      <td>1.0</td>\n",
       "      <td>0.0</td>\n",
       "      <td>0.0</td>\n",
       "      <td>Neutral</td>\n",
       "      <td>0.0</td>\n",
       "      <td>1.000</td>\n",
       "      <td>0.000</td>\n",
       "      <td>0.0000</td>\n",
       "      <td>Neutral</td>\n",
       "    </tr>\n",
       "    <tr>\n",
       "      <th>2218241</th>\n",
       "      <td>1006ygl</td>\n",
       "      <td>Me at the end of 2022.</td>\n",
       "      <td>nan</td>\n",
       "      <td>the-real-ben-dover</td>\n",
       "      <td>2022-12-31 23:51:48</td>\n",
       "      <td>0</td>\n",
       "      <td>6</td>\n",
       "      <td>21</td>\n",
       "      <td>0</td>\n",
       "      <td>[]</td>\n",
       "      <td>...</td>\n",
       "      <td>0.0</td>\n",
       "      <td>1.0</td>\n",
       "      <td>0.0</td>\n",
       "      <td>0.0</td>\n",
       "      <td>Neutral</td>\n",
       "      <td>0.0</td>\n",
       "      <td>1.000</td>\n",
       "      <td>0.000</td>\n",
       "      <td>0.0000</td>\n",
       "      <td>Neutral</td>\n",
       "    </tr>\n",
       "    <tr>\n",
       "      <th>2218242</th>\n",
       "      <td>1006yjy</td>\n",
       "      <td>The gift I want after FTX</td>\n",
       "      <td></td>\n",
       "      <td>[deleted]</td>\n",
       "      <td>2022-12-31 23:51:57</td>\n",
       "      <td>0</td>\n",
       "      <td>16</td>\n",
       "      <td>32</td>\n",
       "      <td>0</td>\n",
       "      <td>[FTX]</td>\n",
       "      <td>...</td>\n",
       "      <td>0.0</td>\n",
       "      <td>0.0</td>\n",
       "      <td>0.0</td>\n",
       "      <td>0.0</td>\n",
       "      <td>Neutral</td>\n",
       "      <td>0.0</td>\n",
       "      <td>0.488</td>\n",
       "      <td>0.512</td>\n",
       "      <td>0.4939</td>\n",
       "      <td>Positive</td>\n",
       "    </tr>\n",
       "  </tbody>\n",
       "</table>\n",
       "<p>5 rows × 27 columns</p>\n",
       "</div>"
      ],
      "text/plain": [
       "              id                                              title  \\\n",
       "2218238  1006q7e                                           Gay bear   \n",
       "2218239  1006ur4  Please identify which one of you was sitting o...   \n",
       "2218240  1006xbr                                            Society   \n",
       "2218241  1006ygl                             Me at the end of 2022.   \n",
       "2218242  1006yjy                          The gift I want after FTX   \n",
       "\n",
       "        clean_text              author           timestamp  upvotes  \\\n",
       "2218238                 Anychefanytime 2022-12-31 23:39:35        0   \n",
       "2218239        nan          dogelonian 2022-12-31 23:46:12        0   \n",
       "2218240        nan      Anychefanytime 2022-12-31 23:50:08        0   \n",
       "2218241        nan  the-real-ben-dover 2022-12-31 23:51:48        0   \n",
       "2218242                      [deleted] 2022-12-31 23:51:57        0   \n",
       "\n",
       "         num_comments  score  topic_label title_ner_lg  ... neg_text neu_text  \\\n",
       "2218238             1      1            0           []  ...      0.0      0.0   \n",
       "2218239            17     21            0           []  ...      0.0      1.0   \n",
       "2218240             2      1            0    [Society]  ...      0.0      1.0   \n",
       "2218241             6     21            0           []  ...      0.0      1.0   \n",
       "2218242            16     32            0        [FTX]  ...      0.0      0.0   \n",
       "\n",
       "        pos_text  compound  sentiment_text_vader  neg_title  neu_title  \\\n",
       "2218238      0.0       0.0               Neutral        0.0      1.000   \n",
       "2218239      0.0       0.0               Neutral        0.0      0.813   \n",
       "2218240      0.0       0.0               Neutral        0.0      1.000   \n",
       "2218241      0.0       0.0               Neutral        0.0      1.000   \n",
       "2218242      0.0       0.0               Neutral        0.0      0.488   \n",
       "\n",
       "         pos_title  compound  sentiment_title_vader  \n",
       "2218238      0.000    0.0000                Neutral  \n",
       "2218239      0.187    0.3182               Positive  \n",
       "2218240      0.000    0.0000                Neutral  \n",
       "2218241      0.000    0.0000                Neutral  \n",
       "2218242      0.512    0.4939               Positive  \n",
       "\n",
       "[5 rows x 27 columns]"
      ]
     },
     "execution_count": 38,
     "metadata": {},
     "output_type": "execute_result"
    }
   ],
   "source": [
    "df.tail()"
   ]
  },
  {
   "cell_type": "code",
   "execution_count": 40,
   "id": "37ec4d15-ed7e-4c77-98e8-908d8c8fa7b5",
   "metadata": {},
   "outputs": [
    {
     "data": {
      "text/plain": [
       "[('GME', 141937),\n",
       " ('AMC', 76315),\n",
       " ('WSB', 29340),\n",
       " ('Robinhood', 25420),\n",
       " ('BB', 14812),\n",
       " ('Tesla', 12111),\n",
       " ('PLTR', 11019),\n",
       " ('MOON', 8472),\n",
       " ('AMD', 7947),\n",
       " ('gme', 7511),\n",
       " ('SEC', 6223),\n",
       " ('NAKD', 5448),\n",
       " ('CNBC', 4683),\n",
       " ('TSLA', 4241),\n",
       " ('NOK', 4140)]"
      ]
     },
     "execution_count": 40,
     "metadata": {},
     "output_type": "execute_result"
    }
   ],
   "source": [
    "from collections import Counter\n",
    "\n",
    "flat_list = [item for sublist in df['title_ner_lg'] for item in sublist]\n",
    "\n",
    "# count values using Counter\n",
    "Counter(flat_list).most_common(15)"
   ]
  },
  {
   "cell_type": "code",
   "execution_count": null,
   "id": "4330df29-5b98-44bb-a188-e5ca86a4514b",
   "metadata": {},
   "outputs": [],
   "source": []
  }
 ],
 "metadata": {
  "environment": {
   "kernel": "python3",
   "name": "common-cpu.m103",
   "type": "gcloud",
   "uri": "gcr.io/deeplearning-platform-release/base-cpu:m103"
  },
  "kernelspec": {
   "display_name": "Python 3",
   "language": "python",
   "name": "python3"
  },
  "language_info": {
   "codemirror_mode": {
    "name": "ipython",
    "version": 3
   },
   "file_extension": ".py",
   "mimetype": "text/x-python",
   "name": "python",
   "nbconvert_exporter": "python",
   "pygments_lexer": "ipython3",
   "version": "3.7.12"
  }
 },
 "nbformat": 4,
 "nbformat_minor": 5
}
