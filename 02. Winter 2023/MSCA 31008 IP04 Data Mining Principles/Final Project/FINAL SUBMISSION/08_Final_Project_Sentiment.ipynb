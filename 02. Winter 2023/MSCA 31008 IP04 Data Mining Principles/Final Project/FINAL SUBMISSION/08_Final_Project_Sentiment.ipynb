{
 "cells": [
  {
   "cell_type": "code",
   "execution_count": 23,
   "id": "d648d93f-e668-4115-94ac-bd52f505f591",
   "metadata": {},
   "outputs": [],
   "source": [
    "## Read data\n",
    "import pandas as pd\n",
    "import re\n",
    "from collections import Counter\n",
    "import nltk\n",
    "from nltk.tokenize import  word_tokenize\n",
    "from pandarallel import pandarallel\n",
    "import pickle\n",
    "\n",
    "import os\n",
    "import numpy as np\n"
   ]
  },
  {
   "cell_type": "code",
   "execution_count": 11,
   "id": "8662be47-26d0-4fb1-80db-a37843708aac",
   "metadata": {},
   "outputs": [],
   "source": [
    "#!pip install spacy"
   ]
  },
  {
   "cell_type": "code",
   "execution_count": 46,
   "id": "6541f6ff-e043-472c-9a30-b4b9abc46465",
   "metadata": {},
   "outputs": [
    {
     "name": "stdout",
     "output_type": "stream",
     "text": [
      "Available CPUs: 16\n"
     ]
    }
   ],
   "source": [
    "import multiprocessing\n",
    "\n",
    "num_processors = multiprocessing.cpu_count()\n",
    "print(f'Available CPUs: {num_processors}')"
   ]
  },
  {
   "cell_type": "code",
   "execution_count": 25,
   "id": "8361d140-82a2-4fa9-9c3b-8ef610fe6163",
   "metadata": {},
   "outputs": [
    {
     "name": "stderr",
     "output_type": "stream",
     "text": [
      "/opt/conda/lib/python3.7/site-packages/IPython/core/magics/execution.py:1335: DtypeWarning: Columns (6) have mixed types.Specify dtype option on import or set low_memory=False.\n",
      "  exec(code, glob, local_ns)\n"
     ]
    },
    {
     "name": "stdout",
     "output_type": "stream",
     "text": [
      "CPU times: user 13.9 s, sys: 1.91 s, total: 15.8 s\n",
      "Wall time: 15.8 s\n"
     ]
    },
    {
     "data": {
      "text/plain": [
       "(2218243, 14)"
      ]
     },
     "execution_count": 25,
     "metadata": {},
     "output_type": "execute_result"
    }
   ],
   "source": [
    "%%time\n",
    "post_data_full = pd.read_csv('wallstreetbets_submissions_zstextract.csv')\n",
    "post_data_full.shape"
   ]
  },
  {
   "cell_type": "code",
   "execution_count": 26,
   "id": "ea5e9591-8119-4d05-a330-a8b2879035fd",
   "metadata": {},
   "outputs": [
    {
     "data": {
      "text/plain": [
       "Timestamp('2012-04-11 16:40:40')"
      ]
     },
     "execution_count": 26,
     "metadata": {},
     "output_type": "execute_result"
    }
   ],
   "source": [
    "import datetime\n",
    "\n",
    "post_data_full['timestamp'] = post_data_full['created_utc'].apply(datetime.datetime.fromtimestamp)\n",
    "post_data_full['timestamp'].min()"
   ]
  },
  {
   "cell_type": "code",
   "execution_count": 4,
   "id": "0acbd1da-ad1b-4cc7-9cd4-32c53f3b5aef",
   "metadata": {},
   "outputs": [],
   "source": [
    "def clean_text(text):\n",
    "    # Remove all text between square brackets\n",
    "    text = re.sub(r'\\[.*?\\]', '', text)\n",
    "    \n",
    "    # Remove all text between parentheses\n",
    "    text = re.sub(r'\\(.*?\\)', '', text)\n",
    "    \n",
    "    # Remove all text between curly braces\n",
    "    text = re.sub(r'\\{.*?\\}', '', text)\n",
    "    \n",
    "    # Remove all text between angle brackets\n",
    "    text = re.sub(r'<.*?>', '', text)\n",
    "    \n",
    "    # Remove all text between double quotes\n",
    "    #text = re.sub(r'\"(.*?)\"', '', text)\n",
    "    \n",
    "    # Remove all text between single quotes\n",
    "    #text = re.sub(r\"'(.*?)'\", '', text)\n",
    "    \n",
    "    # Remove everything between **____**\n",
    "    text = re.sub(r'\\*\\*(.*?)\\*\\*','',text)\n",
    "    \n",
    "    # Remove words followed by ^\n",
    "    text = re.sub(r'(\\^\\w*)','',text)\n",
    "    \n",
    "    # Remove mentions, hashtags, links\n",
    "    text = re.sub(r'\\||:|\\-|\\n|(@\\w+.*?)|(http\\w\\S+.*?)|(#\\w+)','',text)\n",
    "    \n",
    "    # Remove all ^Your daily posts\n",
    "    text = re.sub(r'^Your daily trading discussion.*|^We are now using AutoModerator.*|^Every time a new submission.*|^Trading discussion only.*','',text)\n",
    "    \n",
    "    # Remove all newlines, tabs, and extra whitespace\n",
    "    text = re.sub(r'[\\n\\t]+', ' ', text)\n",
    "    text = re.sub(r'\\s{2,}', ' ', text)\n",
    "    \n",
    "    \n",
    "    return text"
   ]
  },
  {
   "cell_type": "code",
   "execution_count": 27,
   "id": "148c37f3-ba31-4d6c-b12c-0e3b2fa96f2b",
   "metadata": {},
   "outputs": [
    {
     "name": "stdout",
     "output_type": "stream",
     "text": [
      "INFO: Pandarallel will run on 8 workers.\n",
      "INFO: Pandarallel will use Memory file system to transfer data between the main process and workers.\n",
      "CPU times: user 2.78 s, sys: 1.08 s, total: 3.86 s\n",
      "Wall time: 10.5 s\n"
     ]
    },
    {
     "data": {
      "text/plain": [
       "clean_text\n",
       "            1400263\n",
       "nan          661710\n",
       "&amp;;         1012\n",
       "                648\n",
       "Discuss.        509\n",
       "Name: author, dtype: int64"
      ]
     },
     "execution_count": 27,
     "metadata": {},
     "output_type": "execute_result"
    }
   ],
   "source": [
    "%%time\n",
    "\n",
    "pandarallel.initialize()\n",
    "post_data_full['clean_text'] = post_data_full['body'].parallel_apply(lambda x: clean_text(str(x)))\n",
    "post_data_full = post_data_full[['id','title','clean_text','author','timestamp','upvotes','num_comments','score']]\n",
    "post_data_full.groupby(['clean_text'])['author'].count().sort_values(ascending=False).head(5)"
   ]
  },
  {
   "cell_type": "code",
   "execution_count": 28,
   "id": "2ca0b062-33e3-4259-abf6-2509a17838d2",
   "metadata": {},
   "outputs": [],
   "source": [
    "## Creating a copy\n",
    "df = post_data_full.copy()"
   ]
  },
  {
   "cell_type": "markdown",
   "id": "b8726903-8b5e-41f6-bbb2-9c9176c47321",
   "metadata": {},
   "source": [
    "## Spacy NER\n"
   ]
  },
  {
   "cell_type": "code",
   "execution_count": 12,
   "id": "79773fe5-4d74-4e03-9540-1dc42b7ff315",
   "metadata": {},
   "outputs": [
    {
     "name": "stderr",
     "output_type": "stream",
     "text": [
      "2023-03-07 07:40:03.107846: I tensorflow/core/platform/cpu_feature_guard.cc:193] This TensorFlow binary is optimized with oneAPI Deep Neural Network Library (oneDNN) to use the following CPU instructions in performance-critical operations:  AVX2 FMA\n",
      "To enable them in other operations, rebuild TensorFlow with the appropriate compiler flags.\n",
      "2023-03-07 07:40:15.473519: W tensorflow/compiler/xla/stream_executor/platform/default/dso_loader.cc:64] Could not load dynamic library 'libnvinfer.so.7'; dlerror: libnvinfer.so.7: cannot open shared object file: No such file or directory\n",
      "2023-03-07 07:40:15.475639: W tensorflow/compiler/xla/stream_executor/platform/default/dso_loader.cc:64] Could not load dynamic library 'libnvinfer_plugin.so.7'; dlerror: libnvinfer_plugin.so.7: cannot open shared object file: No such file or directory\n",
      "2023-03-07 07:40:15.475667: W tensorflow/compiler/tf2tensorrt/utils/py_utils.cc:38] TF-TRT Warning: Cannot dlopen some TensorRT libraries. If you would like to use Nvidia GPU with TensorRT, please make sure the missing libraries mentioned above are installed properly.\n",
      "2023-03-07 07:40:21.178362: W tensorflow/compiler/xla/stream_executor/platform/default/dso_loader.cc:64] Could not load dynamic library 'libcuda.so.1'; dlerror: libcuda.so.1: cannot open shared object file: No such file or directory\n",
      "2023-03-07 07:40:21.191882: W tensorflow/compiler/xla/stream_executor/cuda/cuda_driver.cc:265] failed call to cuInit: UNKNOWN ERROR (303)\n",
      "2023-03-07 07:40:21.191964: I tensorflow/compiler/xla/stream_executor/cuda/cuda_diagnostics.cc:156] kernel driver does not appear to be running on this host (python-20230227-200142): /proc/driver/nvidia/version does not exist\n"
     ]
    }
   ],
   "source": [
    "import spacy \n",
    "from spacy import displacy"
   ]
  },
  {
   "cell_type": "code",
   "execution_count": 40,
   "id": "62ce1642-922b-4407-9956-656340de1d67",
   "metadata": {},
   "outputs": [],
   "source": [
    "#!python -m spacy download en_core_web_lg"
   ]
  },
  {
   "cell_type": "code",
   "execution_count": 41,
   "id": "b8d59e6f-9628-4367-b46e-1c6e53fa34ac",
   "metadata": {},
   "outputs": [
    {
     "data": {
      "text/plain": [
       "['tok2vec', 'tagger', 'parser', 'attribute_ruler', 'lemmatizer', 'ner']"
      ]
     },
     "execution_count": 41,
     "metadata": {},
     "output_type": "execute_result"
    }
   ],
   "source": [
    "#nlp = spacy.load(\"en_core_web_sm\")\n",
    "nlp = spacy.load(\"en_core_web_lg\")\n",
    "nlp.pipe_names"
   ]
  },
  {
   "cell_type": "code",
   "execution_count": 21,
   "id": "0336393e-a80c-4ac2-98e6-726384600e6c",
   "metadata": {},
   "outputs": [],
   "source": [
    "def get_org_entities(text):\n",
    "    doc = nlp(str(text))\n",
    "    org_entities = []\n",
    "    for ent in doc.ents:\n",
    "        if ent.label_ == 'ORG':\n",
    "            org_entities.append(ent.text)\n",
    "    return org_entities\n",
    "\n"
   ]
  },
  {
   "cell_type": "code",
   "execution_count": 42,
   "id": "79302168-3dc2-4d79-b58d-a3b5394d95c5",
   "metadata": {},
   "outputs": [
    {
     "name": "stdout",
     "output_type": "stream",
     "text": [
      "INFO: Pandarallel will run on 8 workers.\n",
      "INFO: Pandarallel will use Memory file system to transfer data between the main process and workers.\n",
      "CPU times: user 4.65 s, sys: 2.61 s, total: 7.25 s\n",
      "Wall time: 33min 50s\n"
     ]
    }
   ],
   "source": [
    "%%time\n",
    "\n",
    "pandarallel.initialize()\n",
    "df['title_ner_lg'] = df['title'].parallel_apply(get_org_entities)"
   ]
  },
  {
   "cell_type": "code",
   "execution_count": 43,
   "id": "66689c6b-2bec-4c87-a22c-7ebbd86ceb78",
   "metadata": {},
   "outputs": [
    {
     "name": "stdout",
     "output_type": "stream",
     "text": [
      "CPU times: user 3.26 s, sys: 1.86 s, total: 5.12 s\n",
      "Wall time: 28min 51s\n"
     ]
    }
   ],
   "source": [
    "%%time\n",
    "\n",
    "df['text_ner_lg'] = df['clean_text'].parallel_apply(get_org_entities)"
   ]
  },
  {
   "cell_type": "code",
   "execution_count": 44,
   "id": "0e64182d-b934-4990-a792-c9fd197aa06f",
   "metadata": {},
   "outputs": [],
   "source": [
    "df1 = df[['title_ner_lg','text_ner_lg']]\n",
    "\n",
    "df1.to_parquet('ner_lg.parquet')"
   ]
  },
  {
   "cell_type": "code",
   "execution_count": 45,
   "id": "677cdb27-ef6c-4925-b0bb-e1b5f1c85161",
   "metadata": {},
   "outputs": [
    {
     "data": {
      "text/html": [
       "<div>\n",
       "<style scoped>\n",
       "    .dataframe tbody tr th:only-of-type {\n",
       "        vertical-align: middle;\n",
       "    }\n",
       "\n",
       "    .dataframe tbody tr th {\n",
       "        vertical-align: top;\n",
       "    }\n",
       "\n",
       "    .dataframe thead th {\n",
       "        text-align: right;\n",
       "    }\n",
       "</style>\n",
       "<table border=\"1\" class=\"dataframe\">\n",
       "  <thead>\n",
       "    <tr style=\"text-align: right;\">\n",
       "      <th></th>\n",
       "      <th>id</th>\n",
       "      <th>title</th>\n",
       "      <th>clean_text</th>\n",
       "      <th>author</th>\n",
       "      <th>timestamp</th>\n",
       "      <th>upvotes</th>\n",
       "      <th>num_comments</th>\n",
       "      <th>score</th>\n",
       "      <th>title_ner</th>\n",
       "      <th>text_ner</th>\n",
       "      <th>title_ner_lg</th>\n",
       "      <th>text_ner_lg</th>\n",
       "    </tr>\n",
       "  </thead>\n",
       "  <tbody>\n",
       "    <tr>\n",
       "      <th>0</th>\n",
       "      <td>s4jw1</td>\n",
       "      <td>Earnings season is here.  Place your bets.</td>\n",
       "      <td>I know that /r/investing is a great place for congregating with fellow market gamblers but it's not *exactly* the right place to be. So rather than flooding it with gambling posts and epic win/loss screen shots I figured I'd make another sub for this specifically for speculating and such. We'll see if it works. Subscribe if you're interested.Anyways, upcomming earnings * AAPL 4/24* AMZN 4/25 * GOOG 4/12 * GRPN 5/14 * LNKD 5/4 * NFLX 4/23* PCLN 5/8 * ANF 5/16* GMCR 5/2 * LVS 5/4 There's a lis...</td>\n",
       "      <td>[deleted]</td>\n",
       "      <td>2012-04-11 16:40:40</td>\n",
       "      <td>16</td>\n",
       "      <td>22</td>\n",
       "      <td>13</td>\n",
       "      <td>[]</td>\n",
       "      <td>[NFLX, ANF, Google]</td>\n",
       "      <td>[]</td>\n",
       "      <td>[Google]</td>\n",
       "    </tr>\n",
       "    <tr>\n",
       "      <th>1</th>\n",
       "      <td>s6r57</td>\n",
       "      <td>GOOG - beat estimates, price barely rises.</td>\n",
       "      <td>nan</td>\n",
       "      <td>[deleted]</td>\n",
       "      <td>2012-04-12 20:37:31</td>\n",
       "      <td>5</td>\n",
       "      <td>0</td>\n",
       "      <td>2</td>\n",
       "      <td>[]</td>\n",
       "      <td>[]</td>\n",
       "      <td>[]</td>\n",
       "      <td>[]</td>\n",
       "    </tr>\n",
       "    <tr>\n",
       "      <th>2</th>\n",
       "      <td>sd5ai</td>\n",
       "      <td>My poorly timed opening position for AAPL earnings bet</td>\n",
       "      <td>So I missed out on GOOG, which is probably a good thing given their split/dividend announcement really put a damper on things. But I'm not planning on missing out on AAPL and today was a perfect day to lock in a bet. Unfortunately for me I got greedy and subsequently got slapped on the wrist.Position Bought an OTM straddle with intentions on selling right before earnings. This way I don't care about the results and ride the volatility wave up to the wave's crest.* BTO AAPL May put @ 525 for ...</td>\n",
       "      <td>[deleted]</td>\n",
       "      <td>2012-04-16 22:29:37</td>\n",
       "      <td>14</td>\n",
       "      <td>21</td>\n",
       "      <td>12</td>\n",
       "      <td>[]</td>\n",
       "      <td>[GOOG, OTM]</td>\n",
       "      <td>[]</td>\n",
       "      <td>[OTM, BTO, BTO]</td>\n",
       "    </tr>\n",
       "    <tr>\n",
       "      <th>3</th>\n",
       "      <td>se66f</td>\n",
       "      <td>Anyone betting on VVUS and their potential approval of their Qnexa drug today?</td>\n",
       "      <td>I'm normally a long, but I've created a secondary account with a small amount of money I am comfortable with losing for jumping on opportunities like this and learning from my successes . I've been waiting a couple weeks for a good opportunity, and this looks like it may be it. Lot of buzz going around the company for their drug Qnexa potentially being approved by the FDA, and a couple sources even went as far as to call it \"an easy double\".I'll be honest, I'm completely new to this, and my ...</td>\n",
       "      <td>[deleted]</td>\n",
       "      <td>2012-04-17 13:41:30</td>\n",
       "      <td>1</td>\n",
       "      <td>0</td>\n",
       "      <td>1</td>\n",
       "      <td>[VVUS]</td>\n",
       "      <td>[FDA]</td>\n",
       "      <td>[VVUS, Qnexa]</td>\n",
       "      <td>[Qnexa, FDA]</td>\n",
       "    </tr>\n",
       "    <tr>\n",
       "      <th>4</th>\n",
       "      <td>sinsk</td>\n",
       "      <td>After HGSI spikes 97%, will share price drop at market open?</td>\n",
       "      <td>nan</td>\n",
       "      <td>CheeseYogi</td>\n",
       "      <td>2012-04-19 23:21:16</td>\n",
       "      <td>5</td>\n",
       "      <td>0</td>\n",
       "      <td>4</td>\n",
       "      <td>[HGSI]</td>\n",
       "      <td>[]</td>\n",
       "      <td>[HGSI]</td>\n",
       "      <td>[]</td>\n",
       "    </tr>\n",
       "    <tr>\n",
       "      <th>5</th>\n",
       "      <td>shtex</td>\n",
       "      <td>EBAY posts higher 1Q net income and revenue, soars.</td>\n",
       "      <td>nan</td>\n",
       "      <td>secondhandsondek</td>\n",
       "      <td>2012-04-19 14:10:20</td>\n",
       "      <td>10</td>\n",
       "      <td>4</td>\n",
       "      <td>7</td>\n",
       "      <td>[EBAY]</td>\n",
       "      <td>[]</td>\n",
       "      <td>[EBAY]</td>\n",
       "      <td>[]</td>\n",
       "    </tr>\n",
       "    <tr>\n",
       "      <th>6</th>\n",
       "      <td>skmub</td>\n",
       "      <td>AAPL Earnings bets?</td>\n",
       "      <td>Today, when AAPL was heading for max pain at 575, I entered a May 575/585 call spread for 4.50, my plan is that I anticipate AAPL moves up on Monday then I will enter into a 585/575 put spread as a hedge if I can get it for less than 5.00, depending on Monday, I may go with different strikes, but that's going to be my earnings play, does anyone else have their bets in place?</td>\n",
       "      <td>[deleted]</td>\n",
       "      <td>2012-04-21 00:54:33</td>\n",
       "      <td>7</td>\n",
       "      <td>5</td>\n",
       "      <td>7</td>\n",
       "      <td>[AAPL Earnings]</td>\n",
       "      <td>[]</td>\n",
       "      <td>[]</td>\n",
       "      <td>[AAPL]</td>\n",
       "    </tr>\n",
       "    <tr>\n",
       "      <th>7</th>\n",
       "      <td>sohin</td>\n",
       "      <td>NFLX bear coming out of hibernation. Earnings tonight. Any takers?</td>\n",
       "      <td>nan</td>\n",
       "      <td>secondhandsondek</td>\n",
       "      <td>2012-04-23 18:00:52</td>\n",
       "      <td>10</td>\n",
       "      <td>13</td>\n",
       "      <td>7</td>\n",
       "      <td>[NFLX]</td>\n",
       "      <td>[]</td>\n",
       "      <td>[NFLX]</td>\n",
       "      <td>[]</td>\n",
       "    </tr>\n",
       "    <tr>\n",
       "      <th>8</th>\n",
       "      <td>sqhht</td>\n",
       "      <td>AAPL - this is why we call it a gamble.  I really need this.  Anyone else playing it?</td>\n",
       "      <td>nan</td>\n",
       "      <td>[deleted]</td>\n",
       "      <td>2012-04-24 20:07:33</td>\n",
       "      <td>6</td>\n",
       "      <td>7</td>\n",
       "      <td>3</td>\n",
       "      <td>[]</td>\n",
       "      <td>[]</td>\n",
       "      <td>[]</td>\n",
       "      <td>[]</td>\n",
       "    </tr>\n",
       "    <tr>\n",
       "      <th>9</th>\n",
       "      <td>sqd7j</td>\n",
       "      <td>PNRA - Panera Breads earnings tonight (4/24)</td>\n",
       "      <td>nan</td>\n",
       "      <td>secondhandsondek</td>\n",
       "      <td>2012-04-24 18:50:53</td>\n",
       "      <td>6</td>\n",
       "      <td>3</td>\n",
       "      <td>4</td>\n",
       "      <td>[]</td>\n",
       "      <td>[]</td>\n",
       "      <td>[PNRA - Panera Breads]</td>\n",
       "      <td>[]</td>\n",
       "    </tr>\n",
       "  </tbody>\n",
       "</table>\n",
       "</div>"
      ],
      "text/plain": [
       "      id  \\\n",
       "0  s4jw1   \n",
       "1  s6r57   \n",
       "2  sd5ai   \n",
       "3  se66f   \n",
       "4  sinsk   \n",
       "5  shtex   \n",
       "6  skmub   \n",
       "7  sohin   \n",
       "8  sqhht   \n",
       "9  sqd7j   \n",
       "\n",
       "                                                                                   title  \\\n",
       "0                                             Earnings season is here.  Place your bets.   \n",
       "1                                             GOOG - beat estimates, price barely rises.   \n",
       "2                                 My poorly timed opening position for AAPL earnings bet   \n",
       "3         Anyone betting on VVUS and their potential approval of their Qnexa drug today?   \n",
       "4                           After HGSI spikes 97%, will share price drop at market open?   \n",
       "5                                    EBAY posts higher 1Q net income and revenue, soars.   \n",
       "6                                                                    AAPL Earnings bets?   \n",
       "7                     NFLX bear coming out of hibernation. Earnings tonight. Any takers?   \n",
       "8  AAPL - this is why we call it a gamble.  I really need this.  Anyone else playing it?   \n",
       "9                                           PNRA - Panera Breads earnings tonight (4/24)   \n",
       "\n",
       "                                                                                                                                                                                                                                                                                                                                                                                                                                                                                                            clean_text  \\\n",
       "0  I know that /r/investing is a great place for congregating with fellow market gamblers but it's not *exactly* the right place to be. So rather than flooding it with gambling posts and epic win/loss screen shots I figured I'd make another sub for this specifically for speculating and such. We'll see if it works. Subscribe if you're interested.Anyways, upcomming earnings * AAPL 4/24* AMZN 4/25 * GOOG 4/12 * GRPN 5/14 * LNKD 5/4 * NFLX 4/23* PCLN 5/8 * ANF 5/16* GMCR 5/2 * LVS 5/4 There's a lis...   \n",
       "1                                                                                                                                                                                                                                                                                                                                                                                                                                                                                                                  nan   \n",
       "2  So I missed out on GOOG, which is probably a good thing given their split/dividend announcement really put a damper on things. But I'm not planning on missing out on AAPL and today was a perfect day to lock in a bet. Unfortunately for me I got greedy and subsequently got slapped on the wrist.Position Bought an OTM straddle with intentions on selling right before earnings. This way I don't care about the results and ride the volatility wave up to the wave's crest.* BTO AAPL May put @ 525 for ...   \n",
       "3  I'm normally a long, but I've created a secondary account with a small amount of money I am comfortable with losing for jumping on opportunities like this and learning from my successes . I've been waiting a couple weeks for a good opportunity, and this looks like it may be it. Lot of buzz going around the company for their drug Qnexa potentially being approved by the FDA, and a couple sources even went as far as to call it \"an easy double\".I'll be honest, I'm completely new to this, and my ...   \n",
       "4                                                                                                                                                                                                                                                                                                                                                                                                                                                                                                                  nan   \n",
       "5                                                                                                                                                                                                                                                                                                                                                                                                                                                                                                                  nan   \n",
       "6                                                                                                                            Today, when AAPL was heading for max pain at 575, I entered a May 575/585 call spread for 4.50, my plan is that I anticipate AAPL moves up on Monday then I will enter into a 585/575 put spread as a hedge if I can get it for less than 5.00, depending on Monday, I may go with different strikes, but that's going to be my earnings play, does anyone else have their bets in place?   \n",
       "7                                                                                                                                                                                                                                                                                                                                                                                                                                                                                                                  nan   \n",
       "8                                                                                                                                                                                                                                                                                                                                                                                                                                                                                                                  nan   \n",
       "9                                                                                                                                                                                                                                                                                                                                                                                                                                                                                                                  nan   \n",
       "\n",
       "             author           timestamp  upvotes  num_comments  score  \\\n",
       "0         [deleted] 2012-04-11 16:40:40       16            22     13   \n",
       "1         [deleted] 2012-04-12 20:37:31        5             0      2   \n",
       "2         [deleted] 2012-04-16 22:29:37       14            21     12   \n",
       "3         [deleted] 2012-04-17 13:41:30        1             0      1   \n",
       "4        CheeseYogi 2012-04-19 23:21:16        5             0      4   \n",
       "5  secondhandsondek 2012-04-19 14:10:20       10             4      7   \n",
       "6         [deleted] 2012-04-21 00:54:33        7             5      7   \n",
       "7  secondhandsondek 2012-04-23 18:00:52       10            13      7   \n",
       "8         [deleted] 2012-04-24 20:07:33        6             7      3   \n",
       "9  secondhandsondek 2012-04-24 18:50:53        6             3      4   \n",
       "\n",
       "         title_ner             text_ner            title_ner_lg  \\\n",
       "0               []  [NFLX, ANF, Google]                      []   \n",
       "1               []                   []                      []   \n",
       "2               []          [GOOG, OTM]                      []   \n",
       "3           [VVUS]                [FDA]           [VVUS, Qnexa]   \n",
       "4           [HGSI]                   []                  [HGSI]   \n",
       "5           [EBAY]                   []                  [EBAY]   \n",
       "6  [AAPL Earnings]                   []                      []   \n",
       "7           [NFLX]                   []                  [NFLX]   \n",
       "8               []                   []                      []   \n",
       "9               []                   []  [PNRA - Panera Breads]   \n",
       "\n",
       "       text_ner_lg  \n",
       "0         [Google]  \n",
       "1               []  \n",
       "2  [OTM, BTO, BTO]  \n",
       "3     [Qnexa, FDA]  \n",
       "4               []  \n",
       "5               []  \n",
       "6           [AAPL]  \n",
       "7               []  \n",
       "8               []  \n",
       "9               []  "
      ]
     },
     "execution_count": 45,
     "metadata": {},
     "output_type": "execute_result"
    }
   ],
   "source": [
    "pd.options.display.max_colwidth=5000\n",
    "df.head(10)\n"
   ]
  },
  {
   "cell_type": "markdown",
   "id": "56f5d288-1a95-4ecf-b6de-bc9139ee7a2a",
   "metadata": {},
   "source": [
    "## Sentiment analysis"
   ]
  },
  {
   "cell_type": "code",
   "execution_count": 52,
   "id": "4497fd53-992b-4111-8fb9-def2de387ff9",
   "metadata": {},
   "outputs": [],
   "source": [
    "#!pip install vaderSentiment\n",
    "#!pip install textblob"
   ]
  },
  {
   "cell_type": "code",
   "execution_count": 53,
   "id": "43c4a23d-8303-43c3-ae58-3397a91f7834",
   "metadata": {},
   "outputs": [],
   "source": [
    "from vaderSentiment.vaderSentiment import SentimentIntensityAnalyzer\n",
    "from textblob import TextBlob"
   ]
  },
  {
   "cell_type": "code",
   "execution_count": null,
   "id": "a1a6703f-e25d-4a3c-bd75-210ced2c4d2b",
   "metadata": {},
   "outputs": [],
   "source": [
    "analyzer = SentimentIntensityAnalyzer()"
   ]
  },
  {
   "cell_type": "code",
   "execution_count": null,
   "id": "c805d34f-221d-4d0f-b1ed-3f0cb74e137d",
   "metadata": {},
   "outputs": [],
   "source": []
  },
  {
   "cell_type": "code",
   "execution_count": 54,
   "id": "61117256-b562-413c-8150-20091b98667f",
   "metadata": {},
   "outputs": [
    {
     "name": "stdout",
     "output_type": "stream",
     "text": [
      "INFO: Pandarallel will run on 15 workers.\n",
      "INFO: Pandarallel will use standard multiprocessing data transfer (pipe) to transfer data between the main process and workers.\n"
     ]
    }
   ],
   "source": [
    "pandarallel.initialize(nb_workers=num_processors-1, use_memory_fs=False)"
   ]
  },
  {
   "cell_type": "code",
   "execution_count": 55,
   "id": "d0f57c3a-a538-453a-a9ed-59c76044906a",
   "metadata": {},
   "outputs": [
    {
     "name": "stdout",
     "output_type": "stream",
     "text": [
      "CPU times: user 14.3 s, sys: 5.09 s, total: 19.3 s\n",
      "Wall time: 2min 1s\n"
     ]
    },
    {
     "data": {
      "text/html": [
       "<div>\n",
       "<style scoped>\n",
       "    .dataframe tbody tr th:only-of-type {\n",
       "        vertical-align: middle;\n",
       "    }\n",
       "\n",
       "    .dataframe tbody tr th {\n",
       "        vertical-align: top;\n",
       "    }\n",
       "\n",
       "    .dataframe thead th {\n",
       "        text-align: right;\n",
       "    }\n",
       "</style>\n",
       "<table border=\"1\" class=\"dataframe\">\n",
       "  <thead>\n",
       "    <tr style=\"text-align: right;\">\n",
       "      <th></th>\n",
       "      <th>clean_text</th>\n",
       "      <th>sentiment</th>\n",
       "      <th>polarity</th>\n",
       "      <th>subjectivity</th>\n",
       "    </tr>\n",
       "  </thead>\n",
       "  <tbody>\n",
       "    <tr>\n",
       "      <th>0</th>\n",
       "      <td>I know that /r/investing is a great place for congregating with fellow market gamblers but it's not *exactly* the right place to be. So rather than flooding it with gambling posts and epic win/loss screen shots I figured I'd make another sub for this specifically for speculating and such. We'll see if it works. Subscribe if you're interested.Anyways, upcomming earnings * AAPL 4/24* AMZN 4/25 * GOOG 4/12 * GRPN 5/14 * LNKD 5/4 * NFLX 4/23* PCLN 5/8 * ANF 5/16* GMCR 5/2 * LVS 5/4 There's a lis...</td>\n",
       "      <td>Positive</td>\n",
       "      <td>0.248413</td>\n",
       "      <td>0.512302</td>\n",
       "    </tr>\n",
       "    <tr>\n",
       "      <th>1</th>\n",
       "      <td>nan</td>\n",
       "      <td>Neutral</td>\n",
       "      <td>0.000000</td>\n",
       "      <td>0.000000</td>\n",
       "    </tr>\n",
       "    <tr>\n",
       "      <th>2</th>\n",
       "      <td>So I missed out on GOOG, which is probably a good thing given their split/dividend announcement really put a damper on things. But I'm not planning on missing out on AAPL and today was a perfect day to lock in a bet. Unfortunately for me I got greedy and subsequently got slapped on the wrist.Position Bought an OTM straddle with intentions on selling right before earnings. This way I don't care about the results and ride the volatility wave up to the wave's crest.* BTO AAPL May put @ 525 for ...</td>\n",
       "      <td>Positive</td>\n",
       "      <td>0.078247</td>\n",
       "      <td>0.419156</td>\n",
       "    </tr>\n",
       "    <tr>\n",
       "      <th>3</th>\n",
       "      <td>I'm normally a long, but I've created a secondary account with a small amount of money I am comfortable with losing for jumping on opportunities like this and learning from my successes . I've been waiting a couple weeks for a good opportunity, and this looks like it may be it. Lot of buzz going around the company for their drug Qnexa potentially being approved by the FDA, and a couple sources even went as far as to call it \"an easy double\".I'll be honest, I'm completely new to this, and my ...</td>\n",
       "      <td>Positive</td>\n",
       "      <td>0.117980</td>\n",
       "      <td>0.535859</td>\n",
       "    </tr>\n",
       "    <tr>\n",
       "      <th>4</th>\n",
       "      <td>nan</td>\n",
       "      <td>Neutral</td>\n",
       "      <td>0.000000</td>\n",
       "      <td>0.000000</td>\n",
       "    </tr>\n",
       "  </tbody>\n",
       "</table>\n",
       "</div>"
      ],
      "text/plain": [
       "                                                                                                                                                                                                                                                                                                                                                                                                                                                                                                            clean_text  \\\n",
       "0  I know that /r/investing is a great place for congregating with fellow market gamblers but it's not *exactly* the right place to be. So rather than flooding it with gambling posts and epic win/loss screen shots I figured I'd make another sub for this specifically for speculating and such. We'll see if it works. Subscribe if you're interested.Anyways, upcomming earnings * AAPL 4/24* AMZN 4/25 * GOOG 4/12 * GRPN 5/14 * LNKD 5/4 * NFLX 4/23* PCLN 5/8 * ANF 5/16* GMCR 5/2 * LVS 5/4 There's a lis...   \n",
       "1                                                                                                                                                                                                                                                                                                                                                                                                                                                                                                                  nan   \n",
       "2  So I missed out on GOOG, which is probably a good thing given their split/dividend announcement really put a damper on things. But I'm not planning on missing out on AAPL and today was a perfect day to lock in a bet. Unfortunately for me I got greedy and subsequently got slapped on the wrist.Position Bought an OTM straddle with intentions on selling right before earnings. This way I don't care about the results and ride the volatility wave up to the wave's crest.* BTO AAPL May put @ 525 for ...   \n",
       "3  I'm normally a long, but I've created a secondary account with a small amount of money I am comfortable with losing for jumping on opportunities like this and learning from my successes . I've been waiting a couple weeks for a good opportunity, and this looks like it may be it. Lot of buzz going around the company for their drug Qnexa potentially being approved by the FDA, and a couple sources even went as far as to call it \"an easy double\".I'll be honest, I'm completely new to this, and my ...   \n",
       "4                                                                                                                                                                                                                                                                                                                                                                                                                                                                                                                  nan   \n",
       "\n",
       "  sentiment  polarity  subjectivity  \n",
       "0  Positive  0.248413      0.512302  \n",
       "1   Neutral  0.000000      0.000000  \n",
       "2  Positive  0.078247      0.419156  \n",
       "3  Positive  0.117980      0.535859  \n",
       "4   Neutral  0.000000      0.000000  "
      ]
     },
     "execution_count": 55,
     "metadata": {},
     "output_type": "execute_result"
    }
   ],
   "source": [
    "%%time\n",
    "\n",
    "df['polarity'] = df.parallel_apply(lambda x: TextBlob(x['clean_text']).sentiment.polarity, axis=1)\n",
    "df['subjectivity'] = df.parallel_apply(lambda x: TextBlob(x['clean_text']).sentiment.subjectivity, axis=1)\n",
    "\n",
    "# Create a positive / negative sentiment variable\n",
    "df['sentiment'] = np.where(df['polarity'].astype(float) > 0, 'Positive', 'Negative')\n",
    "df['sentiment'] = np.where(df['polarity'].astype(float) == 0, 'Neutral', df['sentiment'])\n",
    "\n",
    "df[['clean_text', 'sentiment', 'polarity', 'subjectivity']].head(5)"
   ]
  },
  {
   "cell_type": "code",
   "execution_count": 56,
   "id": "0d8fee51-66d0-402b-ae6b-cd9f6d92a829",
   "metadata": {},
   "outputs": [
    {
     "data": {
      "text/plain": [
       "Neutral     2091403\n",
       "Positive      85409\n",
       "Negative      41431\n",
       "Name: sentiment, dtype: int64"
      ]
     },
     "execution_count": 56,
     "metadata": {},
     "output_type": "execute_result"
    }
   ],
   "source": [
    "df['sentiment'].value_counts()"
   ]
  },
  {
   "cell_type": "code",
   "execution_count": 58,
   "id": "1095651a-19c1-46af-9eb4-5c5abb01a90f",
   "metadata": {},
   "outputs": [
    {
     "data": {
      "text/html": [
       "<div>\n",
       "<style scoped>\n",
       "    .dataframe tbody tr th:only-of-type {\n",
       "        vertical-align: middle;\n",
       "    }\n",
       "\n",
       "    .dataframe tbody tr th {\n",
       "        vertical-align: top;\n",
       "    }\n",
       "\n",
       "    .dataframe thead th {\n",
       "        text-align: right;\n",
       "    }\n",
       "</style>\n",
       "<table border=\"1\" class=\"dataframe\">\n",
       "  <thead>\n",
       "    <tr style=\"text-align: right;\">\n",
       "      <th></th>\n",
       "      <th>clean_text</th>\n",
       "      <th>title_ner_lg</th>\n",
       "      <th>text_ner_lg</th>\n",
       "      <th>sentiment</th>\n",
       "      <th>polarity</th>\n",
       "      <th>subjectivity</th>\n",
       "    </tr>\n",
       "  </thead>\n",
       "  <tbody>\n",
       "    <tr>\n",
       "      <th>0</th>\n",
       "      <td>I know that /r/investing is a great place for congregating with fellow market gamblers but it's not *exactly* the right place to be. So rather than flooding it with gambling posts and epic win/loss screen shots I figured I'd make another sub for this specifically for speculating and such. We'll see if it works. Subscribe if you're interested.Anyways, upcomming earnings * AAPL 4/24* AMZN 4/25 * GOOG 4/12 * GRPN 5/14 * LNKD 5/4 * NFLX 4/23* PCLN 5/8 * ANF 5/16* GMCR 5/2 * LVS 5/4 There's a list of the ones I'm following, based on their previously significant moves postearnings. What are yours? And if you're betting, what's your move? I haven't decided my own yet, but I'll let you know when I do. Google is tempting, but there's so much volatility built in that I am just tempted to be price neutral and sell volatility... We'll see.</td>\n",
       "      <td>[]</td>\n",
       "      <td>[Google]</td>\n",
       "      <td>Positive</td>\n",
       "      <td>0.248413</td>\n",
       "      <td>0.512302</td>\n",
       "    </tr>\n",
       "    <tr>\n",
       "      <th>1</th>\n",
       "      <td>nan</td>\n",
       "      <td>[]</td>\n",
       "      <td>[]</td>\n",
       "      <td>Neutral</td>\n",
       "      <td>0.000000</td>\n",
       "      <td>0.000000</td>\n",
       "    </tr>\n",
       "    <tr>\n",
       "      <th>2</th>\n",
       "      <td>So I missed out on GOOG, which is probably a good thing given their split/dividend announcement really put a damper on things. But I'm not planning on missing out on AAPL and today was a perfect day to lock in a bet. Unfortunately for me I got greedy and subsequently got slapped on the wrist.Position Bought an OTM straddle with intentions on selling right before earnings. This way I don't care about the results and ride the volatility wave up to the wave's crest.* BTO AAPL May put @ 525 for $10.10* BTO AAPL May call @ 665 $7.60It was poorly timed, because I tried to time the swings today hoping to trap some profits inside of the straddle . I bought the call during a price dip and I waited for prices to go back up before buying the put, which never really happened. That said, I . Any other AAPL takers?</td>\n",
       "      <td>[]</td>\n",
       "      <td>[OTM, BTO, BTO]</td>\n",
       "      <td>Positive</td>\n",
       "      <td>0.078247</td>\n",
       "      <td>0.419156</td>\n",
       "    </tr>\n",
       "    <tr>\n",
       "      <th>3</th>\n",
       "      <td>I'm normally a long, but I've created a secondary account with a small amount of money I am comfortable with losing for jumping on opportunities like this and learning from my successes . I've been waiting a couple weeks for a good opportunity, and this looks like it may be it. Lot of buzz going around the company for their drug Qnexa potentially being approved by the FDA, and a couple sources even went as far as to call it \"an easy double\".I'll be honest, I'm completely new to this, and my sole decision to jump in on this stock is for the potential big ups that will happen today or tomorrow on that announcement plus the hype from around the web on it, then I'll be getting back out. I'll also be selling to cut losses if I need to as well.Thoughts?</td>\n",
       "      <td>[VVUS, Qnexa]</td>\n",
       "      <td>[Qnexa, FDA]</td>\n",
       "      <td>Positive</td>\n",
       "      <td>0.117980</td>\n",
       "      <td>0.535859</td>\n",
       "    </tr>\n",
       "    <tr>\n",
       "      <th>4</th>\n",
       "      <td>nan</td>\n",
       "      <td>[HGSI]</td>\n",
       "      <td>[]</td>\n",
       "      <td>Neutral</td>\n",
       "      <td>0.000000</td>\n",
       "      <td>0.000000</td>\n",
       "    </tr>\n",
       "  </tbody>\n",
       "</table>\n",
       "</div>"
      ],
      "text/plain": [
       "                                                                                                                                                                                                                                                                                                                                                                                                                                                                                                                                                                                                                                                                                                                                                                                                                                                                clean_text  \\\n",
       "0  I know that /r/investing is a great place for congregating with fellow market gamblers but it's not *exactly* the right place to be. So rather than flooding it with gambling posts and epic win/loss screen shots I figured I'd make another sub for this specifically for speculating and such. We'll see if it works. Subscribe if you're interested.Anyways, upcomming earnings * AAPL 4/24* AMZN 4/25 * GOOG 4/12 * GRPN 5/14 * LNKD 5/4 * NFLX 4/23* PCLN 5/8 * ANF 5/16* GMCR 5/2 * LVS 5/4 There's a list of the ones I'm following, based on their previously significant moves postearnings. What are yours? And if you're betting, what's your move? I haven't decided my own yet, but I'll let you know when I do. Google is tempting, but there's so much volatility built in that I am just tempted to be price neutral and sell volatility... We'll see.   \n",
       "1                                                                                                                                                                                                                                                                                                                                                                                                                                                                                                                                                                                                                                                                                                                                                                                                                                                                      nan   \n",
       "2                             So I missed out on GOOG, which is probably a good thing given their split/dividend announcement really put a damper on things. But I'm not planning on missing out on AAPL and today was a perfect day to lock in a bet. Unfortunately for me I got greedy and subsequently got slapped on the wrist.Position Bought an OTM straddle with intentions on selling right before earnings. This way I don't care about the results and ride the volatility wave up to the wave's crest.* BTO AAPL May put @ 525 for $10.10* BTO AAPL May call @ 665 $7.60It was poorly timed, because I tried to time the swings today hoping to trap some profits inside of the straddle . I bought the call during a price dip and I waited for prices to go back up before buying the put, which never really happened. That said, I . Any other AAPL takers?   \n",
       "3                                                                                    I'm normally a long, but I've created a secondary account with a small amount of money I am comfortable with losing for jumping on opportunities like this and learning from my successes . I've been waiting a couple weeks for a good opportunity, and this looks like it may be it. Lot of buzz going around the company for their drug Qnexa potentially being approved by the FDA, and a couple sources even went as far as to call it \"an easy double\".I'll be honest, I'm completely new to this, and my sole decision to jump in on this stock is for the potential big ups that will happen today or tomorrow on that announcement plus the hype from around the web on it, then I'll be getting back out. I'll also be selling to cut losses if I need to as well.Thoughts?   \n",
       "4                                                                                                                                                                                                                                                                                                                                                                                                                                                                                                                                                                                                                                                                                                                                                                                                                                                                      nan   \n",
       "\n",
       "    title_ner_lg      text_ner_lg sentiment  polarity  subjectivity  \n",
       "0             []         [Google]  Positive  0.248413      0.512302  \n",
       "1             []               []   Neutral  0.000000      0.000000  \n",
       "2             []  [OTM, BTO, BTO]  Positive  0.078247      0.419156  \n",
       "3  [VVUS, Qnexa]     [Qnexa, FDA]  Positive  0.117980      0.535859  \n",
       "4         [HGSI]               []   Neutral  0.000000      0.000000  "
      ]
     },
     "execution_count": 58,
     "metadata": {},
     "output_type": "execute_result"
    }
   ],
   "source": [
    "pd.options.display.max_colwidth=5000\n",
    "\n",
    "df[['clean_text','title_ner_lg','text_ner_lg', 'sentiment', 'polarity', 'subjectivity']].head(5)"
   ]
  },
  {
   "cell_type": "code",
   "execution_count": 61,
   "id": "9b5a6d7e-767b-4064-9503-93478b44da36",
   "metadata": {},
   "outputs": [],
   "source": [
    "df1 = df[['sentiment','sentiment_title', 'polarity', 'subjectivity', 'polarity_title','subjectivity_title']]\n",
    "\n",
    "df1.to_parquet('sentiment_title_text.parquet')"
   ]
  },
  {
   "cell_type": "code",
   "execution_count": 60,
   "id": "c0aa4279-dad9-4280-8e36-d44dbd0b3e03",
   "metadata": {},
   "outputs": [
    {
     "name": "stdout",
     "output_type": "stream",
     "text": [
      "CPU times: user 15.4 s, sys: 6.14 s, total: 21.5 s\n",
      "Wall time: 2min 7s\n"
     ]
    },
    {
     "data": {
      "text/html": [
       "<div>\n",
       "<style scoped>\n",
       "    .dataframe tbody tr th:only-of-type {\n",
       "        vertical-align: middle;\n",
       "    }\n",
       "\n",
       "    .dataframe tbody tr th {\n",
       "        vertical-align: top;\n",
       "    }\n",
       "\n",
       "    .dataframe thead th {\n",
       "        text-align: right;\n",
       "    }\n",
       "</style>\n",
       "<table border=\"1\" class=\"dataframe\">\n",
       "  <thead>\n",
       "    <tr style=\"text-align: right;\">\n",
       "      <th></th>\n",
       "      <th>title</th>\n",
       "      <th>clean_text</th>\n",
       "      <th>title_ner_lg</th>\n",
       "      <th>text_ner_lg</th>\n",
       "      <th>sentiment</th>\n",
       "      <th>sentiment_title</th>\n",
       "      <th>polarity</th>\n",
       "      <th>subjectivity</th>\n",
       "    </tr>\n",
       "  </thead>\n",
       "  <tbody>\n",
       "    <tr>\n",
       "      <th>0</th>\n",
       "      <td>Earnings season is here.  Place your bets.</td>\n",
       "      <td>I know that /r/investing is a great place for congregating with fellow market gamblers but it's not *exactly* the right place to be. So rather than flooding it with gambling posts and epic win/loss screen shots I figured I'd make another sub for this specifically for speculating and such. We'll see if it works. Subscribe if you're interested.Anyways, upcomming earnings * AAPL 4/24* AMZN 4/25 * GOOG 4/12 * GRPN 5/14 * LNKD 5/4 * NFLX 4/23* PCLN 5/8 * ANF 5/16* GMCR 5/2 * LVS 5/4 There's a list of the ones I'm following, based on their previously significant moves postearnings. What are yours? And if you're betting, what's your move? I haven't decided my own yet, but I'll let you know when I do. Google is tempting, but there's so much volatility built in that I am just tempted to be price neutral and sell volatility... We'll see.</td>\n",
       "      <td>[]</td>\n",
       "      <td>[Google]</td>\n",
       "      <td>Positive</td>\n",
       "      <td>Neutral</td>\n",
       "      <td>0.248413</td>\n",
       "      <td>0.512302</td>\n",
       "    </tr>\n",
       "    <tr>\n",
       "      <th>1</th>\n",
       "      <td>GOOG - beat estimates, price barely rises.</td>\n",
       "      <td>nan</td>\n",
       "      <td>[]</td>\n",
       "      <td>[]</td>\n",
       "      <td>Neutral</td>\n",
       "      <td>Neutral</td>\n",
       "      <td>0.000000</td>\n",
       "      <td>0.000000</td>\n",
       "    </tr>\n",
       "    <tr>\n",
       "      <th>2</th>\n",
       "      <td>My poorly timed opening position for AAPL earnings bet</td>\n",
       "      <td>So I missed out on GOOG, which is probably a good thing given their split/dividend announcement really put a damper on things. But I'm not planning on missing out on AAPL and today was a perfect day to lock in a bet. Unfortunately for me I got greedy and subsequently got slapped on the wrist.Position Bought an OTM straddle with intentions on selling right before earnings. This way I don't care about the results and ride the volatility wave up to the wave's crest.* BTO AAPL May put @ 525 for $10.10* BTO AAPL May call @ 665 $7.60It was poorly timed, because I tried to time the swings today hoping to trap some profits inside of the straddle . I bought the call during a price dip and I waited for prices to go back up before buying the put, which never really happened. That said, I . Any other AAPL takers?</td>\n",
       "      <td>[]</td>\n",
       "      <td>[OTM, BTO, BTO]</td>\n",
       "      <td>Positive</td>\n",
       "      <td>Positive</td>\n",
       "      <td>0.078247</td>\n",
       "      <td>0.419156</td>\n",
       "    </tr>\n",
       "    <tr>\n",
       "      <th>3</th>\n",
       "      <td>Anyone betting on VVUS and their potential approval of their Qnexa drug today?</td>\n",
       "      <td>I'm normally a long, but I've created a secondary account with a small amount of money I am comfortable with losing for jumping on opportunities like this and learning from my successes . I've been waiting a couple weeks for a good opportunity, and this looks like it may be it. Lot of buzz going around the company for their drug Qnexa potentially being approved by the FDA, and a couple sources even went as far as to call it \"an easy double\".I'll be honest, I'm completely new to this, and my sole decision to jump in on this stock is for the potential big ups that will happen today or tomorrow on that announcement plus the hype from around the web on it, then I'll be getting back out. I'll also be selling to cut losses if I need to as well.Thoughts?</td>\n",
       "      <td>[VVUS, Qnexa]</td>\n",
       "      <td>[Qnexa, FDA]</td>\n",
       "      <td>Positive</td>\n",
       "      <td>Neutral</td>\n",
       "      <td>0.117980</td>\n",
       "      <td>0.535859</td>\n",
       "    </tr>\n",
       "    <tr>\n",
       "      <th>4</th>\n",
       "      <td>After HGSI spikes 97%, will share price drop at market open?</td>\n",
       "      <td>nan</td>\n",
       "      <td>[HGSI]</td>\n",
       "      <td>[]</td>\n",
       "      <td>Neutral</td>\n",
       "      <td>Neutral</td>\n",
       "      <td>0.000000</td>\n",
       "      <td>0.000000</td>\n",
       "    </tr>\n",
       "  </tbody>\n",
       "</table>\n",
       "</div>"
      ],
      "text/plain": [
       "                                                                            title  \\\n",
       "0                                      Earnings season is here.  Place your bets.   \n",
       "1                                      GOOG - beat estimates, price barely rises.   \n",
       "2                          My poorly timed opening position for AAPL earnings bet   \n",
       "3  Anyone betting on VVUS and their potential approval of their Qnexa drug today?   \n",
       "4                    After HGSI spikes 97%, will share price drop at market open?   \n",
       "\n",
       "                                                                                                                                                                                                                                                                                                                                                                                                                                                                                                                                                                                                                                                                                                                                                                                                                                                                clean_text  \\\n",
       "0  I know that /r/investing is a great place for congregating with fellow market gamblers but it's not *exactly* the right place to be. So rather than flooding it with gambling posts and epic win/loss screen shots I figured I'd make another sub for this specifically for speculating and such. We'll see if it works. Subscribe if you're interested.Anyways, upcomming earnings * AAPL 4/24* AMZN 4/25 * GOOG 4/12 * GRPN 5/14 * LNKD 5/4 * NFLX 4/23* PCLN 5/8 * ANF 5/16* GMCR 5/2 * LVS 5/4 There's a list of the ones I'm following, based on their previously significant moves postearnings. What are yours? And if you're betting, what's your move? I haven't decided my own yet, but I'll let you know when I do. Google is tempting, but there's so much volatility built in that I am just tempted to be price neutral and sell volatility... We'll see.   \n",
       "1                                                                                                                                                                                                                                                                                                                                                                                                                                                                                                                                                                                                                                                                                                                                                                                                                                                                      nan   \n",
       "2                             So I missed out on GOOG, which is probably a good thing given their split/dividend announcement really put a damper on things. But I'm not planning on missing out on AAPL and today was a perfect day to lock in a bet. Unfortunately for me I got greedy and subsequently got slapped on the wrist.Position Bought an OTM straddle with intentions on selling right before earnings. This way I don't care about the results and ride the volatility wave up to the wave's crest.* BTO AAPL May put @ 525 for $10.10* BTO AAPL May call @ 665 $7.60It was poorly timed, because I tried to time the swings today hoping to trap some profits inside of the straddle . I bought the call during a price dip and I waited for prices to go back up before buying the put, which never really happened. That said, I . Any other AAPL takers?   \n",
       "3                                                                                    I'm normally a long, but I've created a secondary account with a small amount of money I am comfortable with losing for jumping on opportunities like this and learning from my successes . I've been waiting a couple weeks for a good opportunity, and this looks like it may be it. Lot of buzz going around the company for their drug Qnexa potentially being approved by the FDA, and a couple sources even went as far as to call it \"an easy double\".I'll be honest, I'm completely new to this, and my sole decision to jump in on this stock is for the potential big ups that will happen today or tomorrow on that announcement plus the hype from around the web on it, then I'll be getting back out. I'll also be selling to cut losses if I need to as well.Thoughts?   \n",
       "4                                                                                                                                                                                                                                                                                                                                                                                                                                                                                                                                                                                                                                                                                                                                                                                                                                                                      nan   \n",
       "\n",
       "    title_ner_lg      text_ner_lg sentiment sentiment_title  polarity  \\\n",
       "0             []         [Google]  Positive         Neutral  0.248413   \n",
       "1             []               []   Neutral         Neutral  0.000000   \n",
       "2             []  [OTM, BTO, BTO]  Positive        Positive  0.078247   \n",
       "3  [VVUS, Qnexa]     [Qnexa, FDA]  Positive         Neutral  0.117980   \n",
       "4         [HGSI]               []   Neutral         Neutral  0.000000   \n",
       "\n",
       "   subjectivity  \n",
       "0      0.512302  \n",
       "1      0.000000  \n",
       "2      0.419156  \n",
       "3      0.535859  \n",
       "4      0.000000  "
      ]
     },
     "execution_count": 60,
     "metadata": {},
     "output_type": "execute_result"
    }
   ],
   "source": [
    "%%time\n",
    "\n",
    "df['polarity_title'] = df.parallel_apply(lambda x: TextBlob(str(x['title'])).sentiment.polarity, axis=1)\n",
    "df['subjectivity_title'] = df.parallel_apply(lambda x: TextBlob(str(x['title'])).sentiment.subjectivity, axis=1)\n",
    "\n",
    "# Create a positive / negative sentiment variable\n",
    "df['sentiment_title'] = np.where(df['polarity_title'].astype(float) > 0, 'Positive', 'Negative')\n",
    "df['sentiment_title'] = np.where(df['polarity_title'].astype(float) == 0, 'Neutral', df['sentiment'])\n",
    "\n",
    "df[['title','clean_text','title_ner_lg','text_ner_lg', 'sentiment','sentiment_title', 'polarity', 'subjectivity']].head(5)"
   ]
  },
  {
   "cell_type": "code",
   "execution_count": null,
   "id": "c595dae3-665d-483c-a25f-485342cca158",
   "metadata": {},
   "outputs": [],
   "source": [
    "## Sentiment Vader"
   ]
  },
  {
   "cell_type": "code",
   "execution_count": 62,
   "id": "5d1b052b-cefc-43d8-937a-b029146ffdaf",
   "metadata": {},
   "outputs": [
    {
     "data": {
      "text/plain": [
       "2218243"
      ]
     },
     "execution_count": 62,
     "metadata": {},
     "output_type": "execute_result"
    }
   ],
   "source": [
    "df.shape[0]"
   ]
  },
  {
   "cell_type": "code",
   "execution_count": 64,
   "id": "a674b59a-52f1-4a36-91cd-5e5842c75ccd",
   "metadata": {},
   "outputs": [
    {
     "name": "stderr",
     "output_type": "stream",
     "text": [
      "/opt/conda/lib/python3.7/site-packages/IPython/core/interactiveshell.py:3553: DtypeWarning: Columns (11) have mixed types.Specify dtype option on import or set low_memory=False.\n",
      "  exec(code_obj, self.user_global_ns, self.user_ns)\n"
     ]
    },
    {
     "ename": "NameError",
     "evalue": "name 'xtmp1' is not defined",
     "output_type": "error",
     "traceback": [
      "\u001b[0;31m---------------------------------------------------------------------------\u001b[0m",
      "\u001b[0;31mNameError\u001b[0m                                 Traceback (most recent call last)",
      "\u001b[0;32m/var/tmp/ipykernel_25059/19153922.py\u001b[0m in \u001b[0;36m<module>\u001b[0;34m\u001b[0m\n\u001b[1;32m      2\u001b[0m \u001b[0mxtmp_1\u001b[0m \u001b[0;34m=\u001b[0m \u001b[0mpd\u001b[0m\u001b[0;34m.\u001b[0m\u001b[0mread_csv\u001b[0m\u001b[0;34m(\u001b[0m\u001b[0;34m'vader_title.csv'\u001b[0m\u001b[0;34m)\u001b[0m\u001b[0;34m\u001b[0m\u001b[0;34m\u001b[0m\u001b[0m\n\u001b[1;32m      3\u001b[0m \u001b[0;34m\u001b[0m\u001b[0m\n\u001b[0;32m----> 4\u001b[0;31m \u001b[0mprint\u001b[0m\u001b[0;34m(\u001b[0m\u001b[0mxtmp\u001b[0m\u001b[0;34m.\u001b[0m\u001b[0mshape\u001b[0m\u001b[0;34m[\u001b[0m\u001b[0;36m0\u001b[0m\u001b[0;34m]\u001b[0m\u001b[0;34m,\u001b[0m\u001b[0;34m' '\u001b[0m\u001b[0;34m,\u001b[0m\u001b[0mxtmp1\u001b[0m\u001b[0;34m.\u001b[0m\u001b[0mshape\u001b[0m\u001b[0;34m[\u001b[0m\u001b[0;36m0\u001b[0m\u001b[0;34m]\u001b[0m\u001b[0;34m)\u001b[0m\u001b[0;34m\u001b[0m\u001b[0;34m\u001b[0m\u001b[0m\n\u001b[0m",
      "\u001b[0;31mNameError\u001b[0m: name 'xtmp1' is not defined"
     ]
    }
   ],
   "source": [
    "xtmp = pd.read_csv('vader_text.csv')\n",
    "xtmp_1 = pd.read_csv('vader_title.csv')\n"
   ]
  },
  {
   "cell_type": "code",
   "execution_count": 65,
   "id": "39f83e30-9dd7-4513-ac6d-7d53efe1db26",
   "metadata": {},
   "outputs": [
    {
     "name": "stdout",
     "output_type": "stream",
     "text": [
      "2218248   2218248\n"
     ]
    }
   ],
   "source": [
    "\n",
    "print(xtmp.shape[0],' ',xtmp_1.shape[0])"
   ]
  },
  {
   "cell_type": "code",
   "execution_count": 71,
   "id": "2caea783-8943-45d1-9afc-91dc8fdbe16b",
   "metadata": {},
   "outputs": [
    {
     "data": {
      "text/html": [
       "<div>\n",
       "<style scoped>\n",
       "    .dataframe tbody tr th:only-of-type {\n",
       "        vertical-align: middle;\n",
       "    }\n",
       "\n",
       "    .dataframe tbody tr th {\n",
       "        vertical-align: top;\n",
       "    }\n",
       "\n",
       "    .dataframe thead th {\n",
       "        text-align: right;\n",
       "    }\n",
       "</style>\n",
       "<table border=\"1\" class=\"dataframe\">\n",
       "  <thead>\n",
       "    <tr style=\"text-align: right;\">\n",
       "      <th></th>\n",
       "      <th>id</th>\n",
       "      <th>clean_title</th>\n",
       "      <th>clean_text</th>\n",
       "      <th>author</th>\n",
       "      <th>timestamp</th>\n",
       "      <th>upvotes</th>\n",
       "      <th>num_comments</th>\n",
       "      <th>score</th>\n",
       "      <th>len</th>\n",
       "      <th>neg</th>\n",
       "      <th>neu</th>\n",
       "      <th>pos</th>\n",
       "      <th>compound</th>\n",
       "      <th>sentiment</th>\n",
       "    </tr>\n",
       "  </thead>\n",
       "  <tbody>\n",
       "    <tr>\n",
       "      <th>0</th>\n",
       "      <td>s4jw1</td>\n",
       "      <td>earnings season is here. place your bets.</td>\n",
       "      <td>I know that /r/investing is a great place for congregating with fellow market gamblers but it's not *exactly* the right place to be. So rather than flooding it with gambling posts and epic win/loss screen shots I figured I'd make another sub for this specifically for speculating and such. We'll see if it works. Subscribe if you're interested.Anyways, upcomming earnings * AAPL 4/24* AMZN 4/25 * GOOG 4/12 * GRPN 5/14 * LNKD 5/4 * NFLX 4/23* PCLN 5/8 * ANF 5/16* GMCR 5/2 * LVS 5/4 There's a list of the ones I'm following, based on their previously significant moves postearnings. What are yours? And if you're betting, what's your move? I haven't decided my own yet, but I'll let you know when I do. Google is tempting, but there's so much volatility built in that I am just tempted to be price neutral and sell volatility... We'll see.</td>\n",
       "      <td>[deleted]</td>\n",
       "      <td>2012-04-11 11:40:40</td>\n",
       "      <td>16.0</td>\n",
       "      <td>22.0</td>\n",
       "      <td>13.0</td>\n",
       "      <td>7.0</td>\n",
       "      <td>0.000</td>\n",
       "      <td>1.000</td>\n",
       "      <td>0.0</td>\n",
       "      <td>0.0000</td>\n",
       "      <td>Neutral</td>\n",
       "    </tr>\n",
       "    <tr>\n",
       "      <th>1</th>\n",
       "      <td>s6r57</td>\n",
       "      <td>goog beat estimates, price barely rises.</td>\n",
       "      <td>NaN</td>\n",
       "      <td>[deleted]</td>\n",
       "      <td>2012-04-12 15:37:31</td>\n",
       "      <td>5.0</td>\n",
       "      <td>0.0</td>\n",
       "      <td>2.0</td>\n",
       "      <td>6.0</td>\n",
       "      <td>0.000</td>\n",
       "      <td>1.000</td>\n",
       "      <td>0.0</td>\n",
       "      <td>0.0000</td>\n",
       "      <td>Neutral</td>\n",
       "    </tr>\n",
       "    <tr>\n",
       "      <th>2</th>\n",
       "      <td>sd5ai</td>\n",
       "      <td>my poorly timed opening position for aapl earnings bet</td>\n",
       "      <td>So I missed out on GOOG, which is probably a good thing given their split/dividend announcement really put a damper on things. But I'm not planning on missing out on AAPL and today was a perfect day to lock in a bet. Unfortunately for me I got greedy and subsequently got slapped on the wrist.Position Bought an OTM straddle with intentions on selling right before earnings. This way I don't care about the results and ride the volatility wave up to the wave's crest.* BTO AAPL May put @ 525 for $10.10* BTO AAPL May call @ 665 $7.60It was poorly timed, because I tried to time the swings today hoping to trap some profits inside of the straddle . I bought the call during a price dip and I waited for prices to go back up before buying the put, which never really happened. That said, I . Any other AAPL takers?</td>\n",
       "      <td>[deleted]</td>\n",
       "      <td>2012-04-16 17:29:37</td>\n",
       "      <td>14.0</td>\n",
       "      <td>21.0</td>\n",
       "      <td>12.0</td>\n",
       "      <td>9.0</td>\n",
       "      <td>0.000</td>\n",
       "      <td>1.000</td>\n",
       "      <td>0.0</td>\n",
       "      <td>0.0000</td>\n",
       "      <td>Neutral</td>\n",
       "    </tr>\n",
       "    <tr>\n",
       "      <th>3</th>\n",
       "      <td>se66f</td>\n",
       "      <td>anyone betting on vvus and their potential approval of their qnexa drug today?</td>\n",
       "      <td>I'm normally a long, but I've created a secondary account with a small amount of money I am comfortable with losing for jumping on opportunities like this and learning from my successes . I've been waiting a couple weeks for a good opportunity, and this looks like it may be it. Lot of buzz going around the company for their drug Qnexa potentially being approved by the FDA, and a couple sources even went as far as to call it \"an easy double\".I'll be honest, I'm completely new to this, and my sole decision to jump in on this stock is for the potential big ups that will happen today or tomorrow on that announcement plus the hype from around the web on it, then I'll be getting back out. I'll also be selling to cut losses if I need to as well.Thoughts?</td>\n",
       "      <td>[deleted]</td>\n",
       "      <td>2012-04-17 08:41:30</td>\n",
       "      <td>1.0</td>\n",
       "      <td>0.0</td>\n",
       "      <td>1.0</td>\n",
       "      <td>13.0</td>\n",
       "      <td>0.000</td>\n",
       "      <td>0.795</td>\n",
       "      <td>0.205</td>\n",
       "      <td>0.4767</td>\n",
       "      <td>Positive</td>\n",
       "    </tr>\n",
       "    <tr>\n",
       "      <th>4</th>\n",
       "      <td>sinsk</td>\n",
       "      <td>after hgsi spikes 97%, will share price drop at market open?</td>\n",
       "      <td>NaN</td>\n",
       "      <td>CheeseYogi</td>\n",
       "      <td>2012-04-19 18:21:16</td>\n",
       "      <td>5.0</td>\n",
       "      <td>0.0</td>\n",
       "      <td>4.0</td>\n",
       "      <td>11.0</td>\n",
       "      <td>0.158</td>\n",
       "      <td>0.677</td>\n",
       "      <td>0.165</td>\n",
       "      <td>0.0258</td>\n",
       "      <td>Positive</td>\n",
       "    </tr>\n",
       "  </tbody>\n",
       "</table>\n",
       "</div>"
      ],
      "text/plain": [
       "      id  \\\n",
       "0  s4jw1   \n",
       "1  s6r57   \n",
       "2  sd5ai   \n",
       "3  se66f   \n",
       "4  sinsk   \n",
       "\n",
       "                                                                      clean_title  \\\n",
       "0                                       earnings season is here. place your bets.   \n",
       "1                                        goog beat estimates, price barely rises.   \n",
       "2                          my poorly timed opening position for aapl earnings bet   \n",
       "3  anyone betting on vvus and their potential approval of their qnexa drug today?   \n",
       "4                    after hgsi spikes 97%, will share price drop at market open?   \n",
       "\n",
       "                                                                                                                                                                                                                                                                                                                                                                                                                                                                                                                                                                                                                                                                                                                                                                                                                                                                clean_text  \\\n",
       "0  I know that /r/investing is a great place for congregating with fellow market gamblers but it's not *exactly* the right place to be. So rather than flooding it with gambling posts and epic win/loss screen shots I figured I'd make another sub for this specifically for speculating and such. We'll see if it works. Subscribe if you're interested.Anyways, upcomming earnings * AAPL 4/24* AMZN 4/25 * GOOG 4/12 * GRPN 5/14 * LNKD 5/4 * NFLX 4/23* PCLN 5/8 * ANF 5/16* GMCR 5/2 * LVS 5/4 There's a list of the ones I'm following, based on their previously significant moves postearnings. What are yours? And if you're betting, what's your move? I haven't decided my own yet, but I'll let you know when I do. Google is tempting, but there's so much volatility built in that I am just tempted to be price neutral and sell volatility... We'll see.   \n",
       "1                                                                                                                                                                                                                                                                                                                                                                                                                                                                                                                                                                                                                                                                                                                                                                                                                                                                      NaN   \n",
       "2                             So I missed out on GOOG, which is probably a good thing given their split/dividend announcement really put a damper on things. But I'm not planning on missing out on AAPL and today was a perfect day to lock in a bet. Unfortunately for me I got greedy and subsequently got slapped on the wrist.Position Bought an OTM straddle with intentions on selling right before earnings. This way I don't care about the results and ride the volatility wave up to the wave's crest.* BTO AAPL May put @ 525 for $10.10* BTO AAPL May call @ 665 $7.60It was poorly timed, because I tried to time the swings today hoping to trap some profits inside of the straddle . I bought the call during a price dip and I waited for prices to go back up before buying the put, which never really happened. That said, I . Any other AAPL takers?   \n",
       "3                                                                                    I'm normally a long, but I've created a secondary account with a small amount of money I am comfortable with losing for jumping on opportunities like this and learning from my successes . I've been waiting a couple weeks for a good opportunity, and this looks like it may be it. Lot of buzz going around the company for their drug Qnexa potentially being approved by the FDA, and a couple sources even went as far as to call it \"an easy double\".I'll be honest, I'm completely new to this, and my sole decision to jump in on this stock is for the potential big ups that will happen today or tomorrow on that announcement plus the hype from around the web on it, then I'll be getting back out. I'll also be selling to cut losses if I need to as well.Thoughts?   \n",
       "4                                                                                                                                                                                                                                                                                                                                                                                                                                                                                                                                                                                                                                                                                                                                                                                                                                                                      NaN   \n",
       "\n",
       "       author            timestamp  upvotes  num_comments  score   len    neg  \\\n",
       "0   [deleted]  2012-04-11 11:40:40     16.0          22.0   13.0   7.0  0.000   \n",
       "1   [deleted]  2012-04-12 15:37:31      5.0           0.0    2.0   6.0  0.000   \n",
       "2   [deleted]  2012-04-16 17:29:37     14.0          21.0   12.0   9.0  0.000   \n",
       "3   [deleted]  2012-04-17 08:41:30      1.0           0.0    1.0  13.0  0.000   \n",
       "4  CheeseYogi  2012-04-19 18:21:16      5.0           0.0    4.0  11.0  0.158   \n",
       "\n",
       "     neu    pos  compound sentiment  \n",
       "0  1.000    0.0    0.0000   Neutral  \n",
       "1  1.000    0.0    0.0000   Neutral  \n",
       "2  1.000    0.0    0.0000   Neutral  \n",
       "3  0.795  0.205    0.4767  Positive  \n",
       "4  0.677  0.165    0.0258  Positive  "
      ]
     },
     "execution_count": 71,
     "metadata": {},
     "output_type": "execute_result"
    }
   ],
   "source": [
    "xtmp_1.head()"
   ]
  },
  {
   "cell_type": "code",
   "execution_count": 72,
   "id": "6e2bd413-ee2d-4682-a142-40645493532e",
   "metadata": {},
   "outputs": [
    {
     "data": {
      "text/html": [
       "<div>\n",
       "<style scoped>\n",
       "    .dataframe tbody tr th:only-of-type {\n",
       "        vertical-align: middle;\n",
       "    }\n",
       "\n",
       "    .dataframe tbody tr th {\n",
       "        vertical-align: top;\n",
       "    }\n",
       "\n",
       "    .dataframe thead th {\n",
       "        text-align: right;\n",
       "    }\n",
       "</style>\n",
       "<table border=\"1\" class=\"dataframe\">\n",
       "  <thead>\n",
       "    <tr style=\"text-align: right;\">\n",
       "      <th></th>\n",
       "      <th>id</th>\n",
       "      <th>title</th>\n",
       "      <th>clean_text</th>\n",
       "      <th>author</th>\n",
       "      <th>timestamp</th>\n",
       "      <th>upvotes</th>\n",
       "      <th>num_comments</th>\n",
       "      <th>score</th>\n",
       "      <th>title_ner</th>\n",
       "      <th>text_ner</th>\n",
       "      <th>title_ner_lg</th>\n",
       "      <th>text_ner_lg</th>\n",
       "      <th>polarity</th>\n",
       "      <th>subjectivity</th>\n",
       "      <th>sentiment</th>\n",
       "      <th>polarity_title</th>\n",
       "      <th>subjectivity_title</th>\n",
       "      <th>sentiment_title</th>\n",
       "    </tr>\n",
       "  </thead>\n",
       "  <tbody>\n",
       "    <tr>\n",
       "      <th>0</th>\n",
       "      <td>s4jw1</td>\n",
       "      <td>Earnings season is here.  Place your bets.</td>\n",
       "      <td>I know that /r/investing is a great place for congregating with fellow market gamblers but it's not *exactly* the right place to be. So rather than flooding it with gambling posts and epic win/loss screen shots I figured I'd make another sub for this specifically for speculating and such. We'll see if it works. Subscribe if you're interested.Anyways, upcomming earnings * AAPL 4/24* AMZN 4/25 * GOOG 4/12 * GRPN 5/14 * LNKD 5/4 * NFLX 4/23* PCLN 5/8 * ANF 5/16* GMCR 5/2 * LVS 5/4 There's a list of the ones I'm following, based on their previously significant moves postearnings. What are yours? And if you're betting, what's your move? I haven't decided my own yet, but I'll let you know when I do. Google is tempting, but there's so much volatility built in that I am just tempted to be price neutral and sell volatility... We'll see.</td>\n",
       "      <td>[deleted]</td>\n",
       "      <td>2012-04-11 16:40:40</td>\n",
       "      <td>16</td>\n",
       "      <td>22</td>\n",
       "      <td>13</td>\n",
       "      <td>[]</td>\n",
       "      <td>[NFLX, ANF, Google]</td>\n",
       "      <td>[]</td>\n",
       "      <td>[Google]</td>\n",
       "      <td>0.248413</td>\n",
       "      <td>0.512302</td>\n",
       "      <td>Positive</td>\n",
       "      <td>0.00</td>\n",
       "      <td>0.0</td>\n",
       "      <td>Neutral</td>\n",
       "    </tr>\n",
       "    <tr>\n",
       "      <th>1</th>\n",
       "      <td>s6r57</td>\n",
       "      <td>GOOG - beat estimates, price barely rises.</td>\n",
       "      <td>nan</td>\n",
       "      <td>[deleted]</td>\n",
       "      <td>2012-04-12 20:37:31</td>\n",
       "      <td>5</td>\n",
       "      <td>0</td>\n",
       "      <td>2</td>\n",
       "      <td>[]</td>\n",
       "      <td>[]</td>\n",
       "      <td>[]</td>\n",
       "      <td>[]</td>\n",
       "      <td>0.000000</td>\n",
       "      <td>0.000000</td>\n",
       "      <td>Neutral</td>\n",
       "      <td>0.05</td>\n",
       "      <td>0.1</td>\n",
       "      <td>Neutral</td>\n",
       "    </tr>\n",
       "    <tr>\n",
       "      <th>2</th>\n",
       "      <td>sd5ai</td>\n",
       "      <td>My poorly timed opening position for AAPL earnings bet</td>\n",
       "      <td>So I missed out on GOOG, which is probably a good thing given their split/dividend announcement really put a damper on things. But I'm not planning on missing out on AAPL and today was a perfect day to lock in a bet. Unfortunately for me I got greedy and subsequently got slapped on the wrist.Position Bought an OTM straddle with intentions on selling right before earnings. This way I don't care about the results and ride the volatility wave up to the wave's crest.* BTO AAPL May put @ 525 for $10.10* BTO AAPL May call @ 665 $7.60It was poorly timed, because I tried to time the swings today hoping to trap some profits inside of the straddle . I bought the call during a price dip and I waited for prices to go back up before buying the put, which never really happened. That said, I . Any other AAPL takers?</td>\n",
       "      <td>[deleted]</td>\n",
       "      <td>2012-04-16 22:29:37</td>\n",
       "      <td>14</td>\n",
       "      <td>21</td>\n",
       "      <td>12</td>\n",
       "      <td>[]</td>\n",
       "      <td>[GOOG, OTM]</td>\n",
       "      <td>[]</td>\n",
       "      <td>[OTM, BTO, BTO]</td>\n",
       "      <td>0.078247</td>\n",
       "      <td>0.419156</td>\n",
       "      <td>Positive</td>\n",
       "      <td>-0.40</td>\n",
       "      <td>0.6</td>\n",
       "      <td>Positive</td>\n",
       "    </tr>\n",
       "    <tr>\n",
       "      <th>3</th>\n",
       "      <td>se66f</td>\n",
       "      <td>Anyone betting on VVUS and their potential approval of their Qnexa drug today?</td>\n",
       "      <td>I'm normally a long, but I've created a secondary account with a small amount of money I am comfortable with losing for jumping on opportunities like this and learning from my successes . I've been waiting a couple weeks for a good opportunity, and this looks like it may be it. Lot of buzz going around the company for their drug Qnexa potentially being approved by the FDA, and a couple sources even went as far as to call it \"an easy double\".I'll be honest, I'm completely new to this, and my sole decision to jump in on this stock is for the potential big ups that will happen today or tomorrow on that announcement plus the hype from around the web on it, then I'll be getting back out. I'll also be selling to cut losses if I need to as well.Thoughts?</td>\n",
       "      <td>[deleted]</td>\n",
       "      <td>2012-04-17 13:41:30</td>\n",
       "      <td>1</td>\n",
       "      <td>0</td>\n",
       "      <td>1</td>\n",
       "      <td>[VVUS]</td>\n",
       "      <td>[FDA]</td>\n",
       "      <td>[VVUS, Qnexa]</td>\n",
       "      <td>[Qnexa, FDA]</td>\n",
       "      <td>0.117980</td>\n",
       "      <td>0.535859</td>\n",
       "      <td>Positive</td>\n",
       "      <td>0.00</td>\n",
       "      <td>1.0</td>\n",
       "      <td>Neutral</td>\n",
       "    </tr>\n",
       "    <tr>\n",
       "      <th>4</th>\n",
       "      <td>sinsk</td>\n",
       "      <td>After HGSI spikes 97%, will share price drop at market open?</td>\n",
       "      <td>nan</td>\n",
       "      <td>CheeseYogi</td>\n",
       "      <td>2012-04-19 23:21:16</td>\n",
       "      <td>5</td>\n",
       "      <td>0</td>\n",
       "      <td>4</td>\n",
       "      <td>[HGSI]</td>\n",
       "      <td>[]</td>\n",
       "      <td>[HGSI]</td>\n",
       "      <td>[]</td>\n",
       "      <td>0.000000</td>\n",
       "      <td>0.000000</td>\n",
       "      <td>Neutral</td>\n",
       "      <td>0.00</td>\n",
       "      <td>0.5</td>\n",
       "      <td>Neutral</td>\n",
       "    </tr>\n",
       "  </tbody>\n",
       "</table>\n",
       "</div>"
      ],
      "text/plain": [
       "      id  \\\n",
       "0  s4jw1   \n",
       "1  s6r57   \n",
       "2  sd5ai   \n",
       "3  se66f   \n",
       "4  sinsk   \n",
       "\n",
       "                                                                            title  \\\n",
       "0                                      Earnings season is here.  Place your bets.   \n",
       "1                                      GOOG - beat estimates, price barely rises.   \n",
       "2                          My poorly timed opening position for AAPL earnings bet   \n",
       "3  Anyone betting on VVUS and their potential approval of their Qnexa drug today?   \n",
       "4                    After HGSI spikes 97%, will share price drop at market open?   \n",
       "\n",
       "                                                                                                                                                                                                                                                                                                                                                                                                                                                                                                                                                                                                                                                                                                                                                                                                                                                                clean_text  \\\n",
       "0  I know that /r/investing is a great place for congregating with fellow market gamblers but it's not *exactly* the right place to be. So rather than flooding it with gambling posts and epic win/loss screen shots I figured I'd make another sub for this specifically for speculating and such. We'll see if it works. Subscribe if you're interested.Anyways, upcomming earnings * AAPL 4/24* AMZN 4/25 * GOOG 4/12 * GRPN 5/14 * LNKD 5/4 * NFLX 4/23* PCLN 5/8 * ANF 5/16* GMCR 5/2 * LVS 5/4 There's a list of the ones I'm following, based on their previously significant moves postearnings. What are yours? And if you're betting, what's your move? I haven't decided my own yet, but I'll let you know when I do. Google is tempting, but there's so much volatility built in that I am just tempted to be price neutral and sell volatility... We'll see.   \n",
       "1                                                                                                                                                                                                                                                                                                                                                                                                                                                                                                                                                                                                                                                                                                                                                                                                                                                                      nan   \n",
       "2                             So I missed out on GOOG, which is probably a good thing given their split/dividend announcement really put a damper on things. But I'm not planning on missing out on AAPL and today was a perfect day to lock in a bet. Unfortunately for me I got greedy and subsequently got slapped on the wrist.Position Bought an OTM straddle with intentions on selling right before earnings. This way I don't care about the results and ride the volatility wave up to the wave's crest.* BTO AAPL May put @ 525 for $10.10* BTO AAPL May call @ 665 $7.60It was poorly timed, because I tried to time the swings today hoping to trap some profits inside of the straddle . I bought the call during a price dip and I waited for prices to go back up before buying the put, which never really happened. That said, I . Any other AAPL takers?   \n",
       "3                                                                                    I'm normally a long, but I've created a secondary account with a small amount of money I am comfortable with losing for jumping on opportunities like this and learning from my successes . I've been waiting a couple weeks for a good opportunity, and this looks like it may be it. Lot of buzz going around the company for their drug Qnexa potentially being approved by the FDA, and a couple sources even went as far as to call it \"an easy double\".I'll be honest, I'm completely new to this, and my sole decision to jump in on this stock is for the potential big ups that will happen today or tomorrow on that announcement plus the hype from around the web on it, then I'll be getting back out. I'll also be selling to cut losses if I need to as well.Thoughts?   \n",
       "4                                                                                                                                                                                                                                                                                                                                                                                                                                                                                                                                                                                                                                                                                                                                                                                                                                                                      nan   \n",
       "\n",
       "       author           timestamp  upvotes  num_comments  score title_ner  \\\n",
       "0   [deleted] 2012-04-11 16:40:40       16            22     13        []   \n",
       "1   [deleted] 2012-04-12 20:37:31        5             0      2        []   \n",
       "2   [deleted] 2012-04-16 22:29:37       14            21     12        []   \n",
       "3   [deleted] 2012-04-17 13:41:30        1             0      1    [VVUS]   \n",
       "4  CheeseYogi 2012-04-19 23:21:16        5             0      4    [HGSI]   \n",
       "\n",
       "              text_ner   title_ner_lg      text_ner_lg  polarity  \\\n",
       "0  [NFLX, ANF, Google]             []         [Google]  0.248413   \n",
       "1                   []             []               []  0.000000   \n",
       "2          [GOOG, OTM]             []  [OTM, BTO, BTO]  0.078247   \n",
       "3                [FDA]  [VVUS, Qnexa]     [Qnexa, FDA]  0.117980   \n",
       "4                   []         [HGSI]               []  0.000000   \n",
       "\n",
       "   subjectivity sentiment  polarity_title  subjectivity_title sentiment_title  \n",
       "0      0.512302  Positive            0.00                 0.0         Neutral  \n",
       "1      0.000000   Neutral            0.05                 0.1         Neutral  \n",
       "2      0.419156  Positive           -0.40                 0.6        Positive  \n",
       "3      0.535859  Positive            0.00                 1.0         Neutral  \n",
       "4      0.000000   Neutral            0.00                 0.5         Neutral  "
      ]
     },
     "execution_count": 72,
     "metadata": {},
     "output_type": "execute_result"
    }
   ],
   "source": [
    "df.head()"
   ]
  },
  {
   "cell_type": "code",
   "execution_count": null,
   "id": "8bdaafb2-0da1-42aa-8408-946a49d75713",
   "metadata": {},
   "outputs": [],
   "source": [
    "x1 = xtmp[['neg','neu','pos','compound','sentiment']]\n",
    "x2 = xtmp1[['neg','neu','pos','compound','sentiment']]\n",
    "\n",
    "x1.to_parquet('sentiment_vader_text.parquet')\n",
    "x2.to_parquet('sentiment_vader_title.parquet')"
   ]
  },
  {
   "cell_type": "code",
   "execution_count": null,
   "id": "5c5a4cf4-b5de-4f15-83c5-63cda7e4b24d",
   "metadata": {},
   "outputs": [],
   "source": []
  }
 ],
 "metadata": {
  "environment": {
   "kernel": "python3",
   "name": "common-cpu.m103",
   "type": "gcloud",
   "uri": "gcr.io/deeplearning-platform-release/base-cpu:m103"
  },
  "kernelspec": {
   "display_name": "Python 3",
   "language": "python",
   "name": "python3"
  },
  "language_info": {
   "codemirror_mode": {
    "name": "ipython",
    "version": 3
   },
   "file_extension": ".py",
   "mimetype": "text/x-python",
   "name": "python",
   "nbconvert_exporter": "python",
   "pygments_lexer": "ipython3",
   "version": "3.7.12"
  }
 },
 "nbformat": 4,
 "nbformat_minor": 5
}
