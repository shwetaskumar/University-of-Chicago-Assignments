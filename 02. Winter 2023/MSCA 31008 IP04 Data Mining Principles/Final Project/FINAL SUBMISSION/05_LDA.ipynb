{
 "cells": [
  {
   "cell_type": "markdown",
   "id": "84c56c98-5bca-4efb-903d-db79dfa5c970",
   "metadata": {},
   "source": [
    "# DMP - WallStreet Bets"
   ]
  },
  {
   "cell_type": "code",
   "execution_count": null,
   "id": "b3451640-a750-4bfe-b4df-31c849d9f339",
   "metadata": {},
   "outputs": [],
   "source": [
    "import pandas as pd"
   ]
  },
  {
   "cell_type": "code",
   "execution_count": 8,
   "id": "594ac486-2d38-442c-8818-801ccc8e925f",
   "metadata": {},
   "outputs": [],
   "source": [
    "## Read data\n",
    "import pandas as pd\n",
    "import re\n",
    "from collections import Counter\n",
    "import nltk\n",
    "from nltk.tokenize import  word_tokenize\n",
    "from pandarallel import pandarallel\n",
    "import pickle\n",
    "\n",
    "import os\n",
    "import numpy as np\n"
   ]
  },
  {
   "cell_type": "markdown",
   "id": "a8d1a70a-ef3c-43e6-9055-0e454e4863a4",
   "metadata": {},
   "source": [
    "### Full data"
   ]
  },
  {
   "cell_type": "code",
   "execution_count": 10,
   "id": "fd0a3a7d-0eb7-4594-8299-22af73630d54",
   "metadata": {},
   "outputs": [
    {
     "name": "stdout",
     "output_type": "stream",
     "text": [
      "CPU times: user 13.7 s, sys: 2.43 s, total: 16.1 s\n",
      "Wall time: 16.1 s\n"
     ]
    },
    {
     "data": {
      "text/plain": [
       "(2218243, 14)"
      ]
     },
     "execution_count": 10,
     "metadata": {},
     "output_type": "execute_result"
    }
   ],
   "source": [
    "%%time\n",
    "post_data_full = pd.read_csv('wallstreetbets_submissions_zstextract.csv')\n",
    "post_data_full.shape"
   ]
  },
  {
   "cell_type": "code",
   "execution_count": 82,
   "id": "3fb15bd4-bc0f-4936-b0eb-3e6f7b2f83a9",
   "metadata": {},
   "outputs": [
    {
     "data": {
      "text/html": [
       "<div>\n",
       "<style scoped>\n",
       "    .dataframe tbody tr th:only-of-type {\n",
       "        vertical-align: middle;\n",
       "    }\n",
       "\n",
       "    .dataframe tbody tr th {\n",
       "        vertical-align: top;\n",
       "    }\n",
       "\n",
       "    .dataframe thead th {\n",
       "        text-align: right;\n",
       "    }\n",
       "</style>\n",
       "<table border=\"1\" class=\"dataframe\">\n",
       "  <thead>\n",
       "    <tr style=\"text-align: right;\">\n",
       "      <th></th>\n",
       "      <th>Unnamed: 0</th>\n",
       "      <th>type</th>\n",
       "      <th>id</th>\n",
       "      <th>title</th>\n",
       "      <th>body</th>\n",
       "      <th>author</th>\n",
       "      <th>name</th>\n",
       "      <th>created_utc</th>\n",
       "      <th>url</th>\n",
       "      <th>score</th>\n",
       "      <th>num_comments</th>\n",
       "      <th>upvotes</th>\n",
       "      <th>downvotes</th>\n",
       "      <th>permalink</th>\n",
       "    </tr>\n",
       "  </thead>\n",
       "  <tbody>\n",
       "    <tr>\n",
       "      <th>0</th>\n",
       "      <td>0</td>\n",
       "      <td>Post</td>\n",
       "      <td>s4jw1</td>\n",
       "      <td>Earnings season is here.  Place your bets.</td>\n",
       "      <td>I know that /r/investing is a great place for congregating with fellow market gamblers - but it's not *exactly* the right place to be.  So rather than flooding it with gambling posts and epic win/loss screen shots I figured I'd make another sub for this specifically for speculating and such.  We'll see if it works.  Subscribe if you're interested.\\n\\n\\nAnyways, upcomming earnings (feel free to add):\\n\\n* AAPL - 4/24\\n\\n* AMZN - 4/25 (unconfirmed)\\n\\n* GOOG - 4/12 (TOMORROW! - after market cl...</td>\n",
       "      <td>[deleted]</td>\n",
       "      <td>t3_s4jw1</td>\n",
       "      <td>1334162440</td>\n",
       "      <td>http://www.reddit.com/r/wallstreetbets/comments/s4jw1/earnings_season_is_here_place_your_bets/</td>\n",
       "      <td>13</td>\n",
       "      <td>22</td>\n",
       "      <td>16</td>\n",
       "      <td>3</td>\n",
       "      <td>/r/wallstreetbets/comments/s4jw1/earnings_season_is_here_place_your_bets/</td>\n",
       "    </tr>\n",
       "    <tr>\n",
       "      <th>1</th>\n",
       "      <td>1</td>\n",
       "      <td>Post</td>\n",
       "      <td>s6r57</td>\n",
       "      <td>GOOG - beat estimates, price barely rises.</td>\n",
       "      <td>NaN</td>\n",
       "      <td>[deleted]</td>\n",
       "      <td>t3_s6r57</td>\n",
       "      <td>1334263051</td>\n",
       "      <td>http://www.bloomberg.com/news/2012-04-12/google-s-profit-tops-estimates-as-new-markets-help-fuel-growth.html</td>\n",
       "      <td>2</td>\n",
       "      <td>0</td>\n",
       "      <td>5</td>\n",
       "      <td>3</td>\n",
       "      <td>/r/wallstreetbets/comments/s6r57/goog_beat_estimates_price_barely_rises/</td>\n",
       "    </tr>\n",
       "  </tbody>\n",
       "</table>\n",
       "</div>"
      ],
      "text/plain": [
       "   Unnamed: 0  type     id                                       title  \\\n",
       "0           0  Post  s4jw1  Earnings season is here.  Place your bets.   \n",
       "1           1  Post  s6r57  GOOG - beat estimates, price barely rises.   \n",
       "\n",
       "                                                                                                                                                                                                                                                                                                                                                                                                                                                                                                                  body  \\\n",
       "0  I know that /r/investing is a great place for congregating with fellow market gamblers - but it's not *exactly* the right place to be.  So rather than flooding it with gambling posts and epic win/loss screen shots I figured I'd make another sub for this specifically for speculating and such.  We'll see if it works.  Subscribe if you're interested.\\n\\n\\nAnyways, upcomming earnings (feel free to add):\\n\\n* AAPL - 4/24\\n\\n* AMZN - 4/25 (unconfirmed)\\n\\n* GOOG - 4/12 (TOMORROW! - after market cl...   \n",
       "1                                                                                                                                                                                                                                                                                                                                                                                                                                                                                                                  NaN   \n",
       "\n",
       "      author      name  created_utc  \\\n",
       "0  [deleted]  t3_s4jw1   1334162440   \n",
       "1  [deleted]  t3_s6r57   1334263051   \n",
       "\n",
       "                                                                                                            url  \\\n",
       "0                http://www.reddit.com/r/wallstreetbets/comments/s4jw1/earnings_season_is_here_place_your_bets/   \n",
       "1  http://www.bloomberg.com/news/2012-04-12/google-s-profit-tops-estimates-as-new-markets-help-fuel-growth.html   \n",
       "\n",
       "   score  num_comments  upvotes  downvotes  \\\n",
       "0     13            22       16          3   \n",
       "1      2             0        5          3   \n",
       "\n",
       "                                                                   permalink  \n",
       "0  /r/wallstreetbets/comments/s4jw1/earnings_season_is_here_place_your_bets/  \n",
       "1   /r/wallstreetbets/comments/s6r57/goog_beat_estimates_price_barely_rises/  "
      ]
     },
     "execution_count": 82,
     "metadata": {},
     "output_type": "execute_result"
    }
   ],
   "source": [
    "post_data_full.head(2)"
   ]
  },
  {
   "cell_type": "code",
   "execution_count": 83,
   "id": "af878904-beb1-4367-94ec-4f6fc4acc4db",
   "metadata": {},
   "outputs": [
    {
     "data": {
      "text/plain": [
       "Post    2218243\n",
       "Name: type, dtype: int64"
      ]
     },
     "execution_count": 83,
     "metadata": {},
     "output_type": "execute_result"
    }
   ],
   "source": [
    "post_data_full['type'].value_counts()"
   ]
  },
  {
   "cell_type": "code",
   "execution_count": 84,
   "id": "c91a6736-5f05-48e9-85fa-0f2fc9882840",
   "metadata": {},
   "outputs": [
    {
     "name": "stdout",
     "output_type": "stream",
     "text": [
      "<class 'pandas.core.frame.DataFrame'>\n",
      "RangeIndex: 2218243 entries, 0 to 2218242\n",
      "Data columns (total 14 columns):\n",
      " #   Column        Non-Null Count    Dtype \n",
      "---  ------        --------------    ----- \n",
      " 0   Unnamed: 0    2218243 non-null  int64 \n",
      " 1   type          2218243 non-null  object\n",
      " 2   id            2218243 non-null  object\n",
      " 3   title         2218239 non-null  object\n",
      " 4   body          1556533 non-null  object\n",
      " 5   author        2218243 non-null  object\n",
      " 6   name          1905290 non-null  object\n",
      " 7   created_utc   2218243 non-null  int64 \n",
      " 8   url           2185509 non-null  object\n",
      " 9   score         2218243 non-null  int64 \n",
      " 10  num_comments  2218243 non-null  int64 \n",
      " 11  upvotes       2218243 non-null  int64 \n",
      " 12  downvotes     2218243 non-null  int64 \n",
      " 13  permalink     2218243 non-null  object\n",
      "dtypes: int64(6), object(8)\n",
      "memory usage: 236.9+ MB\n"
     ]
    }
   ],
   "source": [
    "post_data_full.info(verbose=True, show_counts=True)"
   ]
  },
  {
   "cell_type": "code",
   "execution_count": 11,
   "id": "e0e40056-0658-44e0-8308-cd5f06f1959c",
   "metadata": {},
   "outputs": [
    {
     "data": {
      "text/plain": [
       "Timestamp('2012-04-11 16:40:40')"
      ]
     },
     "execution_count": 11,
     "metadata": {},
     "output_type": "execute_result"
    }
   ],
   "source": [
    "import datetime\n",
    "\n",
    "post_data_full['timestamp'] = post_data_full['created_utc'].apply(datetime.datetime.fromtimestamp)\n",
    "post_data_full['timestamp'].min()"
   ]
  },
  {
   "cell_type": "markdown",
   "id": "255f67fa-6364-4afb-b93c-3e2f3c6e84c9",
   "metadata": {},
   "source": [
    "## Profiling"
   ]
  },
  {
   "cell_type": "code",
   "execution_count": 4,
   "id": "12feb777-3a7c-4a11-b3e1-7da2003d1ae0",
   "metadata": {},
   "outputs": [],
   "source": [
    "def clean_text(text):\n",
    "    # Remove all text between square brackets\n",
    "    text = re.sub(r'\\[.*?\\]', '', text)\n",
    "    \n",
    "    # Remove all text between parentheses\n",
    "    text = re.sub(r'\\(.*?\\)', '', text)\n",
    "    \n",
    "    # Remove all text between curly braces\n",
    "    text = re.sub(r'\\{.*?\\}', '', text)\n",
    "    \n",
    "    # Remove all text between angle brackets\n",
    "    text = re.sub(r'<.*?>', '', text)\n",
    "    \n",
    "    # Remove all text between double quotes\n",
    "    #text = re.sub(r'\"(.*?)\"', '', text)\n",
    "    \n",
    "    # Remove all text between single quotes\n",
    "    #text = re.sub(r\"'(.*?)'\", '', text)\n",
    "    \n",
    "    # Remove everything between **____**\n",
    "    text = re.sub(r'\\*\\*(.*?)\\*\\*','',text)\n",
    "    \n",
    "    # Remove words followed by ^\n",
    "    text = re.sub(r'(\\^\\w*)','',text)\n",
    "    \n",
    "    # Remove mentions, hashtags, links\n",
    "    text = re.sub(r'\\||:|\\-|\\n|(@\\w+.*?)|(http\\w\\S+.*?)|(#\\w+)','',text)\n",
    "    \n",
    "    # Remove all ^Your daily posts\n",
    "    text = re.sub(r'^Your daily trading discussion.*|^We are now using AutoModerator.*|^Every time a new submission.*|^Trading discussion only.*','',text)\n",
    "    \n",
    "    # Remove all newlines, tabs, and extra whitespace\n",
    "    text = re.sub(r'[\\n\\t]+', ' ', text)\n",
    "    text = re.sub(r'\\s{2,}', ' ', text)\n",
    "    \n",
    "    \n",
    "    return text"
   ]
  },
  {
   "cell_type": "code",
   "execution_count": 6,
   "id": "27096651-4141-4f4a-b9ff-038c3f53cdb4",
   "metadata": {},
   "outputs": [
    {
     "name": "stdout",
     "output_type": "stream",
     "text": [
      "INFO: Pandarallel will run on 8 workers.\n",
      "INFO: Pandarallel will use Memory file system to transfer data between the main process and workers.\n",
      "CPU times: user 2.53 s, sys: 926 ms, total: 3.45 s\n",
      "Wall time: 10.1 s\n"
     ]
    },
    {
     "data": {
      "text/plain": [
       "clean_text\n",
       "            1400263\n",
       "nan          661710\n",
       "&amp;;         1012\n",
       "                648\n",
       "Discuss.        509\n",
       "Name: author, dtype: int64"
      ]
     },
     "execution_count": 6,
     "metadata": {},
     "output_type": "execute_result"
    }
   ],
   "source": [
    "%%time\n",
    "\n",
    "pandarallel.initialize()\n",
    "post_data_full['clean_text'] = post_data_full['body'].parallel_apply(lambda x: clean_text(str(x)))\n",
    "post_data_full = post_data_full[['id','title','clean_text','author','timestamp','upvotes','num_comments','score']]\n",
    "post_data_full.groupby(['clean_text'])['author'].count().sort_values(ascending=False).head(5)"
   ]
  },
  {
   "cell_type": "code",
   "execution_count": 12,
   "id": "5b2aa65b-4813-47b0-aa79-93b2f8c5b950",
   "metadata": {},
   "outputs": [],
   "source": [
    "## Creating a copy\n",
    "df = post_data_full"
   ]
  },
  {
   "cell_type": "code",
   "execution_count": 88,
   "id": "11b4f9a2-1d93-4d8c-b755-200500f9934e",
   "metadata": {},
   "outputs": [
    {
     "name": "stdout",
     "output_type": "stream",
     "text": [
      "INFO: Pandarallel will run on 8 workers.\n",
      "INFO: Pandarallel will use Memory file system to transfer data between the main process and workers.\n",
      "CPU times: user 3min 4s, sys: 1.97 s, total: 3min 6s\n",
      "Wall time: 3min 6s\n"
     ]
    },
    {
     "data": {
      "text/plain": [
       "[('gme', 195396),\n",
       " ('buy', 119774),\n",
       " ('amc', 104421),\n",
       " (\"'s\", 90274),\n",
       " ('stock', 87597),\n",
       " ('...', 75084),\n",
       " ('moon', 74195),\n",
       " ('hold', 70079),\n",
       " ('like', 61723),\n",
       " ('robinhood', 61143)]"
      ]
     },
     "execution_count": 88,
     "metadata": {},
     "output_type": "execute_result"
    }
   ],
   "source": [
    "%%time\n",
    "\n",
    "pandarallel.initialize()\n",
    "\n",
    "stop_words = set(nltk.corpus.stopwords.words('english'))\n",
    "text = df['title'].str.lower().str.cat(sep=' ')\n",
    "\n",
    "text_token = nltk.tokenize.word_tokenize(text)\n",
    "text_token = [word for word in text_token if len(word) > 1]\n",
    "text_token = [word for word in text_token if not word.isnumeric()]\n",
    "text_token = [word for word in text_token if word not in stop_words]\n",
    "\n",
    "word_cnt = Counter(text_token)\n",
    "word_cnt.most_common(10)"
   ]
  },
  {
   "cell_type": "code",
   "execution_count": 92,
   "id": "fe1c9701-ae48-431a-aa32-7cbe2668b5a1",
   "metadata": {},
   "outputs": [
    {
     "data": {
      "text/plain": [
       "[('gme', 195396),\n",
       " ('buy', 119774),\n",
       " ('amc', 104421),\n",
       " (\"'s\", 90274),\n",
       " ('stock', 87597),\n",
       " ('...', 75084),\n",
       " ('moon', 74195),\n",
       " ('hold', 70079),\n",
       " ('like', 61723),\n",
       " ('robinhood', 61143),\n",
       " ('short', 60488),\n",
       " ('get', 58732),\n",
       " ('today', 57710),\n",
       " ('go', 54476),\n",
       " ('market', 54380),\n",
       " ('going', 53307),\n",
       " (\"n't\", 52333),\n",
       " ('new', 48931),\n",
       " ('time', 47296),\n",
       " ('let', 45540)]"
      ]
     },
     "execution_count": 92,
     "metadata": {},
     "output_type": "execute_result"
    }
   ],
   "source": [
    "word_cnt.most_common(20)"
   ]
  },
  {
   "cell_type": "code",
   "execution_count": 93,
   "id": "acd771e1-3e11-4a56-89e5-9685a935f4ee",
   "metadata": {},
   "outputs": [
    {
     "data": {
      "text/plain": [
       "author\n",
       "AdjustedClimatology    196211.0\n",
       "1daBread               178528.0\n",
       "CaptainOats8690        172631.0\n",
       "string_beans           170922.0\n",
       "mcuban                 157954.0\n",
       "LilHMoney              123128.0\n",
       "yellow_duck12          120463.0\n",
       "tannerwastaken         116812.0\n",
       "TheRavinRaven          116353.0\n",
       "Lansman                109162.0\n",
       "Name: score, dtype: float64"
      ]
     },
     "execution_count": 93,
     "metadata": {},
     "output_type": "execute_result"
    }
   ],
   "source": [
    "post_data_full.groupby(['author'])['score'].mean().sort_values(ascending=False).head(10)"
   ]
  },
  {
   "cell_type": "code",
   "execution_count": 94,
   "id": "6bd13a48-2936-4219-8fbe-16651badf0ef",
   "metadata": {},
   "outputs": [
    {
     "data": {
      "text/plain": [
       "author\n",
       "[deleted]             71501\n",
       "haupt91               55636\n",
       "realdotards           34431\n",
       "ITradeBaconFutures    29342\n",
       "GodEmperorMusk        27107\n",
       "dajesus77             23470\n",
       "SIThereAndThere       15967\n",
       "Fiercehero            14811\n",
       "AutoModerator         12011\n",
       "Bombadilionare        11765\n",
       "Name: upvotes, dtype: int64"
      ]
     },
     "execution_count": 94,
     "metadata": {},
     "output_type": "execute_result"
    }
   ],
   "source": [
    "post_data_full.groupby(['author'])['upvotes'].sum().sort_values(ascending=False).head(10)"
   ]
  },
  {
   "cell_type": "code",
   "execution_count": 95,
   "id": "60efa097-930b-44c7-bbf8-1f13fdbb616a",
   "metadata": {},
   "outputs": [
    {
     "data": {
      "text/plain": [
       "author\n",
       "wallstreetboyfriend    44567.750000\n",
       "premier_               27140.714286\n",
       "mcuban                 27014.000000\n",
       "grebfar                26051.875000\n",
       "Dan_inKuwait           23408.500000\n",
       "MrBeast100kinvest      16845.000000\n",
       "GoBeaversOSU           14607.000000\n",
       "Stylux                 12379.714286\n",
       "CallsOnAlcoholism      11618.333333\n",
       "Shrubber               10912.000000\n",
       "Name: num_comments, dtype: float64"
      ]
     },
     "execution_count": 95,
     "metadata": {},
     "output_type": "execute_result"
    }
   ],
   "source": [
    "post_data_full.groupby(['author'])['num_comments'].mean().sort_values(ascending=False).head(10)"
   ]
  },
  {
   "cell_type": "markdown",
   "id": "0cd0efcb-96de-44e6-ace4-5d11b02119f2",
   "metadata": {
    "tags": []
   },
   "source": [
    "## Topic Modelling"
   ]
  },
  {
   "cell_type": "code",
   "execution_count": 4,
   "id": "3648655f-eed4-41b2-b7cf-7423eaff1921",
   "metadata": {},
   "outputs": [],
   "source": [
    "from nltk.corpus import stopwords\n",
    "from nltk.stem.wordnet import WordNetLemmatizer\n",
    "\n",
    "import string\n",
    "\n",
    "\n",
    "import gensim\n",
    "from gensim import corpora, models\n",
    "from gensim.models.ldamulticore import LdaMulticore\n",
    "from gensim.utils import simple_preprocess\n",
    "from gensim.models import CoherenceModel\n",
    "from gensim.models.ldamodel import LdaModel\n",
    "\n",
    "# import pyLDAvis.gensim\n",
    "import pyLDAvis\n",
    "import pyLDAvis.gensim_models as gensimvis\n",
    "pyLDAvis.enable_notebook()"
   ]
  },
  {
   "cell_type": "code",
   "execution_count": 5,
   "id": "3e12a5d8-da9d-4f8a-90f7-8e1cd5dd15b3",
   "metadata": {},
   "outputs": [],
   "source": [
    "import warnings\n",
    "\n",
    "warnings.simplefilter('ignore')"
   ]
  },
  {
   "cell_type": "code",
   "execution_count": 14,
   "id": "8ea89896-a044-4a87-a53c-f7203f8d2e97",
   "metadata": {},
   "outputs": [
    {
     "name": "stdout",
     "output_type": "stream",
     "text": [
      "CPU times: user 6.17 s, sys: 2.1 s, total: 8.27 s\n",
      "Wall time: 19.6 s\n"
     ]
    }
   ],
   "source": [
    "%%time\n",
    "\n",
    "from multiprocessing import Pool\n",
    "\n",
    "stop = set(stopwords.words('english'))\n",
    "exclude = set(string.punctuation)\n",
    "lemma = WordNetLemmatizer()\n",
    "def clean(doc):\n",
    "    stop_free = \" \".join([i for i in str(doc).lower().split() if i not in stop])\n",
    "    punc_free = ''.join(ch for ch in stop_free if ch not in exclude)\n",
    "    normalized = \" \".join(lemma.lemmatize(word) for word in punc_free.split())\n",
    "    return normalized\n",
    "\n",
    "def parallel_clean(data):\n",
    "    with Pool() as pool:\n",
    "        results = pool.map(clean, data)\n",
    "    return [result.split() for result in results]\n",
    "\n",
    "# post_list = df['clean_text'].tolist()\n",
    "# post_clean = parallel_clean(post_list)\n",
    "\n",
    "title_list = df['title'].tolist()\n",
    "title_clean = parallel_clean(title_list)"
   ]
  },
  {
   "cell_type": "code",
   "execution_count": 11,
   "id": "f31ef5d2-77ea-4e34-8c0d-6125558c1083",
   "metadata": {},
   "outputs": [
    {
     "name": "stdout",
     "output_type": "stream",
     "text": [
      "CPU times: user 17 s, sys: 638 ms, total: 17.6 s\n",
      "Wall time: 17.6 s\n"
     ]
    }
   ],
   "source": [
    "# Creating the term dictionary of our corpus, where every unique term is assigned an index. \n",
    "\n",
    "dictionary = corpora.Dictionary(title_clean)\n",
    "\n",
    "# Converting list of documents (corpus) into Document Term Matrix using dictionary prepared above.\n",
    "\n",
    "%time doc_term_matrix = [dictionary.doc2bow(doc) for doc in title_clean]"
   ]
  },
  {
   "cell_type": "code",
   "execution_count": 106,
   "id": "6bd13818-e69e-473a-b105-fc4b4f0c4475",
   "metadata": {},
   "outputs": [],
   "source": [
    "# Save the dictionary and corpus\n",
    "with open('DMP/dictionary.pkl', 'wb') as f:\n",
    "    pickle.dump(dictionary, f)\n",
    "with open('DMP/corpus.pkl', 'wb') as f:\n",
    "    pickle.dump(doc_term_matrix, f)"
   ]
  },
  {
   "cell_type": "code",
   "execution_count": 12,
   "id": "9fbb5774-f996-4853-9b3b-42038a102a70",
   "metadata": {},
   "outputs": [
    {
     "data": {
      "text/plain": [
       "16"
      ]
     },
     "execution_count": 12,
     "metadata": {},
     "output_type": "execute_result"
    }
   ],
   "source": [
    "import multiprocessing\n",
    "\n",
    "num_processors = multiprocessing.cpu_count()\n",
    "num_processors"
   ]
  },
  {
   "cell_type": "code",
   "execution_count": 13,
   "id": "dc755598-41db-439e-9b4d-6915db0eeb42",
   "metadata": {},
   "outputs": [
    {
     "name": "stdout",
     "output_type": "stream",
     "text": [
      "CPU times: user 24min 1s, sys: 4min 13s, total: 28min 14s\n",
      "Wall time: 27min 38s\n"
     ]
    }
   ],
   "source": [
    "%%time\n",
    "\n",
    "num_topics = 10\n",
    "iterations = 100\n",
    "passes = 20\n",
    "workers = num_processors - 1\n",
    "eval_every = None\n",
    "\n",
    "ldamodel = LdaMulticore(corpus=doc_term_matrix,\n",
    "                       id2word=dictionary,\n",
    "                       eta='auto',\n",
    "                       num_topics=num_topics,\n",
    "                       iterations=iterations,\n",
    "                       passes=passes,\n",
    "                       eval_every=eval_every,\n",
    "                       workers = workers)"
   ]
  },
  {
   "cell_type": "code",
   "execution_count": 16,
   "id": "1c1bf3cc-8f50-47c3-8cc8-1999e6861fcb",
   "metadata": {},
   "outputs": [
    {
     "name": "stdout",
     "output_type": "stream",
     "text": [
      "(0, '0.072*\"robinhood\" + 0.049*\"stock\" + 0.027*\"trading\" + 0.020*\"dd\" + 0.015*\"trade\" + 0.015*\"market\" + 0.013*\"app\" + 0.013*\"rh\" + 0.012*\"move\" + 0.010*\"use\" + 0.010*\"order\" + 0.010*\"broker\" + 0.009*\"stonks\" + 0.008*\"thread\" + 0.008*\"new\"')\n",
      "(1, '0.028*\"call\" + 0.024*\"option\" + 0.023*\"day\" + 0.022*\"put\" + 0.019*\"week\" + 0.019*\"market\" + 0.017*\"yolo\" + 0.014*\"today\" + 0.013*\"bought\" + 0.011*\"spy\" + 0.010*\"year\" + 0.010*\"first\" + 0.010*\"last\" + 0.010*\"tsla\" + 0.009*\"share\"')\n",
      "(2, '0.039*\"like\" + 0.037*\"bb\" + 0.027*\"im\" + 0.026*\"guy\" + 0.023*\"i’m\" + 0.022*\"know\" + 0.021*\"anyone\" + 0.014*\"think\" + 0.013*\"look\" + 0.012*\"good\" + 0.011*\"wall\" + 0.011*\"someone\" + 0.011*\"stock\" + 0.010*\"street\" + 0.010*\"love\"')\n",
      "(3, '0.066*\"short\" + 0.029*\"holding\" + 0.023*\"squeeze\" + 0.023*\"tendies\" + 0.021*\"price\" + 0.013*\"position\" + 0.012*\"long\" + 0.012*\"coming\" + 0.010*\"still\" + 0.009*\"share\" + 0.008*\"nio\" + 0.008*\"interest\" + 0.008*\"may\" + 0.008*\"war\" + 0.007*\"2020\"')\n",
      "(4, '0.021*\"fund\" + 0.018*\"hedge\" + 0.016*\"don’t\" + 0.011*\"news\" + 0.011*\"u\" + 0.011*\"real\" + 0.010*\"what’s\" + 0.009*\"investor\" + 0.009*\"company\" + 0.007*\"say\" + 0.006*\"sec\" + 0.006*\"world\" + 0.006*\"shit\" + 0.006*\"trump\" + 0.006*\"crypto\"')\n",
      "(5, '0.111*\"buy\" + 0.078*\"hold\" + 0.042*\"sell\" + 0.032*\"buying\" + 0.030*\"fuck\" + 0.021*\"line\" + 0.021*\"dip\" + 0.019*\"money\" + 0.016*\"earnings\" + 0.012*\"fucking\" + 0.012*\"put\" + 0.012*\"selling\" + 0.012*\"call\" + 0.010*\"dont\" + 0.010*\"cant\"')\n",
      "(6, '0.097*\"amc\" + 0.066*\"moon\" + 0.050*\"nok\" + 0.047*\"🚀\" + 0.037*\"go\" + 0.036*\"let\" + 0.028*\"🚀🚀🚀\" + 0.023*\"going\" + 0.020*\"doge\" + 0.010*\"rocket\" + 0.010*\"🚀🚀\" + 0.009*\"up\" + 0.009*\"down\" + 0.009*\"sndl\" + 0.009*\"next\"')\n",
      "(7, '0.064*\"get\" + 0.030*\"right\" + 0.023*\"now\" + 0.021*\"it’s\" + 0.018*\"let’s\" + 0.017*\"dogecoin\" + 0.016*\"elon\" + 0.016*\"tesla\" + 0.015*\"question\" + 0.014*\"boy\" + 0.012*\"work\" + 0.011*\"time\" + 0.011*\"nakd\" + 0.011*\"late\" + 0.009*\"autist\"')\n",
      "(8, '0.032*\"wsb\" + 0.029*\"one\" + 0.021*\"need\" + 0.016*\"help\" + 0.014*\"u\" + 0.013*\"got\" + 0.012*\"retard\" + 0.011*\"post\" + 0.011*\"make\" + 0.010*\"hand\" + 0.009*\"never\" + 0.009*\"money\" + 0.009*\"autists\" + 0.009*\"made\" + 0.008*\"gain\"')\n",
      "(9, '0.253*\"gme\" + 0.028*\"next\" + 0.026*\"buy\" + 0.025*\"gamestop\" + 0.024*\"thought\" + 0.020*\"pltr\" + 0.015*\"whats\" + 0.015*\"share\" + 0.014*\"melvin\" + 0.013*\"stock\" + 0.009*\"game\" + 0.009*\"going\" + 0.009*\"capital\" + 0.008*\"nokia\" + 0.007*\"win\"')\n"
     ]
    }
   ],
   "source": [
    "print(*ldamodel.print_topics(num_topics=num_topics, num_words=15), sep='\\n')"
   ]
  },
  {
   "cell_type": "code",
   "execution_count": 15,
   "id": "7d1ddb2f-82ba-427e-a332-8bcbb6493798",
   "metadata": {},
   "outputs": [],
   "source": [
    "ldamodel.save('lda_post')"
   ]
  },
  {
   "cell_type": "code",
   "execution_count": 17,
   "id": "1ca965e1-29db-40dc-8bfd-57db9f4e15c6",
   "metadata": {},
   "outputs": [
    {
     "name": "stdout",
     "output_type": "stream",
     "text": [
      "CPU times: user 3min 48s, sys: 439 ms, total: 3min 49s\n",
      "Wall time: 3min 53s\n"
     ]
    },
    {
     "data": {
      "text/html": [
       "\n",
       "<link rel=\"stylesheet\" type=\"text/css\" href=\"https://cdn.jsdelivr.net/gh/bmabey/pyLDAvis@3.3.1/pyLDAvis/js/ldavis.v1.0.0.css\">\n",
       "\n",
       "\n",
       "<div id=\"ldavis_el34521402178686906404543096481\"></div>\n",
       "<script type=\"text/javascript\">\n",
       "\n",
       "var ldavis_el34521402178686906404543096481_data = {\"mdsDat\": {\"x\": [0.34300121117986304, 0.09427506570157748, -0.18077480339739696, -0.1376495561939811, 0.18492499299758813, -0.2707394343093547, -0.14415551653992872, -0.39598623912273817, 0.08571017106615107, 0.4213941086182198], \"y\": [0.22958609685363834, 0.3070274571420077, -0.15421613700092848, 0.4091993014156834, -0.31543298949588233, 0.18499402843621895, -0.4383447591997266, -0.07377935305400643, -0.05830975940409716, -0.09072388569290726], \"topics\": [1, 2, 3, 4, 5, 6, 7, 8, 9, 10], \"cluster\": [1, 1, 1, 1, 1, 1, 1, 1, 1, 1], \"Freq\": [9.853838066667631, 14.684155922678862, 12.050373815627843, 9.155960185887945, 9.4961804131323, 7.9574598954799765, 8.738194167598854, 8.506760518907193, 12.263687121707, 7.2933898923123905]}, \"tinfo\": {\"Term\": [\"gme\", \"buy\", \"amc\", \"robinhood\", \"hold\", \"short\", \"moon\", \"get\", \"nok\", \"\\ud83d\\ude80\", \"like\", \"bb\", \"sell\", \"wsb\", \"call\", \"one\", \"stock\", \"go\", \"option\", \"let\", \"buying\", \"im\", \"holding\", \"right\", \"put\", \"day\", \"trading\", \"\\ud83d\\ude80\\ud83d\\ude80\\ud83d\\ude80\", \"guy\", \"fuck\", \"dd\", \"app\", \"stonks\", \"thread\", \"webull\", \"platform\", \"limit\", \"discussion\", \"hood\", \"inside\", \"allowing\", \"daily\", \"we\\u2019re\", \"review\", \"ipo\", \"robin\", \"gang\", \"store\", \"google\", \"stonk\", \"apps\", \"restriction\", \"alternative\", \"etoro\", \"\\ud83d\\udc3b\", \"insider\", \"02\", \"allow\", \"weed\", \"\\ud83c\\udf08\", \"robinhood\", \"move\", \"use\", \"broker\", \"order\", \"purchase\", \"star\", \"uk\", \"bullish\", \"fidelity\", \"brokerage\", \"trading\", \"rh\", \"stock\", \"trade\", \"best\", \"market\", \"meme\", \"account\", \"free\", \"new\", \"tomorrow\", \"go\", \"option\", \"week\", \"spy\", \"can\\u2019t\", \"2\", \"green\", \"500\", \"minute\", \"month\", \"red\", \"margin\", \"10k\", \"gt\", \"rn\", \"past\", \"sampp\", \"vix\", \"5k\", \"crash\", \"6\", \"90\", \"dow\", \"expiring\", \"pre\", \"20k\", \"otm\", \"\\ud83d\\ude80\\ud83d\\ude80\\ud83d\\ude80\\ud83d\\ude80\\ud83d\\ude80\\ud83d\\ude80\\ud83d\\ude80\\ud83d\\ude80\", \"expire\", \"last\", \"ago\", \"yolo\", \"3\", \"hour\", \"wish\", \"night\", \"newbie\", \"strike\", \"day\", \"5\", \"4\", \"year\", \"call\", \"sold\", \"bull\", \"put\", \"bought\", \"10\", \"first\", \"tsla\", \"market\", \"20\", \"bear\", \"today\", \"1\", \"close\", \"100\", \"share\", \"time\", \"next\", \"play\", \"stock\", \"tomorrow\", \"trading\", \"bb\", \"i\\u2019m\", \"wall\", \"street\", \"else\", \"love\", \"feel\", \"anyone\", \"explain\", \"2021\", \"boomer\", \"hi\", \"someone\", \"doing\", \"hop\", \"robinhoods\", \"wondering\", \"town\", \"somebody\", \"st\", \"truth\", \"seriously\", \"gas\", \"confused\", \"clearing\", \"who\\u2019s\", \"kinda\", \"apex\", \"wolf\", \"karma\", \"like\", \"look\", \"know\", \"something\", \"autistic\", \"tell\", \"wrong\", \"anybody\", \"train\", \"feeling\", \"bloomberg\", \"im\", \"retarded\", \"hear\", \"idea\", \"watching\", \"pretty\", \"guy\", \"well\", \"really\", \"me\", \"think\", \"here\", \"good\", \"please\", \"it\", \"would\", \"new\", \"want\", \"stock\", \"going\", \"short\", \"squeeze\", \"coming\", \"nio\", \"interest\", \"target\", \"cramer\", \"waiting\", \"float\", \"log\", \"hodl\", \"wsbvotebot\", \"seller\", \"bag\", \"jim\", \"fubo\", \"pop\", \"sweet\", \"boeing\", \"press\", \"320\", \"limiting\", \"fractional\", \"updated\", \"gentleman\", \"microsoft\", \"boycott\", \"wkhs\", \"conference\", \"bynd\", \"holding\", \"tendies\", \"war\", \"holder\", \"cover\", \"suck\", \"ge\", \"death\", \"ba\", \"term\", \"lmao\", \"massive\", \"price\", \"incoming\", \"position\", \"volume\", \"potential\", \"may\", \"apple\", \"long\", \"soon\", \"2020\", \"top\", \"huge\", \"still\", \"monday\", \"share\", \"drop\", \"big\", \"today\", \"fund\", \"hedge\", \"what\\u2019s\", \"nice\", \"crypto\", \"real\", \"bitcoin\", \"wife\", \"covid\", \"you\\u2019re\", \"dead\", \"test\", \"important\", \"song\", \"covid19\", \"boyfriend\", \"tendie\", \"bubble\", \"billionaire\", \"2019\", \"biden\", \"holy\", \"xrp\", \"wow\", \"front\", \"manager\", \"perfect\", \"decision\", \"cancelled\", \"fact\", \"y\\u2019all\", \"risk\", \"reminder\", \"economy\", \"government\", \"news\", \"investor\", \"don\\u2019t\", \"sec\", \"world\", \"article\", \"coronavirus\", \"cnbc\", \"plan\", \"company\", \"financial\", \"retail\", \"trump\", \"wallstreetbets\", \"fed\", \"say\", \"u\", \"shit\", \"future\", \"bank\", \"new\", \"money\", \"stock\", \"think\", \"hold\", \"line\", \"dip\", \"buying\", \"ameritrade\", \"sell\", \"citron\", \"bois\", \"f\", \"easy\", \"virus\", \"nkla\", \"letting\", \"corona\", \"dis\", \"42069\", \"printer\", \"panic\", \"disney\", \"netflix\", \"td\", \"shkreli\", \"logo\", \"andrew\", \"martin\", \"\\ud83d\\ude0e\", \"beer\", \"yahoo\", \"beat\", \"bezos\", \"dont\", \"buy\", \"fuck\", \"baba\", \"wait\", \"earnings\", \"selling\", \"cant\", \"invest\", \"money\", \"fucking\", \"lose\", \"put\", \"call\", \"share\", \"stop\", \"time\", \"u\", \"tomorrow\", \"still\", \"keep\", \"make\", \"amc\", \"moon\", \"\\ud83d\\ude80\\ud83d\\ude80\\ud83d\\ude80\", \"doge\", \"\\ud83d\\ude80\\ud83d\\ude80\", \"sndl\", \"wtf\", \"ape\", \"coin\", \"happened\", \"silver\", \"nok\", \"spce\", \"gold\", \"212\", \"slv\", \"aal\", \"beyond\", \"airline\", \"cashapp\", \"stay\", \"fly\", \"that\\u2019s\", \"\\ud83d\\ude80\\ud83d\\ude80\\ud83d\\ude80\\ud83d\\ude80\\ud83d\\ude80\\ud83d\\ude80\\ud83d\\ude80\", \"scare\", \"ctrm\", \"gnu\", \"\\ud83d\\ude02\", \"\\ud83c\\udf19\", \"push\", \"\\ud83d\\ude80\", \"baby\", \"bbby\", \"stimulus\", \"rocket\", \"down\", \"mar\", \"let\", \"go\", \"together\", \"strong\", \"going\", \"up\", \"keep\", \"next\", \"boy\", \"\\ud83d\\ude80\\ud83d\\ude80\\ud83d\\ude80\\ud83d\\ude80\", \"take\", \"fucking\", \"it\\u2019s\", \"let\\u2019s\", \"dogecoin\", \"elon\", \"late\", \"autist\", \"musk\", \"rich\", \"discord\", \"oil\", \"papa\", \"right\", \"crazy\", \"question\", \"party\", \"home\", \"doesn\\u2019t\", \"hello\", \"work\", \"tweet\", \"revolution\", \"car\", \"hot\", \"ain\\u2019t\", \"pumping\", \"wild\", \"answer\", \"player\", \"battery\", \"infinity\", \"get\", \"now\", \"nakd\", \"oh\", \"vaccine\", \"blackberry\", \"beautiful\", \"die\", \"em\", \"tesla\", \"ready\", \"daddy\", \"boy\", \"serious\", \"power\", \"join\", \"getting\", \"much\", \"time\", \"come\", \"big\", \"back\", \"go\", \"make\", \"going\", \"hand\", \"diamond\", \"never\", \"mod\", \"\\ud83d\\udc8e\", \"advice\", \"action\", \"porn\", \"class\", \"paper\", \"thanks\", \"i\\u2019ve\", \"word\", \"won\\u2019t\", \"lawsuit\", \"banned\", \"isn\\u2019t\", \"alright\", \"joined\", \"dream\", \"udeepfuckingvalue\", \"dfv\", \"thank\", \"\\ud83d\\ude4c\", \"dear\", \"rule\", \"warren\", \"restricting\", \"dude\", \"god\", \"wsb\", \"autists\", \"manipulation\", \"one\", \"need\", \"hate\", \"giving\", \"jpow\", \"degenerate\", \"heard\", \"life\", \"post\", \"help\", \"done\", \"you\", \"poor\", \"got\", \"loss\", \"fellow\", \"made\", \"retard\", \"this\", \"u\", \"make\", \"gain\", \"ever\", \"money\", \"give\", \"stop\", \"new\", \"guy\", \"market\", \"thought\", \"gme\", \"gamestop\", \"melvin\", \"capital\", \"deleted\", \"citadel\", \"chamath\", \"premarket\", \"honest\", \"battle\", \"aoc\", \"\\ud83d\\udc8e\\ud83d\\ude4c\", \"plug\", \"expr\", \"merger\", \"trading212\", \"cannabis\", \"spac\", \"shitron\", \"delete\", \"yes\", \"vote\", \"heavily\", \"dropping\", \"rad\", \"acb\", \"moon\\ud83d\\ude80\\ud83d\\ude80\\ud83d\\ude80\", \"ccl\", \"tactic\", \"pltr\", \"whats\", \"wallstreet\", \"casino\", \"unite\", \"germany\", \"rip\", \"game\", \"on\", \"next\", \"shorted\", \"user\", \"nokia\", \"win\", \"\\ud83d\\ude80\\ud83d\\ude80\\ud83d\\ude80\\ud83d\\ude80\", \"buy\", \"share\", \"\\ud83d\\ude80\\ud83d\\ude80\\ud83d\\ude80\\ud83d\\ude80\\ud83d\\ude80\", \"stock\", \"going\", \"stop\", \"still\", \"bet\", \"amp\", \"today\"], \"Freq\": [237415.0, 138619.0, 108838.0, 91273.0, 79613.0, 77608.0, 73897.0, 69909.0, 56063.0, 53067.0, 60462.0, 57606.0, 42813.0, 51501.0, 66264.0, 46644.0, 120368.0, 67525.0, 45290.0, 50834.0, 32774.0, 44592.0, 34133.0, 32804.0, 53818.0, 44850.0, 44995.0, 31673.0, 51065.0, 36388.0, 24922.043587355984, 16938.768121258847, 11122.900575961188, 10699.58786206689, 9069.271686702074, 8894.246604665033, 8433.440877226412, 6806.995142759468, 5658.199497697627, 5586.732482797221, 5432.931332276141, 5215.405229923369, 5197.233117134602, 5207.718686684412, 5339.643843008127, 4970.120393964902, 10141.409212781196, 4574.507940664108, 4606.602536719259, 4186.854609340921, 3406.87630740236, 3346.3644180587535, 3288.935060539653, 3288.570933145553, 3116.950279818314, 2930.0885472679543, 2671.0280012100684, 3436.244230116289, 2550.7239130819976, 2473.376964296573, 91169.55187807408, 14862.099683923409, 12387.54188963064, 12079.869893483039, 12167.789678359193, 6074.507262858712, 4356.732589713916, 5908.133824080028, 3608.5030661674946, 5695.232996055232, 5237.912023888616, 33659.66934291205, 16360.223144635998, 61565.112326832765, 18913.030823243356, 9919.034575508447, 18625.65900314639, 8383.062538086495, 10014.599559069486, 7268.667333924193, 10583.534880052419, 8790.44047020395, 10274.380386323, 45289.27175414994, 36763.843684498774, 19848.78108161803, 10788.947064837903, 15807.82272739256, 8321.40330251609, 7346.065756280031, 5511.171460348075, 15562.865911079449, 6657.219108039964, 5109.768048072192, 4624.242915547068, 4891.796634657135, 3575.4351795668817, 5371.260954567701, 3037.911029723685, 2864.7509904356425, 2990.000156377651, 7007.1918692112295, 4260.920259613781, 2090.721803705892, 2673.0672295265126, 2004.191073272794, 1980.7459119575014, 2024.3538811981887, 1828.4385095066546, 1740.052502368661, 1720.4089914869185, 18982.827736558167, 7357.040527190706, 31657.477912226983, 11349.805475271816, 12201.981605714245, 4544.734577423765, 3970.3436380980697, 3623.491720134482, 3371.3963298001145, 43331.391635238266, 10128.510365708013, 5910.887597314329, 19187.066383662066, 53411.97880529751, 11223.679665506965, 11636.562182941001, 41157.42409498261, 25444.71898269751, 9807.614718323344, 19077.86613686235, 17994.545611303474, 35453.09569842573, 8044.353048740796, 13443.759903074442, 27152.1447779492, 12156.797481929625, 8804.62680492401, 9551.304660372827, 16912.987175035094, 15560.190211057918, 12734.190662299216, 10189.012872115889, 13844.311316132944, 10753.846985509424, 11045.112775813575, 57605.432892671524, 35928.822079794794, 17634.9746015337, 16255.300610706909, 14130.599688973025, 15601.446248445225, 10260.448890540856, 32275.626688897144, 7931.785226529954, 6890.934636357632, 5415.15045960167, 2604.0474223538813, 17062.13587780563, 2226.673083594984, 2028.1028246761052, 1910.6157389918365, 1727.8197082561142, 1616.9846100462157, 1489.9770275487388, 1475.3261506354143, 1440.0287960673702, 1827.0671880226166, 1372.1585884518126, 1403.9021550973487, 1298.1456122303823, 2899.604373722385, 1246.6347830615862, 1216.952198527965, 1155.2675555721216, 1130.922921028453, 59956.05075172923, 20399.77447541342, 34013.35016242334, 10364.677686515295, 6231.405914619469, 10224.851241299652, 5910.682897277226, 3704.5892983581634, 5545.422008644372, 3405.7146596595494, 2944.521269979301, 42438.647202820874, 9069.447352307063, 3894.7319850034023, 8408.827963205165, 5074.297767584014, 3845.965069067322, 40512.22527403605, 11747.105793009581, 10576.392834630025, 10838.491036579082, 21798.369739260314, 14440.191759686917, 17896.103481891943, 11894.62324888021, 12697.253307110288, 9588.709750402753, 14018.941353592387, 10832.747336660934, 16883.14363978796, 12816.274730640524, 77607.2086091477, 27641.364914278292, 13936.456347914233, 9925.395604672904, 9828.512709500028, 7615.437678595587, 5046.580584098568, 5182.455038609827, 4504.4487438599845, 4351.044881106024, 3757.7248199096402, 3754.1778875821437, 3711.4338681185445, 3513.4376077362, 2485.1913654558584, 2433.9776250251766, 2760.6260546905814, 1875.320279678672, 1817.9610111335996, 1851.8437366430094, 1795.7600301375755, 1704.9451442501788, 1683.85659274941, 1653.3229550519372, 1629.077397793173, 1854.3583651320375, 1504.5530718493153, 1502.0837198444303, 1582.026761478739, 2058.5546226112124, 34107.67225397481, 27544.834352472935, 8872.424834812147, 5572.694976261904, 3871.9480597035504, 3520.167339697507, 2569.6281667421276, 2898.546731882187, 2015.8406502689083, 5782.167590561384, 2659.444363150496, 4181.183976776226, 24384.696010580654, 3090.4748457775863, 15173.76991136024, 6298.329937107078, 6443.946244588382, 9685.873673854818, 6033.932831497701, 14549.834714794924, 6596.964296816854, 7817.635871109369, 6601.79433726468, 4929.985679744348, 11230.577794640989, 6923.965883058578, 10222.12835204866, 5107.831709459429, 7099.0058683685065, 6659.055643962242, 26123.1343283503, 21396.912310984844, 11797.192697216467, 6794.058985776397, 6888.019441402504, 13358.63645676888, 5802.971556333629, 4500.431186175541, 4455.293738765878, 4134.970691976049, 3540.2523780346596, 3307.8275373925435, 3207.062881938756, 3149.6802654733033, 3079.0452830644017, 3044.785505121603, 3009.248730164131, 2950.4163649149145, 3136.426761132694, 2318.353216726056, 2255.5109897789935, 2271.990853971807, 2165.3143597644435, 2160.7298920998874, 2216.894850502653, 2121.6914074770402, 2109.5828460804983, 1966.0191532841438, 1953.1033260012366, 1913.8455576253684, 6069.457809213346, 4712.552428862722, 3708.764471500007, 3525.574454247106, 2564.981838738421, 13957.99914652539, 10832.396550193023, 19200.154140953484, 7460.204606550324, 7455.560515334491, 3461.041280617922, 5239.357952605004, 5953.965140496947, 5502.18596620979, 10699.439730639004, 5775.118962208824, 4463.033131860823, 6890.6240941054875, 5237.253625454014, 4941.1343252906345, 8172.883349652558, 13789.33650003558, 7415.337528466253, 6238.168268383892, 4465.712634177104, 5214.386641693159, 5023.897506447095, 4780.4979479801905, 4561.9177244042185, 79612.87028460277, 21784.15643082423, 20998.933431263595, 32768.8513527557, 5133.224843541488, 42804.66408197516, 4562.249701880871, 4160.722714876151, 4362.349043622944, 3770.0973101526706, 3264.165350699263, 3112.888964180475, 2603.9120405477083, 2549.8868208316007, 2377.1907520811938, 2209.267225871305, 2086.5741050756446, 2868.435433656312, 2090.5837371830667, 1764.8195513468665, 6618.307389632677, 1725.6778818711734, 1655.6194996162014, 1505.0591614173168, 1469.6847050258375, 1369.8804473692942, 1664.3134351705978, 1394.4179506534542, 4254.641067267292, 1072.219935858611, 10427.707822953822, 113453.77797316798, 30909.15665106284, 2930.651864577655, 4994.627460828748, 16069.69924720779, 12525.433441581066, 10242.462008745206, 8888.418332310634, 19516.583435263816, 12752.565638042648, 5301.001702068866, 12636.166349457002, 12470.756683476957, 9990.476913861054, 6295.626563905729, 7401.478949510446, 6552.475302232381, 5269.3090814764955, 4703.82813505116, 4507.605854573812, 4450.712148865432, 108837.99856855522, 73896.54889076731, 31672.906253326582, 22680.400319294156, 11194.11684059954, 9979.863870533878, 8272.526405585668, 8016.16958615353, 7573.650943591827, 7817.755850223564, 7207.999540713526, 56055.63527208886, 7650.275156277136, 7271.432729806235, 4269.306866356498, 4193.91219220141, 3660.156291163905, 3734.100921689209, 3370.1567310960017, 3192.0137513733353, 6750.772527116389, 2956.809708546746, 2866.869554296756, 2771.249167731429, 2581.4636758813804, 2291.4709247595442, 2281.5233164378265, 1987.9934487753221, 1935.1293152742387, 4772.436913631115, 53033.4311360995, 8095.08736613334, 4454.637212418234, 3242.9687611501768, 11254.721698248928, 10253.758439974936, 4503.177141401528, 40273.168707497585, 41325.05659717366, 7442.949033710216, 8480.522947457672, 25624.02083742609, 10367.816666842766, 8931.76908758235, 9626.32244011873, 7417.755409496292, 5792.8669487113875, 6851.225955976762, 6729.745454130542, 23528.87423167879, 19295.560945042365, 18362.754515206634, 17163.37398044133, 11659.027953775063, 10256.611081991821, 8841.240888195682, 8373.947909976268, 7676.781395970816, 8062.483844277862, 6435.899139484691, 32799.48174615556, 4402.688526740355, 15988.562130444941, 3987.8617545711745, 3555.9828854323705, 2903.6148064005506, 2870.1145807310354, 13415.800071428375, 3566.5728533463157, 2591.396099048109, 3133.2978971475486, 2463.749738000725, 2344.2017526764485, 2128.4607939609878, 1802.7011129022198, 1688.207314561188, 1857.6191394885498, 1530.5738906796237, 1427.679648411313, 69852.49505655954, 25099.00409235505, 12170.606669547074, 3985.4795344308714, 3265.335966685607, 4401.63814714082, 2547.4797789808817, 3123.693807367438, 2929.480658985587, 17082.78437050658, 8183.356021747764, 3761.8218493769305, 15722.809973046655, 4004.669612789256, 5968.025393127477, 6362.571425790989, 7823.448041004428, 8780.422889596628, 12256.577690303908, 6657.404311199101, 8430.438956496853, 8980.17245627544, 9780.336338410372, 7003.73792024399, 6240.447460982807, 16200.156360559015, 11136.267626783547, 14490.656520616973, 8033.2790544856, 6463.6609488741715, 11674.805761724727, 6844.013802421603, 5697.8063584297615, 5605.1771788104925, 5267.076850772661, 11904.996021133311, 5162.263683499918, 4611.0115666308675, 3896.9593222450817, 3621.7338836157533, 3323.414734692891, 3229.472698244114, 3253.7373945003615, 2860.954300758648, 2333.6026469101107, 2299.524419361509, 2277.2786263987914, 11420.365875245227, 2200.8613174102015, 2122.0799840298428, 3349.2466262237817, 2011.773914932632, 1992.5259709984377, 1861.3470587387974, 6204.268813536667, 50729.2054189014, 13792.340181130005, 7897.564501211248, 45556.761214315105, 33809.61233675831, 3912.8918616354404, 3283.4383912508024, 2990.0863766007265, 5378.1264555266725, 3831.0970587295665, 11666.897012212587, 18007.591203522, 24673.381383467884, 6300.526358951262, 9700.86818214633, 4892.102961306936, 20511.41941090701, 11481.271846950574, 7668.303385717836, 13553.806003540149, 19677.077578370277, 11961.262153920485, 22301.887086267132, 17305.855261587734, 13121.655581968467, 7508.31200733075, 13925.278328892007, 8216.287327075132, 9532.503482289518, 10827.43680223808, 9574.99932001108, 9869.212299701225, 22741.830384416997, 237404.8932386594, 23628.74323890628, 12852.760013244275, 8087.16475119825, 5071.99512657958, 4543.434693336286, 3905.182845417317, 4592.594647118066, 3409.3998677521663, 3394.80602560532, 2811.783933501737, 4504.30240486812, 2714.4085185229746, 2738.1078287570385, 2380.214211013822, 2122.57538821223, 1824.3321275421927, 1768.162032198967, 1692.5443733268776, 1686.6521691236685, 3670.859065790295, 1859.415185477298, 1482.0607799975392, 2043.5306923138196, 1784.4812509294954, 1379.0155679447112, 1365.0144107420158, 1285.1179010035332, 1260.6833903971105, 18698.358174118202, 14227.066888927544, 4388.203916217542, 1425.7850002838554, 1643.0185133689931, 2417.8374097329865, 3900.645958564728, 8770.649509673252, 5260.365549559506, 26339.103401223976, 5119.822604824003, 5883.061357609278, 7415.290191319419, 6641.990548764874, 6444.307660595717, 24807.50845515464, 14106.929005931435, 4680.075950351674, 12080.586942034797, 8348.934117016483, 5851.481512508362, 6372.465458370445, 4235.541476953776, 4202.666752410061, 4147.9250900780935], \"Total\": [237415.0, 138619.0, 108838.0, 91273.0, 79613.0, 77608.0, 73897.0, 69909.0, 56063.0, 53067.0, 60462.0, 57606.0, 42813.0, 51501.0, 66264.0, 46644.0, 120368.0, 67525.0, 45290.0, 50834.0, 32774.0, 44592.0, 34133.0, 32804.0, 53818.0, 44850.0, 44995.0, 31673.0, 51065.0, 36388.0, 24923.00762601129, 16939.726303930307, 11123.86165691913, 10700.556144842341, 9070.229716807504, 8895.291338362258, 8434.537567002388, 6807.953792896097, 5659.157530000471, 5587.69104344315, 5433.890548188959, 5216.363838416891, 5198.191328185619, 5208.681045229139, 5340.633347765976, 4971.078408654328, 10143.435285420961, 4575.467245721126, 4607.620820154341, 4187.813000620717, 3407.834354500897, 3347.326443984206, 3289.8930975572193, 3289.5289837464493, 3117.927475338367, 2931.0564271039875, 2671.9861286092982, 3437.5385393510496, 2551.707861618413, 2474.334985880155, 91273.62087774414, 14882.939050333365, 12393.07519161686, 12093.199027541434, 12248.954325250836, 6097.023537022583, 4358.916076984891, 5937.501885518091, 3610.0723709182826, 5728.321060564162, 5274.310811472083, 44995.280720225346, 20714.198331303207, 120368.7853902355, 27529.594663072836, 15270.487827769506, 65182.4519354304, 13705.535013287456, 20556.667038290354, 13150.608208104184, 50303.84220554123, 34011.14133887946, 67525.59648205414, 45290.533767501, 36765.18239103477, 19850.11675259259, 10789.897999744091, 15809.657141461566, 8322.440905893201, 7347.037181004419, 5512.157444129739, 15565.7121717753, 6658.444240972126, 5110.721838855313, 4625.215741523459, 4892.935841509327, 3576.3859759670618, 5372.812367698565, 3038.861926699116, 2865.702624649578, 2991.0412663497277, 7009.6705690963845, 4262.453947449028, 2091.676514190981, 2674.306903046491, 2005.1416914851227, 1981.6969801913667, 2025.3435013532453, 1829.4348997496252, 1741.0035117632362, 1721.3606150832425, 18993.37959072075, 7361.132559629642, 31804.72341834088, 11362.582675160562, 12231.83257648995, 4549.8848708582755, 3975.5587692534077, 3631.705855042654, 3378.454888452767, 44850.24483370898, 10468.72975994062, 6069.192069719407, 21970.063468671884, 66264.87765007975, 12502.440375063346, 13122.60130958151, 53818.68746451819, 32545.470296135685, 11368.96441763618, 26433.86517693092, 25977.555386084878, 65182.4519354304, 9677.63409849584, 20708.82146595453, 59145.14214127336, 20418.227919653942, 11523.88825595453, 13919.166233972557, 52198.418894669354, 51793.59547328403, 53159.3838014824, 22962.889658560714, 120368.7853902355, 34011.14133887946, 44995.280720225346, 57606.38246044912, 35929.770534972115, 17635.924671814824, 16256.250328574433, 14131.579190952925, 15602.627672587738, 10261.400176129087, 32279.377945910146, 7932.734177644917, 6891.883275358796, 5416.098928298902, 2605.0669733742147, 17068.912540918787, 2227.6457296250296, 2029.051930544283, 1911.5644273235775, 1728.7695245337597, 1617.933176061562, 1490.9261859655794, 1476.2750551915913, 1440.9772459484668, 1828.3025346819475, 1373.1071282424925, 1404.8806668346217, 1299.0941687287666, 2901.750448428927, 1247.5833117211591, 1217.900696424018, 1156.2160106339302, 1131.8913282049866, 60462.30362391399, 20471.834862519117, 34329.762790102446, 10410.367989735612, 6245.583617005718, 10318.017462086204, 5932.083273410369, 3708.1012895299004, 5584.124984447009, 3413.590991394959, 2961.596920023699, 44592.0706748469, 9288.832042134101, 3964.9338428738874, 8777.802596720803, 5224.976990418923, 3953.1184230953195, 51065.2226756446, 13358.745842462866, 11922.877550617386, 12914.757881763031, 29966.285049057555, 19217.150418356632, 32069.504728459848, 19061.338188261965, 23392.29336228999, 18517.924607451325, 50303.84220554123, 26814.78541997462, 120368.7853902355, 58959.37699781323, 77608.27651265051, 27642.30041395044, 13937.708690568692, 9926.32750057547, 9829.446468587083, 7616.427627027542, 5047.515936039443, 5183.519456046786, 4505.387280106517, 4351.995499365422, 3758.6567715316737, 3755.109695752428, 3712.369445922167, 3514.370602931365, 2486.123266072786, 2434.9095139950136, 2761.768861394965, 1876.2531535174026, 1818.892871497707, 1852.798276431092, 1796.691945757731, 1705.8774105518532, 1684.7886770565642, 1654.2550216027414, 1630.0096542745803, 1855.4552787668158, 1505.4858841421596, 1503.0155787666934, 1583.0405886907104, 2059.892374892202, 34133.23031758935, 27630.885978835042, 8911.882179785787, 5582.904872090558, 3875.7509339791723, 3526.188742185042, 2571.617183551339, 2904.528978099948, 2017.5674157189894, 5909.281148208032, 2676.074559281064, 4310.589417118209, 27614.363098425845, 3173.947238562595, 18046.842182083336, 6888.779953204279, 7102.084297923623, 13835.872703740291, 7944.658376987111, 26819.71169638207, 9061.933037480816, 12396.60859628237, 10370.593809150516, 6451.4663626659885, 36099.2711447402, 14836.865755052751, 52198.418894669354, 8079.708049854973, 26265.094398668432, 59145.14214127336, 26124.092336701742, 21397.856643229068, 11798.134687556787, 6795.0016053771305, 6889.007259426531, 13360.787406137608, 5804.015496449351, 4501.382213701461, 4456.252149967115, 4135.913040983136, 3541.195892341541, 3308.7697413559545, 3208.0133743958577, 3150.6231863803346, 3079.9924715105285, 3045.727769727015, 3010.1913878780433, 2951.415851836304, 3137.6090812790826, 2319.2951497262347, 2256.4529426455492, 2272.9709747596926, 2166.256396259129, 2161.6719406308416, 2217.879384762133, 2122.6338860904793, 2110.531207474456, 1966.9657994579693, 1954.04533371345, 1914.7875677143925, 6074.91565040173, 4727.365456212444, 3712.5565234530995, 3538.662231452541, 2583.713302585126, 15314.590021029175, 12304.26321151085, 23276.2863038388, 9129.37392531931, 9221.219548149951, 3798.7764643805463, 6346.94232235293, 7889.925040576369, 7143.792538418329, 19590.8509533509, 7930.771157560892, 5402.7871357919485, 10931.976331926224, 7085.440362063361, 6792.27341252916, 20333.506250583814, 60672.394306845374, 17775.847396119854, 13250.69792598275, 7842.257926872241, 50303.84220554123, 47387.87135820419, 120368.7853902355, 29966.285049057555, 79613.96422218814, 21785.13217560655, 20999.907348327186, 32774.53735355154, 5134.186171686678, 42813.11103764179, 4563.2083852579135, 4161.680974976684, 4363.49820006562, 3771.14320679851, 3265.1262696577996, 3113.8472028018246, 2604.870674838189, 2550.845054290896, 2378.159611045683, 2210.249095636623, 2087.532338073994, 2869.7744367617825, 2091.594062702216, 1765.78372825118, 6622.013125679563, 1726.6586514647329, 1656.5777723540082, 1506.0174214285707, 1470.6482519635683, 1370.8387895604867, 1665.592239584983, 1395.4994130468936, 4258.0829071157605, 1073.1783217614218, 10480.60018961246, 138619.15627530045, 36388.55887079022, 3204.7448804793753, 5930.648954212436, 24076.069737470916, 18422.898256215038, 14932.717495779194, 14226.846395687067, 47387.87135820419, 29393.343433882153, 8758.259502464867, 53818.68746451819, 66264.87765007975, 52198.418894669354, 22428.919476147275, 51793.59547328403, 60672.394306845374, 34011.14133887946, 36099.2711447402, 23590.03360020219, 40515.73575328954, 108838.96162091279, 73897.50507052187, 31673.918649329757, 22681.349044473467, 11195.07187466572, 9980.81260668116, 8273.48771954668, 8017.118388287657, 7574.600072235654, 7818.745265561057, 7208.9520375288885, 56063.15307633953, 7651.479426151372, 7272.60797676346, 4270.25568175107, 4194.8631969866, 3661.1051190059125, 3735.0698585683167, 3371.10635798429, 3192.9624781624852, 6752.800211413922, 2957.779612131678, 2867.818376726366, 2772.2063616633236, 2582.4150323889203, 2292.419637140505, 2282.4720492464508, 1988.9422301765846, 1936.0780110778471, 4774.794712523126, 53067.08529002761, 8158.451814420458, 4463.413555544453, 3246.464957938034, 11447.147826721955, 10505.152595635307, 4600.4126639271335, 50834.07215933748, 67525.59648205414, 8789.355599881004, 11057.41165016549, 58959.37699781323, 17590.081340976652, 23590.03360020219, 53159.3838014824, 27117.898788588016, 12238.018500224247, 24607.821340159826, 29393.343433882153, 23529.832092786626, 19296.51222918906, 18363.729833278223, 17164.326721104546, 11659.989517324857, 10257.563978753215, 8842.192344489431, 8374.968073471045, 7677.756080011964, 8063.518296029684, 6436.850953135745, 32804.91974824884, 4403.6542695850285, 15992.363424539533, 3988.8131623506747, 3557.118777006622, 2904.566100769175, 2871.066406365235, 13420.391425915386, 3567.8275977214385, 2592.347408183806, 3134.4570669190675, 2464.7084375303502, 2345.152983858914, 2129.4231025067456, 1803.6527112605252, 1689.1672325149418, 1858.6904626246594, 1531.5274959675992, 1428.630963957626, 69909.46307347242, 25125.14043708055, 12214.13377968982, 3992.0118161288083, 3272.2116402334814, 4429.072885645546, 2550.531026492538, 3136.1051212989682, 2953.378628910142, 20122.616570192367, 10372.900780699807, 4070.1594446570903, 27117.898788588016, 4519.218624286293, 8226.319106356752, 9163.535772826472, 15803.5145803578, 19861.777896336185, 51793.59547328403, 13766.904135113755, 26265.094398668432, 32621.9790523008, 67525.59648205414, 40515.73575328954, 58959.37699781323, 16201.108777725356, 11137.219711449414, 14491.983160421243, 8034.251895976791, 6464.613109145755, 11676.5663945389, 6845.091015192233, 5698.758573056351, 5606.12972889924, 5268.034342438185, 11907.18252356896, 5163.216454088318, 4611.971754020373, 3897.911520115846, 3622.693474329409, 3324.3675296248575, 3230.424835312063, 3254.803695340561, 2861.9092402062233, 2334.5554735514115, 2300.478684406222, 2278.2321142854175, 11425.284542860636, 2201.813413711406, 2123.033488396321, 3350.754568619812, 2012.7261958674044, 1993.4783053044932, 1862.301712392561, 6207.555920000719, 51501.72079762934, 13832.828691014514, 7905.4065404953, 46644.23888567866, 34521.79589080869, 3919.4397405404957, 3287.563809372212, 2992.392938883926, 5425.411689825826, 3865.2404028816463, 12407.853644514433, 20989.318248553445, 31425.19267414015, 6859.161561418894, 11448.506211230359, 5193.37948827991, 29507.410318782113, 15741.608243895087, 9480.242662196628, 21760.034242785016, 37674.43537948908, 20471.898562030685, 60672.394306845374, 40515.73575328954, 25819.529290619877, 10228.630457270925, 47387.87135820419, 13495.824697601187, 22428.919476147275, 50303.84220554123, 51065.2226756446, 65182.4519354304, 22742.791313373757, 237415.11645858825, 23630.033443203873, 12853.709909354098, 8088.174510045773, 5072.944490637888, 4544.384109139064, 3906.132202914293, 4593.741963762032, 3410.3494363929417, 3395.7637922349636, 2812.7332960123604, 4505.84433286634, 2715.3585219081037, 2739.127251058942, 2381.165352231466, 2123.528191127744, 1825.2833797218066, 1769.1113794026305, 1693.4937293356845, 1687.601699792425, 3673.0351289488267, 1860.5774476390518, 1483.0110356269174, 2044.8520033930326, 1785.6580066627039, 1379.9649272177546, 1365.963778029181, 1286.071175550143, 1261.6328810112755, 18726.560948491973, 14263.262733795907, 4394.877780328232, 1426.9221894720656, 1650.177476595013, 2466.147596285905, 4446.864612527804, 12494.22211908803, 6900.638473678971, 53159.3838014824, 6853.103713448653, 8529.873678776294, 11774.559498714993, 10647.827209014797, 12238.018500224247, 138619.15627530045, 52198.418894669354, 8326.18209890682, 120368.7853902355, 58959.37699781323, 22428.919476147275, 36099.2711447402, 11307.015204609, 19291.816892312774, 59145.14214127336], \"Category\": [\"Default\", \"Default\", \"Default\", \"Default\", \"Default\", \"Default\", \"Default\", \"Default\", \"Default\", \"Default\", \"Default\", \"Default\", \"Default\", \"Default\", \"Default\", \"Default\", \"Default\", \"Default\", \"Default\", \"Default\", \"Default\", \"Default\", \"Default\", \"Default\", \"Default\", \"Default\", \"Default\", \"Default\", \"Default\", \"Default\", \"Topic1\", \"Topic1\", \"Topic1\", \"Topic1\", \"Topic1\", \"Topic1\", \"Topic1\", \"Topic1\", \"Topic1\", \"Topic1\", \"Topic1\", \"Topic1\", \"Topic1\", \"Topic1\", \"Topic1\", \"Topic1\", \"Topic1\", \"Topic1\", \"Topic1\", \"Topic1\", \"Topic1\", \"Topic1\", \"Topic1\", \"Topic1\", \"Topic1\", \"Topic1\", \"Topic1\", \"Topic1\", \"Topic1\", \"Topic1\", \"Topic1\", \"Topic1\", \"Topic1\", \"Topic1\", \"Topic1\", \"Topic1\", \"Topic1\", \"Topic1\", \"Topic1\", \"Topic1\", \"Topic1\", \"Topic1\", \"Topic1\", \"Topic1\", \"Topic1\", \"Topic1\", \"Topic1\", \"Topic1\", \"Topic1\", \"Topic1\", \"Topic1\", \"Topic1\", \"Topic1\", \"Topic2\", \"Topic2\", \"Topic2\", \"Topic2\", \"Topic2\", \"Topic2\", \"Topic2\", \"Topic2\", \"Topic2\", \"Topic2\", \"Topic2\", \"Topic2\", \"Topic2\", \"Topic2\", \"Topic2\", \"Topic2\", \"Topic2\", \"Topic2\", \"Topic2\", \"Topic2\", \"Topic2\", \"Topic2\", \"Topic2\", \"Topic2\", \"Topic2\", \"Topic2\", \"Topic2\", \"Topic2\", \"Topic2\", \"Topic2\", \"Topic2\", \"Topic2\", \"Topic2\", \"Topic2\", \"Topic2\", \"Topic2\", \"Topic2\", \"Topic2\", \"Topic2\", \"Topic2\", \"Topic2\", \"Topic2\", \"Topic2\", \"Topic2\", \"Topic2\", \"Topic2\", \"Topic2\", \"Topic2\", \"Topic2\", \"Topic2\", \"Topic2\", \"Topic2\", \"Topic2\", \"Topic2\", \"Topic2\", \"Topic2\", \"Topic2\", \"Topic2\", \"Topic2\", \"Topic2\", \"Topic2\", \"Topic2\", \"Topic2\", \"Topic3\", \"Topic3\", \"Topic3\", \"Topic3\", \"Topic3\", \"Topic3\", \"Topic3\", \"Topic3\", \"Topic3\", \"Topic3\", \"Topic3\", \"Topic3\", \"Topic3\", \"Topic3\", \"Topic3\", \"Topic3\", \"Topic3\", \"Topic3\", \"Topic3\", \"Topic3\", \"Topic3\", \"Topic3\", \"Topic3\", \"Topic3\", \"Topic3\", \"Topic3\", \"Topic3\", \"Topic3\", \"Topic3\", \"Topic3\", \"Topic3\", \"Topic3\", \"Topic3\", \"Topic3\", \"Topic3\", \"Topic3\", \"Topic3\", \"Topic3\", \"Topic3\", \"Topic3\", \"Topic3\", \"Topic3\", \"Topic3\", \"Topic3\", \"Topic3\", \"Topic3\", \"Topic3\", \"Topic3\", \"Topic3\", \"Topic3\", \"Topic3\", \"Topic3\", \"Topic3\", \"Topic3\", \"Topic3\", \"Topic3\", \"Topic3\", \"Topic3\", \"Topic3\", \"Topic3\", \"Topic3\", \"Topic4\", \"Topic4\", \"Topic4\", \"Topic4\", \"Topic4\", \"Topic4\", \"Topic4\", \"Topic4\", \"Topic4\", \"Topic4\", \"Topic4\", \"Topic4\", \"Topic4\", \"Topic4\", \"Topic4\", \"Topic4\", \"Topic4\", \"Topic4\", \"Topic4\", \"Topic4\", \"Topic4\", \"Topic4\", \"Topic4\", \"Topic4\", \"Topic4\", \"Topic4\", \"Topic4\", \"Topic4\", \"Topic4\", \"Topic4\", \"Topic4\", \"Topic4\", \"Topic4\", \"Topic4\", \"Topic4\", \"Topic4\", \"Topic4\", \"Topic4\", \"Topic4\", \"Topic4\", \"Topic4\", \"Topic4\", \"Topic4\", \"Topic4\", \"Topic4\", \"Topic4\", \"Topic4\", \"Topic4\", \"Topic4\", \"Topic4\", \"Topic4\", \"Topic4\", \"Topic4\", \"Topic4\", \"Topic4\", \"Topic4\", \"Topic4\", \"Topic4\", \"Topic4\", \"Topic4\", \"Topic5\", \"Topic5\", \"Topic5\", \"Topic5\", \"Topic5\", \"Topic5\", \"Topic5\", \"Topic5\", \"Topic5\", \"Topic5\", \"Topic5\", \"Topic5\", \"Topic5\", \"Topic5\", \"Topic5\", \"Topic5\", \"Topic5\", \"Topic5\", \"Topic5\", \"Topic5\", \"Topic5\", \"Topic5\", \"Topic5\", \"Topic5\", \"Topic5\", \"Topic5\", \"Topic5\", \"Topic5\", \"Topic5\", \"Topic5\", \"Topic5\", \"Topic5\", \"Topic5\", \"Topic5\", \"Topic5\", \"Topic5\", \"Topic5\", \"Topic5\", \"Topic5\", \"Topic5\", \"Topic5\", \"Topic5\", \"Topic5\", \"Topic5\", \"Topic5\", \"Topic5\", \"Topic5\", \"Topic5\", \"Topic5\", \"Topic5\", \"Topic5\", \"Topic5\", \"Topic5\", \"Topic5\", \"Topic5\", \"Topic5\", \"Topic5\", \"Topic5\", \"Topic5\", \"Topic6\", \"Topic6\", \"Topic6\", \"Topic6\", \"Topic6\", \"Topic6\", \"Topic6\", \"Topic6\", \"Topic6\", \"Topic6\", \"Topic6\", \"Topic6\", \"Topic6\", \"Topic6\", \"Topic6\", \"Topic6\", \"Topic6\", \"Topic6\", \"Topic6\", \"Topic6\", \"Topic6\", \"Topic6\", \"Topic6\", \"Topic6\", \"Topic6\", \"Topic6\", \"Topic6\", \"Topic6\", \"Topic6\", \"Topic6\", \"Topic6\", \"Topic6\", \"Topic6\", \"Topic6\", \"Topic6\", \"Topic6\", \"Topic6\", \"Topic6\", \"Topic6\", \"Topic6\", \"Topic6\", \"Topic6\", \"Topic6\", \"Topic6\", \"Topic6\", \"Topic6\", \"Topic6\", \"Topic6\", \"Topic6\", \"Topic6\", \"Topic6\", \"Topic6\", \"Topic7\", \"Topic7\", \"Topic7\", \"Topic7\", \"Topic7\", \"Topic7\", \"Topic7\", \"Topic7\", \"Topic7\", \"Topic7\", \"Topic7\", \"Topic7\", \"Topic7\", \"Topic7\", \"Topic7\", \"Topic7\", \"Topic7\", \"Topic7\", \"Topic7\", \"Topic7\", \"Topic7\", \"Topic7\", \"Topic7\", \"Topic7\", \"Topic7\", \"Topic7\", \"Topic7\", \"Topic7\", \"Topic7\", \"Topic7\", \"Topic7\", \"Topic7\", \"Topic7\", \"Topic7\", \"Topic7\", \"Topic7\", \"Topic7\", \"Topic7\", \"Topic7\", \"Topic7\", \"Topic7\", \"Topic7\", \"Topic7\", \"Topic7\", \"Topic7\", \"Topic7\", \"Topic7\", \"Topic7\", \"Topic7\", \"Topic8\", \"Topic8\", \"Topic8\", \"Topic8\", \"Topic8\", \"Topic8\", \"Topic8\", \"Topic8\", \"Topic8\", \"Topic8\", \"Topic8\", \"Topic8\", \"Topic8\", \"Topic8\", \"Topic8\", \"Topic8\", \"Topic8\", \"Topic8\", \"Topic8\", \"Topic8\", \"Topic8\", \"Topic8\", \"Topic8\", \"Topic8\", \"Topic8\", \"Topic8\", \"Topic8\", \"Topic8\", \"Topic8\", \"Topic8\", \"Topic8\", \"Topic8\", \"Topic8\", \"Topic8\", \"Topic8\", \"Topic8\", \"Topic8\", \"Topic8\", \"Topic8\", \"Topic8\", \"Topic8\", \"Topic8\", \"Topic8\", \"Topic8\", \"Topic8\", \"Topic8\", \"Topic8\", \"Topic8\", \"Topic8\", \"Topic8\", \"Topic8\", \"Topic8\", \"Topic8\", \"Topic8\", \"Topic8\", \"Topic9\", \"Topic9\", \"Topic9\", \"Topic9\", \"Topic9\", \"Topic9\", \"Topic9\", \"Topic9\", \"Topic9\", \"Topic9\", \"Topic9\", \"Topic9\", \"Topic9\", \"Topic9\", \"Topic9\", \"Topic9\", \"Topic9\", \"Topic9\", \"Topic9\", \"Topic9\", \"Topic9\", \"Topic9\", \"Topic9\", \"Topic9\", \"Topic9\", \"Topic9\", \"Topic9\", \"Topic9\", \"Topic9\", \"Topic9\", \"Topic9\", \"Topic9\", \"Topic9\", \"Topic9\", \"Topic9\", \"Topic9\", \"Topic9\", \"Topic9\", \"Topic9\", \"Topic9\", \"Topic9\", \"Topic9\", \"Topic9\", \"Topic9\", \"Topic9\", \"Topic9\", \"Topic9\", \"Topic9\", \"Topic9\", \"Topic9\", \"Topic9\", \"Topic9\", \"Topic9\", \"Topic9\", \"Topic9\", \"Topic9\", \"Topic9\", \"Topic9\", \"Topic9\", \"Topic9\", \"Topic9\", \"Topic9\", \"Topic10\", \"Topic10\", \"Topic10\", \"Topic10\", \"Topic10\", \"Topic10\", \"Topic10\", \"Topic10\", \"Topic10\", \"Topic10\", \"Topic10\", \"Topic10\", \"Topic10\", \"Topic10\", \"Topic10\", \"Topic10\", \"Topic10\", \"Topic10\", \"Topic10\", \"Topic10\", \"Topic10\", \"Topic10\", \"Topic10\", \"Topic10\", \"Topic10\", \"Topic10\", \"Topic10\", \"Topic10\", \"Topic10\", \"Topic10\", \"Topic10\", \"Topic10\", \"Topic10\", \"Topic10\", \"Topic10\", \"Topic10\", \"Topic10\", \"Topic10\", \"Topic10\", \"Topic10\", \"Topic10\", \"Topic10\", \"Topic10\", \"Topic10\", \"Topic10\", \"Topic10\", \"Topic10\", \"Topic10\", \"Topic10\", \"Topic10\", \"Topic10\", \"Topic10\", \"Topic10\", \"Topic10\", \"Topic10\"], \"logprob\": [30.0, 29.0, 28.0, 27.0, 26.0, 25.0, 24.0, 23.0, 22.0, 21.0, 20.0, 19.0, 18.0, 17.0, 16.0, 15.0, 14.0, 13.0, 12.0, 11.0, 10.0, 9.0, 8.0, 7.0, 6.0, 5.0, 4.0, 3.0, 2.0, 1.0, -3.9297, -4.3159, -4.7365, -4.7753, -4.9406, -4.9601, -5.0133, -5.2275, -5.4124, -5.4251, -5.453, -5.4939, -5.4974, -5.4954, -5.4703, -5.5421, -4.8289, -5.625, -5.618, -5.7135, -5.9197, -5.9376, -5.9549, -5.955, -6.0086, -6.0705, -6.163, -5.9111, -6.2091, -6.2399, -2.6328, -4.4467, -4.6288, -4.654, -4.6467, -5.3414, -5.6738, -5.3692, -5.8622, -5.4059, -5.4896, -3.6292, -4.3506, -3.0254, -4.2056, -4.851, -4.221, -5.0193, -4.8415, -5.1619, -4.7862, -4.9718, -4.8158, -3.7313, -3.9399, -4.5563, -5.1659, -4.7839, -5.4256, -5.5502, -5.8376, -4.7995, -5.6487, -5.9133, -6.0131, -5.9568, -6.2703, -5.8633, -6.4332, -6.4919, -6.4491, -5.5975, -6.0949, -6.8069, -6.5612, -6.8492, -6.8609, -6.8392, -6.9409, -6.9905, -7.0018, -4.6009, -5.5487, -4.0894, -5.1152, -5.0428, -6.0304, -6.1656, -6.257, -6.3291, -3.7755, -5.2291, -5.7676, -4.5902, -3.5664, -5.1264, -5.0903, -3.827, -4.3079, -5.2612, -4.5959, -4.6543, -3.9762, -5.4594, -4.9459, -4.2429, -5.0465, -5.3691, -5.2877, -4.7163, -4.7997, -5.0001, -5.2231, -4.9165, -5.1691, -5.1424, -3.2931, -3.7652, -4.4768, -4.5583, -4.6984, -4.5994, -5.0184, -3.8724, -5.2759, -5.4165, -5.6575, -6.3897, -4.5099, -6.5462, -6.6396, -6.6993, -6.7999, -6.8662, -6.948, -6.9579, -6.9821, -6.744, -7.0303, -7.0075, -7.0858, -6.2822, -7.1263, -7.1504, -7.2024, -7.2237, -3.2531, -4.3312, -3.82, -5.0083, -5.5171, -5.0219, -5.57, -6.0372, -5.6338, -6.1213, -6.2668, -3.5987, -5.1418, -5.9871, -5.2175, -5.7225, -5.9997, -3.6451, -4.8831, -4.9881, -4.9636, -4.2649, -4.6767, -4.4621, -4.8706, -4.8053, -5.0861, -4.7063, -4.9642, -4.5204, -4.796, -2.7204, -3.7527, -4.4375, -4.7769, -4.7868, -5.0419, -5.4533, -5.4268, -5.567, -5.6016, -5.7482, -5.7492, -5.7606, -5.8154, -6.1617, -6.1825, -6.0566, -6.4433, -6.4743, -6.4559, -6.4866, -6.5385, -6.551, -6.5693, -6.584, -6.4545, -6.6635, -6.6652, -6.6133, -6.35, -3.5425, -3.7562, -4.8891, -5.3542, -5.7183, -5.8135, -6.1283, -6.0078, -6.371, -5.3173, -6.0939, -5.6414, -3.8781, -5.9437, -4.3525, -5.2318, -5.2089, -4.8014, -5.2746, -4.3945, -5.1854, -5.0157, -5.1847, -5.4767, -4.6534, -5.1371, -4.7475, -5.4413, -5.1121, -5.1761, -3.8457, -4.0453, -4.6407, -5.1925, -5.1787, -4.5164, -5.3502, -5.6044, -5.6144, -5.689, -5.8443, -5.9122, -5.9432, -5.9612, -5.9839, -5.9951, -6.0068, -6.0266, -5.9654, -6.2677, -6.2951, -6.2879, -6.336, -6.3381, -6.3124, -6.3563, -6.362, -6.4325, -6.4391, -6.4594, -5.3053, -5.5583, -5.7978, -5.8485, -6.1666, -4.4725, -4.726, -4.1536, -5.0989, -5.0996, -5.867, -5.4523, -5.3245, -5.4034, -4.7383, -5.355, -5.6127, -5.1784, -5.4527, -5.5109, -5.0077, -4.4846, -5.105, -5.2778, -5.6121, -5.4571, -5.4943, -5.544, -5.5908, -2.5546, -3.8506, -3.8873, -3.4423, -5.296, -3.1751, -5.4139, -5.5061, -5.4587, -5.6046, -5.7487, -5.7962, -5.9747, -5.9957, -6.0658, -6.1391, -6.1962, -5.878, -6.1943, -6.3637, -5.0419, -6.3861, -6.4276, -6.5229, -6.5467, -6.617, -6.4223, -6.5993, -5.4837, -6.862, -4.5873, -2.2004, -3.5007, -5.8565, -5.3234, -4.1548, -4.404, -4.6052, -4.747, -3.9605, -4.386, -5.2639, -4.3952, -4.4084, -4.6301, -5.0919, -4.9301, -5.0519, -5.2698, -5.3834, -5.426, -5.4387, -2.3355, -2.7227, -3.5699, -3.9038, -4.61, -4.7248, -4.9124, -4.9439, -5.0007, -4.9689, -5.0501, -2.999, -4.9906, -5.0414, -5.5739, -5.5917, -5.7278, -5.7078, -5.8104, -5.8647, -5.1157, -5.9412, -5.9721, -6.006, -6.077, -6.1961, -6.2005, -6.3382, -6.3652, -5.4625, -3.0544, -4.9341, -5.5314, -5.8489, -4.6046, -4.6977, -5.5206, -3.3297, -3.3039, -5.0181, -4.8876, -3.7818, -4.6866, -4.8357, -4.7608, -5.0215, -5.2687, -5.1009, -5.1188, -3.8403, -4.0386, -4.0882, -4.1557, -4.5424, -4.6706, -4.8191, -4.8734, -4.9603, -4.9113, -5.1366, -3.5081, -5.5163, -4.2266, -5.6152, -5.7299, -5.9325, -5.9441, -4.4021, -5.7269, -6.0463, -5.8564, -6.0968, -6.1466, -6.2431, -6.4092, -6.4748, -6.3792, -6.5729, -6.6424, -2.7521, -3.7757, -4.4995, -5.6158, -5.8151, -5.5165, -6.0634, -5.8595, -5.9237, -4.1604, -4.8964, -5.6736, -4.2434, -5.611, -5.2121, -5.1481, -4.9414, -4.826, -4.4924, -5.1028, -4.8666, -4.8035, -4.7181, -5.0521, -5.1674, -4.5793, -4.9541, -4.6908, -5.2807, -5.4981, -4.9068, -5.4409, -5.6242, -5.6406, -5.7028, -4.8873, -5.7229, -5.8358, -6.0041, -6.0773, -6.1633, -6.192, -6.1845, -6.3131, -6.5169, -6.5316, -6.5413, -4.9289, -6.5754, -6.6119, -6.1555, -6.6653, -6.6749, -6.743, -5.539, -3.4378, -4.7402, -5.2977, -3.5453, -3.8435, -6.0, -6.1754, -6.269, -5.6819, -6.0211, -4.9075, -4.4735, -4.1586, -5.5236, -5.0921, -5.7767, -4.3433, -4.9236, -5.3272, -4.7576, -4.3848, -4.8826, -4.2596, -4.5132, -4.79, -5.3483, -4.7306, -5.2582, -5.1096, -4.9822, -5.1051, -5.0749, -3.7204, -1.3748, -3.6821, -4.291, -4.7543, -5.2209, -5.3309, -5.4823, -5.3202, -5.6181, -5.6224, -5.8108, -5.3396, -5.846, -5.8373, -5.9774, -6.092, -6.2434, -6.2747, -6.3184, -6.3219, -5.5442, -6.2243, -6.4512, -6.1299, -6.2655, -6.5232, -6.5334, -6.5938, -6.613, -3.9162, -4.1895, -5.3657, -6.4899, -6.3481, -5.9617, -5.4835, -4.6732, -5.1844, -3.5736, -5.2115, -5.0725, -4.8411, -4.9512, -4.9814, -3.6335, -4.1979, -5.3013, -4.353, -4.7225, -5.0779, -4.9926, -5.4011, -5.4089, -5.422], \"loglift\": [30.0, 29.0, 28.0, 27.0, 26.0, 25.0, 24.0, 23.0, 22.0, 21.0, 20.0, 19.0, 18.0, 17.0, 16.0, 15.0, 14.0, 13.0, 12.0, 11.0, 10.0, 9.0, 8.0, 7.0, 6.0, 5.0, 4.0, 3.0, 2.0, 1.0, 2.3173, 2.3173, 2.3172, 2.3172, 2.3172, 2.3172, 2.3172, 2.3172, 2.3171, 2.3171, 2.3171, 2.3171, 2.3171, 2.3171, 2.3171, 2.3171, 2.3171, 2.3171, 2.3171, 2.3171, 2.317, 2.317, 2.317, 2.317, 2.317, 2.317, 2.317, 2.3169, 2.3169, 2.3169, 2.3162, 2.3159, 2.3169, 2.3162, 2.3107, 2.3136, 2.3168, 2.3124, 2.3169, 2.3115, 2.3104, 2.0271, 2.0813, 1.6468, 1.9419, 1.8858, 1.0647, 1.8257, 1.5982, 1.7244, 0.7585, 0.9643, 0.4345, 1.9184, 1.9184, 1.9183, 1.9183, 1.9183, 1.9183, 1.9183, 1.9182, 1.9182, 1.9182, 1.9182, 1.9182, 1.9182, 1.9181, 1.9181, 1.9181, 1.9181, 1.9181, 1.918, 1.918, 1.9179, 1.9179, 1.9179, 1.9179, 1.9179, 1.9179, 1.9179, 1.9178, 1.9178, 1.9178, 1.9138, 1.9173, 1.916, 1.9173, 1.9171, 1.9161, 1.9163, 1.8839, 1.8854, 1.892, 1.783, 1.7028, 1.8105, 1.7982, 1.6502, 1.6723, 1.7707, 1.5923, 1.5512, 1.3094, 1.7336, 1.4864, 1.1399, 1.3999, 1.6493, 1.5418, 0.7914, 0.7159, 0.4894, 1.1058, -0.2443, 0.767, 0.5138, 2.1161, 2.116, 2.116, 2.116, 2.116, 2.116, 2.116, 2.116, 2.116, 2.1159, 2.1159, 2.1157, 2.1157, 2.1156, 2.1156, 2.1156, 2.1155, 2.1155, 2.1154, 2.1154, 2.1154, 2.1154, 2.1154, 2.1154, 2.1153, 2.1153, 2.1153, 2.1153, 2.1153, 2.1152, 2.1077, 2.1125, 2.1068, 2.1117, 2.1138, 2.107, 2.1125, 2.1151, 2.1091, 2.1138, 2.1103, 2.0666, 2.0922, 2.0982, 2.0731, 2.0868, 2.0886, 1.8846, 1.9875, 1.9962, 1.9408, 1.7978, 1.8303, 1.5328, 1.6445, 1.5051, 1.4579, 0.8384, 1.2097, 0.1518, 0.5899, 2.3908, 2.3907, 2.3907, 2.3907, 2.3907, 2.3906, 2.3906, 2.3906, 2.3906, 2.3905, 2.3905, 2.3905, 2.3905, 2.3905, 2.3904, 2.3904, 2.3904, 2.3903, 2.3903, 2.3902, 2.3902, 2.3902, 2.3902, 2.3902, 2.3902, 2.3902, 2.3901, 2.3901, 2.3901, 2.3901, 2.39, 2.3876, 2.3863, 2.3889, 2.3898, 2.3891, 2.39, 2.3887, 2.3899, 2.369, 2.3845, 2.3603, 2.2664, 2.3641, 2.2174, 2.3012, 2.2935, 2.0342, 2.1157, 1.7792, 2.0733, 1.9297, 1.9391, 2.1218, 1.2231, 1.6286, 0.7603, 1.9322, 1.0825, 0.2067, 2.3542, 2.3542, 2.3542, 2.3541, 2.3541, 2.3541, 2.3541, 2.3541, 2.3541, 2.3541, 2.354, 2.354, 2.354, 2.354, 2.354, 2.354, 2.354, 2.3539, 2.3539, 2.3539, 2.3539, 2.3538, 2.3538, 2.3538, 2.3538, 2.3538, 2.3538, 2.3538, 2.3538, 2.3538, 2.3534, 2.3511, 2.3533, 2.3506, 2.347, 2.2615, 2.2269, 2.1618, 2.1524, 2.1417, 2.2612, 2.1625, 2.0728, 2.0932, 1.7494, 2.0371, 2.1632, 1.8927, 2.052, 2.0361, 1.4428, 0.8727, 1.48, 1.6009, 1.7912, 0.0876, 0.1101, -0.8717, 0.472, 2.531, 2.531, 2.531, 2.5309, 2.5309, 2.5309, 2.5308, 2.5308, 2.5308, 2.5308, 2.5308, 2.5308, 2.5307, 2.5307, 2.5307, 2.5306, 2.5306, 2.5306, 2.5306, 2.5305, 2.5305, 2.5305, 2.5305, 2.5304, 2.5304, 2.5304, 2.5303, 2.5303, 2.5303, 2.5302, 2.526, 2.3307, 2.3679, 2.4417, 2.3593, 2.1268, 2.1452, 2.154, 2.0607, 1.644, 1.696, 2.029, 1.082, 0.8608, 0.8776, 1.2606, 0.5855, 0.3054, 0.6663, 0.4932, 0.876, 0.3224, 2.4375, 2.4375, 2.4374, 2.4374, 2.4374, 2.4374, 2.4374, 2.4373, 2.4373, 2.4373, 2.4373, 2.4373, 2.4373, 2.4373, 2.4372, 2.4372, 2.4372, 2.4372, 2.4372, 2.4372, 2.4372, 2.4371, 2.4371, 2.4371, 2.4371, 2.4371, 2.4371, 2.437, 2.437, 2.437, 2.4368, 2.4297, 2.4355, 2.4364, 2.4205, 2.4132, 2.4161, 2.2046, 1.9464, 2.2712, 2.1721, 1.6041, 1.9088, 1.4663, 0.7287, 1.1411, 1.6895, 1.1588, 0.9632, 2.4643, 2.4643, 2.4643, 2.4643, 2.4642, 2.4642, 2.4642, 2.4642, 2.4642, 2.4642, 2.4642, 2.4641, 2.4641, 2.4641, 2.4641, 2.464, 2.464, 2.464, 2.464, 2.464, 2.4639, 2.4639, 2.4639, 2.4639, 2.4639, 2.4638, 2.4637, 2.4637, 2.4637, 2.4636, 2.4635, 2.4633, 2.4607, 2.4627, 2.4622, 2.4581, 2.4631, 2.4603, 2.4562, 2.3005, 2.2272, 2.3855, 1.9192, 2.3434, 2.1434, 2.0995, 1.7612, 1.648, 1.0231, 1.7378, 1.3279, 1.1743, 0.5322, 0.7091, 0.2185, 2.0985, 2.0984, 2.0984, 2.0984, 2.0984, 2.0984, 2.0984, 2.0984, 2.0984, 2.0983, 2.0983, 2.0983, 2.0983, 2.0983, 2.0983, 2.0982, 2.0982, 2.0982, 2.0982, 2.0981, 2.0981, 2.0981, 2.0981, 2.0981, 2.0981, 2.0981, 2.0981, 2.098, 2.098, 2.098, 2.0834, 2.0956, 2.0975, 2.0749, 2.0777, 2.0969, 2.0973, 2.0978, 2.0898, 2.0897, 2.037, 1.9453, 1.8566, 2.0136, 1.9329, 2.0388, 1.7349, 1.7829, 1.8864, 1.6251, 1.449, 1.5611, 1.0977, 1.2479, 1.4217, 1.7893, 0.8739, 1.6023, 1.2429, 0.5625, 0.4246, 0.2108, 2.6182, 2.6182, 2.6181, 2.6181, 2.6181, 2.618, 2.618, 2.618, 2.618, 2.6179, 2.6179, 2.6179, 2.6179, 2.6179, 2.6178, 2.6178, 2.6178, 2.6177, 2.6177, 2.6176, 2.6176, 2.6176, 2.6176, 2.6176, 2.6176, 2.6175, 2.6175, 2.6175, 2.6175, 2.6174, 2.6167, 2.6157, 2.6167, 2.6174, 2.6139, 2.5984, 2.4871, 2.2643, 2.3468, 1.916, 2.3266, 2.2467, 2.1558, 2.1463, 1.9769, 0.8976, 1.3098, 2.0421, 0.3192, 0.6635, 1.2745, 0.8839, 1.6363, 1.0942, -0.0392]}, \"token.table\": {\"Topic\": [1, 1, 2, 4, 5, 6, 7, 8, 9, 10, 1, 2, 3, 4, 5, 6, 7, 8, 9, 10, 1, 2, 3, 4, 5, 6, 7, 8, 9, 10, 2, 2, 7, 1, 2, 3, 4, 5, 6, 7, 8, 10, 5, 1, 2, 4, 3, 2, 7, 1, 2, 4, 5, 8, 9, 4, 1, 2, 4, 5, 6, 7, 9, 6, 1, 2, 3, 4, 9, 10, 2, 2, 2, 4, 2, 7, 10, 1, 2, 3, 5, 9, 9, 3, 9, 2, 9, 8, 7, 1, 1, 9, 1, 7, 6, 1, 2, 3, 4, 5, 6, 7, 8, 9, 10, 6, 8, 3, 6, 1, 3, 6, 10, 7, 3, 1, 1, 2, 4, 1, 3, 5, 8, 2, 3, 5, 9, 2, 8, 9, 2, 4, 1, 2, 6, 4, 7, 8, 9, 1, 2, 3, 4, 5, 6, 7, 8, 9, 10, 4, 1, 2, 4, 5, 6, 8, 9, 9, 8, 10, 3, 4, 7, 1, 2, 3, 4, 7, 8, 9, 10, 2, 5, 6, 6, 8, 6, 1, 2, 3, 5, 8, 9, 10, 2, 3, 5, 8, 9, 10, 7, 6, 5, 1, 2, 3, 4, 5, 6, 7, 8, 9, 10, 5, 5, 1, 3, 8, 3, 9, 4, 6, 3, 2, 3, 4, 6, 7, 9, 10, 2, 3, 4, 6, 7, 8, 9, 4, 5, 1, 5, 1, 9, 10, 5, 2, 10, 1, 2, 1, 2, 6, 7, 8, 10, 3, 6, 10, 4, 2, 3, 4, 6, 5, 10, 1, 2, 3, 5, 6, 8, 9, 10, 2, 10, 8, 7, 10, 10, 10, 10, 6, 9, 3, 1, 2, 4, 5, 6, 7, 10, 1, 3, 4, 5, 8, 9, 10, 7, 1, 2, 3, 4, 5, 6, 7, 8, 9, 10, 4, 1, 2, 3, 4, 5, 6, 7, 8, 9, 10, 4, 3, 6, 1, 4, 5, 8, 2, 4, 9, 5, 5, 4, 2, 4, 8, 5, 7, 6, 8, 9, 1, 2, 9, 1, 5, 9, 4, 5, 5, 3, 4, 8, 9, 10, 10, 9, 9, 2, 8, 6, 6, 8, 1, 6, 8, 7, 8, 3, 1, 2, 3, 4, 5, 7, 8, 9, 10, 3, 6, 7, 8, 9, 2, 3, 5, 7, 2, 1, 2, 3, 4, 6, 7, 10, 9, 2, 3, 4, 5, 6, 7, 9, 10, 10, 9, 1, 2, 4, 6, 6, 2, 5, 8, 8, 3, 3, 8, 1, 2, 3, 5, 9, 2, 2, 3, 10, 6, 5, 2, 4, 5, 3, 2, 3, 8, 7, 8, 9, 10, 1, 6, 1, 5, 9, 2, 3, 7, 8, 9, 4, 7, 4, 1, 2, 3, 4, 5, 6, 8, 9, 5, 4, 1, 3, 4, 5, 6, 7, 8, 9, 2, 3, 4, 5, 6, 7, 8, 9, 10, 5, 1, 2, 3, 4, 5, 8, 9, 10, 2, 3, 4, 5, 7, 9, 10, 1, 2, 3, 5, 6, 8, 9, 10, 10, 1, 8, 3, 4, 6, 4, 1, 9, 10, 2, 3, 5, 7, 8, 1, 2, 3, 4, 5, 6, 7, 8, 9, 10, 1, 2, 3, 4, 5, 6, 7, 8, 9, 10, 1, 9, 4, 7, 10, 7, 1, 2, 3, 4, 5, 6, 7, 8, 9, 10, 8, 9, 1, 2, 3, 4, 5, 6, 7, 8, 9, 10, 7, 1, 2, 3, 4, 5, 6, 7, 8, 9, 10, 1, 2, 3, 4, 5, 7, 8, 9, 10, 5, 8, 2, 2, 2, 3, 5, 6, 7, 8, 9, 9, 7, 3, 9, 3, 4, 5, 8, 9, 10, 8, 9, 10, 5, 8, 3, 8, 9, 1, 2, 3, 4, 5, 6, 7, 8, 9, 10, 3, 4, 6, 2, 4, 10, 3, 4, 6, 7, 5, 8, 10, 1, 3, 8, 2, 3, 6, 7, 1, 2, 3, 4, 5, 6, 7, 8, 9, 10, 1, 2, 3, 4, 5, 8, 9, 2, 3, 4, 5, 6, 7, 8, 9, 10, 5, 2, 4, 5, 8, 1, 1, 4, 2, 3, 6, 1, 3, 5, 8, 9, 1, 9, 1, 2, 3, 4, 5, 6, 7, 8, 9, 10, 8, 3, 9, 4, 1, 8, 9, 9, 8, 9, 3, 1, 2, 3, 4, 5, 6, 7, 8, 9, 10, 3, 2, 3, 5, 6, 8, 9, 10, 2, 9, 8, 9, 1, 2, 3, 5, 6, 7, 8, 9, 10, 6, 8, 2, 3, 5, 8, 9, 1, 2, 3, 4, 5, 6, 7, 8, 9, 10, 1, 4, 6, 2, 4, 5, 4, 6, 1, 2, 3, 4, 5, 6, 7, 8, 9, 10, 1, 2, 3, 4, 5, 9, 2, 5, 6, 8, 9, 2, 4, 6, 9, 3, 2, 3, 5, 8, 9, 1, 2, 3, 4, 5, 6, 7, 8, 9, 10, 5, 1, 9, 7, 8, 2, 1, 2, 3, 4, 5, 6, 7, 8, 9, 10, 6, 1, 2, 4, 5, 6, 1, 2, 3, 4, 5, 7, 8, 9, 2, 3, 4, 5, 6, 7, 9, 10, 1, 3, 5, 7, 8, 9, 10, 10, 4, 2, 9, 2, 3, 4, 7, 10, 2, 3, 5, 6, 8, 9, 2, 9, 7, 10, 1, 2, 3, 8, 10, 2, 3, 4, 5, 6, 8, 9, 10, 8, 7, 8, 1, 3, 4, 5, 6, 7, 8, 9, 10, 6, 9, 1, 2, 3, 4, 5, 6, 7, 8, 9, 10, 2, 9, 1, 2, 3, 4, 5, 6, 7, 10, 1, 2, 4, 5, 7, 8, 10, 5, 2, 5, 9, 4, 6, 6, 7, 7, 10, 2, 3, 6, 8, 3, 8, 8, 1, 2, 3, 4, 8, 10, 2, 3, 4, 5, 6, 8, 9, 2, 1, 2, 5, 2, 6, 8, 9, 8, 2, 7, 5, 1, 3, 4, 5, 7, 10, 1, 1, 2, 3, 4, 5, 6, 7, 8, 9, 10, 8, 3, 9, 10, 2, 3, 4, 7, 10, 10, 6, 9, 4, 9, 2, 3, 4, 9, 10, 2, 3, 5, 9, 10, 1, 2, 4, 5, 7, 10, 3, 5, 6, 7, 8, 10, 2, 10, 4, 2, 3, 8, 1, 2, 3, 4, 5, 6, 7, 8, 10, 6, 8, 1, 2, 7, 10, 5, 7, 2, 3, 4, 6, 8, 2, 8, 10, 7, 8, 5, 9, 2, 3, 5, 8, 9, 2, 1, 5, 9, 1, 1, 4, 5, 2, 3, 4, 5, 6, 7, 8, 9, 10, 3, 5, 9, 1, 8, 1, 2, 3, 5, 6, 9, 10, 8, 2, 8, 2, 4, 10, 2, 5, 2, 1, 1, 5, 9, 10, 3, 3, 7, 8, 1, 9, 2, 1, 2, 3, 4, 5, 6, 7, 8, 9, 10, 7, 1, 5, 6, 8, 9, 1, 2, 4, 6, 4, 1, 2, 3, 4, 5, 6, 7, 8, 9, 10, 1, 2, 5, 8, 9, 3, 1, 2, 3, 4, 5, 6, 7, 8, 9, 10, 2, 3, 5, 6, 7, 8, 9, 10, 10, 6, 4, 4, 7, 8, 10, 7, 7, 7, 2, 3, 4, 10, 3, 3, 9, 2, 3, 5, 8, 9, 5, 1, 2, 3, 4, 5, 6, 7, 8, 9, 10, 10, 7, 2, 4, 3, 1, 7, 5, 7, 1, 2, 3, 4, 5, 6, 7, 8, 9, 10, 5, 7, 9, 1, 2, 3, 4, 5, 6, 7, 8, 9, 10, 1, 1, 1, 3, 6, 7, 8, 9, 10, 1, 3, 2, 4, 4, 6, 7, 9, 4, 9, 4, 10, 1, 2, 3, 4, 5, 6, 7, 8, 9, 10, 4, 1, 6, 2, 3, 6, 8, 9, 5, 2, 4, 9, 1, 2, 4, 5, 2, 4, 8, 5, 5, 6, 8, 9, 3, 9, 7, 1, 2, 3, 5, 6, 7, 8, 9, 3, 5, 9, 10, 1, 1, 2, 3, 4, 5, 6, 7, 8, 9, 10, 1, 2, 3, 4, 5, 6, 7, 8, 9, 10, 7, 8, 9, 1, 2, 3, 4, 5, 6, 7, 8, 10, 1, 2, 3, 4, 5, 8, 9, 10, 3, 1, 2, 3, 4, 5, 6, 8, 9, 10, 1, 2, 3, 9, 10, 3, 7, 1, 2, 3, 4, 5, 6, 7, 8, 9, 10, 3, 1, 2, 4, 5, 6, 7, 8, 8, 1, 2, 3, 4, 5, 6, 7, 8, 9, 10, 9, 1, 7, 9, 8, 10, 1, 2, 3, 4, 5, 6, 7, 8, 9, 10, 4, 1, 3, 9, 1, 10, 2, 8, 10, 6, 2, 2, 4, 7, 10, 2, 6, 4, 3, 3, 10, 3, 5, 9, 10, 1, 2, 3, 4, 5, 6, 7, 8, 9, 10, 4, 6, 10, 9, 2, 3, 1, 1, 2, 1, 2, 3, 4, 5, 6, 7, 8, 9, 10, 1, 1, 3, 10, 5, 3, 8, 5, 8, 2, 4, 5, 6, 9, 10, 2, 3, 9, 4, 3, 3, 9, 9, 5, 8, 9, 1, 2, 3, 5, 7, 8, 10, 1, 2, 3, 4, 5, 6, 8, 9, 10, 5, 2, 3, 4, 5, 8, 9, 10, 4, 7, 5, 6, 2, 3, 4, 5, 9, 9, 10, 2, 3, 4, 7, 8, 9, 10, 3, 4, 5, 6, 8, 9, 5, 5, 9, 1, 7, 1, 9, 9, 10, 7, 6, 9, 3, 7, 7, 7, 7, 10, 7, 10, 7, 2], \"Freq\": [0.9996309379757853, 0.21823637279074523, 0.5953993680469232, 0.0067586668413650896, 0.00249776818050449, 0.00019590338670623448, 0.10289825386744966, 0.04907379836991174, 0.023998164871513725, 0.0009305410868546138, 0.041252657917766083, 0.8626995071587414, 8.795875888649484e-05, 0.0869032537798569, 0.0009675463477514433, 8.795875888649484e-05, 0.007828329540898042, 8.795875888649484e-05, 8.795875888649484e-05, 0.00017591751777298967, 0.0002155301509854728, 0.6861761573540835, 0.0006465904529564184, 0.06940070861732224, 0.0006465904529564184, 0.0056037839256222926, 0.13449081421493503, 0.0051008802399895225, 0.019613243739678023, 0.0781656014240648, 0.9997371492290523, 0.9998951816951666, 6.325247859913756e-05, 0.0042365726563657205, 0.8311948889708746, 0.002789938090777426, 0.14786671881120356, 0.00020666208079832783, 0.00010333104039916392, 0.006096531383550671, 0.00010333104039916392, 0.007336503868340638, 0.9994415761502422, 0.23086959451622016, 0.13842495604117183, 0.630656355670094, 0.9998718383171181, 0.9993366550650062, 0.9997059469397965, 8.800816052023747e-05, 0.9988926219046953, 0.00044004080260118733, 8.800816052023747e-05, 0.00044004080260118733, 8.800816052023747e-05, 0.9996148779097247, 0.002306732072271895, 0.9739352342285122, 0.020431055497265357, 0.0011533660361359476, 0.00016476657659084964, 0.00016476657659084964, 0.0016476657659084965, 0.9994348620528387, 0.0013373160183742685, 0.9675481392937832, 0.0003820902909640767, 0.030471700704385117, 9.552257274101917e-05, 9.552257274101917e-05, 0.9998588300319072, 0.9996518716202808, 0.9996588942738258, 0.00023460664028956252, 0.9996765684433558, 0.9996981460597306, 0.9993007596072024, 0.4871898728205952, 0.25689962240295194, 9.729203650935502e-05, 4.864601825467751e-05, 0.25578076398309435, 0.9998406134863932, 8.564161468457863e-05, 0.9998658514424554, 0.9994385973087476, 0.00040754598231972853, 0.999508354522349, 0.999671811605211, 0.9995524299339666, 0.9998361122328355, 0.9997530740973068, 0.9997285329551034, 0.9999911647364284, 0.9997689659768827, 0.12476792691097537, 0.08589133979704452, 0.0019697470804391623, 0.15820179182895588, 0.100612607450853, 0.068578299668974, 0.23683616869806665, 0.0004146835958819289, 0.004924367701097906, 0.21786439418646839, 0.9993244291771833, 0.9993089893691556, 0.9991636448716605, 0.000809039388560049, 3.097953131797268e-05, 0.9998953528188862, 6.195906263594536e-05, 0.9997392941544084, 0.9998604999660115, 0.9992604516717475, 0.9999571242228312, 0.14487721754456342, 0.09553588889341759, 0.7595040231658521, 0.9997551657697813, 0.0887127745367227, 0.9110828269186863, 0.9999450182563441, 0.0003202262787026535, 0.997664971298117, 0.000640452557405307, 0.0011207919754592872, 7.229179384326337e-05, 0.002747088166044008, 0.9970484206862884, 0.0004956463869355441, 0.9992231160620569, 0.0003120373188178452, 0.08487415071845389, 0.9145813814551043, 0.001961156401232796, 0.9922225667487178, 0.00012257227507704975, 0.005515752378467239, 0.02391025997378866, 0.19241628443009157, 0.02243885936001705, 0.012844101191048011, 0.0522960301477993, 0.04365155154189109, 0.18073704205827942, 0.2752745314931053, 0.1578996783653659, 0.03850164939369046, 0.9996100004563487, 0.1235613529975378, 0.04258977492381592, 0.0012751429617908958, 0.5694788467358141, 0.07791123496542374, 0.0001275142961790896, 0.185023243755859, 0.9995886346462385, 0.999655575254778, 0.9997750749811544, 0.9999760016097163, 0.001792350159904497, 0.9981149952968168, 0.0012072150045380518, 0.6491919408403827, 0.0001448658005445662, 4.8288600181522065e-05, 0.00024144300090761034, 9.657720036304413e-05, 0.3490300021120415, 4.8288600181522065e-05, 0.00046969494103972547, 0.00023484747051986273, 0.9992759870620159, 0.000784150429548147, 0.9986155720295653, 0.9990440399834117, 0.6495535775852699, 0.16816751560025942, 0.000261943170716915, 0.001309715853584575, 0.00032742896339614373, 0.18015141566055828, 0.00019645737803768623, 0.21004659116686206, 0.41460986079589446, 8.844066996499456e-05, 0.00044220334982497276, 0.00026532200989498367, 0.37463467797171696, 0.9997135639736798, 0.9989020261241508, 0.9997992678522167, 0.0010279803144879931, 0.11467691508288277, 0.001561007144222508, 0.2702826760203801, 0.12667001875190936, 0.011155490079443777, 0.020369239564854678, 0.32095829819014005, 0.12404295794821783, 0.009213749485410901, 0.999487163238823, 0.9998250355379009, 0.00022578088593686532, 0.005870303034358498, 0.9938874598940811, 0.9943959558063133, 0.00540249076159627, 0.9995091126521533, 0.9998363702117536, 0.9997970996627923, 0.7818292305648824, 0.00039944114746879434, 0.02064803469992537, 0.09061168799119035, 0.10523737923697081, 0.0008603347791635571, 0.00039944114746879434, 0.00011062804029870063, 0.0010694043895541061, 3.687601343290021e-05, 0.14444334461667013, 0.27354626764525375, 0.57980155920549, 0.0009956523626883057, 0.9996772575902055, 0.9997610522732042, 0.9989085578173836, 0.0009922932693550168, 0.9931155343759599, 0.006635938087659144, 0.00018959823107597554, 0.9995202804662641, 0.886790638949246, 0.11316353861301283, 0.9997029502990241, 0.000277002757079253, 0.0009378213191675858, 3.6070050737214836e-05, 0.8184583072679944, 0.0015870822324374528, 1.4428020294885935e-05, 0.17896516373776514, 9.153447286342585e-05, 0.9998310470872005, 3.0511490954475282e-05, 0.9995667856713879, 0.8060378573706718, 1.5090950673456747e-05, 0.005749652206587021, 0.1881992458486791, 0.9994650412171024, 0.9992968874115304, 0.17659210393187716, 6.696704737651769e-05, 0.0017411432317894601, 0.00013393409475303538, 0.6858764992302943, 0.006361869500769181, 0.11056259521863072, 0.01861683917067192, 0.9999167740284373, 0.9998547867575911, 0.9995351453575659, 0.9996985626454843, 0.9993537212618392, 0.9991670946596835, 0.9997101473131277, 0.9996954242630414, 0.9997351895517598, 0.9997984832756516, 0.9991577448693829, 8.67762666375464e-05, 0.7640650277435961, 0.23438269618801286, 8.67762666375464e-05, 0.0001735525332750928, 0.0001735525332750928, 0.0011280914662881033, 0.00012674391643230983, 0.0012674391643230983, 0.0005069756657292393, 0.7546332784379727, 0.00012674391643230983, 0.031179003442348217, 0.21204257219125433, 0.9999207783605826, 0.00021791391663345894, 0.011404161637151019, 0.0031234328050795783, 0.15660746808724582, 0.0020338632219122836, 0.0005084658054780709, 0.11244358098286482, 0.4835509810096454, 0.22968126813166573, 0.0003631898610557649, 0.9998774052029191, 0.18488221918611852, 0.000612530820053402, 0.04731800584912531, 0.12638552587101862, 0.5461222703126124, 0.007707679485671976, 0.0001531327050133505, 0.07671948521168862, 0.000306265410026701, 0.009800493120854433, 0.9993426645544377, 0.9993731376227093, 0.9996687159459277, 0.0003151123640995311, 0.1715786822521947, 0.8254368377587217, 0.002520898912796249, 0.0002580145156472467, 0.9990322045861391, 0.00077404354694174, 0.9997190127656659, 0.9996777682024522, 0.9998977841682958, 0.9996190164616069, 0.0002853201131615832, 0.9998514257602947, 0.9998537874342993, 0.9993807254494312, 0.00687933737749652, 0.9242881147907824, 0.06879337377496521, 0.999738546148402, 0.9661262755790547, 0.03384596908285074, 0.9999595704488635, 0.9996622913902823, 0.99951320202815, 0.9980964286665287, 0.001721449514774972, 0.9995089902131316, 0.008109983631751371, 0.00036863561962506233, 0.00018431780981253116, 0.9912611811717926, 0.9996434586475594, 0.9998138180617527, 0.9994591796517608, 0.9998904833090291, 0.0035075354857504975, 0.9961400779531413, 0.9999567927461709, 0.9995123914138071, 0.9999015233091434, 0.9998599002100906, 0.9997159761003297, 0.9998050997121307, 0.9999405218591354, 0.9999602568059512, 0.9997101291213221, 0.012392185143750543, 0.000583161653823555, 0.004956874057500217, 0.00043737124036766624, 0.01385008927830943, 0.00014579041345588875, 0.042133429488751845, 0.918625395185555, 0.00699793984588266, 0.0027670171054461653, 0.9949811853652625, 0.002003702041874809, 9.54143829464195e-05, 9.54143829464195e-05, 4.296217991763905e-05, 0.002964390414317094, 0.8248738544186697, 0.172106492750062, 0.9995113114934557, 0.01818155407655448, 0.004949951895187607, 0.00028557414779928505, 9.519138259976168e-05, 9.519138259976168e-05, 0.9760924371779562, 0.00028557414779928505, 0.9997620645310404, 0.33280905490740675, 0.0003713005447088956, 0.6322010607910129, 0.0002475336964725971, 0.034035883264982095, 0.00012376684823629854, 0.00012376684823629854, 0.00012376684823629854, 0.9995833422704338, 0.9993010196017654, 0.0002076750920943805, 0.3319063321852389, 0.000415350184188761, 0.667467745991339, 0.9996968540477462, 0.002260741341429521, 0.9964217462350614, 0.0011303706707147605, 0.9999227047395389, 0.9999590144211699, 0.007787690943130944, 0.9917455118448059, 0.9998391916444381, 0.25985883556000267, 0.005572593539097123, 0.00039105919572611383, 0.7340181103779156, 0.9992095699928765, 0.9994306180505992, 0.9999074496096206, 0.9995884634207826, 0.999656651613699, 0.999588691859258, 0.27236830552013025, 0.0001472261110919623, 0.7274442149053857, 0.9998635492130651, 0.00029294663670041834, 0.997776244601625, 0.0017576798202025101, 0.0889217744775187, 0.10200160844574209, 0.8088400553898142, 0.00010548253200180154, 0.9941831017829018, 0.005586279061817885, 0.0006304557149191214, 0.7281763507315852, 0.2710959574152222, 0.7217257057302973, 7.566052057136988e-05, 3.783026028568494e-05, 7.566052057136988e-05, 0.27809024336007, 0.9996920841605242, 0.9997364198033957, 0.9995318836912283, 0.552750099841041, 0.02805953870427075, 7.604211030967684e-05, 0.0019770948680515976, 0.0011406316546451526, 0.2120814456536887, 0.0030416844123870735, 0.20082721332785652, 0.9996035019901556, 0.9996264690783021, 0.001181690106296485, 0.13449282279569763, 2.7481165262708954e-05, 0.0005771044705168881, 0.8494153371050711, 0.0002473304873643806, 0.00013740582631354477, 0.01393295078819344, 0.00013608523334535463, 0.19681326872571914, 3.402130833633866e-05, 0.00013608523334535463, 0.4338737452133269, 0.22896340510355914, 0.006191878117213635, 0.1331594008284295, 0.0007484687833994504, 0.9999581866161066, 0.11018287551006245, 0.2913054105950966, 0.03592263612519844, 7.546772295209758e-05, 0.47076765577518465, 0.09154234794089436, 7.546772295209758e-05, 7.546772295209758e-05, 0.3776598670814071, 0.0001161911189872035, 0.11378983586146796, 3.8730372995734495e-05, 3.8730372995734495e-05, 0.5082199544500281, 0.00015492149198293798, 8.003699553830177e-05, 8.003699553830177e-05, 0.0023210728706107514, 0.0007203329598447159, 8.003699553830177e-05, 0.06883181616293953, 0.22586440140908762, 0.7020044878664449, 0.999956265690171, 0.9997599151222011, 9.858592990062135e-05, 0.9991937058516989, 0.9993711414118388, 0.0003888603663081085, 0.9993805838683639, 0.01905806451762395, 0.00040549073441753085, 0.9804765958215896, 1.4304215138214332e-05, 0.00020025901193500064, 2.8608430276428664e-05, 0.000557864390390359, 0.9991780358345475, 0.00018983119133061087, 0.025120994319417504, 0.3158158253103596, 0.0039864550179428285, 0.00651753756901764, 0.00025310825510748114, 0.003290407316397255, 0.49501646992645626, 0.14946042464096762, 0.00037966238266122173, 0.0842482786696315, 0.013263361373671097, 0.1519729283653599, 0.005334983345834185, 0.03356593688420674, 0.0019265217637734556, 7.409699091436367e-05, 0.09899357986158987, 0.6087808773524119, 0.0018524247728590917, 0.0009125298165917197, 0.998611795956872, 1.2636095143180502e-05, 2.5272190286361003e-05, 0.999957389155589, 0.999793185092187, 0.15214971115035553, 0.08097670046429277, 0.0004738943699446541, 1.480919906077044e-05, 1.480919906077044e-05, 0.0029470306130933177, 0.6119901511863385, 0.1448339668143349, 4.4427597182311326e-05, 0.006545665984860535, 0.0003221879956902214, 0.9994271626310668, 1.696083050601246e-05, 0.06823342112568813, 0.2173700037650557, 0.01724916462461467, 0.014722000879218815, 0.0003392166101202492, 0.43460432088606327, 0.10583558235751775, 1.696083050601246e-05, 0.14160597389469803, 0.9997788995682707, 0.08350612280031343, 0.18821619015037036, 0.5580379289150146, 0.0017462071982141717, 0.00820093737732727, 0.07237405191169807, 6.236454279336328e-05, 0.0636741981920239, 0.024103895789634906, 9.354681419004491e-05, 0.9998652623168066, 0.2724400383886959, 0.001626710018989601, 0.013623696409037909, 0.0007116856333079504, 0.014606500378844126, 0.0017283793951764512, 0.6951135249894939, 0.00013555916824913342, 0.9927572062401806, 0.006966717236773197, 0.9998268649895512, 0.9998087361985442, 0.00045040438080709235, 0.7933383597937794, 0.004014473828932779, 0.001037888355772865, 0.00045040438080709235, 0.013159641039233307, 0.18750530200990911, 0.9999315616146668, 0.9999046822046577, 0.0015308310363696502, 0.9983569742190735, 0.98236191431048, 0.0002522110177947317, 0.0005044220355894634, 0.007061908498252487, 0.009584018676199804, 0.0002522110177947317, 0.008537631960847135, 0.9911414558183447, 0.999318254818994, 0.9999599659328805, 0.9996285678510011, 0.21473217586834215, 9.546480847733053e-05, 0.785134406520392, 0.00036425795956269617, 0.00567201679890484, 0.7514121337264761, 0.0023936951628405747, 0.0004162948109287956, 5.203685136609945e-05, 5.203685136609945e-05, 0.032887290063374854, 0.20575371030155723, 0.001040737027321989, 0.9995904238220668, 0.9998252642974351, 0.9999878887805983, 0.0003582364460476802, 0.9982258569118609, 0.0014329457841907207, 0.00035156356103266986, 0.9992608283085254, 0.00029296963419389154, 8.789089025816747e-05, 0.9995728169121054, 0.9996854822465153, 0.9996043114003095, 0.9997954589540343, 0.9994815654895531, 0.9997125674097744, 0.9975610705670311, 0.0001635077971753862, 0.0007357850872892378, 0.0014715701745784755, 0.0007750176035845922, 0.11532261941338731, 0.004650105621507553, 0.7641673571344079, 0.10276733423531692, 0.0009300211243015107, 0.004340098580073716, 0.0034100774557722056, 0.0017050387278861028, 0.0017050387278861028, 0.0012531610136811873, 0.038278372781534446, 0.9579846330950095, 0.00034177118554941475, 0.0012531610136811873, 0.0007974660996153011, 0.00022784745703294314, 0.020967853384018933, 0.9517162885180529, 0.00017940409312529567, 2.242551164066196e-05, 0.008297439307044924, 4.485102328132392e-05, 0.010450288424548473, 0.008275013795404263, 4.485102328132392e-05, 0.9996841115426931, 0.024890142797640586, 0.9735511549963216, 0.001260260394817245, 0.9995583436355894, 0.9998763275496484, 0.9996395746276945, 0.9999545784609022, 7.028964622146722e-05, 0.37506555223774907, 0.6247343756164007, 0.031208695181419836, 0.002681997242153267, 0.8803452765758845, 8.127264370161415e-05, 0.0855800938177997, 0.9998814096147901, 0.999558932529094, 4.274912188011757e-05, 0.009746799788666806, 0.5427856005118528, 0.0007694841938421163, 0.026589953809433128, 0.1182868202422853, 0.005001647259973756, 0.11546537819819755, 0.18087153467477743, 0.00038474209692105813, 0.9999646366882966, 0.9999785544143299, 0.9997643999434975, 0.9995481856880892, 0.00021825636409155465, 0.6943826223572811, 0.30534065336408495, 0.999682295932572, 0.00033418071103087497, 0.9992003259823161, 0.9992125319959823, 0.00016956313279544103, 0.0003815170487897423, 0.08643480694247607, 0.14985141860797102, 0.01843999069150421, 0.19109765066046205, 0.37863447553221985, 0.09164887327593588, 0.07795665030270402, 0.0054684110326529735, 0.9995324466785673, 2.9129242928771658e-05, 0.9907729397363103, 0.007282310732192914, 8.738772878631497e-05, 0.000757360316148063, 0.001019523502507008, 2.9129242928771658e-05, 0.9994535153330047, 0.0005264992442358978, 0.999915135659137, 0.9998085749362117, 0.00031474952370230355, 1.967184523139397e-05, 0.0004721242855534553, 0.0004917961307848493, 0.08270043735278025, 0.7922442230039294, 0.009619532318151653, 0.07827427217571661, 0.03584210201159982, 0.9996657512226617, 0.9999734548304391, 0.02756318778398871, 8.059411632745237e-05, 0.031270517135051516, 0.000644752930619619, 0.9402915551923867, 0.0033905423332054223, 0.00016539230893684986, 0.991626127461777, 0.0003307846178736997, 0.0033409246405243674, 1.6539230893684986e-05, 3.307846178736997e-05, 0.00026462769429895977, 0.0007938830828968794, 3.307846178736997e-05, 0.999817705832694, 0.999485654393202, 0.9999480298950024, 0.0018684083306495264, 0.9936195502394182, 0.004110498327428958, 0.9997712545048434, 0.9996512253371678, 0.057606883231650016, 0.18482674445261432, 0.0007084341627193205, 0.5425114246087428, 0.017561710033726315, 0.10294666964568652, 0.019836156556140974, 0.07162642245177972, 3.728600856417477e-05, 0.0023117325309788355, 4.8847599969207015e-05, 9.769519993841403e-05, 0.9964910393718232, 0.0020515991987066946, 0.0012700375991993825, 4.8847599969207015e-05, 0.26203836496898847, 0.13027702589525744, 0.6052572430068007, 0.0006850676208339568, 0.0017126690520848917, 0.2704298019645452, 0.00012705182145386195, 6.352591072693098e-05, 0.7293409810558945, 0.9998956795853946, 0.24393343966174943, 0.0007352929605478506, 0.13198508641833917, 0.00041360229030816596, 0.6228850492040979, 0.0005676806695564597, 0.08312819543765897, 0.10265147411675286, 0.00022213591417426684, 0.10010925198786959, 0.10985855044329575, 0.0034060840173387582, 0.17287110476406278, 0.42714268118887355, 2.4681768241585205e-05, 0.9997013681470774, 0.0008854699583307485, 0.9990631044137502, 0.9788252335076442, 0.020867693186039052, 0.99985875990162, 0.2857517544515029, 0.5439040561886145, 0.0022552081984522137, 0.002408623722156446, 0.007885557918397536, 0.0009358346945958166, 3.0683104740846446e-05, 0.001994401808155019, 0.15140578034370678, 0.0034365077309748016, 0.9995592066541386, 0.00023198683596001995, 0.0006959605078800599, 0.9699369611488434, 0.028534380823082454, 0.00023198683596001995, 0.13284308401472414, 0.11426818053714846, 0.007878071902940658, 0.7000642610264516, 0.011058211019724044, 7.22758890178042e-05, 0.0007227588901780422, 0.03310235717015433, 0.006349325380369109, 0.8391949813712244, 7.74307973215745e-05, 0.000154861594643149, 7.74307973215745e-05, 0.000154861594643149, 0.1539324250752901, 0.9999447700812368, 0.6116506938162369, 0.0018970437837554765, 0.0018240805613033428, 7.296322245213371e-05, 0.0005837057796170697, 0.3837135868757712, 0.00029185288980853485, 0.999510595838977, 0.9992156756438867, 0.9997900197624123, 0.9998441801435902, 0.4139014331856888, 0.00013479935944819696, 0.4666753824096579, 6.739967972409848e-05, 0.1191626337522061, 0.09548856849457522, 0.0006119709362083274, 0.10601868908657368, 0.4118564400682043, 0.0921754844606198, 0.2938515616103779, 0.999825759865956, 0.00012848753580491627, 0.9999931652561018, 0.999294433685078, 0.9985930836468153, 0.001075056475464207, 0.00020157308914953883, 6.719102971651294e-05, 6.719102971651294e-05, 0.1041699293385845, 0.32076685346356787, 0.0005034796004764838, 0.0005538275605241322, 0.0034740092432877386, 0.4420550892183528, 0.12813555832126514, 0.00030208776028589027, 0.9998651528441163, 0.0035205116282173215, 0.9964685355123959, 2.8967206780405264e-05, 8.690162034121579e-05, 2.8967206780405264e-05, 0.00011586882712162105, 5.793441356081053e-05, 0.00017380324068243157, 0.02007427429882085, 0.979381261245502, 2.8967206780405264e-05, 0.9995561584136036, 0.9999321583243398, 0.21040142334960882, 0.0004174631415666842, 0.27868646579158785, 0.06772842491989015, 0.10365013429184244, 0.0002783087610444561, 0.0062619471235002624, 0.08088845347784943, 0.21523206827345187, 0.03647832689404121, 0.9976028193388609, 0.001927468875344197, 0.009859878703423003, 6.529720995644373e-05, 0.00013059441991288746, 0.00013059441991288746, 0.9114184565720416, 0.03917832597386624, 6.529720995644373e-05, 0.03911302876390979, 0.0003950384390914327, 0.23954378492334782, 0.064033849841297, 0.00022573625090939012, 0.1810780959378158, 0.019244015390025508, 0.4954722593918689, 0.9998525967416494, 0.9986017640346815, 0.0002515369682707006, 0.0007546109048121018, 0.9998662646809313, 0.999727924093044, 0.00012485919210552266, 0.9998724103810254, 0.3701200032557997, 0.6297475502849368, 0.0001592030902281709, 3.9800772557042724e-05, 0.0007960154511408545, 0.9989595904092153, 0.0015030015632114054, 0.9982435382329083, 0.999811707994706, 0.00014491412697742229, 0.0005796565079096891, 0.22809483586246268, 0.00014491412697742229, 0.008694847618645337, 0.7622483079012412, 0.018930526493618285, 0.004266336095390757, 2.1438874851209834e-05, 2.1438874851209834e-05, 2.1438874851209834e-05, 2.1438874851209834e-05, 0.9766908215965664, 0.999966134921066, 0.9933909194939236, 0.006367890509576433, 0.00016327924383529316, 0.9992156595734445, 0.9993816807554448, 0.9998677997763284, 0.999803656853591, 0.9997961392731176, 0.9996626780213913, 0.00018612226364203896, 0.9997483062687844, 0.0006999083432379497, 0.0002799633372951799, 0.00013998166864758995, 0.7701791408990398, 0.0006999083432379497, 0.22775017488962884, 0.999854828997372, 0.09733095586977998, 0.4437159325982945, 0.0030919453542525184, 0.07938896310989213, 0.09741805292201244, 0.12942621961744344, 0.00017419410446493062, 0.03105009912087388, 0.0002612911566973959, 0.11810360282722296, 0.9996285219951662, 0.6240380335586816, 0.37589176212256864, 5.246221383427336e-05, 5.3400087861862795e-05, 0.00010680017572372559, 0.0011748019329609815, 0.00010680017572372559, 0.9984748428411105, 0.999499689673705, 0.0577658537522669, 0.9419685218536322, 0.9997216054515957, 0.9998668880166396, 0.1548193291552051, 0.00011082271235161425, 0.8408119186116974, 0.003601738151427463, 0.0006095249179338784, 0.07942135043451863, 0.04688098909872006, 0.008909293660020986, 0.8579602151318605, 0.006812989269427813, 0.02914637327812609, 0.0001408037356431212, 0.9073392724842732, 0.05026693362459428, 0.0005632149425724848, 0.012390728736594667, 0.00024312210286791977, 0.038899536458867165, 0.0645489183114327, 0.004497758903056516, 0.7254763549578725, 0.16629551836165712, 0.9996482912380986, 0.9998384837964593, 0.9995691509209358, 0.026814273860533946, 0.9729028044114487, 0.0002529648477408863, 0.003911008181324179, 0.09936857823660693, 0.0003259173484436816, 0.8830549490887973, 0.000579408619455434, 0.003947221220040144, 0.00010863911614789388, 0.008365211943387829, 0.0003983434258756109, 0.9997449916993931, 0.9993316957512716, 0.9963878215511469, 0.0018041590184465213, 0.0008200722811120551, 0.0009840867373344662, 0.0004188661754932597, 0.9994146947269176, 0.7647343690262636, 0.00011148543902999688, 0.0002972945040799917, 0.23478833459717344, 3.716181300999896e-05, 0.00018758953385192837, 0.999789685586161, 0.9990714870056207, 0.2109342455170372, 0.7888825096279322, 0.9998662200001186, 7.484588816529071e-05, 8.387237021890058e-05, 0.8870341874350925, 0.029606946687271908, 0.07867228326532875, 0.004445235621601731, 0.9997830963330384, 0.000808068505098384, 0.9990420284699688, 0.9997600649562022, 0.9996037303183889, 0.17287373655950872, 0.0007403586148158832, 0.8260551244808216, 0.0005043207631014447, 0.22466162836266465, 2.6543198057970777e-05, 0.00023888878252173698, 0.09414872351162235, 0.005255553215478214, 0.07732033594286887, 0.522290508186691, 0.07554194167298484, 0.9763337262276953, 0.023361386987695434, 0.00010765616123361951, 0.9998692480450952, 0.999480236260174, 0.7897964351957004, 0.015834549556490815, 0.005889680017963047, 0.00014482819716302576, 0.0764210120363566, 0.11180736820985589, 4.827606572100859e-05, 0.9998844086971374, 0.00012193293050849558, 0.9998195469370367, 0.11918509920605014, 0.0035980407307486836, 0.8772473056656633, 0.002961480369917661, 0.9969612131015668, 0.9996124646566743, 0.9997830634390215, 0.9988647226137448, 1.0956068033495062e-05, 0.0010846507353160111, 2.1912136066990123e-05, 0.9997047301594915, 0.010570318635838738, 0.9832143491435125, 0.0061150603678405925, 0.000298440240704321, 0.9994763661187711, 0.9997163652973032, 0.004917990963665148, 0.014163813975355625, 0.21850633851564252, 0.055671657708689475, 0.4019474014603525, 0.059065071473618426, 0.0005901589156398178, 0.0665895976480261, 0.15899864785529425, 0.01962278394502394, 0.9994520507466179, 0.05279661058281622, 0.8171425621323839, 0.00010953653647887183, 0.0005476826823943592, 0.12936264958154764, 7.007199260437684e-05, 7.007199260437684e-05, 2.3357330868125612e-05, 0.9998105478101168, 0.9996311127052101, 0.001248446345419123, 0.09271071121634183, 0.0011398857936435471, 0.05607152499208497, 0.00021712110355115184, 0.6798604554945442, 5.428027588778796e-05, 0.00640507255475898, 0.002768294070277186, 0.15952973083420882, 0.11285136710564492, 0.00022127719040322533, 0.00044255438080645067, 0.8862151475649175, 0.00022127719040322533, 0.9992875715822523, 0.007624752021763726, 0.32401364558816553, 0.0015134558033149104, 0.19582968634791156, 0.0001341036787747389, 0.19138510727994879, 0.007184125648646726, 1.915766839639127e-05, 0.0020307128500174744, 0.27025722806789165, 0.0014064027127875236, 0.2593406602380193, 0.4171390446127795, 0.1304579156381707, 5.6256108511500944e-05, 0.13934638078298783, 0.052093156481649874, 0.00011251221702300189, 0.9997084551733899, 0.9996185398520002, 0.9999835518490054, 0.25229444530468426, 0.0002918385717810113, 0.00014591928589050566, 0.747106743759389, 0.9998679367647431, 0.9997942252354689, 0.9999185831141028, 0.8977447332911701, 7.99843846481798e-05, 0.09958055888698385, 0.0024795159240935736, 0.999378784828989, 0.9995950215983463, 0.0003515162425032281, 9.605808372825796e-05, 0.9956420378433938, 0.0012487550884673535, 0.0008645227535543216, 0.0020172197582934174, 0.9998022021855776, 0.00011035173134296259, 0.0038623105970036907, 0.010924821402953297, 0.7279903716695243, 0.010373062746238485, 0.001103517313429626, 0.09368861991017524, 0.12966328432798105, 0.00011035173134296259, 0.022291049731278444, 0.9993717866406999, 0.9998066483526944, 0.9999437407544496, 0.9999529556537999, 0.999136302420672, 0.9995604235201939, 0.0002294148321138843, 0.00014808671494674904, 0.9997334126055026, 0.12529338838629206, 0.0019945001025454406, 0.24681938768999828, 0.3111143146067756, 8.310417093939336e-05, 0.1303073400329688, 0.006509826723585813, 0.0011911597834646382, 0.0001385069515656556, 0.1765132590752715, 0.0006160547013174244, 0.9989326981862036, 0.0003080273506587122, 0.5114698117157727, 0.11501320674722906, 0.14026061611625745, 0.007850872607348415, 0.03971129213029145, 0.033447209647814516, 0.00496806541713688, 0.04342487949059277, 0.0034892767143770735, 0.10036655234854625, 0.9998058651089253, 0.999922539766701, 0.0006241941353835048, 0.00013375588615360817, 0.280709019741039, 0.03259185092609586, 4.458529538453606e-05, 0.4250316209007822, 0.2608685632949205, 0.999897880217247, 0.9999230862868643, 0.9977934029907437, 0.0017759597798707987, 0.0381644469204223, 0.19471102895656212, 0.7669968586068757, 9.043707801047938e-05, 0.9982449203268663, 0.0014179615345552077, 0.9993320978488146, 0.9994983635724775, 0.003494823812770799, 0.04506697219026531, 0.12711405681798907, 0.0003657373757550836, 0.18258422547417674, 0.04770840879294091, 0.2784074179220087, 0.13694832847718133, 0.16673560585812314, 0.011541046079382639, 0.9998125594967283, 0.00045303443878210895, 0.9993939719533323, 0.008141098840805413, 0.9909849481813732, 0.0004845892167146079, 9.691784334292159e-05, 0.00019383568668584317, 0.999604215239323, 0.002641971019529276, 0.9968916675744371, 0.000434296605950018, 0.008122815414622103, 0.010491969910553548, 0.9784608068196874, 0.0028768304593453278, 0.002782938282636305, 0.14824115887685888, 0.8489452621835, 0.9997673632751372, 8.75251724583852e-05, 0.0001750503449167704, 0.0001750503449167704, 0.9995374694747591, 8.398292358587851e-05, 0.9998167052898838, 0.9997146343949089, 3.337083653722536e-05, 0.008943384191976397, 0.7274174948384384, 0.1522377562828221, 6.674167307445072e-05, 3.337083653722536e-05, 0.11112488566896046, 6.674167307445072e-05, 0.4155452399406652, 0.00014654234393111503, 0.5842643252533557, 0.9999652059695376, 0.9999480265478903, 0.005541225654975801, 0.3004232445694197, 0.07161117057249215, 0.0002509962840232941, 0.08574419210364993, 0.14289411523510767, 0.034135494627168, 0.2366508810210397, 0.12181042737715098, 0.0009653703231665159, 0.06979440492576566, 0.4590740510039703, 0.09691413009556414, 0.1125874375970624, 0.02081320553866704, 0.04725662833515384, 0.0351846309715403, 0.0025868565779171866, 0.08567060313925742, 0.0701325561124215, 0.8468197600402887, 0.14619956894421215, 0.006826439016850373, 0.258444722934123, 0.31619050630643447, 0.04269189279867425, 0.036693858273240676, 8.820639007990547e-05, 0.15491982311034064, 0.09767387594848198, 0.002322768272104177, 0.09097019030240917, 0.026902991779875107, 0.21425966930065407, 0.0031820742965443676, 0.6366077122965429, 0.11619392507078675, 0.0006749854568427446, 0.0016392503951895227, 0.0006749854568427446, 0.9994232295403982, 0.6870061194678317, 0.2982971634891257, 0.0003995699949318537, 0.0011260608948079514, 0.0012350345297893661, 0.00010897363498141465, 7.264908998760976e-05, 0.011732828032998978, 3.632454499380488e-05, 0.7480784531447506, 0.24547018761092607, 6.66736589255571e-05, 0.006378446703878296, 0.9997512671929901, 0.9929935335337262, 0.006805005279401551, 0.002561293507215852, 0.04509706068062196, 0.0003658990724594074, 0.19072489151946612, 0.6303526270794441, 9.147476811485185e-05, 9.147476811485185e-05, 0.12248471450578663, 0.007775355289762407, 0.0003658990724594074, 0.9993218172242383, 0.00011548430771923128, 0.692713372469189, 0.1754976529639918, 3.849476923974376e-05, 0.012857252926074416, 0.00011548430771923128, 0.11864087879689027, 0.9997680387578237, 0.055873845737080506, 0.000543904693015828, 0.06566413021136541, 0.01597101962219204, 0.22726975187864398, 0.10798980450423347, 0.06193920716222671, 0.09663373379247876, 0.36758068071633315, 0.000543904693015828, 0.9997919196515636, 0.9950312629643037, 0.0011789469940335351, 0.0035368409821006056, 0.003635972545438227, 0.9956504820258345, 0.07788480186322627, 0.05150629962633796, 0.08095471376148482, 0.00415006608468286, 0.009323436135451904, 0.023933942762349093, 0.5894230844656423, 0.10034063889678421, 0.054348810643244025, 0.008072731288013234, 0.9992413372869647, 0.9995904816570231, 0.00032276089172005913, 8.069022293001478e-05, 0.3102038904261474, 0.6896936838159581, 0.0015280185237783813, 0.997796096027283, 0.0003056037047556763, 0.9996550609180828, 0.9997548159241876, 0.08535618846795867, 0.9142402635564689, 0.0001451635858298617, 0.999152173084193, 0.15765559675149646, 0.8422349794371388, 0.9997068678800822, 0.9999475688498317, 0.0013652256785971165, 0.9984350462806912, 0.00028226897663387817, 0.7391213153158099, 0.2603931309447526, 0.00014113448831693908, 0.0035055287046965662, 0.0008950286054544424, 0.40399353678699895, 7.458571712120353e-05, 0.08715341045612633, 0.1454421483863469, 0.00041022144416661945, 0.1411161767933171, 0.2173054868326265, 7.458571712120353e-05, 0.9955248308964127, 0.004263970195453526, 0.00011220974198561911, 0.9996391978854872, 0.02870826039522395, 0.9711047549691088, 0.9998644227493793, 0.9997225930017066, 0.9999678393806893, 0.00022457197968869428, 0.01654346917040048, 0.8793490151343639, 0.002021147817198249, 0.012725745515692676, 0.003742866328144905, 0.0001497146531257962, 0.06849445380505176, 0.016393754517274685, 0.0002994293062515924, 0.9997708187116624, 7.011018577331277e-05, 0.002453856502065947, 0.9974576129969207, 0.9999038248344475, 0.9993967612101603, 0.00034461957283108975, 0.9996929357171106, 0.9996381169964428, 0.00037566349655011964, 9.391587413752991e-05, 0.00018783174827505982, 0.23309919960934924, 0.14237646519249533, 0.6237892360214736, 0.9989263748431169, 0.0004395715620871801, 0.0004395715620871801, 0.9993243058947355, 0.9989482842109552, 0.999554871529814, 0.999766151665798, 0.9997892974909212, 0.000223540424775306, 0.9996727795951684, 7.4513474925102e-05, 0.00010844552553795659, 0.00032533657661386973, 0.015616155677465748, 0.8085698384110043, 0.0005422276276897829, 0.17470574164164807, 0.00010844552553795659, 0.0028620917907114505, 0.1843619127073376, 0.5178226071911717, 0.0006480207828025926, 0.13889245444735568, 0.01026032906104105, 0.03736919847494951, 0.09525905507198111, 0.012474400068949908, 0.9996891569815882, 0.0033714968381591773, 0.9964458905179449, 1.94168269431112e-05, 0.014873289438423181, 5.825048082933361e-05, 0.9849962139970881, 1.94168269431112e-05, 0.9997044837987867, 0.9999410503087437, 0.9994200149800834, 0.9989255365979555, 0.8733247415220088, 0.0033227031912809006, 9.10329641446822e-05, 0.0003186153745063877, 0.12289450159532098, 0.00027225440674894565, 0.9994459271753796, 0.9953552993875214, 6.288374131392877e-05, 0.00012576748262785754, 0.0015406516621912546, 0.00012576748262785754, 0.002735442747155901, 3.1441870656964384e-05, 0.0011355193210488641, 0.0008734764008068185, 0.004891467844518184, 0.1453464730942546, 0.0003493905603227274, 0.8473594564226946, 0.9997792407688245, 0.9990262168658525, 0.0008230566953912115, 0.9994604667970292, 0.9994431985324563, 0.9997025346658307, 0.9999051591896679, 0.0002219339875338884, 0.9995906798526334, 0.9995262656892246, 0.9993881194733659, 0.9996305710073611, 0.0006218543909024786, 0.9993576943251863, 0.9999042547758763, 0.9999709966632191, 0.47336094482075264, 0.5265558309036648, 0.437775676378561, 0.5620823499181524, 0.9995648369904903, 0.9994236015283967], \"Term\": [\"02\", \"1\", \"1\", \"1\", \"1\", \"1\", \"1\", \"1\", \"1\", \"1\", \"10\", \"10\", \"10\", \"10\", \"10\", \"10\", \"10\", \"10\", \"10\", \"10\", \"100\", \"100\", \"100\", \"100\", \"100\", \"100\", \"100\", \"100\", \"100\", \"100\", \"10k\", \"2\", \"2\", \"20\", \"20\", \"20\", \"20\", \"20\", \"20\", \"20\", \"20\", \"20\", \"2019\", \"2020\", \"2020\", \"2020\", \"2021\", \"20k\", \"212\", \"3\", \"3\", \"3\", \"3\", \"3\", \"3\", \"320\", \"4\", \"4\", \"4\", \"4\", \"4\", \"4\", \"4\", \"42069\", \"5\", \"5\", \"5\", \"5\", \"5\", \"5\", \"500\", \"5k\", \"6\", \"6\", \"90\", \"aal\", \"acb\", \"account\", \"account\", \"account\", \"account\", \"account\", \"action\", \"advice\", \"advice\", \"ago\", \"ago\", \"ain\\u2019t\", \"airline\", \"allow\", \"allowing\", \"alright\", \"alternative\", \"amc\", \"ameritrade\", \"amp\", \"amp\", \"amp\", \"amp\", \"amp\", \"amp\", \"amp\", \"amp\", \"amp\", \"amp\", \"andrew\", \"answer\", \"anybody\", \"anybody\", \"anyone\", \"anyone\", \"anyone\", \"aoc\", \"ape\", \"apex\", \"app\", \"apple\", \"apple\", \"apple\", \"apps\", \"article\", \"article\", \"autist\", \"autistic\", \"autistic\", \"autistic\", \"autistic\", \"autists\", \"autists\", \"autists\", \"ba\", \"ba\", \"baba\", \"baba\", \"baba\", \"baby\", \"baby\", \"baby\", \"baby\", \"back\", \"back\", \"back\", \"back\", \"back\", \"back\", \"back\", \"back\", \"back\", \"back\", \"bag\", \"bank\", \"bank\", \"bank\", \"bank\", \"bank\", \"bank\", \"bank\", \"banned\", \"battery\", \"battle\", \"bb\", \"bbby\", \"bbby\", \"bear\", \"bear\", \"bear\", \"bear\", \"bear\", \"bear\", \"bear\", \"bear\", \"beat\", \"beat\", \"beat\", \"beautiful\", \"beautiful\", \"beer\", \"best\", \"best\", \"best\", \"best\", \"best\", \"best\", \"best\", \"bet\", \"bet\", \"bet\", \"bet\", \"bet\", \"bet\", \"beyond\", \"bezos\", \"biden\", \"big\", \"big\", \"big\", \"big\", \"big\", \"big\", \"big\", \"big\", \"big\", \"big\", \"billionaire\", \"bitcoin\", \"blackberry\", \"blackberry\", \"blackberry\", \"bloomberg\", \"bloomberg\", \"boeing\", \"bois\", \"boomer\", \"bought\", \"bought\", \"bought\", \"bought\", \"bought\", \"bought\", \"bought\", \"boy\", \"boy\", \"boy\", \"boy\", \"boy\", \"boy\", \"boy\", \"boycott\", \"boyfriend\", \"broker\", \"broker\", \"brokerage\", \"brokerage\", \"brokerage\", \"bubble\", \"bull\", \"bull\", \"bullish\", \"bullish\", \"buy\", \"buy\", \"buy\", \"buy\", \"buy\", \"buy\", \"buying\", \"buying\", \"buying\", \"bynd\", \"call\", \"call\", \"call\", \"call\", \"cancelled\", \"cannabis\", \"cant\", \"cant\", \"cant\", \"cant\", \"cant\", \"cant\", \"cant\", \"cant\", \"can\\u2019t\", \"capital\", \"car\", \"cashapp\", \"casino\", \"ccl\", \"chamath\", \"citadel\", \"citron\", \"class\", \"clearing\", \"close\", \"close\", \"close\", \"close\", \"close\", \"close\", \"close\", \"cnbc\", \"cnbc\", \"cnbc\", \"cnbc\", \"cnbc\", \"cnbc\", \"cnbc\", \"coin\", \"come\", \"come\", \"come\", \"come\", \"come\", \"come\", \"come\", \"come\", \"come\", \"come\", \"coming\", \"company\", \"company\", \"company\", \"company\", \"company\", \"company\", \"company\", \"company\", \"company\", \"company\", \"conference\", \"confused\", \"corona\", \"coronavirus\", \"coronavirus\", \"coronavirus\", \"coronavirus\", \"cover\", \"cover\", \"cover\", \"covid\", \"covid19\", \"cramer\", \"crash\", \"crash\", \"crazy\", \"crypto\", \"ctrm\", \"daddy\", \"daddy\", \"daddy\", \"daily\", \"day\", \"day\", \"dd\", \"dead\", \"dear\", \"death\", \"death\", \"decision\", \"degenerate\", \"degenerate\", \"degenerate\", \"degenerate\", \"delete\", \"deleted\", \"dfv\", \"diamond\", \"die\", \"die\", \"dip\", \"dis\", \"discord\", \"discussion\", \"disney\", \"doesn\\u2019t\", \"doge\", \"dogecoin\", \"doing\", \"done\", \"done\", \"done\", \"done\", \"done\", \"done\", \"done\", \"done\", \"done\", \"dont\", \"dont\", \"dont\", \"dont\", \"dont\", \"don\\u2019t\", \"don\\u2019t\", \"don\\u2019t\", \"don\\u2019t\", \"dow\", \"down\", \"down\", \"down\", \"down\", \"down\", \"down\", \"down\", \"dream\", \"drop\", \"drop\", \"drop\", \"drop\", \"drop\", \"drop\", \"drop\", \"drop\", \"dropping\", \"dude\", \"earnings\", \"earnings\", \"earnings\", \"earnings\", \"easy\", \"economy\", \"economy\", \"economy\", \"elon\", \"else\", \"em\", \"em\", \"etoro\", \"ever\", \"ever\", \"ever\", \"ever\", \"expire\", \"expiring\", \"explain\", \"expr\", \"f\", \"fact\", \"fed\", \"fed\", \"fed\", \"feel\", \"feeling\", \"feeling\", \"feeling\", \"fellow\", \"fellow\", \"fellow\", \"fellow\", \"fidelity\", \"fidelity\", \"financial\", \"financial\", \"financial\", \"first\", \"first\", \"first\", \"first\", \"first\", \"float\", \"fly\", \"fractional\", \"free\", \"free\", \"free\", \"free\", \"free\", \"free\", \"free\", \"free\", \"front\", \"fubo\", \"fuck\", \"fuck\", \"fuck\", \"fuck\", \"fuck\", \"fuck\", \"fuck\", \"fuck\", \"fucking\", \"fucking\", \"fucking\", \"fucking\", \"fucking\", \"fucking\", \"fucking\", \"fucking\", \"fucking\", \"fund\", \"future\", \"future\", \"future\", \"future\", \"future\", \"future\", \"future\", \"future\", \"gain\", \"gain\", \"gain\", \"gain\", \"gain\", \"gain\", \"gain\", \"game\", \"game\", \"game\", \"game\", \"game\", \"game\", \"game\", \"game\", \"gamestop\", \"gang\", \"gang\", \"gas\", \"ge\", \"ge\", \"gentleman\", \"germany\", \"germany\", \"germany\", \"get\", \"get\", \"get\", \"get\", \"get\", \"getting\", \"getting\", \"getting\", \"getting\", \"getting\", \"getting\", \"getting\", \"getting\", \"getting\", \"getting\", \"give\", \"give\", \"give\", \"give\", \"give\", \"give\", \"give\", \"give\", \"give\", \"give\", \"giving\", \"giving\", \"gme\", \"gme\", \"gme\", \"gnu\", \"go\", \"go\", \"go\", \"go\", \"go\", \"go\", \"go\", \"go\", \"go\", \"go\", \"god\", \"god\", \"going\", \"going\", \"going\", \"going\", \"going\", \"going\", \"going\", \"going\", \"going\", \"going\", \"gold\", \"good\", \"good\", \"good\", \"good\", \"good\", \"good\", \"good\", \"good\", \"good\", \"good\", \"google\", \"got\", \"got\", \"got\", \"got\", \"got\", \"got\", \"got\", \"got\", \"government\", \"government\", \"green\", \"gt\", \"guy\", \"guy\", \"guy\", \"guy\", \"guy\", \"guy\", \"guy\", \"hand\", \"happened\", \"hate\", \"hate\", \"hear\", \"hear\", \"hear\", \"hear\", \"hear\", \"hear\", \"heard\", \"heard\", \"heavily\", \"hedge\", \"hello\", \"help\", \"help\", \"help\", \"here\", \"here\", \"here\", \"here\", \"here\", \"here\", \"here\", \"here\", \"here\", \"here\", \"hi\", \"hodl\", \"hold\", \"holder\", \"holder\", \"holder\", \"holding\", \"holding\", \"holding\", \"holding\", \"holy\", \"home\", \"honest\", \"hood\", \"hop\", \"hot\", \"hour\", \"hour\", \"hour\", \"hour\", \"huge\", \"huge\", \"huge\", \"huge\", \"huge\", \"huge\", \"huge\", \"huge\", \"huge\", \"huge\", \"idea\", \"idea\", \"idea\", \"idea\", \"idea\", \"idea\", \"idea\", \"im\", \"im\", \"im\", \"im\", \"im\", \"im\", \"im\", \"im\", \"im\", \"important\", \"incoming\", \"incoming\", \"incoming\", \"infinity\", \"inside\", \"insider\", \"interest\", \"invest\", \"invest\", \"invest\", \"investor\", \"investor\", \"investor\", \"investor\", \"investor\", \"ipo\", \"isn\\u2019t\", \"it\", \"it\", \"it\", \"it\", \"it\", \"it\", \"it\", \"it\", \"it\", \"it\", \"it\\u2019s\", \"i\\u2019m\", \"i\\u2019ve\", \"jim\", \"join\", \"join\", \"join\", \"joined\", \"jpow\", \"jpow\", \"karma\", \"keep\", \"keep\", \"keep\", \"keep\", \"keep\", \"keep\", \"keep\", \"keep\", \"keep\", \"keep\", \"kinda\", \"know\", \"know\", \"know\", \"know\", \"know\", \"know\", \"know\", \"last\", \"last\", \"late\", \"lawsuit\", \"let\", \"let\", \"let\", \"let\", \"let\", \"let\", \"let\", \"let\", \"let\", \"letting\", \"let\\u2019s\", \"life\", \"life\", \"life\", \"life\", \"life\", \"like\", \"like\", \"like\", \"like\", \"like\", \"like\", \"like\", \"like\", \"like\", \"like\", \"limit\", \"limiting\", \"line\", \"lmao\", \"lmao\", \"lmao\", \"log\", \"logo\", \"long\", \"long\", \"long\", \"long\", \"long\", \"long\", \"long\", \"long\", \"long\", \"long\", \"look\", \"look\", \"look\", \"look\", \"look\", \"look\", \"lose\", \"lose\", \"lose\", \"lose\", \"lose\", \"loss\", \"loss\", \"loss\", \"loss\", \"love\", \"made\", \"made\", \"made\", \"made\", \"made\", \"make\", \"make\", \"make\", \"make\", \"make\", \"make\", \"make\", \"make\", \"make\", \"make\", \"manager\", \"manipulation\", \"manipulation\", \"mar\", \"mar\", \"margin\", \"market\", \"market\", \"market\", \"market\", \"market\", \"market\", \"market\", \"market\", \"market\", \"market\", \"martin\", \"massive\", \"massive\", \"massive\", \"massive\", \"massive\", \"may\", \"may\", \"may\", \"may\", \"may\", \"may\", \"may\", \"may\", \"me\", \"me\", \"me\", \"me\", \"me\", \"me\", \"me\", \"melvin\", \"meme\", \"meme\", \"meme\", \"meme\", \"meme\", \"meme\", \"meme\", \"merger\", \"microsoft\", \"minute\", \"mod\", \"monday\", \"monday\", \"monday\", \"monday\", \"monday\", \"money\", \"money\", \"money\", \"money\", \"money\", \"money\", \"month\", \"month\", \"moon\", \"moon\\ud83d\\ude80\\ud83d\\ude80\\ud83d\\ude80\", \"move\", \"move\", \"move\", \"move\", \"move\", \"much\", \"much\", \"much\", \"much\", \"much\", \"much\", \"much\", \"much\", \"musk\", \"nakd\", \"nakd\", \"need\", \"need\", \"need\", \"need\", \"need\", \"need\", \"need\", \"need\", \"need\", \"netflix\", \"never\", \"new\", \"new\", \"new\", \"new\", \"new\", \"new\", \"new\", \"new\", \"new\", \"new\", \"newbie\", \"newbie\", \"news\", \"news\", \"news\", \"news\", \"news\", \"news\", \"news\", \"news\", \"next\", \"next\", \"next\", \"next\", \"next\", \"next\", \"next\", \"nice\", \"night\", \"night\", \"night\", \"nio\", \"nkla\", \"nok\", \"nok\", \"nokia\", \"nokia\", \"now\", \"now\", \"now\", \"now\", \"oh\", \"oh\", \"oil\", \"on\", \"on\", \"on\", \"on\", \"on\", \"on\", \"one\", \"one\", \"one\", \"one\", \"one\", \"one\", \"one\", \"option\", \"order\", \"order\", \"order\", \"otm\", \"panic\", \"papa\", \"paper\", \"party\", \"past\", \"past\", \"perfect\", \"plan\", \"plan\", \"plan\", \"plan\", \"plan\", \"plan\", \"platform\", \"play\", \"play\", \"play\", \"play\", \"play\", \"play\", \"play\", \"play\", \"play\", \"play\", \"player\", \"please\", \"please\", \"please\", \"pltr\", \"pltr\", \"pltr\", \"pltr\", \"pltr\", \"plug\", \"poor\", \"poor\", \"pop\", \"porn\", \"position\", \"position\", \"position\", \"position\", \"position\", \"post\", \"post\", \"post\", \"post\", \"post\", \"potential\", \"potential\", \"potential\", \"potential\", \"potential\", \"potential\", \"power\", \"power\", \"power\", \"power\", \"power\", \"power\", \"pre\", \"premarket\", \"press\", \"pretty\", \"pretty\", \"pretty\", \"price\", \"price\", \"price\", \"price\", \"price\", \"price\", \"price\", \"price\", \"price\", \"printer\", \"pumping\", \"purchase\", \"purchase\", \"purchase\", \"purchase\", \"push\", \"push\", \"put\", \"put\", \"put\", \"put\", \"put\", \"question\", \"question\", \"rad\", \"ready\", \"ready\", \"real\", \"real\", \"really\", \"really\", \"really\", \"really\", \"really\", \"red\", \"reminder\", \"reminder\", \"restricting\", \"restriction\", \"retail\", \"retail\", \"retail\", \"retard\", \"retard\", \"retard\", \"retard\", \"retard\", \"retard\", \"retard\", \"retard\", \"retard\", \"retarded\", \"retarded\", \"retarded\", \"review\", \"revolution\", \"rh\", \"rh\", \"rh\", \"rh\", \"rh\", \"rh\", \"rh\", \"rich\", \"right\", \"right\", \"rip\", \"rip\", \"rip\", \"risk\", \"risk\", \"rn\", \"robin\", \"robinhood\", \"robinhood\", \"robinhood\", \"robinhood\", \"robinhoods\", \"rocket\", \"rocket\", \"rocket\", \"rule\", \"rule\", \"sampp\", \"say\", \"say\", \"say\", \"say\", \"say\", \"say\", \"say\", \"say\", \"say\", \"say\", \"scare\", \"sec\", \"sec\", \"sec\", \"sec\", \"sec\", \"sell\", \"sell\", \"sell\", \"sell\", \"seller\", \"selling\", \"selling\", \"selling\", \"selling\", \"selling\", \"selling\", \"selling\", \"selling\", \"selling\", \"selling\", \"serious\", \"serious\", \"serious\", \"serious\", \"serious\", \"seriously\", \"share\", \"share\", \"share\", \"share\", \"share\", \"share\", \"share\", \"share\", \"share\", \"share\", \"shit\", \"shit\", \"shit\", \"shit\", \"shit\", \"shit\", \"shit\", \"shit\", \"shitron\", \"shkreli\", \"short\", \"shorted\", \"shorted\", \"shorted\", \"shorted\", \"silver\", \"slv\", \"sndl\", \"sold\", \"sold\", \"sold\", \"sold\", \"somebody\", \"someone\", \"someone\", \"something\", \"something\", \"something\", \"something\", \"something\", \"song\", \"soon\", \"soon\", \"soon\", \"soon\", \"soon\", \"soon\", \"soon\", \"soon\", \"soon\", \"soon\", \"spac\", \"spce\", \"spy\", \"squeeze\", \"st\", \"star\", \"star\", \"stay\", \"stay\", \"still\", \"still\", \"still\", \"still\", \"still\", \"still\", \"still\", \"still\", \"still\", \"still\", \"stimulus\", \"stimulus\", \"stimulus\", \"stock\", \"stock\", \"stock\", \"stock\", \"stock\", \"stock\", \"stock\", \"stock\", \"stock\", \"stock\", \"stonk\", \"stonks\", \"stop\", \"stop\", \"stop\", \"stop\", \"stop\", \"stop\", \"stop\", \"store\", \"street\", \"strike\", \"strike\", \"strong\", \"strong\", \"strong\", \"strong\", \"suck\", \"suck\", \"sweet\", \"tactic\", \"take\", \"take\", \"take\", \"take\", \"take\", \"take\", \"take\", \"take\", \"take\", \"take\", \"target\", \"td\", \"td\", \"tell\", \"tell\", \"tell\", \"tell\", \"tell\", \"tendie\", \"tendies\", \"tendies\", \"tendies\", \"term\", \"term\", \"term\", \"term\", \"tesla\", \"tesla\", \"tesla\", \"test\", \"thank\", \"thank\", \"thank\", \"thank\", \"thanks\", \"thanks\", \"that\\u2019s\", \"think\", \"think\", \"think\", \"think\", \"think\", \"think\", \"think\", \"think\", \"this\", \"this\", \"this\", \"thought\", \"thread\", \"time\", \"time\", \"time\", \"time\", \"time\", \"time\", \"time\", \"time\", \"time\", \"time\", \"today\", \"today\", \"today\", \"today\", \"today\", \"today\", \"today\", \"today\", \"today\", \"today\", \"together\", \"together\", \"together\", \"tomorrow\", \"tomorrow\", \"tomorrow\", \"tomorrow\", \"tomorrow\", \"tomorrow\", \"tomorrow\", \"tomorrow\", \"tomorrow\", \"top\", \"top\", \"top\", \"top\", \"top\", \"top\", \"top\", \"top\", \"town\", \"trade\", \"trade\", \"trade\", \"trade\", \"trade\", \"trade\", \"trade\", \"trade\", \"trade\", \"trading\", \"trading\", \"trading\", \"trading\", \"trading212\", \"train\", \"train\", \"trump\", \"trump\", \"trump\", \"trump\", \"trump\", \"trump\", \"trump\", \"trump\", \"trump\", \"trump\", \"truth\", \"tsla\", \"tsla\", \"tsla\", \"tsla\", \"tsla\", \"tsla\", \"tsla\", \"tweet\", \"u\", \"u\", \"u\", \"u\", \"u\", \"u\", \"u\", \"u\", \"u\", \"u\", \"udeepfuckingvalue\", \"uk\", \"uk\", \"uk\", \"unite\", \"unite\", \"up\", \"up\", \"up\", \"up\", \"up\", \"up\", \"up\", \"up\", \"up\", \"up\", \"updated\", \"use\", \"use\", \"use\", \"user\", \"user\", \"vaccine\", \"vaccine\", \"vaccine\", \"virus\", \"vix\", \"volume\", \"volume\", \"volume\", \"vote\", \"wait\", \"wait\", \"waiting\", \"wall\", \"wallstreet\", \"wallstreet\", \"wallstreetbets\", \"wallstreetbets\", \"wallstreetbets\", \"wallstreetbets\", \"want\", \"want\", \"want\", \"want\", \"want\", \"want\", \"want\", \"want\", \"want\", \"want\", \"war\", \"war\", \"war\", \"warren\", \"watching\", \"watching\", \"webull\", \"weed\", \"week\", \"well\", \"well\", \"well\", \"well\", \"well\", \"well\", \"well\", \"well\", \"well\", \"well\", \"we\\u2019re\", \"whats\", \"whats\", \"whats\", \"what\\u2019s\", \"who\\u2019s\", \"who\\u2019s\", \"wife\", \"wild\", \"win\", \"win\", \"win\", \"win\", \"win\", \"win\", \"wish\", \"wish\", \"wish\", \"wkhs\", \"wolf\", \"wondering\", \"won\\u2019t\", \"word\", \"work\", \"work\", \"work\", \"world\", \"world\", \"world\", \"world\", \"world\", \"world\", \"world\", \"would\", \"would\", \"would\", \"would\", \"would\", \"would\", \"would\", \"would\", \"would\", \"wow\", \"wrong\", \"wrong\", \"wsb\", \"wsb\", \"wsb\", \"wsb\", \"wsb\", \"wsbvotebot\", \"wtf\", \"xrp\", \"yahoo\", \"year\", \"year\", \"year\", \"year\", \"year\", \"yes\", \"yes\", \"yolo\", \"yolo\", \"yolo\", \"yolo\", \"yolo\", \"yolo\", \"yolo\", \"you\", \"you\", \"you\", \"you\", \"you\", \"you\", \"you\\u2019re\", \"y\\u2019all\", \"y\\u2019all\", \"\\ud83c\\udf08\", \"\\ud83c\\udf19\", \"\\ud83d\\udc3b\", \"\\ud83d\\udc8e\", \"\\ud83d\\udc8e\\ud83d\\ude4c\", \"\\ud83d\\udc8e\\ud83d\\ude4c\", \"\\ud83d\\ude02\", \"\\ud83d\\ude0e\", \"\\ud83d\\ude4c\", \"\\ud83d\\ude80\", \"\\ud83d\\ude80\", \"\\ud83d\\ude80\\ud83d\\ude80\", \"\\ud83d\\ude80\\ud83d\\ude80\\ud83d\\ude80\", \"\\ud83d\\ude80\\ud83d\\ude80\\ud83d\\ude80\\ud83d\\ude80\", \"\\ud83d\\ude80\\ud83d\\ude80\\ud83d\\ude80\\ud83d\\ude80\", \"\\ud83d\\ude80\\ud83d\\ude80\\ud83d\\ude80\\ud83d\\ude80\\ud83d\\ude80\", \"\\ud83d\\ude80\\ud83d\\ude80\\ud83d\\ude80\\ud83d\\ude80\\ud83d\\ude80\", \"\\ud83d\\ude80\\ud83d\\ude80\\ud83d\\ude80\\ud83d\\ude80\\ud83d\\ude80\\ud83d\\ude80\\ud83d\\ude80\", \"\\ud83d\\ude80\\ud83d\\ude80\\ud83d\\ude80\\ud83d\\ude80\\ud83d\\ude80\\ud83d\\ude80\\ud83d\\ude80\\ud83d\\ude80\"]}, \"R\": 30, \"lambda.step\": 0.01, \"plot.opts\": {\"xlab\": \"PC1\", \"ylab\": \"PC2\"}, \"topic.order\": [1, 2, 3, 4, 5, 6, 7, 8, 9, 10]};\n",
       "\n",
       "function LDAvis_load_lib(url, callback){\n",
       "  var s = document.createElement('script');\n",
       "  s.src = url;\n",
       "  s.async = true;\n",
       "  s.onreadystatechange = s.onload = callback;\n",
       "  s.onerror = function(){console.warn(\"failed to load library \" + url);};\n",
       "  document.getElementsByTagName(\"head\")[0].appendChild(s);\n",
       "}\n",
       "\n",
       "if(typeof(LDAvis) !== \"undefined\"){\n",
       "   // already loaded: just create the visualization\n",
       "   !function(LDAvis){\n",
       "       new LDAvis(\"#\" + \"ldavis_el34521402178686906404543096481\", ldavis_el34521402178686906404543096481_data);\n",
       "   }(LDAvis);\n",
       "}else if(typeof define === \"function\" && define.amd){\n",
       "   // require.js is available: use it to load d3/LDAvis\n",
       "   require.config({paths: {d3: \"https://d3js.org/d3.v5\"}});\n",
       "   require([\"d3\"], function(d3){\n",
       "      window.d3 = d3;\n",
       "      LDAvis_load_lib(\"https://cdn.jsdelivr.net/gh/bmabey/pyLDAvis@3.3.1/pyLDAvis/js/ldavis.v3.0.0.js\", function(){\n",
       "        new LDAvis(\"#\" + \"ldavis_el34521402178686906404543096481\", ldavis_el34521402178686906404543096481_data);\n",
       "      });\n",
       "    });\n",
       "}else{\n",
       "    // require.js not available: dynamically load d3 & LDAvis\n",
       "    LDAvis_load_lib(\"https://d3js.org/d3.v5.js\", function(){\n",
       "         LDAvis_load_lib(\"https://cdn.jsdelivr.net/gh/bmabey/pyLDAvis@3.3.1/pyLDAvis/js/ldavis.v3.0.0.js\", function(){\n",
       "                 new LDAvis(\"#\" + \"ldavis_el34521402178686906404543096481\", ldavis_el34521402178686906404543096481_data);\n",
       "            })\n",
       "         });\n",
       "}\n",
       "</script>"
      ],
      "text/plain": [
       "<IPython.core.display.HTML object>"
      ]
     },
     "execution_count": 17,
     "metadata": {},
     "output_type": "execute_result"
    }
   ],
   "source": [
    "%%time\n",
    "\n",
    "lda_display = gensimvis.prepare(ldamodel, doc_term_matrix, dictionary, sort_topics=False, mds='mmds')\n",
    "pyLDAvis.display(lda_display)"
   ]
  },
  {
   "cell_type": "code",
   "execution_count": null,
   "id": "e317b82e-dddc-4643-b227-ad2a0931dbc2",
   "metadata": {},
   "outputs": [],
   "source": [
    "topic_distributions = [ldamodel.get_document_topics(doc) for doc in doc_term_matrix]\n",
    "\n",
    "# Choose the topic with the highest probability for each document\n",
    "labels = [max(td, key=lambda x: x[1])[0] for td in topic_distributions]\n",
    "\n",
    "# Assign the labels to the corresponding rows in your dataset\n",
    "df['topic_label'] = labels"
   ]
  },
  {
   "cell_type": "code",
   "execution_count": null,
   "id": "fab4c3d4-4466-41c8-958b-57010f99294b",
   "metadata": {},
   "outputs": [],
   "source": [
    "import matplotlib.pyplot as plt\n",
    "\n",
    "\n",
    "df['time_period'] = pd.PeriodIndex(df['timestamp'], freq='M')\n",
    "count_df = df.groupby(['time_period', 'topic_label']).size().reset_index(name='count')\n",
    "\n",
    "count_df['time_period'] = count_df['time_period'].dt.strftime('%Y-%m')\n",
    "\n",
    "# Plot the topic timeline\n",
    "fig, ax = plt.subplots()\n",
    "for topic in count_df['topic_label'].unique():\n",
    "    topic_data = count_df[count_df['topic_label'] == topic]\n",
    "    ax.scatter(topic_data['time_period'], topic_data['count'], label='Topic {}'.format(topic))\n",
    "ax.set_xlabel('Time Period')\n",
    "ax.set_ylabel('Number of Documents')\n",
    "ax.legend()\n",
    "plt.xticks(rotation=90)\n",
    "#ax.set_xticks(quarter_periods)\n",
    "#ax.set_xticklabels(quarter_periods.strftime('%Y-Q%q'))\n",
    "plt.show()"
   ]
  },
  {
   "cell_type": "markdown",
   "id": "9b73889c-07c4-4be9-895c-6e51218f3436",
   "metadata": {},
   "source": [
    "## Coherence"
   ]
  },
  {
   "cell_type": "code",
   "execution_count": null,
   "id": "fbad7514-41f4-4c67-b4eb-60fe22011331",
   "metadata": {},
   "outputs": [],
   "source": [
    "num_topics = 10\n",
    "iterations = 100\n",
    "passes = 20\n",
    "workers = num_processors - 1\n",
    "eval_every = None\n",
    "\n",
    "ldamodel = LdaMulticore(corpus=doc_term_matrix,\n",
    "                       id2word=dictionary,\n",
    "                       eta='auto',\n",
    "                       num_topics=num_topics,\n",
    "                       iterations=iterations,\n",
    "                       passes=passes,\n",
    "                       eval_every=eval_every,\n",
    "                       workers = workers)"
   ]
  },
  {
   "cell_type": "code",
   "execution_count": 16,
   "id": "d84cc7bf-9056-4d14-850a-213035be40fc",
   "metadata": {},
   "outputs": [],
   "source": [
    "## Selecting the best no of topics\n",
    "\n",
    "def compute_coherence_values(dictionary, corpus, texts, \n",
    "                             cohere, limit, start=2, step=2):\n",
    "\n",
    "    coherence_values = []\n",
    "    \n",
    "    workers=15\n",
    "\n",
    "    for num_topics in range(start, limit, step):\n",
    "        model = LdaMulticore(corpus=corpus,\n",
    "                       id2word=dictionary,\n",
    "                       eta='auto',\n",
    "                       num_topics=num_topics,\n",
    "                       iterations=100,\n",
    "                       passes=20,\n",
    "                       eval_every=None,\n",
    "                       workers = workers)\n",
    "        coherencemodel = CoherenceModel(model=model, \n",
    "                                        texts=texts, \n",
    "                                        dictionary=dictionary, \n",
    "                                        coherence=cohere)\n",
    "        coherence_values.append(coherencemodel.get_coherence())\n",
    "\n",
    "    return coherence_values"
   ]
  },
  {
   "cell_type": "code",
   "execution_count": 15,
   "id": "a5235c9d-29a3-42e5-b22c-718c5979794f",
   "metadata": {},
   "outputs": [],
   "source": [
    "limit=12\n",
    "start=4\n",
    "step=2"
   ]
  },
  {
   "cell_type": "code",
   "execution_count": 9,
   "id": "419ee976-6477-45c3-8def-4c0fd0b5e6dd",
   "metadata": {},
   "outputs": [],
   "source": [
    "\n",
    "with open('dictionary.pkl', 'rb') as f:\n",
    "    dictionary = pickle.load(f)\n",
    "    \n",
    "with open('corpus.pkl', 'rb') as f:\n",
    "    corpus = pickle.load(f)\n"
   ]
  },
  {
   "cell_type": "code",
   "execution_count": null,
   "id": "6485fc58-1cff-43de-b907-d0517f5aa344",
   "metadata": {},
   "outputs": [],
   "source": [
    "coherence_values = compute_coherence_values(dictionary=dictionary, \n",
    "                                            corpus=corpus, \n",
    "                                            texts=title_clean, \n",
    "                                            cohere='c_v', \n",
    "                                            start=start, \n",
    "                                            limit=limit, \n",
    "                                            step=step)"
   ]
  },
  {
   "cell_type": "code",
   "execution_count": null,
   "id": "e4348ccb-10fd-4423-ad72-f2c604218813",
   "metadata": {},
   "outputs": [],
   "source": [
    "plt.figure(figsize=(8,5))\n",
    "\n",
    "# Create a custom x-axis\n",
    "x = range(start, limit, step)\n",
    "\n",
    "# Build the line plot\n",
    "ax = sns.lineplot(x=x, y=coherence_values, color='#238C8C')\n",
    "\n",
    "# Set titles and labels\n",
    "plt.title(\"Best Number of Topics for LDA Model\")\n",
    "plt.xlabel(\"Num Topics\")\n",
    "plt.ylabel(\"Coherence score\")\n",
    "plt.xlim(start, limit)\n",
    "plt.xticks(range(2, limit, step))\n",
    "\n",
    "# Add a vertical line to show the optimum number of topics\n",
    "plt.axvline(x[np.argmax(coherence_values)], \n",
    "            color='#F26457', linestyle='--')\n",
    "\n",
    "# Draw a custom legend\n",
    "legend_elements = [Line2D([0], [0], color='#238C8C', \n",
    "                          ls='-', label='Coherence Value (c_v)'),\n",
    "                   Line2D([0], [1], color='#F26457', \n",
    "                          ls='--', label='Optimal Number of Topics')]\n",
    "\n",
    "ax.legend(handles=legend_elements, loc='upper right')"
   ]
  },
  {
   "cell_type": "code",
   "execution_count": null,
   "id": "6cb096ca-5377-4bd7-80f4-7f56893847a4",
   "metadata": {},
   "outputs": [],
   "source": []
  }
 ],
 "metadata": {
  "environment": {
   "kernel": "python3",
   "name": "common-cpu.m103",
   "type": "gcloud",
   "uri": "gcr.io/deeplearning-platform-release/base-cpu:m103"
  },
  "kernelspec": {
   "display_name": "Python 3",
   "language": "python",
   "name": "python3"
  },
  "language_info": {
   "codemirror_mode": {
    "name": "ipython",
    "version": 3
   },
   "file_extension": ".py",
   "mimetype": "text/x-python",
   "name": "python",
   "nbconvert_exporter": "python",
   "pygments_lexer": "ipython3",
   "version": "3.7.12"
  }
 },
 "nbformat": 4,
 "nbformat_minor": 5
}
